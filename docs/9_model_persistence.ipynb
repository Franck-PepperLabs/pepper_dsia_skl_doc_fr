{
 "cells": [
  {
   "attachments": {},
   "cell_type": "markdown",
   "metadata": {},
   "source": [
    "# ✔ 9. [**Persistence de modèle**](https://nbviewer.org/github/Franck-PepperLabs/pepper_data-science_practising/blob/main/Sklearn/9_model_persistence.ipynb)<br/>([*Model persistence*](https://scikit-learn.org/stable/model_persistence.html))\n",
    "\n",
    "Après l'entraînement d'un modèle scikit-learn, il est souhaitable d'avoir un moyen de conserver ce modèle pour une utilisation future sans avoir à recycler. Les sections suivantes vous donnent quelques conseils sur la manière de conserver un modèle scikit-learn.\n",
    "\n",
    "**Volume** : 3 pages, 0 exemples, 0 papiers\n",
    "- ✔ 9.1. [**Sérialisation spécifique Python**](https://nbviewer.org/github/Franck-PepperLabs/pepper_data-science_practising/blob/main/Sklearn/9_model_persistence.ipynb#python-specific-serialization)<br/>([*Python specific serialization*](https://scikit-learn.org/stable/model_persistence.html#python-specific-serialization))\n",
    "    - ✔ 9.1.1. [**Limites de sécurité et de maintenabilité**](https://nbviewer.org/github/Franck-PepperLabs/pepper_data-science_practising/blob/main/Sklearn/9_model_persistence.ipynb#security-maintainability-limitations)<br/>([*Security & maintainability limitations*](https://scikit-learn.org/stable/model_persistence.html#security-maintainability-limitations))\n",
    "    - ✔ 9.1.2 [**Un format plus sécurisé : `skops`**](https://nbviewer.org/github/Franck-PepperLabs/pepper_data-science_practising/blob/main/Sklearn/9_model_persistence.ipynb#\"a-more-secure-format-skops)<br/>([*A more secure format: `skops`*](https://scikit-learn.org/stable/model_persistence.html#\"a-more-secure-format-skops))\n",
    "- ✔ 9.2. [**Formats interopérables**](https://nbviewer.org/github/Franck-PepperLabs/pepper_data-science_practising/blob/main/Sklearn/9_model_persistence.ipynb#interoperable-formats)<br/>([*Interoperable formats*](https://scikit-learn.org/stable/model_persistence.html#interoperable-formats))"
   ]
  },
  {
   "cell_type": "markdown",
   "metadata": {},
   "source": [
    "<a id='python-specific-serialization'></a>\n",
    "\n",
    "# 9.1. Sérialisation spécifique Python\n",
    "\n",
    "Il est possible de sauvegarder un modèle dans scikit-learn en utilisant le modèle de persistance intégré de Python, à savoir [pickle](https://docs.python.org/3/library/pickle.html) :"
   ]
  },
  {
   "cell_type": "code",
   "execution_count": 1,
   "metadata": {},
   "outputs": [
    {
     "data": {
      "text/plain": [
       "0"
      ]
     },
     "execution_count": 1,
     "metadata": {},
     "output_type": "execute_result"
    }
   ],
   "source": [
    "from sklearn import svm\n",
    "from sklearn import datasets\n",
    "clf = svm.SVC()\n",
    "X, y= datasets.load_iris(return_X_y=True)\n",
    "clf.fit(X, y)\n",
    "# SVC()\n",
    "\n",
    "import pickle\n",
    "s = pickle.dumps(clf)\n",
    "clf2 = pickle.loads(s)\n",
    "clf2.predict(X[0:1])\n",
    "# array([0])\n",
    "y[0]\n",
    "# 0"
   ]
  },
  {
   "attachments": {},
   "cell_type": "markdown",
   "metadata": {},
   "source": [
    "Dans le cas spécifique de scikit-learn, il peut être préférable d'utiliser le remplacement de `pickle` (`dump` & `load`) par `joblib`, qui est plus efficace sur les objets qui comportent de grands tableaux `numpy` en interne, comme c'est souvent le cas pour les estimateurs ajustés de scikit-learn, mais qui ne peut *pickler* que sur le disque et non sur une chaîne :"
   ]
  },
  {
   "cell_type": "code",
   "execution_count": 3,
   "metadata": {},
   "outputs": [
    {
     "data": {
      "text/plain": [
       "['filename.joblib']"
      ]
     },
     "execution_count": 3,
     "metadata": {},
     "output_type": "execute_result"
    }
   ],
   "source": [
    "from joblib import dump, load\n",
    "dump(clf, 'filename.joblib')"
   ]
  },
  {
   "cell_type": "markdown",
   "metadata": {},
   "source": [
    "Plus tard, vous pouvez recharger le modèle picklé (éventuellement dans un autre processus Python) avec :"
   ]
  },
  {
   "cell_type": "code",
   "execution_count": 4,
   "metadata": {},
   "outputs": [],
   "source": [
    "clf = load('filename.joblib')"
   ]
  },
  {
   "cell_type": "markdown",
   "metadata": {},
   "source": [
    "**NB** - les fonctions `dump` et `load` acceptent également les objets de type fichier au lieu des noms de fichiers. Plus d'informations sur la persistance des données avec [Joblib](https://joblib.readthedocs.io/en/latest/persistence.html) sont disponibles ici."
   ]
  },
  {
   "cell_type": "markdown",
   "metadata": {},
   "source": [
    "<a id='security-maintainability-limitations'></a>\n",
    "\n",
    "## 9.1.1. Limites de sécurité et de maintenabilité\n",
    "\n",
    "pickle (et joblib par extension), a quelques problèmes concernant la maintenabilité et la sécurité. À cause de cela,\n",
    "* Ne décryptez jamais les données non fiables, car cela pourrait entraîner l'exécution d'un code malveillant lors du chargement.\n",
    "* Bien que les modèles enregistrés à l'aide d'une version de scikit-learn puissent se charger dans d'autres versions, cela n'est absolument pas pris en charge et déconseillé. Il convient également de garder à l'esprit que les opérations effectuées sur ces données pourraient donner des résultats différents et inattendus.\n",
    "\n",
    "Afin de reconstruire un modèle similaire avec les futures versions de scikit-learn, des métadonnées supplémentaires doivent être enregistrées avec le modèle picklé :\n",
    "* Les données d'entraînement, par ex. une référence à un instantané immuable\n",
    "* Le code source Python utilisé pour générer le modèle\n",
    "* Les versions de scikit-learn et ses dépendances\n",
    "* Le score de validation croisée obtenu sur les données d'apprentissage\n",
    "\n",
    "Cela devrait permettre de vérifier que le score de validation croisée est dans la même fourchette qu'auparavant.\n",
    "\n",
    "À quelques exceptions près, les modèles picklés devraient être portables sur toutes les architectures en supposant que les mêmes versions de dépendances et de Python sont utilisées. Si vous rencontrez un estimateur qui n'est pas portable, veuillez ouvrir un problème sur GitHub. Les modèles picklés sont souvent déployés en production à l'aide de conteneurs, comme Docker, afin de figer l'environnement et les dépendances.\n",
    "\n",
    "Si vous souhaitez en savoir plus sur ces problèmes et explorer d'autres méthodes de sérialisation possibles, veuillez vous reporter à cette [conférence d'Alex Gaynor](https://pyvideo.org/pycon-us-2014/pickles-are-for-delis-not-software.html)."
   ]
  },
  {
   "attachments": {},
   "cell_type": "markdown",
   "metadata": {},
   "source": [
    "<a id='a-more-secure-format-skops'></a>\n",
    "\n",
    "## 9.1.2. Un format plus sécurisé : `skops`\n",
    "\n",
    "[**`skops`**](https://skops.readthedocs.io/en/stable/) fournit un format plus sécurisé via le module [**`skops.io`**](https://skops.readthedocs.io/en/stable/modules/classes.html#module-skops.io). Il évite d'utiliser `pickle` et ne charge que des fichiers ayant des types et des références à des fonctions qui sont considérés comme fiables par défaut ou par l'utilisateur. L'API est très similaire à `pickle`, et vous pouvez persister vos modèles comme expliqué dans la [documentation](https://skops.readthedocs.io/en/stable/persistence.html) en utilisant [`skops.io.dump`](https://skops.readthedocs.io/en/stable/modules/classes.html#skops.io.dump) et [`skops.io.dumps`](https://skops.readthedocs.io/en/stable/modules/classes.html#skops.io.dump)."
   ]
  },
  {
   "cell_type": "code",
   "execution_count": null,
   "metadata": {},
   "outputs": [],
   "source": [
    "import skops.io as sio\n",
    "obj = sio.dumps(clf)"
   ]
  },
  {
   "attachments": {},
   "cell_type": "markdown",
   "metadata": {},
   "source": [
    "Et vous pouvez les recharger en utilisant [`skops.io.load`](https://skops.readthedocs.io/en/stable/modules/classes.html#skops.io.load) et [`skops.io.loads`](https://skops.readthedocs.io/en/stable/modules/classes.html#skops.io.loads). Cependant, vous devez spécifier les types de données qui vous sont fiables. Vous pouvez obtenir les types inconnus existants dans un objet / fichier dumpé en utilisant [`skops.io.get_untrusted_types`](https://skops.readthedocs.io/en/stable/modules/classes.html#skops.io.get_untrusted_types), et après avoir vérifié son contenu, le passer à la fonction de chargement."
   ]
  },
  {
   "cell_type": "code",
   "execution_count": null,
   "metadata": {},
   "outputs": [],
   "source": [
    "unknown_types = sio.get_untrusted_types(obj)\n",
    "clf = sio.loads(obj, trusted=unknown_types)"
   ]
  },
  {
   "attachments": {},
   "cell_type": "markdown",
   "metadata": {},
   "source": [
    "Si vous faites confiance à la source du fichier / objet, vous pouvez passer `trusted=True`."
   ]
  },
  {
   "cell_type": "code",
   "execution_count": null,
   "metadata": {},
   "outputs": [],
   "source": [
    "clf = sio.loads(obj, trusted=True)"
   ]
  },
  {
   "attachments": {},
   "cell_type": "markdown",
   "metadata": {},
   "source": [
    "Veuillez signaler les problèmes et les demandes de fonctionnalités liées à ce format sur le suivi des problèmes de skops."
   ]
  },
  {
   "cell_type": "markdown",
   "metadata": {},
   "source": [
    "<a id='interoperable-formats'></a>\n",
    "\n",
    "# 9.2. Formats interopérables\n",
    "\n",
    "Pour des besoins de reproductibilité et de contrôle de la qualité, lorsque différentes architectures et environnements doivent être pris en compte, l'exportation du modèle au format [Open Neural Network Exchange (ONNX)](https://onnx.ai/) ou au format [Predictive Model Markup Language (PMML)](https://dmg.org/pmml/v4-4-1/GeneralStructure.html) peut être une meilleure approche que l'utilisation de pickle seul. Celles-ci sont utiles lorsque vous souhaitez utiliser votre modèle pour la prédiction dans un environnement différent de celui dans lequel le modèle a été formé.\n",
    "\n",
    "ONNX est une sérialisation binaire du modèle. Il a été développé pour améliorer l'utilisabilité de la représentation interopérable des modèles de données. Il vise à faciliter la conversion des modèles de données entre différents frameworks d'apprentissage automatique, et à améliorer leur portabilité sur différentes architectures informatiques. Plus de détails sont disponibles dans le [tutoriel ONNX](https://onnx.ai/get-started.html). Pour convertir le modèle scikit-learn en ONNX, un outil spécifique [sklearn-onnx](http://onnx.ai/sklearn-onnx/) a été développé.\n",
    "\n",
    "PMML est une implémentation de la norme de document [XML](https://en.wikipedia.org/wiki/XML) définie pour représenter des modèles de données avec les données utilisées pour les générer. Étant lisible par l'homme et la machine, PMML est une bonne option pour la validation de modèles sur différentes plates-formes et l'archivage à long terme. D'autre part, comme XML en général, sa verbosité n'aide pas en production lorsque les performances sont critiques. Pour convertir le modèle scikit-learn en PMML, vous pouvez utiliser par exemple [sklearn2pmml](https://github.com/jpmml/sklearn2pmml) distribué sous la licence Affero GPLv3."
   ]
  }
 ],
 "metadata": {
  "kernelspec": {
   "display_name": "Python 3.9.12 ('base')",
   "language": "python",
   "name": "python3"
  },
  "language_info": {
   "codemirror_mode": {
    "name": "ipython",
    "version": 3
   },
   "file_extension": ".py",
   "mimetype": "text/x-python",
   "name": "python",
   "nbconvert_exporter": "python",
   "pygments_lexer": "ipython3",
   "version": "3.9.12"
  },
  "orig_nbformat": 4,
  "vscode": {
   "interpreter": {
    "hash": "e03b612d84ba21ce95ed447e81b3062e1eb99b56c6d885cdab4aaa12f1b8e240"
   }
  }
 },
 "nbformat": 4,
 "nbformat_minor": 2
}
