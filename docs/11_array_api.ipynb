{
 "cells": [
  {
   "attachments": {},
   "cell_type": "markdown",
   "metadata": {},
   "source": [
    "# 11\\. [**Répartition**](https://nbviewer.org/github/Franck-PepperLabs/pepper_dsia_skl_doc_fr/blob/main/docs/11_dispatching.ipynb)<br/>([*Dispatching*](https://scikit-learn.org/stable/modules/array_api.html))\n",
    "\n",
    "**Volume** : 3 pages, 0 exemples, 0 papiers\n",
    "\n",
    "- ✔ 11.1. [**Prise en charge de l'API Array (expérimental)**](https://nbviewer.org/github/Franck-PepperLabs/pepper_dsia_skl_doc_fr/blob/main/docs/11_1_array_api.ipynb#array-api-support-experimental)<br/>([_Array API support (experimental)_](https://scikit-learn.org/stable/modules/array_api.html#array-api-support-experimental))\n",
    "    - ✔ 11.1.1. [**Exemple d'utilisation**](https://nbviewer.org/github/Franck-PepperLabs/pepper_dsia_skl_doc_fr/blob/main/docs/11_1_array_api.ipynb#example-usage)<br/>([_Example usage_](https://scikit-learn.org/stable/modules/array_api.html#example-usage))\n",
    "    - ✔ 11.1.2. [**Estimateurs avec prise en charge des entrées compatibles avec l'API Array**](https://nbviewer.org/github/Franck-PepperLabs/pepper_dsia_skl_doc_fr/blob/main/docs/11_1_array_api.ipynb#estimators-with-support-for-array-api-compatible-inputs)<br/>([_Estimators with support for Array API-compatible inputs_](https://scikit-learn.org/stable/modules/array_api.html#estimators-with-support-for-array-api-compatible-inputs#estimators-with-support-for-array-api-compatible-inputs))\n",
    "    - ✔ 11.1.3. [**Vérifications communes des estimateurs**](https://nbviewer.org/github/Franck-PepperLabs/pepper_dsia_skl_doc_fr/blob/main/docs/11_1_array_api.ipynb#common-estimator-checks)<br/>([_Common estimator checks_](https://scikit-learn.org/stable/modules/array_api.html#common-estimator-checks))"
   ]
  },
  {
   "cell_type": "markdown",
   "metadata": {},
   "source": [
    "# 11.1. [**Prise en charge de l'API Array (expérimental)**](https://nbviewer.org/github/Franck-PepperLabs/pepper_dsia_skl_doc_fr/blob/main/docs/11_1_array_api.ipynb#array-api-support-experimental) ([*Array API support (experimental)*](https://scikit-learn.org/stable/modules/array_api.html#array-api-support-experimental))\n",
    "\n",
    "La spécification de l'[API Array](https://data-apis.org/array-api/latest/) définit une API standard pour toutes les bibliothèques de manipulation de tableaux avec une API similaire à NumPy.\n",
    "\n",
    "Certains estimateurs de scikit-learn qui dépendent principalement de NumPy (par opposition à l'utilisation de Cython) pour implémenter la logique algorithmique de leurs méthodes `fit`, `predict` ou `transform` peuvent être configurés pour accepter des structures de données compatibles avec l'API Array et envoyer automatiquement les opérations vers l'espace de noms sous-jacent au lieu de dépendre de NumPy.\n",
    "\n",
    "À ce stade, cette prise en charge est considérée comme expérimentale et doit être activée explicitement comme expliqué ci-dessous.\n",
    "\n",
    "> **Remarque** : Actuellement, seules les interfaces `cupy.array_api` et `numpy.array_api` sont connues pour fonctionner avec les estimateurs de scikit-learn."
   ]
  },
  {
   "attachments": {},
   "cell_type": "markdown",
   "metadata": {},
   "source": [
    "## <a id='example-usage'></a> 11.1.1. Exemple d'utilisation\n",
    "\n",
    "Voici un exemple de code pour montrer comment utiliser [CuPy](https://cupy.dev/) pour exécuter [**`LinearDiscriminantAnalysis`**](https://scikit-learn.org/stable/modules/generated/sklearn.discriminant_analysis.LinearDiscriminantAnalysis.html#sklearn.discriminant_analysis.LinearDiscriminantAnalysis) sur un GPU :"
   ]
  },
  {
   "cell_type": "code",
   "execution_count": 5,
   "metadata": {},
   "outputs": [
    {
     "ename": "ImportError",
     "evalue": "array_api_compat is required to dispatch arrays using the API specification",
     "output_type": "error",
     "traceback": [
      "\u001b[1;31m---------------------------------------------------------------------------\u001b[0m",
      "\u001b[1;31mModuleNotFoundError\u001b[0m                       Traceback (most recent call last)",
      "File \u001b[1;32mc:\\Users\\franc\\AppData\\Local\\Programs\\Python\\Python311\\Lib\\site-packages\\sklearn\\utils\\_array_api.py:20\u001b[0m, in \u001b[0;36m_check_array_api_dispatch\u001b[1;34m(array_api_dispatch)\u001b[0m\n\u001b[0;32m     19\u001b[0m \u001b[39mtry\u001b[39;00m:\n\u001b[1;32m---> 20\u001b[0m     \u001b[39mimport\u001b[39;00m \u001b[39marray_api_compat\u001b[39;00m  \u001b[39m# noqa\u001b[39;00m\n\u001b[0;32m     21\u001b[0m \u001b[39mexcept\u001b[39;00m \u001b[39mImportError\u001b[39;00m:\n",
      "\u001b[1;31mModuleNotFoundError\u001b[0m: No module named 'array_api_compat'",
      "\nDuring handling of the above exception, another exception occurred:\n",
      "\u001b[1;31mImportError\u001b[0m                               Traceback (most recent call last)",
      "Cell \u001b[1;32mIn[5], line 11\u001b[0m\n\u001b[0;32m      8\u001b[0m y_cu \u001b[39m=\u001b[39m cupy\u001b[39m.\u001b[39masarray(y_np)\n\u001b[0;32m      9\u001b[0m X_cu\u001b[39m.\u001b[39mdevice\n\u001b[1;32m---> 11\u001b[0m \u001b[39mwith\u001b[39;49;00m config_context(array_api_dispatch\u001b[39m=\u001b[39;49m\u001b[39mTrue\u001b[39;49;00m):\n\u001b[0;32m     12\u001b[0m     lda \u001b[39m=\u001b[39;49m LinearDiscriminantAnalysis()\n\u001b[0;32m     13\u001b[0m     X_trans \u001b[39m=\u001b[39;49m lda\u001b[39m.\u001b[39;49mfit_transform(X_cu, y_cu)\n",
      "File \u001b[1;32mc:\\Users\\franc\\AppData\\Local\\Programs\\Python\\Python311\\Lib\\contextlib.py:137\u001b[0m, in \u001b[0;36m_GeneratorContextManager.__enter__\u001b[1;34m(self)\u001b[0m\n\u001b[0;32m    135\u001b[0m \u001b[39mdel\u001b[39;00m \u001b[39mself\u001b[39m\u001b[39m.\u001b[39margs, \u001b[39mself\u001b[39m\u001b[39m.\u001b[39mkwds, \u001b[39mself\u001b[39m\u001b[39m.\u001b[39mfunc\n\u001b[0;32m    136\u001b[0m \u001b[39mtry\u001b[39;00m:\n\u001b[1;32m--> 137\u001b[0m     \u001b[39mreturn\u001b[39;00m \u001b[39mnext\u001b[39m(\u001b[39mself\u001b[39m\u001b[39m.\u001b[39mgen)\n\u001b[0;32m    138\u001b[0m \u001b[39mexcept\u001b[39;00m \u001b[39mStopIteration\u001b[39;00m:\n\u001b[0;32m    139\u001b[0m     \u001b[39mraise\u001b[39;00m \u001b[39mRuntimeError\u001b[39;00m(\u001b[39m\"\u001b[39m\u001b[39mgenerator didn\u001b[39m\u001b[39m'\u001b[39m\u001b[39mt yield\u001b[39m\u001b[39m\"\u001b[39m) \u001b[39mfrom\u001b[39;00m \u001b[39mNone\u001b[39m\n",
      "File \u001b[1;32mc:\\Users\\franc\\AppData\\Local\\Programs\\Python\\Python311\\Lib\\site-packages\\sklearn\\_config.py:339\u001b[0m, in \u001b[0;36mconfig_context\u001b[1;34m(assume_finite, working_memory, print_changed_only, display, pairwise_dist_chunk_size, enable_cython_pairwise_dist, array_api_dispatch, transform_output, enable_metadata_routing, skip_parameter_validation)\u001b[0m\n\u001b[0;32m    210\u001b[0m \u001b[39m\u001b[39m\u001b[39m\"\"\"Context manager for global scikit-learn configuration.\u001b[39;00m\n\u001b[0;32m    211\u001b[0m \n\u001b[0;32m    212\u001b[0m \u001b[39mParameters\u001b[39;00m\n\u001b[1;32m   (...)\u001b[0m\n\u001b[0;32m    336\u001b[0m \u001b[39mValueError: Input contains NaN...\u001b[39;00m\n\u001b[0;32m    337\u001b[0m \u001b[39m\"\"\"\u001b[39;00m\n\u001b[0;32m    338\u001b[0m old_config \u001b[39m=\u001b[39m get_config()\n\u001b[1;32m--> 339\u001b[0m set_config(\n\u001b[0;32m    340\u001b[0m     assume_finite\u001b[39m=\u001b[39;49massume_finite,\n\u001b[0;32m    341\u001b[0m     working_memory\u001b[39m=\u001b[39;49mworking_memory,\n\u001b[0;32m    342\u001b[0m     print_changed_only\u001b[39m=\u001b[39;49mprint_changed_only,\n\u001b[0;32m    343\u001b[0m     display\u001b[39m=\u001b[39;49mdisplay,\n\u001b[0;32m    344\u001b[0m     pairwise_dist_chunk_size\u001b[39m=\u001b[39;49mpairwise_dist_chunk_size,\n\u001b[0;32m    345\u001b[0m     enable_cython_pairwise_dist\u001b[39m=\u001b[39;49menable_cython_pairwise_dist,\n\u001b[0;32m    346\u001b[0m     array_api_dispatch\u001b[39m=\u001b[39;49marray_api_dispatch,\n\u001b[0;32m    347\u001b[0m     transform_output\u001b[39m=\u001b[39;49mtransform_output,\n\u001b[0;32m    348\u001b[0m     enable_metadata_routing\u001b[39m=\u001b[39;49menable_metadata_routing,\n\u001b[0;32m    349\u001b[0m     skip_parameter_validation\u001b[39m=\u001b[39;49mskip_parameter_validation,\n\u001b[0;32m    350\u001b[0m )\n\u001b[0;32m    352\u001b[0m \u001b[39mtry\u001b[39;00m:\n\u001b[0;32m    353\u001b[0m     \u001b[39myield\u001b[39;00m\n",
      "File \u001b[1;32mc:\\Users\\franc\\AppData\\Local\\Programs\\Python\\Python311\\Lib\\site-packages\\sklearn\\_config.py:186\u001b[0m, in \u001b[0;36mset_config\u001b[1;34m(assume_finite, working_memory, print_changed_only, display, pairwise_dist_chunk_size, enable_cython_pairwise_dist, array_api_dispatch, transform_output, enable_metadata_routing, skip_parameter_validation)\u001b[0m\n\u001b[0;32m    183\u001b[0m \u001b[39mif\u001b[39;00m array_api_dispatch \u001b[39mis\u001b[39;00m \u001b[39mnot\u001b[39;00m \u001b[39mNone\u001b[39;00m:\n\u001b[0;32m    184\u001b[0m     \u001b[39mfrom\u001b[39;00m \u001b[39m.\u001b[39;00m\u001b[39mutils\u001b[39;00m\u001b[39m.\u001b[39;00m\u001b[39m_array_api\u001b[39;00m \u001b[39mimport\u001b[39;00m _check_array_api_dispatch\n\u001b[1;32m--> 186\u001b[0m     _check_array_api_dispatch(array_api_dispatch)\n\u001b[0;32m    187\u001b[0m     local_config[\u001b[39m\"\u001b[39m\u001b[39marray_api_dispatch\u001b[39m\u001b[39m\"\u001b[39m] \u001b[39m=\u001b[39m array_api_dispatch\n\u001b[0;32m    188\u001b[0m \u001b[39mif\u001b[39;00m transform_output \u001b[39mis\u001b[39;00m \u001b[39mnot\u001b[39;00m \u001b[39mNone\u001b[39;00m:\n",
      "File \u001b[1;32mc:\\Users\\franc\\AppData\\Local\\Programs\\Python\\Python311\\Lib\\site-packages\\sklearn\\utils\\_array_api.py:22\u001b[0m, in \u001b[0;36m_check_array_api_dispatch\u001b[1;34m(array_api_dispatch)\u001b[0m\n\u001b[0;32m     20\u001b[0m     \u001b[39mimport\u001b[39;00m \u001b[39marray_api_compat\u001b[39;00m  \u001b[39m# noqa\u001b[39;00m\n\u001b[0;32m     21\u001b[0m \u001b[39mexcept\u001b[39;00m \u001b[39mImportError\u001b[39;00m:\n\u001b[1;32m---> 22\u001b[0m     \u001b[39mraise\u001b[39;00m \u001b[39mImportError\u001b[39;00m(\n\u001b[0;32m     23\u001b[0m         \u001b[39m\"\u001b[39m\u001b[39marray_api_compat is required to dispatch arrays using the API\u001b[39m\u001b[39m\"\u001b[39m\n\u001b[0;32m     24\u001b[0m         \u001b[39m\"\u001b[39m\u001b[39m specification\u001b[39m\u001b[39m\"\u001b[39m\n\u001b[0;32m     25\u001b[0m     )\n\u001b[0;32m     27\u001b[0m numpy_version \u001b[39m=\u001b[39m parse_version(numpy\u001b[39m.\u001b[39m__version__)\n\u001b[0;32m     28\u001b[0m min_numpy_version \u001b[39m=\u001b[39m \u001b[39m\"\u001b[39m\u001b[39m1.21\u001b[39m\u001b[39m\"\u001b[39m\n",
      "\u001b[1;31mImportError\u001b[0m: array_api_compat is required to dispatch arrays using the API specification"
     ]
    }
   ],
   "source": [
    "from sklearn.datasets import make_classification\n",
    "from sklearn import config_context\n",
    "from sklearn.discriminant_analysis import LinearDiscriminantAnalysis\n",
    "import cupy\n",
    "\n",
    "X_np, y_np = make_classification(random_state=0)\n",
    "X_cu = cupy.asarray(X_np)\n",
    "y_cu = cupy.asarray(y_np)\n",
    "X_cu.device\n",
    "\n",
    "with config_context(array_api_dispatch=True):\n",
    "    lda = LinearDiscriminantAnalysis()\n",
    "    X_trans = lda.fit_transform(X_cu, y_cu)\n",
    "X_trans.device"
   ]
  },
  {
   "attachments": {},
   "cell_type": "markdown",
   "metadata": {},
   "source": [
    "Une fois que le modèle est entraîné, les attributs ajustés qui sont des tableaux proviendront également du même espace de noms Array API que les données d'entraînement. Par exemple, si l'espace de noms Array API de CuPy a été utilisé pour l'entraînement, alors les attributs ajustés seront sur le GPU. Nous fournissons une fonction expérimentale `_estimator_with_converted_arrays` qui transfère les attributs d'un estimateur de l'API Array à un ndarray :"
   ]
  },
  {
   "cell_type": "code",
   "execution_count": 8,
   "metadata": {},
   "outputs": [
    {
     "data": {
      "text/plain": [
       "numpy.ndarray"
      ]
     },
     "execution_count": 8,
     "metadata": {},
     "output_type": "execute_result"
    }
   ],
   "source": [
    "from sklearn.utils._array_api import _estimator_with_converted_arrays\n",
    "cupy_to_ndarray = lambda array: array._array.get()\n",
    "lda_np = _estimator_with_converted_arrays(lda, cupy_to_ndarray)\n",
    "X_trans = lda_np.transform(X_np)\n",
    "type(X_trans)"
   ]
  },
  {
   "cell_type": "markdown",
   "metadata": {},
   "source": [
    "### <a id='pytorch-support'></a> 11.1.1.1. Prise en charge de PyTorch\n",
    "\n",
    "Les tenseurs PyTorch sont pris en charge en définissant `array_api_dispatch=True` et en passant les tenseurs directement."
   ]
  },
  {
   "cell_type": "code",
   "execution_count": 6,
   "metadata": {},
   "outputs": [
    {
     "ename": "RuntimeError",
     "evalue": "PyTorch is not linked with support for cuda devices",
     "output_type": "error",
     "traceback": [
      "\u001b[1;31m---------------------------------------------------------------------------\u001b[0m",
      "\u001b[1;31mRuntimeError\u001b[0m                              Traceback (most recent call last)",
      "Cell \u001b[1;32mIn[6], line 2\u001b[0m\n\u001b[0;32m      1\u001b[0m \u001b[39mimport\u001b[39;00m \u001b[39mtorch\u001b[39;00m\n\u001b[1;32m----> 2\u001b[0m X_torch \u001b[39m=\u001b[39m torch\u001b[39m.\u001b[39;49masarray(X_np, device\u001b[39m=\u001b[39;49m\u001b[39m\"\u001b[39;49m\u001b[39mcuda\u001b[39;49m\u001b[39m\"\u001b[39;49m, dtype\u001b[39m=\u001b[39;49mtorch\u001b[39m.\u001b[39;49mfloat32)\n\u001b[0;32m      3\u001b[0m y_torch \u001b[39m=\u001b[39m torch\u001b[39m.\u001b[39masarray(y_np, device\u001b[39m=\u001b[39m\u001b[39m\"\u001b[39m\u001b[39mcuda\u001b[39m\u001b[39m\"\u001b[39m, dtype\u001b[39m=\u001b[39mtorch\u001b[39m.\u001b[39mfloat32)\n\u001b[0;32m      5\u001b[0m \u001b[39mwith\u001b[39;00m config_context(array_api_dispatch\u001b[39m=\u001b[39m\u001b[39mTrue\u001b[39;00m):\n",
      "\u001b[1;31mRuntimeError\u001b[0m: PyTorch is not linked with support for cuda devices"
     ]
    }
   ],
   "source": [
    "import torch\n",
    "X_torch = torch.asarray(X_np, device=\"cuda\", dtype=torch.float32)\n",
    "y_torch = torch.asarray(y_np, device=\"cuda\", dtype=torch.float32)\n",
    "\n",
    "with config_context(array_api_dispatch=True):\n",
    "    lda = LinearDiscriminantAnalysis()\n",
    "    X_trans = lda.fit_transform(X_torch, y_torch)\n",
    "type(X_trans)\n",
    "# <class 'torch.Tensor'>\n",
    "X_trans.device.type"
   ]
  },
  {
   "attachments": {},
   "cell_type": "markdown",
   "metadata": {},
   "source": [
    "## <a id='estimators-with-support-for-array-api-compatible-inputs'></a> 11.1.2. Estimateurs prenant en charge les entrées compatibles avec l'API Array\n",
    "\n",
    "* [**`discriminant_analysis.LinearDiscriminantAnalysis`**](https://scikit-learn.org/stable/modules/generated/sklearn.discriminant_analysis.LinearDiscriminantAnalysis.html#sklearn.discriminant_analysis.LinearDiscriminantAnalysis) (avec `solver=\"svd\"`)\n",
    "\n",
    "La couverture pour plus d'estimateurs devrait augmenter avec le temps. Veuillez suivre la [meta-issue dédiée sur GitHub](https://github.com/scikit-learn/scikit-learn/issues/22352) pour suivre les progrès."
   ]
  },
  {
   "cell_type": "markdown",
   "metadata": {},
   "source": [
    "## <a id='common-estimator-checks'></a> 11.1.3. Vérifications communes des estimateurs\n",
    "\n",
    "Ajoutez l'étiquette `array_api_support` à l'ensemble des étiquettes d'un estimateur pour indiquer qu'il prend en charge l'API Array. Cela permettra d'effectuer des vérifications dédiées dans le cadre des tests communs pour vérifier que les résultats des estimateurs sont les mêmes lors de l'utilisation d'entrées NumPy classiques et de l'API Array.\n",
    "\n",
    "Pour exécuter ces vérifications, vous devez installer [array_api_compat](https://github.com/data-apis/array-api-compat) dans votre environnement de test. Pour exécuter l'ensemble complet des vérifications, vous devez installer à la fois [PyTorch](https://pytorch.org/) et [CuPy](https://cupy.dev/) et disposer d'un GPU. Les vérifications qui ne peuvent pas être exécutées ou qui ont des dépendances manquantes seront automatiquement ignorées."
   ]
  }
 ],
 "metadata": {
  "kernelspec": {
   "display_name": "Python 3",
   "language": "python",
   "name": "python3"
  },
  "language_info": {
   "codemirror_mode": {
    "name": "ipython",
    "version": 3
   },
   "file_extension": ".py",
   "mimetype": "text/x-python",
   "name": "python",
   "nbconvert_exporter": "python",
   "pygments_lexer": "ipython3",
   "version": "3.11.1"
  },
  "orig_nbformat": 4
 },
 "nbformat": 4,
 "nbformat_minor": 2
}
