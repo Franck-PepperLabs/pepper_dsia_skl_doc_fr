{
 "cells": [
  {
   "attachments": {},
   "cell_type": "markdown",
   "metadata": {},
   "source": [
    "# 11\\. [**Répartition**](https://nbviewer.org/github/Franck-PepperLabs/pepper_data-science_practising/blob/main/Sklearn/11_dispatching.ipynb)<br/>([*Dispatching*](https://scikit-learn.org/stable/modules/array_api.html))\n",
    "\n",
    "**Reste** : 2 pages, 0 exemples\n",
    "\n",
    "# 11.1. [**Prise en charge de l'API Array (expérimental)**](https://nbviewer.org/github/Franck-PepperLabs/pepper_data-science_practising/blob/main/Sklearn/11_1_array_api.ipynb#array-api-support-experimental) ([*Array API support (experimental)*](https://scikit-learn.org/stable/modules/array_api.html#array-api-support-experimental))\n",
    "\n",
    "La spécification de l'[API Array](https://data-apis.org/array-api/latest/) définit une API standard pour toutes les bibliothèques de manipulation de tableaux avec une API similaire à NumPy.\n",
    "\n",
    "Certains estimateurs de scikit-learn qui dépendent principalement de NumPy (par opposition à l'utilisation de Cython) pour implémenter la logique algorithmique de leurs méthodes `fit`, `predict` ou `transform` peuvent être configurés pour accepter des structures de données compatibles avec l'API Array et envoyer automatiquement les opérations vers l'espace de noms sous-jacent au lieu de dépendre de NumPy.\n",
    "\n",
    "À ce stade, cette prise en charge est considérée comme expérimentale et doit être activée explicitement comme expliqué ci-dessous.\n",
    "\n",
    "**Note** Actuellement, seules les interfaces `cupy.array_api` et `numpy.array_api` sont connues pour fonctionner avec les estimateurs de scikit-learn.\n",
    "\n",
    "* 11.1.1. [**Exemple d'utilisation**](https://nbviewer.org/github/Franck-PepperLabs/pepper_data-science_practising/blob/main/Sklearn/11_1_array_api.ipynb#example-usage) ([*Example usage*](https://scikit-learn.org/stable/modules/array_api.html#example-usage))\n",
    "\n",
    "* 11.1.2. [**Estimateurs avec prise en charge des entrées compatibles avec l'API Array**](https://nbviewer.org/github/Franck-PepperLabs/pepper_data-science_practising/blob/main/Sklearn/11_1_array_api.ipynb#estimators-with-support-for-array-api-compatible-inputs) ([*Estimators with support for Array API-compatible inputs*](https://scikit-learn.org/stable/modules/array_api.html#estimators-with-support-for-array-api-compatible-inputs#estimators-with-support-for-array-api-compatible-inputs))"
   ]
  },
  {
   "cell_type": "code",
   "execution_count": 6,
   "metadata": {},
   "outputs": [
    {
     "name": "stdout",
     "output_type": "stream",
     "text": [
      "Name: cupy-cuda12x\n",
      "Version: 12.1.0\n",
      "Summary: CuPy: NumPy & SciPy for GPU\n",
      "Home-page: https://cupy.dev/\n",
      "Author: Seiya Tokui\n",
      "Author-email: tokui@preferred.jp\n",
      "License: MIT License\n",
      "Location: C:\\Users\\franc\\AppData\\Local\\Programs\\Python\\Python311\\Lib\\site-packages\n",
      "Requires: fastrlock, numpy\n",
      "Required-by: \n"
     ]
    }
   ],
   "source": [
    "!pip show cupy-cuda12x"
   ]
  },
  {
   "attachments": {},
   "cell_type": "markdown",
   "metadata": {},
   "source": [
    "## <a id='example-usage'></a> 11.1.1. Exemple d'utilisation\n",
    "\n",
    "Voici un exemple de code pour montrer comment utiliser [CuPy](https://cupy.dev/) pour exécuter [**`LinearDiscriminantAnalysis`**](https://scikit-learn.org/stable/modules/generated/sklearn.discriminant_analysis.LinearDiscriminantAnalysis.html#sklearn.discriminant_analysis.LinearDiscriminantAnalysis) sur un GPU :"
   ]
  },
  {
   "cell_type": "code",
   "execution_count": 7,
   "metadata": {},
   "outputs": [
    {
     "name": "stderr",
     "output_type": "stream",
     "text": [
      "C:\\Users\\franc\\AppData\\Local\\Temp\\ipykernel_12172\\3949146708.py:4: UserWarning: The cupy.array_api submodule is still experimental. See NEP 47.\n",
      "  import cupy.array_api as xp\n"
     ]
    },
    {
     "data": {
      "text/plain": [
       "<CUDA Device 0>"
      ]
     },
     "execution_count": 7,
     "metadata": {},
     "output_type": "execute_result"
    }
   ],
   "source": [
    "from sklearn.datasets import make_classification\n",
    "from sklearn import config_context\n",
    "from sklearn.discriminant_analysis import LinearDiscriminantAnalysis\n",
    "import cupy.array_api as xp\n",
    "\n",
    "X_np, y_np = make_classification(random_state=0)\n",
    "X_cu = xp.asarray(X_np)\n",
    "y_cu = xp.asarray(y_np)\n",
    "X_cu.device\n",
    "\n",
    "with config_context(array_api_dispatch=True):\n",
    "    lda = LinearDiscriminantAnalysis()\n",
    "    X_trans = lda.fit_transform(X_cu, y_cu)\n",
    "X_trans.device"
   ]
  },
  {
   "attachments": {},
   "cell_type": "markdown",
   "metadata": {},
   "source": [
    "Une fois que le modèle est entraîné, les attributs ajustés qui sont des tableaux proviendront également du même espace de noms Array API que les données d'entraînement. Par exemple, si l'espace de noms Array API de CuPy a été utilisé pour l'entraînement, alors les attributs ajustés seront sur le GPU. Nous fournissons une fonction expérimentale `_estimator_with_converted_arrays` qui transfère les attributs d'un estimateur de l'API Array à un ndarray :"
   ]
  },
  {
   "cell_type": "code",
   "execution_count": 8,
   "metadata": {},
   "outputs": [
    {
     "data": {
      "text/plain": [
       "numpy.ndarray"
      ]
     },
     "execution_count": 8,
     "metadata": {},
     "output_type": "execute_result"
    }
   ],
   "source": [
    "from sklearn.utils._array_api import _estimator_with_converted_arrays\n",
    "cupy_to_ndarray = lambda array: array._array.get()\n",
    "lda_np = _estimator_with_converted_arrays(lda, cupy_to_ndarray)\n",
    "X_trans = lda_np.transform(X_np)\n",
    "type(X_trans)"
   ]
  },
  {
   "attachments": {},
   "cell_type": "markdown",
   "metadata": {},
   "source": [
    "## <a id='estimators-with-support-for-array-api-compatible-inputs'></a> 11.1.2. Estimateurs prenant en charge les entrées compatibles avec l'API Array\n",
    "\n",
    "* [**`discriminant_analysis.LinearDiscriminantAnalysis`**](https://scikit-learn.org/stable/modules/generated/sklearn.discriminant_analysis.LinearDiscriminantAnalysis.html#sklearn.discriminant_analysis.LinearDiscriminantAnalysis) (avec `solver=\"svd\"`)\n",
    "\n",
    "La couverture pour plus d'estimateurs devrait augmenter avec le temps. Veuillez suivre la [meta-issue dédiée sur GitHub](https://github.com/scikit-learn/scikit-learn/issues/22352) pour suivre les progrès."
   ]
  }
 ],
 "metadata": {
  "kernelspec": {
   "display_name": "Python 3",
   "language": "python",
   "name": "python3"
  },
  "language_info": {
   "codemirror_mode": {
    "name": "ipython",
    "version": 3
   },
   "file_extension": ".py",
   "mimetype": "text/x-python",
   "name": "python",
   "nbconvert_exporter": "python",
   "pygments_lexer": "ipython3",
   "version": "3.11.1"
  },
  "orig_nbformat": 4
 },
 "nbformat": 4,
 "nbformat_minor": 2
}
