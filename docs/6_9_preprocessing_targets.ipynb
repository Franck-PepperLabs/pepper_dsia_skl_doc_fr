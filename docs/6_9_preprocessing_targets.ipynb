{
 "cells": [
  {
   "attachments": {},
   "cell_type": "markdown",
   "metadata": {},
   "source": [
    "# 6.9. [**Transformation de la cible de prédiction (y)**](https://nbviewer.org/github/Franck-PepperLabs/pepper_dsia_skl_doc_fr/blob/main/docs/6_9_preprocessing_targets.ipynb)</br>([*Transforming the prediction target (y)*](https://scikit-learn.org/stable/modules/preprocessing_targets.html))\n",
    "\n",
    "Ce sont des transformateurs qui ne sont pas destinés à être utilisés sur des caractéristiques, uniquement sur des cibles d'apprentissage supervisé. Voir aussi [**Transformation de la cible en régression** (6.1.2)](https://nbviewer.org/github/Franck-PepperLabs/pepper_dsia_skl_doc_fr/blob/main/docs/6_1_compose.ipynb#transforming-target-in-regression) si vous souhaitez transformer la cible de prédiction pour l'apprentissage, mais évaluer le modèle dans l'espace d'origine (non transformé).\n",
    "\n",
    "- ✔ 6.9. [**Transformation de la cible de prédiction (y)**](https://nbviewer.org/github/Franck-PepperLabs/pepper_dsia_skl_doc_fr/blob/main/docs/6_9_preprocessing_targets.ipynb)<br/>([*Transforming the prediction target (y)*](https://scikit-learn.org/stable/modules/preprocessing_targets.html))\n",
    "    - **Volume** : 2 pages, 0 exemples, 0 papiers\n",
    "    - ✔ 6.9.1. [**Binarisation des étiquettes**](https://nbviewer.org/github/Franck-PepperLabs/pepper_dsia_skl_doc_fr/blob/main/docs/6_9_preprocessing_targets.ipynb#label-binarization)<br/>([*Label binarization*](https://scikit-learn.org/stable/modules/preprocessing_targets.html#label-binarization))\n",
    "    - ✔ 6.9.2. [**Encodage des étiquettes**](https://nbviewer.org/github/Franck-PepperLabs/pepper_dsia_skl_doc_fr/blob/main/docs/6_9_preprocessing_targets.ipynb#label-encoding)<br/>([*Label encoding*](https://scikit-learn.org/stable/modules/preprocessing_targets.html#label-encoding))"
   ]
  },
  {
   "attachments": {},
   "cell_type": "markdown",
   "metadata": {},
   "source": [
    "## 6.9.1. <a id='label-binarization'></a> Binarisation des étiquettes"
   ]
  },
  {
   "attachments": {},
   "cell_type": "markdown",
   "metadata": {},
   "source": [
    "### 6.9.1.1. <a id='labelbinarizer'></a> LabelBinarizer\n",
    "\n",
    "[**`LabelBinarizer`**](https://scikit-learn.org/stable/modules/generated/sklearn.preprocessing.LabelBinarizer.html#sklearn.preprocessing.LabelBinarizer) est une classe utilitaire permettant de créer une [*matrice d'indicateurs d'étiquettes*](https://scikit-learn.org/stable/glossary.html#term-label-indicator-matrix) à partir d'une liste d'étiquettes [*multiclasses*](https://scikit-learn.org/stable/glossary.html#term-multiclass) :"
   ]
  },
  {
   "cell_type": "code",
   "execution_count": 1,
   "metadata": {},
   "outputs": [
    {
     "data": {
      "text/plain": [
       "array([[1, 0, 0, 0],\n",
       "       [0, 0, 0, 1]])"
      ]
     },
     "execution_count": 1,
     "metadata": {},
     "output_type": "execute_result"
    }
   ],
   "source": [
    "from sklearn import preprocessing\n",
    "lb = preprocessing.LabelBinarizer()\n",
    "lb.fit([1, 2, 6, 4, 2])\n",
    "# LabelBinarizer()\n",
    "lb.classes_\n",
    "# array([1, 2, 4, 6])\n",
    "lb.transform([1, 6])\n",
    "# array([[1, 0, 0, 0],\n",
    "#       [0, 0, 0, 1]])"
   ]
  },
  {
   "attachments": {},
   "cell_type": "markdown",
   "metadata": {},
   "source": [
    "L'utilisation de ce format peut permettre une classification multiclasse dans les estimateurs qui prennent en charge le format de matrice d'indicateur d'étiquette.\n",
    "\n",
    "**Avertissement** : LabelBinarizer n'est pas nécessaire si vous utilisez un estimateur qui prend déjà en charge les données [*multiclasses*](https://scikit-learn.org/stable/glossary.html#term-multiclass).\n",
    "\n",
    "Pour plus d'informations sur la classification multiclasse, reportez-vous à la section [**Classification multiclasse** (1.12.1)](https://scikit-learn.org/stable/modules/multiclass.html#multiclass-classification)."
   ]
  },
  {
   "attachments": {},
   "cell_type": "markdown",
   "metadata": {},
   "source": [
    "### 6.9.1.2.  <a id='multilabelbinarizer'></a> MultiLabelBinarizer\n",
    "\n",
    "Dans l'apprentissage [*multiétiquette*](https://scikit-learn.org/stable/glossary.html#term-multilabel), l'ensemble conjoint de tâches de classification binaire est exprimé avec un tableau d'indicateurs binaires d'étiquette : chaque échantillon est une ligne d'un tableau 2d de forme `(n_échantillons, n_classes)` avec des valeurs binaires où l'un, c'est-à-dire les éléments non nuls, correspond au sous-ensemble d'étiquettes pour cet échantillon. Un tableau tel que `np.array([[1, 0, 0], [0, 1, 1], [0, 0, 0]])` représente l'étiquette 0 dans le premier échantillon, les étiquettes 1 et 2 dans le deuxième échantillon, et aucune étiquette dans le troisième échantillon.\n",
    "\n",
    "La production de données multiétiquettes sous la forme d'une liste d'ensembles d'étiquettes peut être plus intuitive. Le transformateur [**`MultiLabelBinarizer`**](https://scikit-learn.org/stable/modules/generated/sklearn.preprocessing.MultiLabelBinarizer.html#sklearn.preprocessing.MultiLabelBinarizer) peut être utilisé pour convertir entre une collection de collections d'étiquettes et le format d'indicateur :"
   ]
  },
  {
   "cell_type": "code",
   "execution_count": 2,
   "metadata": {},
   "outputs": [
    {
     "data": {
      "text/plain": [
       "array([[0, 0, 1, 1, 1],\n",
       "       [0, 0, 1, 0, 0],\n",
       "       [1, 1, 0, 1, 0],\n",
       "       [1, 1, 1, 1, 1],\n",
       "       [1, 1, 1, 0, 0]])"
      ]
     },
     "execution_count": 2,
     "metadata": {},
     "output_type": "execute_result"
    }
   ],
   "source": [
    "from sklearn.preprocessing import MultiLabelBinarizer\n",
    "y = [[2, 3, 4], [2], [0, 1, 3], [0, 1, 2, 3, 4], [0, 1, 2]]\n",
    "MultiLabelBinarizer().fit_transform(y)\n",
    "# array([[0, 0, 1, 1, 1],\n",
    "#        [0, 0, 1, 0, 0],\n",
    "#        [1, 1, 0, 1, 0],\n",
    "#        [1, 1, 1, 1, 1],\n",
    "#        [1, 1, 1, 0, 0]])"
   ]
  },
  {
   "attachments": {},
   "cell_type": "markdown",
   "metadata": {},
   "source": [
    "Pour plus d'informations sur la classification multiétiquette, reportez-vous à la section [**Classification multiétiquette** (1.12.2)](https://scikit-learn.org/stable/modules/multiclass.html#multilabel-classification)."
   ]
  },
  {
   "attachments": {},
   "cell_type": "markdown",
   "metadata": {},
   "source": [
    "## 6.9.2. <a id='label-encoding'></a> Encodage des étiquettes\n",
    "\n",
    "[**`LabelEncoder`**](https://scikit-learn.org/stable/modules/generated/sklearn.preprocessing.LabelEncoder.html#sklearn.preprocessing.LabelEncoder) est une classe utilitaire permettant de normaliser les étiquettes de sorte qu'elles ne contiennent que des valeurs comprises entre `0` et `n_classes-1`. Ceci est parfois utile pour écrire des routines Cython efficaces. [**`LabelEncoder`**](https://scikit-learn.org/stable/modules/generated/sklearn.preprocessing.LabelEncoder.html#sklearn.preprocessing.LabelEncoder) peut être utilisé comme suit :"
   ]
  },
  {
   "cell_type": "code",
   "execution_count": 3,
   "metadata": {},
   "outputs": [
    {
     "data": {
      "text/plain": [
       "array([1, 1, 2, 6])"
      ]
     },
     "execution_count": 3,
     "metadata": {},
     "output_type": "execute_result"
    }
   ],
   "source": [
    "from sklearn import preprocessing\n",
    "le = preprocessing.LabelEncoder()\n",
    "le.fit([1, 2, 2, 6])\n",
    "# LabelEncoder()\n",
    "le.classes_\n",
    "# array([1, 2, 6])\n",
    "le.transform([1, 1, 2, 6])\n",
    "# array([0, 0, 1, 2])\n",
    "le.inverse_transform([0, 0, 1, 2])\n",
    "# array([1, 1, 2, 6])"
   ]
  },
  {
   "cell_type": "markdown",
   "metadata": {},
   "source": [
    "Il peut également être utilisé pour transformer des étiquettes non numériques (tant qu'elles sont hachables et comparables) en étiquettes numériques :"
   ]
  },
  {
   "cell_type": "code",
   "execution_count": 4,
   "metadata": {},
   "outputs": [
    {
     "data": {
      "text/plain": [
       "['tokyo', 'tokyo', 'paris']"
      ]
     },
     "execution_count": 4,
     "metadata": {},
     "output_type": "execute_result"
    }
   ],
   "source": [
    "le = preprocessing.LabelEncoder()\n",
    "le.fit([\"paris\", \"paris\", \"tokyo\", \"amsterdam\"])\n",
    "# LabelEncoder()\n",
    "list(le.classes_)\n",
    "# ['amsterdam', 'paris', 'tokyo']\n",
    "le.transform([\"tokyo\", \"tokyo\", \"paris\"])\n",
    "# array([2, 2, 1])\n",
    "list(le.inverse_transform([2, 2, 1]))\n",
    "# ['tokyo', 'tokyo', 'paris']"
   ]
  }
 ],
 "metadata": {
  "kernelspec": {
   "display_name": "Python 3",
   "language": "python",
   "name": "python3"
  },
  "language_info": {
   "codemirror_mode": {
    "name": "ipython",
    "version": 3
   },
   "file_extension": ".py",
   "mimetype": "text/x-python",
   "name": "python",
   "nbconvert_exporter": "python",
   "pygments_lexer": "ipython3",
   "version": "3.10.10"
  },
  "orig_nbformat": 4,
  "vscode": {
   "interpreter": {
    "hash": "9aff9e50adfaa9e30c910fb3872ffdc72747acb5f50803ca0504f00e980f7c25"
   }
  }
 },
 "nbformat": 4,
 "nbformat_minor": 2
}
