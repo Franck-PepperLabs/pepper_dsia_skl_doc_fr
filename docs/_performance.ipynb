{
 "cells": [
  {
   "cell_type": "markdown",
   "metadata": {},
   "source": [
    "# [**How to optimize for speed**](https://scikit-learn.org/stable/developers/performance.html#performance-howto)"
   ]
  }
 ],
 "metadata": {
  "language_info": {
   "name": "python"
  },
  "orig_nbformat": 4
 },
 "nbformat": 4,
 "nbformat_minor": 2
}
