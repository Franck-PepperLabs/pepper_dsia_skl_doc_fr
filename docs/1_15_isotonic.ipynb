{
 "cells": [
  {
   "cell_type": "markdown",
   "metadata": {},
   "source": [
    "# <a id='supervised-learning'></a> 1. [**Apprentissage supervisé**](https://nbviewer.org/github/Franck-PepperLabs/pepper_data-science_practising/blob/main/Sklearn/1_supervised_learning.ipynb#supervised-learning)</br>([*Supervised learning*](https://scikit-learn.org/stable/supervised_learning.html#supervised-learning))\n",
    "\n",
    "# <a id='isotonic-regression'></a> 1.15. [**Régression isotone**](https://nbviewer.org/github/Franck-PepperLabs/pepper_data-science_practising/blob/main/Sklearn/1_15_isotonic.ipynb)<br/>([_Isotonic regression_](https://scikit-learn.org/stable/modules/isotonic.html))"
   ]
  },
  {
   "cell_type": "markdown",
   "metadata": {},
   "source": [
    "La classe [**`IsotonicRegression`**](https://scikit-learn.org/stable/modules/generated/sklearn.isotonic.IsotonicRegression.html#sklearn.isotonic.IsotonicRegression) ajuste une fonction réelle non décroissante à des données unidimensionnelles. Elle résout le problème suivant :\n",
    "\n",
    "minimiser $\\sum_i w_i (y_i - \\hat{y}_i)^2$\n",
    "\n",
    "sous réserve que $\\hat{y}_i \\le \\hat{y}_j$ chaque fois que $X_i \\le X_j$,\n",
    "\n",
    "où les poids $w_i$ sont strictement positifs, et à la fois `X` et `y` sont des quantités réelles arbitraires.\n",
    "\n",
    "Le paramètre `increasing` modifie la contrainte pour que $\\hat{y}_i \\ge \\hat{y}_j$ chaque fois que $X_i \\le X_j$. Le paramètre `auto` choisira automatiquement la contrainte en fonction du [**coefficient de corrélation de rang de Spearman**](https://en.wikipedia.org/wiki/Spearman%27s_rank_correlation_coefficient).\n",
    "\n",
    "[**`IsotonicRegression`**](https://scikit-learn.org/stable/modules/generated/sklearn.isotonic.IsotonicRegression.html#sklearn.isotonic.IsotonicRegression) produit une série de prédictions $\\hat{y}_i$ pour les données d'entraînement qui sont les plus proches des cibles $y$ en termes d'erreur quadratique moyenne. Ces prédictions sont interpolées pour prédire des données non vues. Les prédictions de [**`IsotonicRegression`**](https://scikit-learn.org/stable/modules/generated/sklearn.isotonic.IsotonicRegression.html#sklearn.isotonic.IsotonicRegression) forment ainsi une fonction qui est linéaire par morceaux :\n",
    "\n",
    "<div style=\"background-color: white; color: black; text-align: center;\">\n",
    "  <img\n",
    "    src=\"https://scikit-learn.org/stable/_images/sphx_glr_plot_isotonic_regression_001.png\"\n",
    "    alt=\"Régression isotopique\"\n",
    "    style=\"max-width: 75%; height: auto;\"/>\n",
    "</div>\n",
    "\n",
    "#### Exemples\n",
    "\n",
    "#####  [**Régression isotone**](https://nbviewer.org/github/Franck-PepperLabs/pepper_data_science_practising/blob/main/Sklearn/examples/misc/plot_isotonic_regression.ipynb)<br/>([_Isotonic Regression_](https://scikit-learn.org/stable/auto_examples/miscellaneous/plot_isotonic_regression.html))"
   ]
  }
 ],
 "metadata": {
  "language_info": {
   "name": "python"
  }
 },
 "nbformat": 4,
 "nbformat_minor": 2
}
