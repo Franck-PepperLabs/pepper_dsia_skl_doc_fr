{
 "cells": [
  {
   "cell_type": "markdown",
   "metadata": {},
   "source": [
    "# <a id='supervised-learning'></a> 1. [**Apprentissage supervisé**](https://nbviewer.org/github/Franck-PepperLabs/pepper_dsia_skl_doc_fr/blob/main/docs/1_supervised_learning.ipynb#supervised-learning)</br>([*Supervised learning*](https://scikit-learn.org/stable/supervised_learning.html#supervised-learning))\n",
    "\n",
    "# <a id='decision-trees'></a> 1.10. [**Arbres de décision**](https://nbviewer.org/github/Franck-PepperLabs/pepper_dsia_skl_doc_fr/blob/main/docs/1_10_tree.ipynb)<br/>([_Decision Trees_](https://scikit-learn.org/stable/modules/tree.html))"
   ]
  },
  {
   "cell_type": "markdown",
   "metadata": {},
   "source": [
    "# Sommaire\n",
    "\n",
    "- **Volume** : 15 pages, 6 exemples, 6 papiers\n",
    "- 1.10.1. [**Classification**](https://nbviewer.org/github/Franck-PepperLabs/pepper_dsia_skl_doc_fr/blob/main/docs/1_10_tree.ipynb#classification)<br/>([_Classification_](https://scikit-learn.org/stable/modules/tree.html#classification))\n",
    "- 1.10.2. [**Régression**](https://nbviewer.org/github/Franck-PepperLabs/pepper_dsia_skl_doc_fr/blob/main/docs/1_10_tree.ipynb#regression)<br/>([_Regression_](https://scikit-learn.org/stable/modules/tree.html#regression))\n",
    "- 1.10.3. [**Problèmes à sorties multiples**](https://nbviewer.org/github/Franck-PepperLabs/pepper_dsia_skl_doc_fr/blob/main/docs/1_10_tree.ipynb#multi-output-problems)<br/>([_Multi-output problems_](https://scikit-learn.org/stable/modules/tree.html#multi-output-problems))\n",
    "- 1.10.4. [**Complexité**](https://nbviewer.org/github/Franck-PepperLabs/pepper_dsia_skl_doc_fr/blob/main/docs/1_10_tree.ipynb#complexity)<br/>([_Complexity_](https://scikit-learn.org/stable/modules/tree.html#complexity))\n",
    "- 1.10.5. [**Conseils d'utilisation pratique**](https://nbviewer.org/github/Franck-PepperLabs/pepper_dsia_skl_doc_fr/blob/main/docs/1_10_tree.ipynb#tips-on-practical-use)<br/>([_Tips on practical use_](https://scikit-learn.org/stable/modules/tree.html#tips-on-practical-use))\n",
    "- 1.10.6. [**Algorithmes d'arbres : ID3, C4.5, C5.0 et CART**](https://nbviewer.org/github/Franck-PepperLabs/pepper_dsia_skl_doc_fr/blob/main/docs/1_10_tree.ipynb#tree-algorithms-id3-c4-5-c5-0-and-cart)<br/>([_Tree algorithms: ID3, C4.5, C5.0 and CART_](https://scikit-learn.org/stable/modules/tree.html#tree-algorithms-id3-c4-5-c5-0-and-cart))\n",
    "- 1.10.7. [**Formulation mathématique**](https://nbviewer.org/github/Franck-PepperLabs/pepper_dsia_skl_doc_fr/blob/main/docs/1_10_tree.ipynb#mathematical-formulation)<br/>([_Mathematical formulation_](https://scikit-learn.org/stable/modules/tree.html#mathematical-formulation))\n",
    "    - 1.10.7.1. [**Critères de classification**](https://nbviewer.org/github/Franck-PepperLabs/pepper_dsia_skl_doc_fr/blob/main/docs/1_10_tree.ipynb#classification-criteria)<br/>([_Classification criteria_](https://scikit-learn.org/stable/modules/tree.html#classification-criteria))\n",
    "    - 1.10.7.2. [**Critères de régression**](https://nbviewer.org/github/Franck-PepperLabs/pepper_dsia_skl_doc_fr/blob/main/docs/1_10_tree.ipynb#regression-criteria)<br/>([_Regression criteria_](https://scikit-learn.org/stable/modules/tree.html#regression-criteria))\n",
    "- 1.10.8. [**Prise en charge des valeurs manquantes**](https://nbviewer.org/github/Franck-PepperLabs/pepper_dsia_skl_doc_fr/blob/main/docs/1_10_tree.ipynb#missing-values-support)<br/>([_Missing Values Support_](https://scikit-learn.org/stable/modules/tree.html#missing-values-support))\n",
    "- 1.10.9. [**Élagage de complexité minimale-coût**](https://nbviewer.org/github/Franck-PepperLabs/pepper_dsia_skl_doc_fr/blob/main/docs/1_10_tree.ipynb#minimal-cost-complexity-pruning)<br/>([_Minimal Cost-Complexity Pruning_](https://scikit-learn.org/stable/modules/tree.html#minimal-cost-complexity-pruning))\n"
   ]
  },
  {
   "cell_type": "markdown",
   "metadata": {},
   "source": [
    "# <a id='decision-trees'></a> 1.10. **Arbres de décision**<br/>([_Decision Trees_](https://scikit-learn.org/stable/modules/tree.html))\n",
    "\n",
    "**Les arbres de décision (DTs)** sont une méthode d'apprentissage supervisé non paramétrique utilisée pour la [**classification** (1.10.1)](#tree-classification) et la [**régression** (1.10.2)](#regression). L'objectif est de créer un modèle qui prédit la valeur d'une variable cible en apprenant des règles de décision simples déduites des caractéristiques des données. Un arbre peut être vu comme une approximation constante par morceaux.\n",
    "\n",
    "Par exemple, dans l'exemple ci-dessous, les arbres de décision apprennent à partir des données pour approximer une courbe sinusoïdale avec un ensemble de règles de décision si-alors-sinon. Plus l'arbre est profond, plus les règles de décision sont complexes et plus le modèle est ajusté.\n",
    "\n",
    "<div style=\"background-color: white; color: black; text-align: center;\">\n",
    "  <img\n",
    "    src=\"https://scikit-learn.org/stable/_images/sphx_glr_plot_tree_regression_001.png\"\n",
    "    alt=\"Régression par arbre de décision\"\n",
    "    style=\"max-width: 50%; height: auto;\"/>\n",
    "</div>\n",
    "\n",
    "Quelques avantages des arbres de décision sont les suivants :\n",
    "- Faciles à comprendre et à interpréter. Les arbres peuvent être visualisés.\n",
    "- Nécessitent peu de préparation des données. D'autres techniques nécessitent souvent une normalisation des données, la création de variables factices et la suppression des valeurs manquantes. Certaines combinaisons d'arbres et d'algorithmes prennent en charge les [**valeurs manquantes** (1.10.8)](#tree-missing-value-support).\n",
    "- Le coût de l'utilisation de l'arbre (c'est-à-dire la prédiction des données) est logarithmique par rapport au nombre de points de données utilisés pour entraîner l'arbre.\n",
    "- Capables de traiter à la fois des données numériques et catégorielles. Cependant, l'implémentation de scikit-learn ne prend pas en charge les variables catégorielles pour le moment. D'autres techniques sont généralement spécialisées dans l'analyse de jeux de données qui n'ont qu'un seul type de variable. Consultez [**algorithmes** (1.10.6)](#tree-algorithms) pour plus d'informations.\n",
    "- Capables de gérer des problèmes à sorties multiples.\n",
    "- Utilisent un modèle boîte blanche. Si une situation donnée est observable dans un modèle, l'explication de la condition est facilement expliquée par la logique booléenne. En revanche, dans un modèle boîte noire (par exemple, dans un réseau de neurones artificiels), les résultats peuvent être plus difficiles à interpréter.\n",
    "- Possibilité de valider un modèle à l'aide de tests statistiques. Cela permet de tenir compte de la fiabilité du modèle.\n",
    "- Bonnes performances même si ses hypothèses sont quelque peu violées par le modèle réel à partir duquel les données ont été générées.\n",
    "\n",
    "Les inconvénients des arbres de décision comprennent :\n",
    "- Les apprenants d'arbres de décision peuvent créer des arbres trop complexes qui ne généralisent pas bien les données. C'est ce que l'on appelle le surajustement. Des mécanismes tels que l'élagage, le paramétrage du nombre minimal d'échantillons requis dans un nœud feuille ou le paramétrage de la profondeur maximale de l'arbre sont nécessaires pour éviter ce problème.\n",
    "- Les arbres de décision peuvent être instables car de petites variations dans les données peuvent entraîner la création d'un arbre complètement différent. Ce problème est atténué en utilisant des arbres de décision dans un ensemble.\n",
    "- Les prédictions des arbres de décision ne sont ni lisses ni continues, mais des approximations constantes par morceaux comme on peut le voir dans la figure ci-dessus. Par conséquent, ils ne sont pas adaptés à l'extrapolation.\n",
    "- Le problème d'apprentissage d'un arbre de décision optimal est connu pour être NP-complet sous plusieurs aspects d'optimalité et même pour des concepts simples. Par conséquent, les algorithmes pratiques d'apprentissage d'arbres de décision sont basés sur des algorithmes heuristiques tels que l'algorithme glouton, où des décisions localement optimales sont prises à chaque nœud. De tels algorithmes ne peuvent pas garantir de renvoyer l'arbre de décision globalement optimal. Cela peut être atténué en entraînant de multiples arbres dans un apprenant de type ensemble, où les caractéristiques et les échantillons sont échantillonnés de manière aléatoire avec remplacement.\n",
    "- Il existe des concepts difficiles à apprendre car les arbres de décision ne les expriment pas facilement, tels que les problèmes XOR, parité ou multiplexeur.\n",
    "- Les apprenants d'arbres de décision créent des arbres biaisés si certaines classes dominent. Il est donc recommandé d'équilibrer le jeu de données avant l'ajustement de l'arbre de décision."
   ]
  },
  {
   "cell_type": "markdown",
   "metadata": {},
   "source": [
    "## <a id='decision-trees'></a> 1.10.1. **Classification**<br/>([_Classification_](https://scikit-learn.org/stable/modules/tree.html#classification))\n",
    "\n",
    "[**`DecisionTreeClassifier`**](https://scikit-learn.org/stable/modules/generated/sklearn.tree.DecisionTreeClassifier.html#sklearn.tree.DecisionTreeClassifier) est une classe capable d'effectuer une classification multi-classes sur un ensemble de données.\n",
    "\n",
    "Comme avec d'autres classificateurs, [**`DecisionTreeClassifier`**](https://scikit-learn.org/stable/modules/generated/sklearn.tree.DecisionTreeClassifier.html#sklearn.tree.DecisionTreeClassifier) prend en entrée deux tableaux : un tableau `X`, creux ou dense, de forme `(n_samples, n_features)` contenant les échantillons d'entraînement, et un tableau `Y` de valeurs entières, de forme `(n_samples,)`, contenant les étiquettes de classe pour les échantillons d'entraînement :"
   ]
  },
  {
   "cell_type": "code",
   "execution_count": 1,
   "metadata": {},
   "outputs": [],
   "source": [
    "from sklearn import tree\n",
    "X = [[0, 0], [1, 1]]\n",
    "Y = [0, 1]\n",
    "clf = tree.DecisionTreeClassifier()\n",
    "clf = clf.fit(X, Y)"
   ]
  },
  {
   "cell_type": "markdown",
   "metadata": {},
   "source": [
    "Une fois ajusté, le modèle peut ensuite être utilisé pour prédire la classe des échantillons :"
   ]
  },
  {
   "cell_type": "code",
   "execution_count": 2,
   "metadata": {},
   "outputs": [
    {
     "data": {
      "text/plain": [
       "array([1])"
      ]
     },
     "execution_count": 2,
     "metadata": {},
     "output_type": "execute_result"
    }
   ],
   "source": [
    "clf.predict([[2., 2.]])"
   ]
  },
  {
   "cell_type": "markdown",
   "metadata": {},
   "source": [
    "Dans le cas où il existe plusieurs classes ayant la même probabilité la plus élevée, le classifieur prédira la classe avec l'indice le plus bas parmi ces classes.\n",
    "\n",
    "En alternative à la sortie d'une classe spécifique, il est possible de prédire la probabilité de chaque classe, qui est la fraction d'échantillons d'entraînement de la classe dans une feuille :"
   ]
  },
  {
   "cell_type": "code",
   "execution_count": 3,
   "metadata": {},
   "outputs": [
    {
     "data": {
      "text/plain": [
       "array([[0., 1.]])"
      ]
     },
     "execution_count": 3,
     "metadata": {},
     "output_type": "execute_result"
    }
   ],
   "source": [
    "clf.predict_proba([[2., 2.]])"
   ]
  },
  {
   "cell_type": "markdown",
   "metadata": {},
   "source": [
    "[**`DecisionTreeClassifier`**](https://scikit-learn.org/stable/modules/generated/sklearn.tree.DecisionTreeClassifier.html#sklearn.tree.DecisionTreeClassifier) est capable à la fois de la classification binaire (où les étiquettes sont $[-1, 1]$) et de la classification multi-classes (où les étiquettes sont $[0, \\ldots, K-1]$).\n",
    "\n",
    "En utilisant l'ensemble de données Iris, nous pouvons construire un arbre comme suit :"
   ]
  },
  {
   "cell_type": "code",
   "execution_count": 4,
   "metadata": {},
   "outputs": [],
   "source": [
    "from sklearn.datasets import load_iris\n",
    "from sklearn import tree\n",
    "iris = load_iris()\n",
    "X, y = iris.data, iris.target\n",
    "clf = tree.DecisionTreeClassifier()\n",
    "clf = clf.fit(X, y)"
   ]
  },
  {
   "cell_type": "markdown",
   "metadata": {},
   "source": [
    "Une fois entraîné, vous pouvez afficher l'arbre avec la fonction [**`plot_tree`**](https://scikit-learn.org/stable/modules/generated/sklearn.tree.plot_tree.html#sklearn.tree.plot_tree) :"
   ]
  },
  {
   "cell_type": "code",
   "execution_count": 5,
   "metadata": {},
   "outputs": [
    {
     "data": {
      "text/plain": [
       "[Text(0.5, 0.9166666666666666, 'x[2] <= 2.45\\ngini = 0.667\\nsamples = 150\\nvalue = [50, 50, 50]'),\n",
       " Text(0.4230769230769231, 0.75, 'gini = 0.0\\nsamples = 50\\nvalue = [50, 0, 0]'),\n",
       " Text(0.5769230769230769, 0.75, 'x[3] <= 1.75\\ngini = 0.5\\nsamples = 100\\nvalue = [0, 50, 50]'),\n",
       " Text(0.3076923076923077, 0.5833333333333334, 'x[2] <= 4.95\\ngini = 0.168\\nsamples = 54\\nvalue = [0, 49, 5]'),\n",
       " Text(0.15384615384615385, 0.4166666666666667, 'x[3] <= 1.65\\ngini = 0.041\\nsamples = 48\\nvalue = [0, 47, 1]'),\n",
       " Text(0.07692307692307693, 0.25, 'gini = 0.0\\nsamples = 47\\nvalue = [0, 47, 0]'),\n",
       " Text(0.23076923076923078, 0.25, 'gini = 0.0\\nsamples = 1\\nvalue = [0, 0, 1]'),\n",
       " Text(0.46153846153846156, 0.4166666666666667, 'x[3] <= 1.55\\ngini = 0.444\\nsamples = 6\\nvalue = [0, 2, 4]'),\n",
       " Text(0.38461538461538464, 0.25, 'gini = 0.0\\nsamples = 3\\nvalue = [0, 0, 3]'),\n",
       " Text(0.5384615384615384, 0.25, 'x[0] <= 6.95\\ngini = 0.444\\nsamples = 3\\nvalue = [0, 2, 1]'),\n",
       " Text(0.46153846153846156, 0.08333333333333333, 'gini = 0.0\\nsamples = 2\\nvalue = [0, 2, 0]'),\n",
       " Text(0.6153846153846154, 0.08333333333333333, 'gini = 0.0\\nsamples = 1\\nvalue = [0, 0, 1]'),\n",
       " Text(0.8461538461538461, 0.5833333333333334, 'x[2] <= 4.85\\ngini = 0.043\\nsamples = 46\\nvalue = [0, 1, 45]'),\n",
       " Text(0.7692307692307693, 0.4166666666666667, 'x[0] <= 5.95\\ngini = 0.444\\nsamples = 3\\nvalue = [0, 1, 2]'),\n",
       " Text(0.6923076923076923, 0.25, 'gini = 0.0\\nsamples = 1\\nvalue = [0, 1, 0]'),\n",
       " Text(0.8461538461538461, 0.25, 'gini = 0.0\\nsamples = 2\\nvalue = [0, 0, 2]'),\n",
       " Text(0.9230769230769231, 0.4166666666666667, 'gini = 0.0\\nsamples = 43\\nvalue = [0, 0, 43]')]"
      ]
     },
     "execution_count": 5,
     "metadata": {},
     "output_type": "execute_result"
    },
    {
     "data": {
      "image/png": "[encoded data removed]",
      "text/plain": [
       "<Figure size 640x480 with 1 Axes>"
      ]
     },
     "metadata": {},
     "output_type": "display_data"
    }
   ],
   "source": [
    "tree.plot_tree(clf)"
   ]
  },
  {
   "cell_type": "markdown",
   "metadata": {},
   "source": [
    "### Alternative ways to export trees\n",
    "\n",
    "Il existe également des moyens alternatifs d'exporter les arbres dans le format [Graphviz](https://www.graphviz.org/) en utilisant l'exportateur [**`export_graphviz`**](https://scikit-learn.org/stable/modules/generated/sklearn.tree.export_graphviz.html#sklearn.tree.export_graphviz). Si vous utilisez le gestionnaire de paquets [conda](https://conda.io/), les binaires de graphviz et le package Python peuvent être installés avec `conda install python-graphviz`.\n",
    "\n",
    "Alternativement, les binaires pour graphviz peuvent être téléchargés depuis la page d'accueil du projet graphviz, et le wrapper Python installé depuis pypi avec `pip install graphviz`.\n",
    "\n",
    "Ci-dessous se trouve un exemple d'exportation Graphviz de l'arbre ci-dessus entraîné sur l'ensemble de données complet de l'iris ; les résultats sont enregistrés dans un fichier de sortie `iris.pdf` :"
   ]
  },
  {
   "cell_type": "code",
   "execution_count": 6,
   "metadata": {},
   "outputs": [
    {
     "data": {
      "text/plain": [
       "'iris.pdf'"
      ]
     },
     "execution_count": 6,
     "metadata": {},
     "output_type": "execute_result"
    }
   ],
   "source": [
    "import graphviz \n",
    "dot_data = tree.export_graphviz(clf, out_file=None) \n",
    "graph = graphviz.Source(dot_data) \n",
    "graph.render(\"iris\")"
   ]
  },
  {
   "cell_type": "markdown",
   "metadata": {},
   "source": [
    "L'exportateur [**`export_graphviz`**](https://scikit-learn.org/stable/modules/generated/sklearn.tree.export_graphviz.html#sklearn.tree.export_graphviz) prend également en charge diverses options esthétiques, notamment la coloration des nœuds en fonction de leur classe (ou de leur valeur pour la régression) et l'utilisation de noms de variables et de classes explicites si nécessaire. Les cahiers Jupyter rendent également ces graphiques automatiquement en ligne :"
   ]
  },
  {
   "cell_type": "code",
   "execution_count": 7,
   "metadata": {},
   "outputs": [
    {
     "data": {
      "image/svg+xml": [
       "<?xml version=\"1.0\" encoding=\"UTF-8\" standalone=\"no\"?>\n",
       "<!DOCTYPE svg PUBLIC \"-//W3C//DTD SVG 1.1//EN\"\n",
       " \"http://www.w3.org/Graphics/SVG/1.1/DTD/svg11.dtd\">\n",
       "<!-- Generated by graphviz version 7.1.0 (20230121.1956)\n",
       " -->\n",
       "<!-- Title: Tree Pages: 1 -->\n",
       "<svg width=\"896pt\" height=\"671pt\"\n",
       " viewBox=\"0.00 0.00 896.00 671.00\" xmlns=\"http://www.w3.org/2000/svg\" xmlns:xlink=\"http://www.w3.org/1999/xlink\">\n",
       "<g id=\"graph0\" class=\"graph\" transform=\"scale(1 1) rotate(0) translate(4 667)\">\n",
       "<title>Tree</title>\n",
       "<polygon fill=\"white\" stroke=\"none\" points=\"-4,4 -4,-667 892,-667 892,4 -4,4\"/>\n",
       "<!-- 0 -->\n",
       "<g id=\"node1\" class=\"node\">\n",
       "<title>0</title>\n",
       "<path fill=\"#ffffff\" stroke=\"black\" d=\"M539,-663C539,-663 398,-663 398,-663 392,-663 386,-657 386,-651 386,-651 386,-592 386,-592 386,-586 392,-580 398,-580 398,-580 539,-580 539,-580 545,-580 551,-586 551,-592 551,-592 551,-651 551,-651 551,-657 545,-663 539,-663\"/>\n",
       "<text text-anchor=\"start\" x=\"394\" y=\"-647.8\" font-family=\"Helvetica,sans-Serif\" font-size=\"14.00\">petal length (cm) ≤ 2.45</text>\n",
       "<text text-anchor=\"start\" x=\"431\" y=\"-632.8\" font-family=\"Helvetica,sans-Serif\" font-size=\"14.00\">gini = 0.667</text>\n",
       "<text text-anchor=\"start\" x=\"421\" y=\"-617.8\" font-family=\"Helvetica,sans-Serif\" font-size=\"14.00\">samples = 150</text>\n",
       "<text text-anchor=\"start\" x=\"408\" y=\"-602.8\" font-family=\"Helvetica,sans-Serif\" font-size=\"14.00\">value = [50, 50, 50]</text>\n",
       "<text text-anchor=\"start\" x=\"422.5\" y=\"-587.8\" font-family=\"Helvetica,sans-Serif\" font-size=\"14.00\">class = setosa</text>\n",
       "</g>\n",
       "<!-- 1 -->\n",
       "<g id=\"node2\" class=\"node\">\n",
       "<title>1</title>\n",
       "<path fill=\"#e58139\" stroke=\"black\" d=\"M438,-536.5C438,-536.5 341,-536.5 341,-536.5 335,-536.5 329,-530.5 329,-524.5 329,-524.5 329,-480.5 329,-480.5 329,-474.5 335,-468.5 341,-468.5 341,-468.5 438,-468.5 438,-468.5 444,-468.5 450,-474.5 450,-480.5 450,-480.5 450,-524.5 450,-524.5 450,-530.5 444,-536.5 438,-536.5\"/>\n",
       "<text text-anchor=\"start\" x=\"360.5\" y=\"-521.3\" font-family=\"Helvetica,sans-Serif\" font-size=\"14.00\">gini = 0.0</text>\n",
       "<text text-anchor=\"start\" x=\"346\" y=\"-506.3\" font-family=\"Helvetica,sans-Serif\" font-size=\"14.00\">samples = 50</text>\n",
       "<text text-anchor=\"start\" x=\"337\" y=\"-491.3\" font-family=\"Helvetica,sans-Serif\" font-size=\"14.00\">value = [50, 0, 0]</text>\n",
       "<text text-anchor=\"start\" x=\"343.5\" y=\"-476.3\" font-family=\"Helvetica,sans-Serif\" font-size=\"14.00\">class = setosa</text>\n",
       "</g>\n",
       "<!-- 0&#45;&gt;1 -->\n",
       "<g id=\"edge1\" class=\"edge\">\n",
       "<title>0&#45;&gt;1</title>\n",
       "<path fill=\"none\" stroke=\"black\" d=\"M440.87,-579.58C433.57,-568.77 425.68,-557.09 418.33,-546.19\"/>\n",
       "<polygon fill=\"black\" stroke=\"black\" points=\"421.37,-544.44 412.87,-538.12 415.57,-548.36 421.37,-544.44\"/>\n",
       "<text text-anchor=\"middle\" x=\"407.27\" y=\"-557.7\" font-family=\"Helvetica,sans-Serif\" font-size=\"14.00\">True</text>\n",
       "</g>\n",
       "<!-- 2 -->\n",
       "<g id=\"node3\" class=\"node\">\n",
       "<title>2</title>\n",
       "<path fill=\"#ffffff\" stroke=\"black\" d=\"M615,-544C615,-544 480,-544 480,-544 474,-544 468,-538 468,-532 468,-532 468,-473 468,-473 468,-467 474,-461 480,-461 480,-461 615,-461 615,-461 621,-461 627,-467 627,-473 627,-473 627,-532 627,-532 627,-538 621,-544 615,-544\"/>\n",
       "<text text-anchor=\"start\" x=\"476\" y=\"-528.8\" font-family=\"Helvetica,sans-Serif\" font-size=\"14.00\">petal width (cm) ≤ 1.75</text>\n",
       "<text text-anchor=\"start\" x=\"518.5\" y=\"-513.8\" font-family=\"Helvetica,sans-Serif\" font-size=\"14.00\">gini = 0.5</text>\n",
       "<text text-anchor=\"start\" x=\"500\" y=\"-498.8\" font-family=\"Helvetica,sans-Serif\" font-size=\"14.00\">samples = 100</text>\n",
       "<text text-anchor=\"start\" x=\"491\" y=\"-483.8\" font-family=\"Helvetica,sans-Serif\" font-size=\"14.00\">value = [0, 50, 50]</text>\n",
       "<text text-anchor=\"start\" x=\"492\" y=\"-468.8\" font-family=\"Helvetica,sans-Serif\" font-size=\"14.00\">class = versicolor</text>\n",
       "</g>\n",
       "<!-- 0&#45;&gt;2 -->\n",
       "<g id=\"edge2\" class=\"edge\">\n",
       "<title>0&#45;&gt;2</title>\n",
       "<path fill=\"none\" stroke=\"black\" d=\"M496.13,-579.58C501.82,-571.16 507.86,-562.2 513.74,-553.5\"/>\n",
       "<polygon fill=\"black\" stroke=\"black\" points=\"516.48,-555.7 519.17,-545.45 510.67,-551.78 516.48,-555.7\"/>\n",
       "<text text-anchor=\"middle\" x=\"524.78\" y=\"-565.04\" font-family=\"Helvetica,sans-Serif\" font-size=\"14.00\">False</text>\n",
       "</g>\n",
       "<!-- 3 -->\n",
       "<g id=\"node4\" class=\"node\">\n",
       "<title>3</title>\n",
       "<path fill=\"#4de88e\" stroke=\"black\" d=\"M501,-425C501,-425 360,-425 360,-425 354,-425 348,-419 348,-413 348,-413 348,-354 348,-354 348,-348 354,-342 360,-342 360,-342 501,-342 501,-342 507,-342 513,-348 513,-354 513,-354 513,-413 513,-413 513,-419 507,-425 501,-425\"/>\n",
       "<text text-anchor=\"start\" x=\"356\" y=\"-409.8\" font-family=\"Helvetica,sans-Serif\" font-size=\"14.00\">petal length (cm) ≤ 4.95</text>\n",
       "<text text-anchor=\"start\" x=\"393\" y=\"-394.8\" font-family=\"Helvetica,sans-Serif\" font-size=\"14.00\">gini = 0.168</text>\n",
       "<text text-anchor=\"start\" x=\"387\" y=\"-379.8\" font-family=\"Helvetica,sans-Serif\" font-size=\"14.00\">samples = 54</text>\n",
       "<text text-anchor=\"start\" x=\"378\" y=\"-364.8\" font-family=\"Helvetica,sans-Serif\" font-size=\"14.00\">value = [0, 49, 5]</text>\n",
       "<text text-anchor=\"start\" x=\"375\" y=\"-349.8\" font-family=\"Helvetica,sans-Serif\" font-size=\"14.00\">class = versicolor</text>\n",
       "</g>\n",
       "<!-- 2&#45;&gt;3 -->\n",
       "<g id=\"edge3\" class=\"edge\">\n",
       "<title>2&#45;&gt;3</title>\n",
       "<path fill=\"none\" stroke=\"black\" d=\"M506.58,-460.58C497.71,-451.71 488.25,-442.25 479.12,-433.12\"/>\n",
       "<polygon fill=\"black\" stroke=\"black\" points=\"481.82,-430.87 472.27,-426.27 476.87,-435.82 481.82,-430.87\"/>\n",
       "</g>\n",
       "<!-- 12 -->\n",
       "<g id=\"node13\" class=\"node\">\n",
       "<title>12</title>\n",
       "<path fill=\"#843de6\" stroke=\"black\" d=\"M735,-425C735,-425 594,-425 594,-425 588,-425 582,-419 582,-413 582,-413 582,-354 582,-354 582,-348 588,-342 594,-342 594,-342 735,-342 735,-342 741,-342 747,-348 747,-354 747,-354 747,-413 747,-413 747,-419 741,-425 735,-425\"/>\n",
       "<text text-anchor=\"start\" x=\"590\" y=\"-409.8\" font-family=\"Helvetica,sans-Serif\" font-size=\"14.00\">petal length (cm) ≤ 4.85</text>\n",
       "<text text-anchor=\"start\" x=\"627\" y=\"-394.8\" font-family=\"Helvetica,sans-Serif\" font-size=\"14.00\">gini = 0.043</text>\n",
       "<text text-anchor=\"start\" x=\"621\" y=\"-379.8\" font-family=\"Helvetica,sans-Serif\" font-size=\"14.00\">samples = 46</text>\n",
       "<text text-anchor=\"start\" x=\"612\" y=\"-364.8\" font-family=\"Helvetica,sans-Serif\" font-size=\"14.00\">value = [0, 1, 45]</text>\n",
       "<text text-anchor=\"start\" x=\"614.5\" y=\"-349.8\" font-family=\"Helvetica,sans-Serif\" font-size=\"14.00\">class = virginica</text>\n",
       "</g>\n",
       "<!-- 2&#45;&gt;12 -->\n",
       "<g id=\"edge12\" class=\"edge\">\n",
       "<title>2&#45;&gt;12</title>\n",
       "<path fill=\"none\" stroke=\"black\" d=\"M588.42,-460.58C597.29,-451.71 606.75,-442.25 615.88,-433.12\"/>\n",
       "<polygon fill=\"black\" stroke=\"black\" points=\"618.13,-435.82 622.73,-426.27 613.18,-430.87 618.13,-435.82\"/>\n",
       "</g>\n",
       "<!-- 4 -->\n",
       "<g id=\"node5\" class=\"node\">\n",
       "<title>4</title>\n",
       "<path fill=\"#3de684\" stroke=\"black\" d=\"M271,-306C271,-306 136,-306 136,-306 130,-306 124,-300 124,-294 124,-294 124,-235 124,-235 124,-229 130,-223 136,-223 136,-223 271,-223 271,-223 277,-223 283,-229 283,-235 283,-235 283,-294 283,-294 283,-300 277,-306 271,-306\"/>\n",
       "<text text-anchor=\"start\" x=\"132\" y=\"-290.8\" font-family=\"Helvetica,sans-Serif\" font-size=\"14.00\">petal width (cm) ≤ 1.65</text>\n",
       "<text text-anchor=\"start\" x=\"166\" y=\"-275.8\" font-family=\"Helvetica,sans-Serif\" font-size=\"14.00\">gini = 0.041</text>\n",
       "<text text-anchor=\"start\" x=\"160\" y=\"-260.8\" font-family=\"Helvetica,sans-Serif\" font-size=\"14.00\">samples = 48</text>\n",
       "<text text-anchor=\"start\" x=\"151\" y=\"-245.8\" font-family=\"Helvetica,sans-Serif\" font-size=\"14.00\">value = [0, 47, 1]</text>\n",
       "<text text-anchor=\"start\" x=\"148\" y=\"-230.8\" font-family=\"Helvetica,sans-Serif\" font-size=\"14.00\">class = versicolor</text>\n",
       "</g>\n",
       "<!-- 3&#45;&gt;4 -->\n",
       "<g id=\"edge4\" class=\"edge\">\n",
       "<title>3&#45;&gt;4</title>\n",
       "<path fill=\"none\" stroke=\"black\" d=\"M351.11,-341.58C332.36,-331.92 312.24,-321.55 293.08,-311.67\"/>\n",
       "<polygon fill=\"black\" stroke=\"black\" points=\"294.69,-308.56 284.19,-307.09 291.48,-314.78 294.69,-308.56\"/>\n",
       "</g>\n",
       "<!-- 7 -->\n",
       "<g id=\"node8\" class=\"node\">\n",
       "<title>7</title>\n",
       "<path fill=\"#c09cf2\" stroke=\"black\" d=\"M498,-306C498,-306 363,-306 363,-306 357,-306 351,-300 351,-294 351,-294 351,-235 351,-235 351,-229 357,-223 363,-223 363,-223 498,-223 498,-223 504,-223 510,-229 510,-235 510,-235 510,-294 510,-294 510,-300 504,-306 498,-306\"/>\n",
       "<text text-anchor=\"start\" x=\"359\" y=\"-290.8\" font-family=\"Helvetica,sans-Serif\" font-size=\"14.00\">petal width (cm) ≤ 1.55</text>\n",
       "<text text-anchor=\"start\" x=\"393\" y=\"-275.8\" font-family=\"Helvetica,sans-Serif\" font-size=\"14.00\">gini = 0.444</text>\n",
       "<text text-anchor=\"start\" x=\"391\" y=\"-260.8\" font-family=\"Helvetica,sans-Serif\" font-size=\"14.00\">samples = 6</text>\n",
       "<text text-anchor=\"start\" x=\"382\" y=\"-245.8\" font-family=\"Helvetica,sans-Serif\" font-size=\"14.00\">value = [0, 2, 4]</text>\n",
       "<text text-anchor=\"start\" x=\"380.5\" y=\"-230.8\" font-family=\"Helvetica,sans-Serif\" font-size=\"14.00\">class = virginica</text>\n",
       "</g>\n",
       "<!-- 3&#45;&gt;7 -->\n",
       "<g id=\"edge7\" class=\"edge\">\n",
       "<title>3&#45;&gt;7</title>\n",
       "<path fill=\"none\" stroke=\"black\" d=\"M430.5,-341.58C430.5,-333.79 430.5,-325.53 430.5,-317.45\"/>\n",
       "<polygon fill=\"black\" stroke=\"black\" points=\"434,-317.71 430.5,-307.71 427,-317.71 434,-317.71\"/>\n",
       "</g>\n",
       "<!-- 5 -->\n",
       "<g id=\"node6\" class=\"node\">\n",
       "<title>5</title>\n",
       "<path fill=\"#39e581\" stroke=\"black\" d=\"M115,-179.5C115,-179.5 12,-179.5 12,-179.5 6,-179.5 0,-173.5 0,-167.5 0,-167.5 0,-123.5 0,-123.5 0,-117.5 6,-111.5 12,-111.5 12,-111.5 115,-111.5 115,-111.5 121,-111.5 127,-117.5 127,-123.5 127,-123.5 127,-167.5 127,-167.5 127,-173.5 121,-179.5 115,-179.5\"/>\n",
       "<text text-anchor=\"start\" x=\"34.5\" y=\"-164.3\" font-family=\"Helvetica,sans-Serif\" font-size=\"14.00\">gini = 0.0</text>\n",
       "<text text-anchor=\"start\" x=\"20\" y=\"-149.3\" font-family=\"Helvetica,sans-Serif\" font-size=\"14.00\">samples = 47</text>\n",
       "<text text-anchor=\"start\" x=\"11\" y=\"-134.3\" font-family=\"Helvetica,sans-Serif\" font-size=\"14.00\">value = [0, 47, 0]</text>\n",
       "<text text-anchor=\"start\" x=\"8\" y=\"-119.3\" font-family=\"Helvetica,sans-Serif\" font-size=\"14.00\">class = versicolor</text>\n",
       "</g>\n",
       "<!-- 4&#45;&gt;5 -->\n",
       "<g id=\"edge5\" class=\"edge\">\n",
       "<title>4&#45;&gt;5</title>\n",
       "<path fill=\"none\" stroke=\"black\" d=\"M154.53,-222.58C140.82,-211.12 125.92,-198.67 112.22,-187.22\"/>\n",
       "<polygon fill=\"black\" stroke=\"black\" points=\"114.5,-184.56 104.58,-180.83 110.01,-189.93 114.5,-184.56\"/>\n",
       "</g>\n",
       "<!-- 6 -->\n",
       "<g id=\"node7\" class=\"node\">\n",
       "<title>6</title>\n",
       "<path fill=\"#8139e5\" stroke=\"black\" d=\"M249.5,-179.5C249.5,-179.5 157.5,-179.5 157.5,-179.5 151.5,-179.5 145.5,-173.5 145.5,-167.5 145.5,-167.5 145.5,-123.5 145.5,-123.5 145.5,-117.5 151.5,-111.5 157.5,-111.5 157.5,-111.5 249.5,-111.5 249.5,-111.5 255.5,-111.5 261.5,-117.5 261.5,-123.5 261.5,-123.5 261.5,-167.5 261.5,-167.5 261.5,-173.5 255.5,-179.5 249.5,-179.5\"/>\n",
       "<text text-anchor=\"start\" x=\"174.5\" y=\"-164.3\" font-family=\"Helvetica,sans-Serif\" font-size=\"14.00\">gini = 0.0</text>\n",
       "<text text-anchor=\"start\" x=\"164\" y=\"-149.3\" font-family=\"Helvetica,sans-Serif\" font-size=\"14.00\">samples = 1</text>\n",
       "<text text-anchor=\"start\" x=\"155\" y=\"-134.3\" font-family=\"Helvetica,sans-Serif\" font-size=\"14.00\">value = [0, 0, 1]</text>\n",
       "<text text-anchor=\"start\" x=\"153.5\" y=\"-119.3\" font-family=\"Helvetica,sans-Serif\" font-size=\"14.00\">class = virginica</text>\n",
       "</g>\n",
       "<!-- 4&#45;&gt;6 -->\n",
       "<g id=\"edge6\" class=\"edge\">\n",
       "<title>4&#45;&gt;6</title>\n",
       "<path fill=\"none\" stroke=\"black\" d=\"M203.5,-222.58C203.5,-212.43 203.5,-201.5 203.5,-191.18\"/>\n",
       "<polygon fill=\"black\" stroke=\"black\" points=\"207,-191.37 203.5,-181.37 200,-191.37 207,-191.37\"/>\n",
       "</g>\n",
       "<!-- 8 -->\n",
       "<g id=\"node9\" class=\"node\">\n",
       "<title>8</title>\n",
       "<path fill=\"#8139e5\" stroke=\"black\" d=\"M383.5,-179.5C383.5,-179.5 291.5,-179.5 291.5,-179.5 285.5,-179.5 279.5,-173.5 279.5,-167.5 279.5,-167.5 279.5,-123.5 279.5,-123.5 279.5,-117.5 285.5,-111.5 291.5,-111.5 291.5,-111.5 383.5,-111.5 383.5,-111.5 389.5,-111.5 395.5,-117.5 395.5,-123.5 395.5,-123.5 395.5,-167.5 395.5,-167.5 395.5,-173.5 389.5,-179.5 383.5,-179.5\"/>\n",
       "<text text-anchor=\"start\" x=\"308.5\" y=\"-164.3\" font-family=\"Helvetica,sans-Serif\" font-size=\"14.00\">gini = 0.0</text>\n",
       "<text text-anchor=\"start\" x=\"298\" y=\"-149.3\" font-family=\"Helvetica,sans-Serif\" font-size=\"14.00\">samples = 3</text>\n",
       "<text text-anchor=\"start\" x=\"289\" y=\"-134.3\" font-family=\"Helvetica,sans-Serif\" font-size=\"14.00\">value = [0, 0, 3]</text>\n",
       "<text text-anchor=\"start\" x=\"287.5\" y=\"-119.3\" font-family=\"Helvetica,sans-Serif\" font-size=\"14.00\">class = virginica</text>\n",
       "</g>\n",
       "<!-- 7&#45;&gt;8 -->\n",
       "<g id=\"edge8\" class=\"edge\">\n",
       "<title>7&#45;&gt;8</title>\n",
       "<path fill=\"none\" stroke=\"black\" d=\"M397.97,-222.58C389.3,-211.66 379.91,-199.85 371.17,-188.86\"/>\n",
       "<polygon fill=\"black\" stroke=\"black\" points=\"373.92,-186.7 364.96,-181.05 368.44,-191.05 373.92,-186.7\"/>\n",
       "</g>\n",
       "<!-- 9 -->\n",
       "<g id=\"node10\" class=\"node\">\n",
       "<title>9</title>\n",
       "<path fill=\"#9cf2c0\" stroke=\"black\" d=\"M571,-187C571,-187 426,-187 426,-187 420,-187 414,-181 414,-175 414,-175 414,-116 414,-116 414,-110 420,-104 426,-104 426,-104 571,-104 571,-104 577,-104 583,-110 583,-116 583,-116 583,-175 583,-175 583,-181 577,-187 571,-187\"/>\n",
       "<text text-anchor=\"start\" x=\"422\" y=\"-171.8\" font-family=\"Helvetica,sans-Serif\" font-size=\"14.00\">sepal length (cm) ≤ 6.95</text>\n",
       "<text text-anchor=\"start\" x=\"461\" y=\"-156.8\" font-family=\"Helvetica,sans-Serif\" font-size=\"14.00\">gini = 0.444</text>\n",
       "<text text-anchor=\"start\" x=\"459\" y=\"-141.8\" font-family=\"Helvetica,sans-Serif\" font-size=\"14.00\">samples = 3</text>\n",
       "<text text-anchor=\"start\" x=\"450\" y=\"-126.8\" font-family=\"Helvetica,sans-Serif\" font-size=\"14.00\">value = [0, 2, 1]</text>\n",
       "<text text-anchor=\"start\" x=\"443\" y=\"-111.8\" font-family=\"Helvetica,sans-Serif\" font-size=\"14.00\">class = versicolor</text>\n",
       "</g>\n",
       "<!-- 7&#45;&gt;9 -->\n",
       "<g id=\"edge9\" class=\"edge\">\n",
       "<title>7&#45;&gt;9</title>\n",
       "<path fill=\"none\" stroke=\"black\" d=\"M454.28,-222.58C459.07,-214.34 464.16,-205.58 469.12,-197.06\"/>\n",
       "<polygon fill=\"black\" stroke=\"black\" points=\"472.09,-198.91 474.08,-188.51 466.03,-195.4 472.09,-198.91\"/>\n",
       "</g>\n",
       "<!-- 10 -->\n",
       "<g id=\"node11\" class=\"node\">\n",
       "<title>10</title>\n",
       "<path fill=\"#39e581\" stroke=\"black\" d=\"M480,-68C480,-68 377,-68 377,-68 371,-68 365,-62 365,-56 365,-56 365,-12 365,-12 365,-6 371,0 377,0 377,0 480,0 480,0 486,0 492,-6 492,-12 492,-12 492,-56 492,-56 492,-62 486,-68 480,-68\"/>\n",
       "<text text-anchor=\"start\" x=\"399.5\" y=\"-52.8\" font-family=\"Helvetica,sans-Serif\" font-size=\"14.00\">gini = 0.0</text>\n",
       "<text text-anchor=\"start\" x=\"389\" y=\"-37.8\" font-family=\"Helvetica,sans-Serif\" font-size=\"14.00\">samples = 2</text>\n",
       "<text text-anchor=\"start\" x=\"380\" y=\"-22.8\" font-family=\"Helvetica,sans-Serif\" font-size=\"14.00\">value = [0, 2, 0]</text>\n",
       "<text text-anchor=\"start\" x=\"373\" y=\"-7.8\" font-family=\"Helvetica,sans-Serif\" font-size=\"14.00\">class = versicolor</text>\n",
       "</g>\n",
       "<!-- 9&#45;&gt;10 -->\n",
       "<g id=\"edge10\" class=\"edge\">\n",
       "<title>9&#45;&gt;10</title>\n",
       "<path fill=\"none\" stroke=\"black\" d=\"M472.43,-103.73C467.01,-95.24 461.28,-86.28 455.82,-77.73\"/>\n",
       "<polygon fill=\"black\" stroke=\"black\" points=\"458.94,-76.12 450.6,-69.57 453.04,-79.89 458.94,-76.12\"/>\n",
       "</g>\n",
       "<!-- 11 -->\n",
       "<g id=\"node12\" class=\"node\">\n",
       "<title>11</title>\n",
       "<path fill=\"#8139e5\" stroke=\"black\" d=\"M614.5,-68C614.5,-68 522.5,-68 522.5,-68 516.5,-68 510.5,-62 510.5,-56 510.5,-56 510.5,-12 510.5,-12 510.5,-6 516.5,0 522.5,0 522.5,0 614.5,0 614.5,0 620.5,0 626.5,-6 626.5,-12 626.5,-12 626.5,-56 626.5,-56 626.5,-62 620.5,-68 614.5,-68\"/>\n",
       "<text text-anchor=\"start\" x=\"539.5\" y=\"-52.8\" font-family=\"Helvetica,sans-Serif\" font-size=\"14.00\">gini = 0.0</text>\n",
       "<text text-anchor=\"start\" x=\"529\" y=\"-37.8\" font-family=\"Helvetica,sans-Serif\" font-size=\"14.00\">samples = 1</text>\n",
       "<text text-anchor=\"start\" x=\"520\" y=\"-22.8\" font-family=\"Helvetica,sans-Serif\" font-size=\"14.00\">value = [0, 0, 1]</text>\n",
       "<text text-anchor=\"start\" x=\"518.5\" y=\"-7.8\" font-family=\"Helvetica,sans-Serif\" font-size=\"14.00\">class = virginica</text>\n",
       "</g>\n",
       "<!-- 9&#45;&gt;11 -->\n",
       "<g id=\"edge11\" class=\"edge\">\n",
       "<title>9&#45;&gt;11</title>\n",
       "<path fill=\"none\" stroke=\"black\" d=\"M524.57,-103.73C529.99,-95.24 535.72,-86.28 541.18,-77.73\"/>\n",
       "<polygon fill=\"black\" stroke=\"black\" points=\"543.96,-79.89 546.4,-69.57 538.06,-76.12 543.96,-79.89\"/>\n",
       "</g>\n",
       "<!-- 13 -->\n",
       "<g id=\"node14\" class=\"node\">\n",
       "<title>13</title>\n",
       "<path fill=\"#c09cf2\" stroke=\"black\" d=\"M737,-306C737,-306 592,-306 592,-306 586,-306 580,-300 580,-294 580,-294 580,-235 580,-235 580,-229 586,-223 592,-223 592,-223 737,-223 737,-223 743,-223 749,-229 749,-235 749,-235 749,-294 749,-294 749,-300 743,-306 737,-306\"/>\n",
       "<text text-anchor=\"start\" x=\"588\" y=\"-290.8\" font-family=\"Helvetica,sans-Serif\" font-size=\"14.00\">sepal length (cm) ≤ 5.95</text>\n",
       "<text text-anchor=\"start\" x=\"627\" y=\"-275.8\" font-family=\"Helvetica,sans-Serif\" font-size=\"14.00\">gini = 0.444</text>\n",
       "<text text-anchor=\"start\" x=\"625\" y=\"-260.8\" font-family=\"Helvetica,sans-Serif\" font-size=\"14.00\">samples = 3</text>\n",
       "<text text-anchor=\"start\" x=\"616\" y=\"-245.8\" font-family=\"Helvetica,sans-Serif\" font-size=\"14.00\">value = [0, 1, 2]</text>\n",
       "<text text-anchor=\"start\" x=\"614.5\" y=\"-230.8\" font-family=\"Helvetica,sans-Serif\" font-size=\"14.00\">class = virginica</text>\n",
       "</g>\n",
       "<!-- 12&#45;&gt;13 -->\n",
       "<g id=\"edge13\" class=\"edge\">\n",
       "<title>12&#45;&gt;13</title>\n",
       "<path fill=\"none\" stroke=\"black\" d=\"M664.5,-341.58C664.5,-333.79 664.5,-325.53 664.5,-317.45\"/>\n",
       "<polygon fill=\"black\" stroke=\"black\" points=\"668,-317.71 664.5,-307.71 661,-317.71 668,-317.71\"/>\n",
       "</g>\n",
       "<!-- 16 -->\n",
       "<g id=\"node17\" class=\"node\">\n",
       "<title>16</title>\n",
       "<path fill=\"#8139e5\" stroke=\"black\" d=\"M876,-298.5C876,-298.5 779,-298.5 779,-298.5 773,-298.5 767,-292.5 767,-286.5 767,-286.5 767,-242.5 767,-242.5 767,-236.5 773,-230.5 779,-230.5 779,-230.5 876,-230.5 876,-230.5 882,-230.5 888,-236.5 888,-242.5 888,-242.5 888,-286.5 888,-286.5 888,-292.5 882,-298.5 876,-298.5\"/>\n",
       "<text text-anchor=\"start\" x=\"798.5\" y=\"-283.3\" font-family=\"Helvetica,sans-Serif\" font-size=\"14.00\">gini = 0.0</text>\n",
       "<text text-anchor=\"start\" x=\"784\" y=\"-268.3\" font-family=\"Helvetica,sans-Serif\" font-size=\"14.00\">samples = 43</text>\n",
       "<text text-anchor=\"start\" x=\"775\" y=\"-253.3\" font-family=\"Helvetica,sans-Serif\" font-size=\"14.00\">value = [0, 0, 43]</text>\n",
       "<text text-anchor=\"start\" x=\"777.5\" y=\"-238.3\" font-family=\"Helvetica,sans-Serif\" font-size=\"14.00\">class = virginica</text>\n",
       "</g>\n",
       "<!-- 12&#45;&gt;16 -->\n",
       "<g id=\"edge16\" class=\"edge\">\n",
       "<title>12&#45;&gt;16</title>\n",
       "<path fill=\"none\" stroke=\"black\" d=\"M721.51,-341.58C737.78,-329.9 755.48,-317.19 771.68,-305.57\"/>\n",
       "<polygon fill=\"black\" stroke=\"black\" points=\"773.71,-308.42 779.79,-299.74 769.63,-302.73 773.71,-308.42\"/>\n",
       "</g>\n",
       "<!-- 14 -->\n",
       "<g id=\"node15\" class=\"node\">\n",
       "<title>14</title>\n",
       "<path fill=\"#39e581\" stroke=\"black\" d=\"M716,-179.5C716,-179.5 613,-179.5 613,-179.5 607,-179.5 601,-173.5 601,-167.5 601,-167.5 601,-123.5 601,-123.5 601,-117.5 607,-111.5 613,-111.5 613,-111.5 716,-111.5 716,-111.5 722,-111.5 728,-117.5 728,-123.5 728,-123.5 728,-167.5 728,-167.5 728,-173.5 722,-179.5 716,-179.5\"/>\n",
       "<text text-anchor=\"start\" x=\"635.5\" y=\"-164.3\" font-family=\"Helvetica,sans-Serif\" font-size=\"14.00\">gini = 0.0</text>\n",
       "<text text-anchor=\"start\" x=\"625\" y=\"-149.3\" font-family=\"Helvetica,sans-Serif\" font-size=\"14.00\">samples = 1</text>\n",
       "<text text-anchor=\"start\" x=\"616\" y=\"-134.3\" font-family=\"Helvetica,sans-Serif\" font-size=\"14.00\">value = [0, 1, 0]</text>\n",
       "<text text-anchor=\"start\" x=\"609\" y=\"-119.3\" font-family=\"Helvetica,sans-Serif\" font-size=\"14.00\">class = versicolor</text>\n",
       "</g>\n",
       "<!-- 13&#45;&gt;14 -->\n",
       "<g id=\"edge14\" class=\"edge\">\n",
       "<title>13&#45;&gt;14</title>\n",
       "<path fill=\"none\" stroke=\"black\" d=\"M664.5,-222.58C664.5,-212.43 664.5,-201.5 664.5,-191.18\"/>\n",
       "<polygon fill=\"black\" stroke=\"black\" points=\"668,-191.37 664.5,-181.37 661,-191.37 668,-191.37\"/>\n",
       "</g>\n",
       "<!-- 15 -->\n",
       "<g id=\"node16\" class=\"node\">\n",
       "<title>15</title>\n",
       "<path fill=\"#8139e5\" stroke=\"black\" d=\"M850.5,-179.5C850.5,-179.5 758.5,-179.5 758.5,-179.5 752.5,-179.5 746.5,-173.5 746.5,-167.5 746.5,-167.5 746.5,-123.5 746.5,-123.5 746.5,-117.5 752.5,-111.5 758.5,-111.5 758.5,-111.5 850.5,-111.5 850.5,-111.5 856.5,-111.5 862.5,-117.5 862.5,-123.5 862.5,-123.5 862.5,-167.5 862.5,-167.5 862.5,-173.5 856.5,-179.5 850.5,-179.5\"/>\n",
       "<text text-anchor=\"start\" x=\"775.5\" y=\"-164.3\" font-family=\"Helvetica,sans-Serif\" font-size=\"14.00\">gini = 0.0</text>\n",
       "<text text-anchor=\"start\" x=\"765\" y=\"-149.3\" font-family=\"Helvetica,sans-Serif\" font-size=\"14.00\">samples = 2</text>\n",
       "<text text-anchor=\"start\" x=\"756\" y=\"-134.3\" font-family=\"Helvetica,sans-Serif\" font-size=\"14.00\">value = [0, 0, 2]</text>\n",
       "<text text-anchor=\"start\" x=\"754.5\" y=\"-119.3\" font-family=\"Helvetica,sans-Serif\" font-size=\"14.00\">class = virginica</text>\n",
       "</g>\n",
       "<!-- 13&#45;&gt;15 -->\n",
       "<g id=\"edge15\" class=\"edge\">\n",
       "<title>13&#45;&gt;15</title>\n",
       "<path fill=\"none\" stroke=\"black\" d=\"M713.47,-222.58C727.18,-211.12 742.08,-198.67 755.78,-187.22\"/>\n",
       "<polygon fill=\"black\" stroke=\"black\" points=\"757.99,-189.93 763.42,-180.83 753.5,-184.56 757.99,-189.93\"/>\n",
       "</g>\n",
       "</g>\n",
       "</svg>\n"
      ],
      "text/plain": [
       "<graphviz.sources.Source at 0x22007c87b50>"
      ]
     },
     "metadata": {},
     "output_type": "display_data"
    }
   ],
   "source": [
    "dot_data = tree.export_graphviz(clf, out_file=None, \n",
    "    feature_names=iris.feature_names,  \n",
    "    class_names=iris.target_names,  \n",
    "    filled=True, rounded=True,  \n",
    "    special_characters=True)  \n",
    "graph = graphviz.Source(dot_data)  \n",
    "display(graph)"
   ]
  },
  {
   "cell_type": "markdown",
   "metadata": {},
   "source": [
    "<div style=\"background-color: white; color: black; text-align: center;\">\n",
    "  <img\n",
    "    src=\"https://scikit-learn.org/stable/_images/sphx_glr_plot_iris_dtc_001.png\"\n",
    "    alt=\"Decision surface of decision trees trained on pairs of features\"\n",
    "    style=\"max-width: 50%; height: auto;\"/>\n",
    "</div>\n",
    "\n",
    "De plus, l'arbre peut également être exporté au format textuel à l'aide de la fonction [**`export_text`**](https://scikit-learn.org/stable/modules/generated/sklearn.tree.export_text.html#sklearn.tree.export_text). Cette méthode ne nécessite pas l'installation de bibliothèques externes et est plus compacte :"
   ]
  },
  {
   "cell_type": "code",
   "execution_count": 8,
   "metadata": {},
   "outputs": [
    {
     "name": "stdout",
     "output_type": "stream",
     "text": [
      "|--- petal width (cm) <= 0.80\n",
      "|   |--- class: 0\n",
      "|--- petal width (cm) >  0.80\n",
      "|   |--- petal width (cm) <= 1.75\n",
      "|   |   |--- class: 1\n",
      "|   |--- petal width (cm) >  1.75\n",
      "|   |   |--- class: 2\n",
      "\n"
     ]
    }
   ],
   "source": [
    "from sklearn.datasets import load_iris\n",
    "from sklearn.tree import DecisionTreeClassifier\n",
    "from sklearn.tree import export_text\n",
    "iris = load_iris()\n",
    "decision_tree = DecisionTreeClassifier(random_state=0, max_depth=2)\n",
    "decision_tree = decision_tree.fit(iris.data, iris.target)\n",
    "r = export_text(decision_tree, feature_names=iris['feature_names'])\n",
    "print(r)"
   ]
  },
  {
   "cell_type": "markdown",
   "metadata": {},
   "source": [
    "### Exemples\n",
    "\n",
    "#### [**Tracer la surface de décision des arbres de décision entraînés sur le jeu de données Iris**](https://nbviewer.org/github/Franck-PepperLabs/pepper_dsia_skl_doc_fr/blob/main/docs/examples/1_10_tree/plot_iris_dtc.ipynb)<br/>([_Plot the decision surface of decision trees trained on the iris dataset_](https://scikit-learn.org/stable/auto_examples/tree/plot_iris_dtc.html))\n",
    "\n",
    "#### [**Comprendre la structure de l'arbre de décision**](https://nbviewer.org/github/Franck-PepperLabs/pepper_dsia_skl_doc_fr/blob/main/docs/examples/1_10_tree/plot_unveil_tree_structure.ipynb)<br/>([_Understanding the decision tree structure_](https://scikit-learn.org/stable/auto_examples/tree/plot_unveil_tree_structure.html))"
   ]
  },
  {
   "cell_type": "markdown",
   "metadata": {},
   "source": [
    "## <a id='regression'></a> 1.10.2. **Régression**<br/>([_Regression_](https://scikit-learn.org/stable/modules/tree.html#regression))\n",
    "\n",
    "Les arbres de décision peuvent également être appliqués aux problèmes de régression en utilisant la classe [**`DecisionTreeRegressor`**](https://scikit-learn.org/stable/modules/generated/sklearn.tree.DecisionTreeRegressor.html#sklearn.tree.DecisionTreeRegressor).\n",
    "\n",
    "Comme dans le cadre de la classification, la méthode d'ajustement prendra en argument les tableaux `X` et `y`, sauf que dans ce cas, `y` est censé contenir des valeurs en virgule flottante au lieu de valeurs entières :"
   ]
  },
  {
   "cell_type": "code",
   "execution_count": 9,
   "metadata": {},
   "outputs": [
    {
     "data": {
      "text/plain": [
       "array([0.5])"
      ]
     },
     "execution_count": 9,
     "metadata": {},
     "output_type": "execute_result"
    }
   ],
   "source": [
    "from sklearn import tree\n",
    "X = [[0, 0], [2, 2]]\n",
    "y = [0.5, 2.5]\n",
    "clf = tree.DecisionTreeRegressor()\n",
    "clf = clf.fit(X, y)\n",
    "clf.predict([[1, 1]])"
   ]
  },
  {
   "cell_type": "markdown",
   "metadata": {},
   "source": [
    "### Exemples\n",
    "\n",
    "#### [**Régression à l'aide de l'arbre de décision**](https://nbviewer.org/github/Franck-PepperLabs/pepper_dsia_skl_doc_fr/blob/main/docs/examples/1_10_tree/plot_tree_regression.ipynb)<br/>([_Decision Tree Regression_](https://scikit-learn.org/stable/auto_examples/tree/plot_tree_regression.html))"
   ]
  },
  {
   "cell_type": "markdown",
   "metadata": {},
   "source": [
    "## <a id='regression'></a> 1.10.3. [**Problèmes à sorties multiples**](https://nbviewer.org/github/Franck-PepperLabs/pepper_dsia_skl_doc_fr/blob/main/docs/1_10_tree.ipynb#multi-output-problems)<br/>([_Multi-output problems_](https://scikit-learn.org/stable/modules/tree.html#multi-output-problems))\n",
    "\n",
    "Un problème à sorties multiples est un problème d'apprentissage supervisé avec plusieurs sorties à prédire, c'est-à-dire lorsque `Y` est un tableau 2D de forme `(n_samples, n_outputs)`.\n",
    "\n",
    "Lorsqu'il n'y a aucune corrélation entre les sorties, une manière très simple de résoudre ce genre de problème consiste à construire $n$ modèles indépendants, c'est-à-dire un pour chaque sortie, puis à utiliser ces modèles pour prédire indépendamment chacune des $n$ sorties. Cependant, parce qu'il est probable que les valeurs de sortie liées à la même entrée soient elles-mêmes corrélées, une meilleure manière est souvent de construire un seul modèle capable de prédire simultanément ces $n$ sorties. Tout d'abord, cela nécessite moins de temps d'entraînement car un seul estimateur est construit. Deuxièmement, la précision de généralisation de l'estimateur résultant est souvent améliorée.\n",
    "\n",
    "En ce qui concerne les arbres de décision, cette stratégie peut être facilement utilisée pour prendre en charge les problèmes à sorties multiples. Cela nécessite les changements suivants :\n",
    "- Stocker $n$ valeurs de sortie dans les feuilles, au lieu d'une seule ;\n",
    "- Utiliser des critères de division qui calculent la réduction moyenne sur les $n$ sorties.\n",
    "\n",
    "Ce module offre une prise en charge pour les problèmes à sorties multiples en mettant en œuvre cette stratégie tant avec [**`DecisionTreeClassifier`**](https://scikit-learn.org/stable/modules/generated/sklearn.tree.DecisionTreeClassifier.html#sklearn.tree.DecisionTreeClassifier) qu'avec [**`DecisionTreeRegressor`**](https://scikit-learn.org/stable/modules/generated/sklearn.tree.DecisionTreeRegressor.html#sklearn.tree.DecisionTreeRegressor). Si un arbre de décision est ajusté sur un tableau de sortie `Y` de forme `(n_samples, n_outputs)`, l'estimateur résultant :\n",
    "- Produira `n_output` valeurs lors de l'appel à `predict`;\n",
    "- Produira une liste de `n_output` tableaux de probabilités de classe lors de l'appel à `predict_proba`.\n",
    "\n",
    "L'utilisation d'arbres de décision à sorties multiples pour la régression est illustrée dans [**Régression multi-sortie avec les arbres de décision**](https://scikit-learn.org/stable/auto_examples/tree/plot_tree_regression_multioutput.html#sphx-glr-auto-examples-tree-plot-tree-regression-multioutput-py). Dans cet exemple, l'entrée `X` est une seule valeur réelle et les sorties `Y` sont le sinus et le cosinus de `X`.\n",
    "\n",
    "<div style=\"background-color: white; color: black; text-align: center;\">\n",
    "  <img\n",
    "    src=\"https://scikit-learn.org/stable/_images/sphx_glr_plot_tree_regression_multioutput_001.png\"\n",
    "    alt=\"Régression multi-sortie avec les arbres de décision\"\n",
    "    style=\"max-width: 50%; height: auto;\"/>\n",
    "</div>\n",
    "\n",
    "L'utilisation d'arbres de décision à sorties multiples pour la classification est illustrée dans [**Complétion de visage avec des estimateurs multi-sorties**](https://scikit-learn.org/stable/auto_examples/miscellaneous/plot_multioutput_face_completion.html#sphx-glr-auto-examples-miscellaneous-plot-multioutput-face-completion-py). Dans cet exemple, les entrées `X` sont les pixels de la moitié supérieure des visages et les sorties `Y` sont les pixels de la moitié inférieure de ces visages.\n",
    "\n",
    "<div style=\"background-color: white; color: black; text-align: center;\">\n",
    "  <img\n",
    "    src=\"https://scikit-learn.org/stable/_images/sphx_glr_plot_multioutput_face_completion_001.png\"\n",
    "    alt=\"Complétion de visage avec des estimateurs multi-sorties\"\n",
    "    style=\"max-width: 50%; height: auto;\"/>\n",
    "</div>"
   ]
  },
  {
   "cell_type": "markdown",
   "metadata": {},
   "source": [
    "### Exemples\n",
    "\n",
    "#### [**Régression multi-sorties avec les arbres de décision**](https://nbviewer.org/github/Franck-PepperLabs/pepper_dsia_skl_doc_fr/blob/main/docs/examples/1_10_tree/plot_tree_regression_multioutput.ipynb)<br/>([_Multi-output Decision Tree Regression_](https://scikit-learn.org/stable/auto_examples/tree/plot_tree_regression_multioutput.html))\n",
    "\n",
    "#### [**Complétion de visages avec des estimateurs multi-sorties**](https://nbviewer.org/github/Franck-PepperLabs/pepper_dsia_skl_doc_fr/blob/main/docs/examples/misc/plot_multioutput_face_completion.ipynb)<br/>([*Face completion with multi-output estimators*](https://scikit-learn.org/stable/auto_examples/miscellaneous/plot_multioutput_face_completion.html))"
   ]
  },
  {
   "cell_type": "markdown",
   "metadata": {},
   "source": [
    "### Références\n",
    "\n",
    "🔬 M. Dumont et al, [**“Fast multi-class image annotation with random subwindows and multiple output randomized trees”**](https://services.montefiore.uliege.be//stochastic/pubs/2009/DMWG09/dumont-visapp09-shortpaper.pdf), International Conference on Computer Vision Theory and Applications 2009"
   ]
  },
  {
   "cell_type": "markdown",
   "metadata": {},
   "source": [
    "## <a id='regression'></a> 1.10.4. [**Complexité**](https://nbviewer.org/github/Franck-PepperLabs/pepper_dsia_skl_doc_fr/blob/main/docs/1_10_tree.ipynb#complexity)<br/>([_Complexity_](https://scikit-learn.org/stable/modules/tree.html#complexity))\n",
    "\n",
    "Posons $N$ = `n_samples` et $D$ = `n_features`.\n",
    "\n",
    "En général, le coût en temps d'exécution pour construire un arbre binaire équilibré est $\\mathcal{O}(D N\\log(N))$ et le temps de requête est $\\mathcal{O}(\\log(N))$. Bien que l'algorithme de construction de l'arbre tente de générer des arbres équilibrés, ils ne seront pas toujours équilibrés. En supposant que les sous-arbres restent approximativement équilibrés, le coût à chaque nœud consiste à rechercher dans $\\mathcal{O}(D)$ pour trouver la caractéristique qui offre la plus grande réduction dans le critère d'impureté, par exemple, la perte logarithmique (qui est équivalente à un gain d'information). Cela a un coût de $\\mathcal{O}(D N\\log(N))$ à chaque nœud, conduisant à un coût total sur l'ensemble de l'arbre (en additionnant le coût à chaque nœud) de $\\mathcal{O}(D N^{2}\\log(N))$."
   ]
  },
  {
   "cell_type": "markdown",
   "metadata": {},
   "source": [
    "## <a id='regression'></a> 1.10.5. **Conseils d'utilisation pratique**<br/>([_Tips on practical use_](https://scikit-learn.org/stable/modules/tree.html#tips-on-practical-use))\n",
    "\n",
    "- Les arbres de décision ont tendance à surajuster les données comportant un grand nombre de caractéristiques. Obtenir le bon rapport entre le nombre d'échantillons et le nombre de caractéristiques est important, car un arbre avec peu d'échantillons dans un espace de grande dimension a de fortes chances de surajuster.\n",
    "\n",
    "- Envisagez de réaliser une réduction de la dimensionnalité ([**PCA** (2.5.1)](https://scikit-learn.org/stable/modules/decomposition.html#pca), [**ICA** (2.5.6)](https://scikit-learn.org/stable/modules/decomposition.html#ica), ou [**Sélection de caractéristiques** (1.13)](https://scikit-learn.org/stable/modules/feature_selection.html#feature-selection)) au préalable pour donner à votre arbre une meilleure chance de trouver des caractéristiques discriminantes.\n",
    "\n",
    "- [**Comprendre la structure de l'arbre de décision**](https://scikit-learn.org/stable/auto_examples/tree/plot_unveil_tree_structure.html#sphx-glr-auto-examples-tree-plot-unveil-tree-structure-py) vous aidera à mieux comprendre comment l'arbre de décision effectue des prédictions, ce qui est important pour comprendre les caractéristiques importantes des données.\n",
    "\n",
    "- Visualisez votre arbre pendant l'entraînement en utilisant la fonction d'exportation. Utilisez `max_depth=3` comme profondeur initiale de l'arbre pour avoir une idée de l'ajustement de l'arbre à vos données, puis augmentez la profondeur.\n",
    "\n",
    "- Rappelez-vous que le nombre d'échantillons nécessaires pour peupler l'arbre double à chaque niveau supplémentaire de croissance de l'arbre. Utilisez `max_depth` pour contrôler la taille de l'arbre et éviter le surajustement.\n",
    "\n",
    "- Utilisez `min_samples_split` ou `min_samples_leaf` pour vous assurer que plusieurs échantillons influencent chaque décision de l'arbre en contrôlant quelles divisions seront prises en compte. Un nombre très faible signifie généralement que l'arbre surajustera, tandis qu'un nombre élevé empêchera l'arbre d'apprendre les données. Essayez `min_samples_leaf=5` comme valeur initiale. Si la taille de l'échantillon varie beaucoup, un nombre flottant peut être utilisé comme pourcentage dans ces deux paramètres. Alors que `min_samples_split` peut créer des feuilles arbitrairement petites, `min_samples_leaf` garantit qu'une taille minimale est attribuée à chaque feuille, évitant ainsi les nœuds de feuille à faible variance et surajustés dans les problèmes de régression. Pour la classification avec peu de classes, `min_samples_leaf=1` est souvent le meilleur choix.<br/><br/>\n",
    "Notez que `min_samples_split` tient compte des échantillons directement et indépendamment de `sample_weight`, s'ils sont fournis (par exemple, un nœud avec $m$ échantillons pondérés est toujours traité comme ayant exactement $m$ échantillons). Considérez `min_weight_fraction_leaf` ou `min_impurity_decrease` si la prise en compte des poids des échantillons est nécessaire lors des divisions.\n",
    "\n",
    "- Équilibrez votre ensemble de données avant l'entraînement pour éviter que l'arbre ne soit biaisé en faveur des classes dominantes. L'équilibrage des classes peut se faire en échantillonnant un nombre égal d'échantillons de chaque classe, ou de préférence en normalisant la somme des poids des échantillons (`sample_weight`) pour chaque classe à la même valeur. Notez également que les critères de pré-élagage basés sur les poids, tels que `min_weight_fraction_leaf`, seront alors moins biaisés en faveur des classes dominantes que les critères qui ne tiennent pas compte des poids des échantillons, tels que `min_samples_leaf`.\n",
    "\n",
    "- Si les échantillons sont pondérés, il sera plus facile d'optimiser la structure de l'arbre en utilisant un critère de pré-élagage basé sur les poids, tel que `min_weight_fraction_leaf`, qui garantit que les nœuds de feuille contiennent au moins une fraction de la somme totale des poids des échantillons.\n",
    "\n",
    "- Tous les arbres de décision utilisent des tableaux `np.float32` en interne. Si les données d'entraînement ne sont pas dans ce format, une copie de l'ensemble de données sera effectuée.\n",
    "\n",
    "- Si la matrice d'entrée `X` est très creuse, il est recommandé de la convertir en matrice creuse de type `csc_matrix` avant d'appeler `fit` et en matrice creuse de type `csr_matrix` avant d'appeler `predict`. Le temps d'entraînement peut être de l'ordre de grandeur plus rapide pour une matrice d'entrée clairsemée par rapport à une matrice dense lorsque les caractéristiques ont des valeurs nulles dans la plupart des échantillons."
   ]
  },
  {
   "cell_type": "markdown",
   "metadata": {},
   "source": [
    "## <a id='tree-algorithms-id3-c4-5-c5-0-and-cart'></a> 1.10.6. **Algorithmes d'arbres : ID3, C4.5, C5.0 et CART**<br/>([_Tree algorithms: ID3, C4.5, C5.0 and CART_](https://scikit-learn.org/stable/modules/tree.html#tree-algorithms-id3-c4-5-c5-0-and-cart))\n",
    "\n",
    "Quels sont les différents algorithmes d'arbres de décision et comment diffèrent-ils les uns des autres ? Lequel est implémenté dans scikit-learn ?\n",
    "\n",
    "[**ID3**](https://en.wikipedia.org/wiki/ID3_algorithm) (Iterative Dichotomiser 3) a été développé en 1986 par Ross Quinlan. L'algorithme crée un arbre à ramifications multiples, en trouvant pour chaque nœud (c'est-à-dire de manière exhaustive) la caractéristique catégorielle qui produira le gain d'information le plus élevé pour les cibles catégorielles. Les arbres sont développés jusqu'à leur taille maximale, puis une étape de taille est généralement appliquée pour améliorer la capacité de l'arbre à généraliser sur des données non observées.\n",
    "\n",
    "C4.5 est le successeur de l'ID3 et a supprimé la restriction selon laquelle les caractéristiques doivent être catégorielles en définissant dynamiquement une caractéristique discrète (basée sur des variables numériques) qui partitionne la valeur de la caractéristique continue en un ensemble discret d'intervalles. C4.5 convertit les arbres entraînés (c'est-à-dire la sortie de l'algorithme ID3) en ensembles de règles du type \"si-alors\". L'exactitude de chaque règle est ensuite évaluée pour déterminer l'ordre dans lequel elles doivent être appliquées. L'élagage est effectué en supprimant la prémisse d'une règle si l'exactitude de la règle s'améliore sans elle.\n",
    "\n",
    "C5.0 est la dernière version de Quinlan, publiée sous licence propriétaire. Il utilise moins de mémoire et construit des ensembles de règles plus petits que C4.5 tout en étant plus précis.\n",
    "\n",
    "CART (Classification and Regression Trees) est très similaire à C4.5, mais diffère en ce qu'il prend en charge les variables cibles numériques (régression) et ne calcule pas d'ensembles de règles. CART construit des arbres binaires en utilisant la caractéristique et le seuil qui produisent le plus grand gain d'information à chaque nœud.\n",
    "\n",
    "scikit-learn utilise une version optimisée de l'algorithme CART ; cependant, l'implémentation de scikit-learn ne prend pas en charge les variables catégorielles pour le moment."
   ]
  },
  {
   "cell_type": "markdown",
   "metadata": {},
   "source": [
    "## <a id='mathematical-formulation'></a> 1.10.7. [**Formulation mathématique**](https://nbviewer.org/github/Franck-PepperLabs/pepper_dsia_skl_doc_fr/blob/main/docs/1_10_tree.ipynb#mathematical-formulation)<br/>([_Mathematical formulation_](https://scikit-learn.org/stable/modules/tree.html#mathematical-formulation))\n",
    "\n",
    "Étant donné des vecteurs d'apprentissage $x_i \\in R^n$, $i=1, \\ldots, l$ et un vecteur d'étiquettes $y \\in R^l$, un arbre de décision partitionne récursivement l'espace des caractéristiques de telle sorte que les échantillons ayant les mêmes étiquettes ou des valeurs cibles similaires soient regroupés.\n",
    "\n",
    "Laissez les données au nœud $m$ être représentées par $Q_m$ avec $n_m$ échantillons. Pour chaque division candidate $\\theta = (j, t_m)$ composée d'une caractéristique $j$ et d'une valeur seuil $t_m$, les données sont partitionnées en sous-ensembles $Q_m^{left}(\\theta)$ et $Q_m^{right}(\\theta)$ :\n",
    "\n",
    "$$\n",
    "\\begin{align*}\\begin{aligned}\n",
    "Q_m^{left}(\\theta) = \\{(x, y) | x_j \\leq t_m\\}\\\\\n",
    "Q_m^{right}(\\theta) = Q_m \\setminus Q_m^{left}(\\theta)\n",
    "\\end{aligned}\\end{align*}\n",
    "$$\n",
    "\n",
    "La qualité d'une division candidate du nœud $m$ est ensuite calculée à l'aide d'une fonction d'impureté ou d'une fonction de perte $H()$, le choix dépendant de la tâche à résoudre (classification ou régression) :\n",
    "\n",
    "$$\n",
    "G(Q_m, \\theta) = \\frac{n_m^{left}}{n_m} H(Q_m^{left}(\\theta))\n",
    "+ \\frac{n_m^{right}}{n_m} H(Q_m^{right}(\\theta))\n",
    "$$\n",
    "\n",
    "Sélectionnez les paramètres qui minimisent l'impureté :\n",
    "\n",
    "$$\n",
    "\\theta^* = \\operatorname{argmin}_\\theta  G(Q_m, \\theta)\n",
    "$$\n",
    "\n",
    "Récursivement, pour les sous-ensembles $Q_m^{left}(\\theta^*)$ et $Q_m^{right}(\\theta^*)$, jusqu'à ce que la profondeur maximale autorisée soit atteinte, $n_m < \\min_{samples}$ ou $n_m = 1$."
   ]
  },
  {
   "cell_type": "markdown",
   "metadata": {},
   "source": [
    "### <a id='classification-criteria'></a> 1.10.7.1. [**Critères de classification**](https://nbviewer.org/github/Franck-PepperLabs/pepper_dsia_skl_doc_fr/blob/main/docs/1_10_tree.ipynb#classification-criteria)<br/>([_Classification criteria_](https://scikit-learn.org/stable/modules/tree.html#classification-criteria))\n",
    "\n",
    "Si une cible est une issue de classification prenant des valeurs $0, 1, \\ldots, K-1$, pour le nœud $m$, la proportion d'observations de la classe $k$ dans le nœud $m$ est définie comme suit :\n",
    "\n",
    "$$\n",
    "p_{mk} = \\frac{1}{n_m} \\sum_{y \\in Q_m} I(y = k)\n",
    "$$\n",
    "\n",
    "où $I(y = k)$ est une fonction indicatrice évaluée à 1 si $y = k$ et à 0 sinon. Si c'est un nœud terminal, `predict_proba` pour cette région est défini comme $p_{mk}$. Les mesures courantes d'impureté sont les suivantes.\n",
    "\n",
    "Indice de Gini :\n",
    "\n",
    "$$\n",
    "H(Q_m) = \\sum_k p_{mk} (1 - p_{mk})\n",
    "$$\n",
    "\n",
    "Entropie ou Perte de Log :\n",
    "\n",
    "$$\n",
    "H(Q_m) = - \\sum_k p_{mk} \\log(p_{mk})\n",
    "$$\n",
    "\n",
    "#### Entropie de Shannon\n",
    "\n",
    "Le critère d'entropie calcule l'entropie de Shannon des classes possibles. Il prend les fréquences de classe des points de données d'entraînement qui ont atteint un nœud terminal donné $m$ comme probabilité. Utiliser l'**entropie de Shannon comme critère de division du nœud de l'arbre équivaut à minimiser la perte de log** (également appelée entropie croisée et déviance multinomiale) entre les vraies étiquettes $y_i$ et les prédictions probabilistes $T_k(x_i)$ du modèle d'arbre $T$ pour la classe $k$.\n",
    "\n",
    "Pour voir cela, rappelons d'abord que la perte de log d'un modèle d'arbre $T$ calculée sur un ensemble de données $D$ est définie comme suit :\n",
    "\n",
    "$$\n",
    "\\mathrm{LL}(D, T) = -\\frac{1}{n} \\sum_{(x_i, y_i) \\in D} \\sum_k I(y_i = k) \\log(T_k(x_i))\n",
    "$$\n",
    "\n",
    "où $D$ est un ensemble de données d'entraînement de $n$ paires $(x_i, y_i)$.\n",
    "\n",
    "Dans un arbre de classification, les probabilités de classe prédites au sein des nœuds terminaux sont constantes, c'est-à-dire que pour tous $(x_i, y_i) \\in Q_m$, on a : $T_k(x_i) = p_{mk}$ pour chaque classe $k$.\n",
    "\n",
    "Cette propriété permet de réécrire $\\mathrm{LL}(D, T)$ comme la somme des entropies de Shannon calculées pour chaque feuille de $T$ pondérées par le nombre de points de données d'entraînement qui ont atteint chaque feuille :\n",
    "\n",
    "$$\n",
    "\\mathrm{LL}(D, T) = \\sum_{m \\in T} \\frac{n_m}{n} H(Q_m)\n",
    "$$"
   ]
  },
  {
   "cell_type": "markdown",
   "metadata": {},
   "source": [
    "### <a id='regression-criteria'></a> 1.10.7.2. [**Critères de régression**](https://nbviewer.org/github/Franck-PepperLabs/pepper_dsia_skl_doc_fr/blob/main/docs/1_10_tree.ipynb#regression-criteria)<br/>([_Regression criteria_](https://scikit-learn.org/stable/modules/tree.html#regression-criteria))\n",
    "\n",
    "Si la cible est une valeur continue, alors pour le nœud $m$, les critères courants à minimiser pour déterminer les emplacements des futures divisions sont l'Erreur Quadratique Moyenne (MSE ou erreur $\\ell_2$), la déviance de Poisson ainsi que l'Erreur Absolue Moyenne (MAE ou erreur $\\ell_1$). La MSE et la déviance de Poisson définissent toutes deux la valeur prédite des nœuds terminaux comme étant la valeur moyenne apprise $\\bar{y}_m$ du nœud, tandis que la MAE définie la valeur prédite des nœuds terminaux comme la médiane $\\text{median}(y)_m$.\n",
    "\n",
    "Erreur Quadratique Moyenne :\n",
    "\n",
    "$$\n",
    "\\begin{align*}\\begin{aligned}\n",
    "\\bar{y}_m = \\frac{1}{n_m} \\sum_{y \\in Q_m} y\\\\\n",
    "H(Q_m) = \\frac{1}{n_m} \\sum_{y \\in Q_m} (y - \\bar{y}_m)^2\n",
    "\\end{aligned}\\end{align*}\n",
    "$$\n",
    "\n",
    "Demi-déviance de Poisson :\n",
    "\n",
    "$$\n",
    "H(Q_m) = \\frac{1}{n_m} \\sum_{y \\in Q_m} (y \\log\\frac{y}{\\bar{y}_m}\n",
    "- y + \\bar{y}_m)\n",
    "$$\n",
    "\n",
    "Définir `criterion=\"poisson\"` peut être un bon choix si votre cible est un nombre ou une fréquence (nombre par unité). En tout cas, $y \\ge 0$ est une condition nécessaire pour utiliser ce critère. Notez que son ajustement est beaucoup plus lent que le critère MSE.\n",
    "\n",
    "Erreur Absolue Moyenne :\n",
    "\n",
    "$$\n",
    "\\begin{align*}\\begin{aligned}\n",
    "\\text{median}(y)_m = \\underset{y \\in Q_m}{\\text{median}}(y)\\\\\n",
    "H(Q_m) = \\frac{1}{n_m} \\sum_{y \\in Q_m} |y - \\text{median}(y)_m|\n",
    "\\end{aligned}\\end{align*}\n",
    "$$\n",
    "\n",
    "Notez que son ajustement est beaucoup plus lent que le critère MSE."
   ]
  },
  {
   "cell_type": "markdown",
   "metadata": {},
   "source": [
    "## <a id='missing-values-support'></a> 1.10.8. **Prise en charge des valeurs manquantes**<br/>([_Missing Values Support_](https://scikit-learn.org/stable/modules/tree.html#missing-values-support))\n",
    "\n",
    "[**`DecisionTreeClassifier`**](https://scikit-learn.org/stable/modules/generated/sklearn.tree.DecisionTreeClassifier.html#sklearn.tree.DecisionTreeClassifier) et [**`DecisionTreeRegressor`**](https://scikit-learn.org/stable/modules/generated/sklearn.tree.DecisionTreeRegressor.html#sklearn.tree.DecisionTreeRegressor) prennent en charge les valeurs manquantes intégrées lorsque `splitter='best'` et que le critère est `'gini'`, `'entropy'`, ou `'log_loss'`, pour la classification, ou `'squared_error'`, `'friedman_mse'`, ou 'poisson' pour la régression.\n",
    "\n",
    "Pour chaque seuil potentiel sur les données non manquantes, le séparateur évalue la division avec toutes les valeurs manquantes allant vers le nœud gauche ou le nœud droit.\n",
    "\n",
    "Les décisions sont prises comme suit :\n",
    "\n",
    "- Par défaut lors de la prédiction, les échantillons avec des valeurs manquantes sont classés avec la classe utilisée dans la division trouvée lors de l'apprentissage :"
   ]
  },
  {
   "cell_type": "code",
   "execution_count": 1,
   "metadata": {},
   "outputs": [
    {
     "data": {
      "text/plain": [
       "array([0, 0, 1, 1])"
      ]
     },
     "execution_count": 1,
     "metadata": {},
     "output_type": "execute_result"
    }
   ],
   "source": [
    "from sklearn.tree import DecisionTreeClassifier\n",
    "import numpy as np\n",
    "\n",
    "X = np.array([0, 1, 6, np.nan]).reshape(-1, 1)\n",
    "y = [0, 0, 1, 1]\n",
    "\n",
    "tree = DecisionTreeClassifier(random_state=0).fit(X, y)\n",
    "tree.predict(X)\n",
    "# array([0, 0, 1, 1])"
   ]
  },
  {
   "cell_type": "markdown",
   "metadata": {},
   "source": [
    "- Si l'évaluation du critère est la même pour les deux nœuds, alors l'égalité pour les valeurs manquantes au moment de la prédiction est rompue en allant vers le nœud de droite. Le séparateur vérifie également la division où toutes les valeurs manquantes vont vers un enfant et les valeurs non manquantes vont vers l'autre :"
   ]
  },
  {
   "cell_type": "code",
   "execution_count": 2,
   "metadata": {},
   "outputs": [
    {
     "data": {
      "text/plain": [
       "array([1])"
      ]
     },
     "execution_count": 2,
     "metadata": {},
     "output_type": "execute_result"
    }
   ],
   "source": [
    "from sklearn.tree import DecisionTreeClassifier\n",
    "import numpy as np\n",
    "\n",
    "X = np.array([np.nan, -1, np.nan, 1]).reshape(-1, 1)\n",
    "y = [0, 0, 1, 1]\n",
    "\n",
    "tree = DecisionTreeClassifier(random_state=0).fit(X, y)\n",
    "\n",
    "X_test = np.array([np.nan]).reshape(-1, 1)\n",
    "tree.predict(X_test)\n",
    "# array([1])"
   ]
  },
  {
   "cell_type": "markdown",
   "metadata": {},
   "source": [
    "- Si aucune valeur manquante n'est observée pendant l'apprentissage pour une caractéristique donnée, alors lors de la prédiction, les valeurs manquantes sont associées à l'enfant ayant le plus d'échantillons :"
   ]
  },
  {
   "cell_type": "code",
   "execution_count": 3,
   "metadata": {},
   "outputs": [
    {
     "data": {
      "text/plain": [
       "array([1])"
      ]
     },
     "execution_count": 3,
     "metadata": {},
     "output_type": "execute_result"
    }
   ],
   "source": [
    "from sklearn.tree import DecisionTreeClassifier\n",
    "import numpy as np\n",
    "\n",
    "X = np.array([0, 1, 2, 3]).reshape(-1, 1)\n",
    "y = [0, 1, 1, 1]\n",
    "\n",
    "tree = DecisionTreeClassifier(random_state=0).fit(X, y)\n",
    "\n",
    "X_test = np.array([np.nan]).reshape(-1, 1)\n",
    "tree.predict(X_test)\n",
    "# array([1])"
   ]
  },
  {
   "cell_type": "markdown",
   "metadata": {},
   "source": [
    "## <a id='minimal-cost-complexity-pruning'></a> 1.10.9. **Élagage de complexité minimale-coût**<br/>([_Minimal Cost-Complexity Pruning_](https://scikit-learn.org/stable/modules/tree.html#minimal-cost-complexity-pruning))\n",
    "\n",
    "L'élagage de complexité minimale-coût est un algorithme utilisé pour élaguer un arbre afin d'éviter la surajustement, comme décrit dans le chapitre 3 de [BRE]. Cet algorithme est paramétré par $\\alpha \\ge 0$, connu sous le nom de paramètre de complexité. Le paramètre de complexité est utilisé pour définir la mesure de coût-complexité, $R_\\alpha(T)$, d'un arbre donné $T$ :\n",
    "\n",
    "$$\n",
    "R_\\alpha(T) = R(T) + \\alpha|\\widetilde{T}|\n",
    "$$\n",
    "\n",
    "où $|\\widetilde{T}|$ est le nombre de nœuds terminaux dans $T$ et $R(T)$ est traditionnellement défini comme le taux total de classification erronée des nœuds terminaux. En revanche, scikit-learn utilise l'impureté totale pondérée par les échantillons des nœuds terminaux pour $R(T)$. Comme indiqué ci-dessus, l'impureté d'un nœud dépend du critère. L'élagage de complexité minimale-coût trouve le sous-arbre de $T$ qui minimise $R_\\alpha(T)$.\n",
    "\n",
    "La mesure de complexité de coût d'un seul nœud est $R_\\alpha(t)=R(t)+\\alpha$. La branche, $T_t$, est définie comme un arbre où le nœud $t$ en est la racine. En général, l'impureté d'un nœud est supérieure à la somme des impuretés de ses nœuds terminaux, $R(T_t)<R(t)$. Cependant, la mesure de complexité de coût d'un nœud, $t$, et de sa branche, $T_t$, peut être égale en fonction de $\\alpha$. Nous définissons l'efficacité $\\alpha$ d'un nœud comme la valeur où ils sont égaux, $R_\\alpha(T_t)=R_\\alpha(t)$ ou $\\displaystyle \\alpha_{eff}(t)=\\frac{R(t)-R(T_t)}{|T|-1}$. Un nœud non terminal avec la plus petite valeur d'$\\alpha_{eff}$ est le maillon le plus faible et sera élagué. Ce processus s'arrête lorsque l'$\\alpha_{eff}$ minimal de l'arbre élagué est supérieur au paramètre `ccp_alpha`."
   ]
  },
  {
   "cell_type": "markdown",
   "metadata": {},
   "source": [
    "## Exemples\n",
    "\n",
    "#### [**Élagage postérieur des arbres de décision avec élagage de complexité minimale-coût**](https://nbviewer.org/github/Franck-PepperLabs/pepper_dsia_skl_doc_fr/blob/main/docs/examples/1_10_tree/plot_cost_complexity_pruning.ipynb)<br/>([_Post pruning decision trees with cost complexity pruning_](https://scikit-learn.org/stable/auto_examples/tree/plot_cost_complexity_pruning.html))"
   ]
  },
  {
   "cell_type": "markdown",
   "metadata": {},
   "source": [
    "## Références\n",
    "\n",
    "📚 [BRE] L. Breiman, J. Friedman, R. Olshen, and C. Stone. **“Classification and Regression Trees”**. Wadsworth, Belmont, CA, 1984.\n",
    "\n",
    "🌐 [**Wikipedia entry on _Decision tree learning_**](https://en.wikipedia.org/wiki/Decision_tree_learning)\n",
    "\n",
    "🌐 [**Wikipedia entry on _Predictive analytics_**](https://en.wikipedia.org/wiki/Predictive_analytics)\n",
    "\n",
    "📚J.R. Quinlan. **“C4.5: programs for machine learning”**. Morgan Kaufmann, 1993.\n",
    "\n",
    "📚 T. Hastie, R. Tibshirani et J. Friedman, [**“Elements of Statistical Learning Ed. 2”**](https://hastie.su.domains/Papers/ESLII.pdf), Springer, 2009."
   ]
  }
 ],
 "metadata": {
  "kernelspec": {
   "display_name": "Python 3",
   "language": "python",
   "name": "python3"
  },
  "language_info": {
   "codemirror_mode": {
    "name": "ipython",
    "version": 3
   },
   "file_extension": ".py",
   "mimetype": "text/x-python",
   "name": "python",
   "nbconvert_exporter": "python",
   "pygments_lexer": "ipython3",
   "version": "3.11.1"
  }
 },
 "nbformat": 4,
 "nbformat_minor": 2
}
