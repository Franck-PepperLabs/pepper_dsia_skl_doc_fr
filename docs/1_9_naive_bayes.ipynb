{
 "cells": [
  {
   "cell_type": "markdown",
   "metadata": {},
   "source": [
    "# <a id='supervised-learning'></a> 1. [**Apprentissage supervisé**](https://nbviewer.org/github/Franck-PepperLabs/pepper_data-science_practising/blob/main/Sklearn/1_supervised_learning.ipynb#supervised-learning)</br>([*Supervised learning*](https://scikit-learn.org/stable/supervised_learning.html#supervised-learning))\n",
    "\n",
    "# <a id='naive-bayes'></a> 1.9. [**Bayes naïf**](https://nbviewer.org/github/Franck-PepperLabs/pepper_data-science_practising/blob/main/Sklearn/1_9_naive_bayes.ipynb)<br/>([_Naive Bayes_](https://scikit-learn.org/stable/modules/naive_bayes.html))"
   ]
  },
  {
   "cell_type": "markdown",
   "metadata": {},
   "source": [
    "# Sommaire\n",
    "\n",
    "- **Volume** : 5 pages, 0 exemples, 5 papiers\n",
    "- 1.9.1. [**Bayes naïf gaussien**](https://nbviewer.org/github/Franck-PepperLabs/pepper_data-science_practising/blob/main/Sklearn/1_9_naive_bayes.ipynb#gaussian-naive-bayes)<br/>([_Gaussian Naive Bayes_](https://scikit-learn.org/stable/modules/naive_bayes.html#gaussian-naive-bayes))\n",
    "- 1.9.2. [**Bayes naïf multinomial**](https://nbviewer.org/github/Franck-PepperLabs/pepper_data-science_practising/blob/main/Sklearn/1_9_naive_bayes.ipynb#multinomial-naive-bayes)<br/>([_Multinomial Naive Bayes_](https://scikit-learn.org/stable/modules/naive_bayes.html#multinomial-naive-bayes))\n",
    "- 1.9.3. [**Bayes naïf complémentaire**](https://nbviewer.org/github/Franck-PepperLabs/pepper_data-science_practising/blob/main/Sklearn/1_9_naive_bayes.ipynb#complement-naive-bayes)<br/>([_Complement Naive Bayes_](https://scikit-learn.org/stable/modules/naive_bayes.html#complement-naive-bayes))\n",
    "- 1.9.4. [**Bayes naïf Bernoulli**](https://nbviewer.org/github/Franck-PepperLabs/pepper_data-science_practising/blob/main/Sklearn/1_9_naive_bayes.ipynb#bernoulli-naive-bayes)<br/>([_Bernoulli Naive Bayes_](https://scikit-learn.org/stable/modules/naive_bayes.html#bernoulli-naive-bayes))\n",
    "- 1.9.5. [**Bayes naïf catégoriel**](https://nbviewer.org/github/Franck-PepperLabs/pepper_data-science_practising/blob/main/Sklearn/1_9_naive_bayes.ipynb#categorical-naive-bayes)<br/>([_Categorical Naive Bayes_](https://scikit-learn.org/stable/modules/naive_bayes.html#categorical-naive-bayes))\n",
    "- 1.9.6. [**Ajustement de modèle Bayes naïf hors ligne**](https://nbviewer.org/github/Franck-PepperLabs/pepper_data-science_practising/blob/main/Sklearn/1_9_naive_bayes.ipynb#out-of-core-naive-bayes-model-fitting)<br/>([_Out-of-core naive Bayes model fitting_](https://scikit-learn.org/stable/modules/naive_bayes.html#out-of-core-naive-bayes-model-fitting))"
   ]
  },
  {
   "cell_type": "markdown",
   "metadata": {},
   "source": [
    "# <a id='naive-bayes'></a> 1.9. **Bayes naïf**<br/>([_Naive Bayes_](https://scikit-learn.org/stable/modules/naive_bayes.html))\n",
    "\n",
    "Les méthodes Bayes naïf sont un ensemble d'algorithmes d'apprentissage supervisé basés sur l'application du théorème de Bayes en faisant l'hypothèse \"naïve\" d'indépendance conditionnelle entre chaque paire de caractéristiques, étant donné la valeur de la variable de classe. Le théorème de Bayes énonce la relation suivante, étant donné la variable de classe $y$ et le vecteur de caractéristiques dépendantes $x_1$ à $x_n$ :\n",
    "\n",
    "$$\n",
    "P(y \\mid x_1, \\dots, x_n) = \\frac{P(y) P(x_1, \\dots, x_n \\mid y)}{P(x_1, \\dots, x_n)}\n",
    "$$\n",
    "\n",
    "En utilisant l'hypothèse naïve d'indépendance conditionnelle selon laquelle\n",
    "\n",
    "$$\n",
    "P(x_i | y, x_1, \\dots, x_{i-1}, x_{i+1}, \\dots, x_n) = P(x_i | y),\n",
    "$$\n",
    "\n",
    "pour tout $i$, cette relation est simplifiée en\n",
    "\n",
    "$$\n",
    "P(y \\mid x_1, \\dots, x_n) = \\frac{P(y) \\prod_{i=1}^{n} P(x_i \\mid y)}{P(x_1, \\dots, x_n)}\n",
    "$$\n",
    "\n",
    "Étant donné que $P(x_1, \\dots, x_n)$ est constant par rapport à l'entrée, nous pouvons utiliser la règle de classification suivante :\n",
    "\n",
    "$$\n",
    "\\begin{align}\\begin{aligned}P(y \\mid x_1, \\dots, x_n) \\propto P(y) \\prod_{i=1}^{n} P(x_i \\mid y)\\\\\n",
    "\\Downarrow\\\\\n",
    "\\hat{y} = \\arg\\max_y P(y) \\prod_{i=1}^{n} P(x_i \\mid y),\\end{aligned}\\end{align}\n",
    "$$\n",
    "\n",
    "et nous pouvons utiliser l'estimation du Maximum A Posteriori (MAP) pour estimer $P(y)$ et $P(x_i \\mid y) ; le premier est alors la fréquence relative de la classe $y$ dans l'ensemble d'entraînement.\n",
    "\n",
    "Les différents classificateurs Bayes naïfs diffèrent principalement par les hypothèses qu'ils font concernant la distribution de $P(x_i \\mid y)$.\n",
    "\n",
    "Malgré leurs hypothèses apparemment simplistes, les classificateurs Bayes naïfs ont très bien fonctionné dans de nombreuses situations du monde réel, notamment la classification de documents et la lutte contre le spam. Ils nécessitent une petite quantité de données d'entraînement pour estimer les paramètres nécessaires. (Pour des raisons théoriques pour lesquelles Bayes naïf fonctionne bien, et sur quels types de données il fonctionne, consultez les références ci-dessous.)\n",
    "\n",
    "Les apprenants et classificateurs Bayes naïfs peuvent être extrêmement rapides par rapport à des méthodes plus sophistiquées. La dissociation des distributions de caractéristiques conditionnelles de classe signifie que chaque distribution peut être estimée de manière indépendante en tant que distribution unidimensionnelle. Cela contribue à résoudre les problèmes découlant de la malédiction de la dimensionnalité.\n",
    "\n",
    "D'un autre côté, bien que le Bayes naïf soit connu comme un bon classificateur, il est également connu pour être un mauvais estimateur, donc les sorties de probabilité de `predict_proba` ne doivent pas être prises trop au sérieux.\n",
    "\n",
    "## Références\n",
    "\n",
    "🔬 H. Zhang (2004). [**“The optimality of Naive Bayes”**](https://www.cs.unb.ca/~hzhang/publications/FLAIRS04ZhangH.pdf). Proc. FLAIRS."
   ]
  },
  {
   "cell_type": "markdown",
   "metadata": {},
   "source": [
    "## <a id='gaussian-naive-bayes'></a> 1.9.1. **Bayes naïf gaussien**<br/>([_Gaussian Naive Bayes_](https://scikit-learn.org/stable/modules/naive_bayes.html#gaussian-naive-bayes))\n",
    "\n",
    "[**`GaussianNB`**](https://scikit-learn.org/stable/modules/generated/sklearn.naive_bayes.GaussianNB.html#sklearn.naive_bayes.GaussianNB) implémente l'algorithme Bayes naïf gaussien pour la classification. On suppose que la vraisemblance des caractéristiques suit une distribution gaussienne :\n",
    "\n",
    "$$\n",
    "P(x_i \\mid y) = \\frac{1}{\\sqrt{2\\pi\\sigma^2_y}} \\exp\\left(-\\frac{(x_i - \\mu_y)^2}{2\\sigma^2_y}\\right)\n",
    "$$\n",
    "\n",
    "Les paramètres $\\sigma_y$ et $\\mu_y$ sont estimés en utilisant la méthode du maximum de vraisemblance."
   ]
  },
  {
   "cell_type": "code",
   "execution_count": 1,
   "metadata": {},
   "outputs": [
    {
     "name": "stdout",
     "output_type": "stream",
     "text": [
      "Number of mislabeled points out of a total 75 points : 4\n"
     ]
    }
   ],
   "source": [
    "from sklearn.datasets import load_iris\n",
    "from sklearn.model_selection import train_test_split\n",
    "from sklearn.naive_bayes import GaussianNB\n",
    "X, y = load_iris(return_X_y=True)\n",
    "X_train, X_test, y_train, y_test = train_test_split(X, y, test_size=0.5, random_state=0)\n",
    "gnb = GaussianNB()\n",
    "y_pred = gnb.fit(X_train, y_train).predict(X_test)\n",
    "print(\"Number of mislabeled points out of a total %d points : %d\"\n",
    "      % (X_test.shape[0], (y_test != y_pred).sum()))\n",
    "# Number of mislabeled points out of a total 75 points : 4"
   ]
  },
  {
   "cell_type": "markdown",
   "metadata": {},
   "source": [
    "## <a id='multinomial-naive-bayes'></a> 1.9.2. **Bayes naïf multinomial**<br/>([_Multinomial Naive Bayes_](https://scikit-learn.org/stable/modules/naive_bayes.html#multinomial-naive-bayes))\n",
    "\n",
    "[**`MultinomialNB`**](https://scikit-learn.org/stable/modules/generated/sklearn.naive_bayes.MultinomialNB.html#sklearn.naive_bayes.MultinomialNB) implémente l'algorithme Bayes naïf pour les données à distribution multinomiale. C'est l'une des deux variantes classiques de Bayes naïf utilisées en classification de texte (où les données sont généralement représentées sous forme de comptages de vecteurs de mots, bien que les vecteurs tf-idf soient également connus pour bien fonctionner en pratique). La distribution est paramétrée par des vecteurs $\\theta_y = (\\theta_{y1},\\ldots,\\theta_{yn})$ pour chaque classe $y$, où $n$ est le nombre de caractéristiques (en classification de texte, la taille du vocabulaire) et $\\theta_{yi}$ est la probabilité $P(x_i \\mid y)$ que la caractéristique $i$ apparaisse dans un échantillon appartenant à la classe $y$.\n",
    "\n",
    "Les paramètres $\\theta_y$ sont estimés par une version lissée de la méthode du maximum de vraisemblance, c'est-à-dire en comptant la fréquence relative :\n",
    "\n",
    "$$\n",
    "\\hat{\\theta}_{yi} = \\frac{N_{yi} + \\alpha}{N_y + \\alpha n}\n",
    "$$\n",
    "\n",
    "où $N_{yi} = \\sum_{x \\in T} x_i$ est le nombre de fois où la caractéristique $i$ apparaît dans un échantillon de la classe $y$ dans l'ensemble d'apprentissage $T$, et $N_{y} = \\sum_{i=1}^{n} N_{yi}$ est le nombre total de toutes les caractéristiques de la classe $y$.\n",
    "\n",
    "Les paramètres de lissage $\\alpha \\ge 0$ tiennent compte des caractéristiques absentes dans les échantillons d'apprentissage et évitent les probabilités nulles dans les calculs ultérieurs. Lorsque $\\alpha = 1$, on parle de lissage de Laplace, tandis que $\\alpha < 1$ est appelé lissage de Lidstone."
   ]
  },
  {
   "cell_type": "markdown",
   "metadata": {},
   "source": [
    "## <a id='complement-naive-bayes'></a> 1.9.3. **Bayes naïf complémentaire**<br/>([_Complement Naive Bayes_](https://scikit-learn.org/stable/modules/naive_bayes.html#complement-naive-bayes))\n",
    "\n",
    "[**`ComplementNB`**](https://scikit-learn.org/stable/modules/generated/sklearn.naive_bayes.ComplementNB.html#sklearn.naive_bayes.ComplementNB) implémente l'algorithme du Bayes naïf complémentaire (CNB). Le CNB est une adaptation de l'algorithme standard du Bayes naïf multinomial (MNB) qui est particulièrement adapté aux ensembles de données déséquilibrés. Plus précisément, le CNB utilise des statistiques du _complément_ de chaque classe pour calculer les poids du modèle. Les inventeurs du CNB montrent empiriquement que les estimations des paramètres du CNB sont plus stables que celles du MNB. De plus, le CNB surpasse régulièrement le MNB (souvent de manière considérable) dans les tâches de classification de texte. Le processus de calcul des poids est le suivant :\n",
    "\n",
    "$$\n",
    "\\begin{align*}\\begin{aligned}\n",
    "\\hat{\\theta}_{ci} = \\frac{\\alpha_i + \\sum_{j:y_j \\neq c} d_{ij}}\n",
    "{\\alpha + \\sum_{j:y_j \\neq c} \\sum_{k} d_{kj}}\\\\w_{ci} = \\log \\hat{\\theta}_{ci}\\\\\n",
    "w_{ci} = \\frac{w_{ci}}{\\sum_{j} |w_{cj}|}\n",
    "\\end{aligned}\\end{align*}\n",
    "$$\n",
    "\n",
    "où les sommes portent sur tous les documents $j$ qui ne sont pas dans la classe $c$, $d_{ij}$ est soit le décompte, soit la valeur tf-idf du terme $i$ dans le document $j$, $\\alpha_i$ est un hyperparamètre de lissage comme celui que l'on trouve dans le MNB, et $\\alpha = \\sum_{i} \\alpha_i$. La deuxième normalisation traite la tendance des documents plus longs à dominer les estimations des paramètres dans le MNB. La règle de classification est la suivante :\n",
    "\n",
    "$$\n",
    "\\hat{c} = \\arg\\min_c \\sum_{i} t_i w_{ci}\n",
    "$$\n",
    "\n",
    "c'est-à-dire qu'un document est assigné à la classe qui est le _complément le moins bon_.\n",
    "\n",
    "### Références\n",
    "\n",
    "🔬 Rennie, J. D., Shih, L., Teevan, J., & Karger, D. R. (2003). [**“Tackling the Poor Assumptions of Naive Bayes Text Classifiers”**](https://people.csail.mit.edu/jrennie/papers/icml03-nb.pdf). In ICML (Vol. 3, pp. 616-623)."
   ]
  },
  {
   "cell_type": "markdown",
   "metadata": {},
   "source": [
    "## <a id='bernoulli-naive-bayes'></a> 1.9.4. **Bayes naïf Bernoulli**<br/>([_Bernoulli Naive Bayes_](https://scikit-learn.org/stable/modules/naive_bayes.html#bernoulli-naive-bayes))\n",
    "\n",
    "[**`BernoulliNB`**](https://scikit-learn.org/stable/modules/generated/sklearn.naive_bayes.BernoulliNB.html#sklearn.naive_bayes.BernoulliNB) implémente les algorithmes d'entraînement et de classification du Bayes naïf pour des données distribuées selon des lois de Bernoulli multivariées ; c'est-à-dire, il peut y avoir de multiples caractéristiques, mais on suppose que chacune d'entre elles est une variable binaire (Bernoulli, booléenne). Par conséquent, cette classe nécessite que les échantillons soient représentés sous forme de vecteurs de caractéristiques à valeurs binaires ; si on lui fournit un autre type de données, une instance de `BernoulliNB` peut binariser son entrée (selon le paramètre `binarize`).\n",
    "\n",
    "La règle de décision pour le Bayes naïf Bernoulli est basée sur\n",
    "\n",
    "$$\n",
    "P(x_i \\mid y) = P(x_i = 1 \\mid y) x_i + (1 - P(x_i = 1 \\mid y)) (1 - x_i)\n",
    "$$\n",
    "\n",
    "ce qui diffère de la règle du Bayes naïf multinomial en ce sens qu'il pénalise explicitement la non-occurrence d'une caractéristique qui est un indicateur de la classe $y$, tandis que la variante multinomiale ignorerait simplement une caractéristique non-occurrence.\n",
    "\n",
    "Dans le cas de la classification de texte, des vecteurs d'occurrence de mots (plutôt que des vecteurs de décompte de mots) peuvent être utilisés pour entraîner et utiliser ce classifieur. `BernoulliNB` pourrait mieux fonctionner sur certains ensembles de données, en particulier ceux avec des documents plus courts. Il est conseillé d'évaluer les deux modèles, si le temps le permet.\n",
    "\n",
    "### Références\n",
    "\n",
    "📚 C.D. Manning, P. Raghavan, H. Schütze, [**“Introduction to Information Retrieval”**](https://nlp.stanford.edu/IR-book/pdf/irbookonlinereading.pdf). Cambridge University Press, pp. 234-265.\n",
    "\n",
    "🔬 A. McCallum and K. Nigam (1998). [**“A Comparison of Event Models for Naive Bayes Text Classification”**](http://courses.washington.edu/ling572/papers/mccallum1998_AAAI.pdf). Proc. AAAI/ICML-98 Workshop on Learning for Text Categorization, pp. 41-48.\n",
    "\n",
    "🔬 V. Metsis, I. Androutsopoulos and G. Paliouras (2006). [**“Spam filtering with Naive Bayes – Which Naive Bayes?”**](https://userweb.cs.txstate.edu/~v_m137/docs/papers/ceas2006_paper_corrected.pdf) 3rd Conf. on Email and Anti-Spam (CEAS)."
   ]
  },
  {
   "cell_type": "markdown",
   "metadata": {},
   "source": [
    "## <a id='categorical-naive-bayes'></a> 1.9.5. **Bayes naïf catégoriel**<br/>([_Categorical Naive Bayes_](https://scikit-learn.org/stable/modules/naive_bayes.html#categorical-naive-bayes))\n",
    "\n",
    "[**`CategoricalNB`**](https://scikit-learn.org/stable/modules/generated/sklearn.naive_bayes.CategoricalNB.html#sklearn.naive_bayes.CategoricalNB) implémente l'algorithme du Bayes naïf catégoriel pour des données à distribution catégorielle. Il suppose que chaque caractéristique, décrite par l'indice $i$, possède sa propre distribution catégorielle.\n",
    "\n",
    "Pour chaque caractéristique $i$ dans l'ensemble d'entraînement $X$, [**`CategoricalNB`**](https://scikit-learn.org/stable/modules/generated/sklearn.naive_bayes.CategoricalNB.html#sklearn.naive_bayes.CategoricalNB) estime une distribution catégorielle pour chaque caractéristique $i$ de $X$ conditionnée à la classe $y$. L'ensemble d'indices des échantillons est défini comme $J = \\{1, \\ldots, m\\}$, avec $m$ étant le nombre d'échantillons.\n",
    "\n",
    "La probabilité de la catégorie $t$ dans la caractéristique $i$ étant donné la classe $c$ est estimée comme suit :\n",
    "\n",
    "$$\n",
    "P(x_i = t \\mid y = c \\: ;\\, \\alpha) = \\frac{N_{tic} + \\alpha}{N_{c} + \\alpha n_i},\n",
    "$$\n",
    "\n",
    "où $N_{tic} = |\\{j \\in J \\mid x_{ij} = t, y_j = c\\}|$ est le nombre de fois où la catégorie $t$ apparaît dans les échantillons $x_{i}$, qui appartiennent à la classe $c$, $N_{c} = |\\{ j \\in J\\mid y_j = c\\}|$ est le nombre d'échantillons de la classe $c$, $\\alpha$ est un paramètre de lissage et $n_i$ est le nombre de catégories disponibles pour la caractéristique $i$.\n",
    "\n",
    "[**`CategoricalNB`**](https://scikit-learn.org/stable/modules/generated/sklearn.naive_bayes.CategoricalNB.html#sklearn.naive_bayes.CategoricalNB) suppose que la matrice d'échantillons $X$ est encodée (par exemple, à l'aide de [**`OrdinalEncoder`**](https://scikit-learn.org/stable/modules/generated/sklearn.preprocessing.OrdinalEncoder.html#sklearn.preprocessing.OrdinalEncoder)) de telle manière que toutes les catégories pour chaque caractéristique $i$ soient représentées par des nombres de $0$ à $n_i - 1$, où $n_i$ est le nombre de catégories disponibles pour la caractéristique $i$."
   ]
  },
  {
   "cell_type": "markdown",
   "metadata": {},
   "source": [
    "## <a id='out-of-core-naive-bayes-model-fitting'></a> 1.9.6. **Ajustement de modèle Bayes naïf hors ligne**<br/>([_Out-of-core naive Bayes model fitting_](https://scikit-learn.org/stable/modules/naive_bayes.html#out-of-core-naive-bayes-model-fitting))\n",
    "\n",
    "Les modèles de Bayes naïf peuvent être utilisés pour résoudre des problèmes de classification à grande échelle pour lesquels l'ensemble d'entraînement complet pourrait ne pas tenir en mémoire. Pour gérer ce cas, [**`MultinomialNB`**](https://scikit-learn.org/stable/modules/generated/sklearn.naive_bayes.MultinomialNB.html#sklearn.naive_bayes.MultinomialNB), [**`BernoulliNB`**](https://scikit-learn.org/stable/modules/generated/sklearn.naive_bayes.BernoulliNB.html#sklearn.naive_bayes.BernoulliNB) et [**`GaussianNB`**](https://scikit-learn.org/stable/modules/generated/sklearn.naive_bayes.GaussianNB.html#sklearn.naive_bayes.GaussianNB) exposent une méthode `partial_fit` qui peut être utilisée de manière progressive, comme avec d'autres classifieurs, comme illustré dans [**La classification hors ligne de documents textuels**](https://scikit-learn.org/stable/auto_examples/applications/plot_out_of_core_classification.html#sphx-glr-auto-examples-applications-plot-out-of-core-classification-py). Tous les classifieurs Bayes naïfs prennent en charge la pondération des échantillons.\n",
    "\n",
    "Contrairement à la méthode `fit`, le premier appel à `partial_fit` doit être passé la liste de toutes les étiquettes de classe attendues.\n",
    "\n",
    "Pour un aperçu des stratégies disponibles dans scikit-learn, consultez également la documentation sur l'[**apprentissage hors ligne** (8.1)](https://scikit-learn.org/stable/computing/scaling_strategies.html#scaling-strategies).\n",
    "\n",
    "> **Remarque :** L'appel de la méthode `partial_fit` des modèles Bayes naïfs introduit une certaine surcharge de calcul. Il est recommandé d'utiliser des tailles de fragments de données aussi grandes que possible, c'est-à-dire celles autorisées par la RAM disponible."
   ]
  }
 ],
 "metadata": {
  "kernelspec": {
   "display_name": "Python 3",
   "language": "python",
   "name": "python3"
  },
  "language_info": {
   "codemirror_mode": {
    "name": "ipython",
    "version": 3
   },
   "file_extension": ".py",
   "mimetype": "text/x-python",
   "name": "python",
   "nbconvert_exporter": "python",
   "pygments_lexer": "ipython3",
   "version": "3.11.1"
  }
 },
 "nbformat": 4,
 "nbformat_minor": 2
}
