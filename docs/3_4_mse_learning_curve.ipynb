{
 "cells": [
  {
   "cell_type": "markdown",
   "metadata": {},
   "source": [
    "# <a id='model-selection-and-evaluation'></a> 3. [**Sélection et évaluation de modèle**](https://nbviewer.org/github/Franck-PepperLabs/pepper_data-science_practising/blob/main/Sklearn/3_model_selection_and_evaluation.ipynb#model-selection-and-evaluation)</br>([*Model selection and evaluation*](https://scikit-learn.org/stable/model_selection.html#model-selection-and-evaluation))\n",
    "\n",
    "# 3.4. [**Courbes de validation : tracer des scores pour évaluer des modèles**](https://nbviewer.org/github/Franck-PepperLabs/pepper_data-science_practising/blob/main/Sklearn/3_model_selection_and_evaluation.ipynb#validation-curves-plotting-scores-to-evaluate-models)<br/>([_Validation curves: plotting scores to evaluate models_](https://scikit-learn.org/stable/model_selection.html#validation-curves-plotting-scores-to-evaluate-models))"
   ]
  },
  {
   "cell_type": "markdown",
   "metadata": {},
   "source": [
    "# Sommaire\n",
    "\n",
    "- **Volume** : 6 pages, 3 exemples, 0 papiers\n",
    "- 3.4.1. [**Courbe de validation**](https://nbviewer.org/github/Franck-PepperLabs/pepper_data-science_practising/blob/main/Sklearn/3_model_selection_and_evaluation.ipynb#validation-curve)<br/>([_Validation curve_](https://scikit-learn.org/stable/model_selection.html#validation-curve))\n",
    "- 3.4.2. [**Courbe d'apprentissage**](https://nbviewer.org/github/Franck-PepperLabs/pepper_data-science_practising/blob/main/Sklearn/3_model_selection_and_evaluation.ipynb#learning-curve)<br/>([_Learning curve_](https://scikit-learn.org/stable/model_selection.html#learning-curve))"
   ]
  }
 ],
 "metadata": {
  "language_info": {
   "name": "python"
  },
  "orig_nbformat": 4
 },
 "nbformat": 4,
 "nbformat_minor": 2
}
