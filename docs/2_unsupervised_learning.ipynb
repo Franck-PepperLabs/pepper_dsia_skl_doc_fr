{
 "cells": [
  {
   "cell_type": "markdown",
   "metadata": {},
   "source": [
    "# <a id='unsupervised-learning'></a> 2. [**Apprentissage non supervisé**](https://nbviewer.org/github/Franck-PepperLabs/pepper_data-science_practising/blob/main/Sklearn/2_unsupervised_learning.ipynb#model-selection-and-evaluation)</br>([*Unsupervised learning*](https://scikit-learn.org/stable/unsupervised_learning.html#unsupervised-learning))\n",
    "\n",
    "**Volume** : 151 pages, 70 exemples, 89 papiers\n",
    "\n",
    "- ✔ 2.1. [**Modèles de mélange gaussien**](https://nbviewer.org/github/Franck-PepperLabs/pepper_data-science_practising/blob/main/Sklearn/2_unsupervised_learning.ipynb#gaussian-mixture-models)<br/>([_Gaussian mixture models_](https://scikit-learn.org/stable/unsupervised_learning.html#gaussian-mixture-models))\n",
    "    - **Volume** : 11 pages, 7 exemples, <mark>0 papiers</mark>\n",
    "    - 2.1.1. [**Mélange gaussien**](https://nbviewer.org/github/Franck-PepperLabs/pepper_data-science_practising/blob/main/Sklearn/2_1_mixture.ipynb#gaussian-mixture)<br/>([_Gaussian Mixture_](https://scikit-learn.org/stable/modules/mixture.html#gaussian-mixture))\n",
    "    - 2.1.2. [**Mélange gaussien bayésien variationnel**](https://nbviewer.org/github/Franck-PepperLabs/pepper_data-science_practising/blob/main/Sklearn/2_1_mixture.ipynb#variational-bayesian-gaussian-mixture)<br/>([_Variational Bayesian Gaussian Mixture_](https://scikit-learn.org/stable/modules/mixture.html#variational-bayesian-gaussian-mixture))\n",
    "- ✔ 2.2. [**Apprentissage des variétés**](https://nbviewer.org/github/Franck-PepperLabs/pepper_data-science_practising/blob/main/Sklearn/2_unsupervised_learning.ipynb#manifold-learning)<br/>([_Manifold learning_](https://scikit-learn.org/stable/unsupervised_learning.html#manifold-learning))\n",
    "    - **Volume** : 18 pages, 2 exemples, 13 papiers\n",
    "    - 2.2.1. [**Introduction**](https://nbviewer.org/github/Franck-PepperLabs/pepper_data-science_practising/blob/main/Sklearn/2_unsupervised_learning.ipynb#introduction)<br/>([_Introduction_](https://nbviewer.org/github/Franck-PepperLabs/pepper_data-science_practising/blob/main/Sklearn/2_2_manifold.ipynb#introduction))\n",
    "    - 2.2.2. [**Isomap**](https://nbviewer.org/github/Franck-PepperLabs/pepper_data-science_practising/blob/main/Sklearn/2_unsupervised_learning.ipynb#isomap)<br/>([_Isomap_](https://nbviewer.org/github/Franck-PepperLabs/pepper_data-science_practising/blob/main/Sklearn/2_2_manifold.ipynb#isomap))\n",
    "    - 2.2.3. [**Plongement localement linéaire (LLE)**](https://nbviewer.org/github/Franck-PepperLabs/pepper_data-science_practising/blob/main/Sklearn/2_unsupervised_learning.ipynb#locally-linear-embedding)<br/>([_Locally Linear Embedding_](https://nbviewer.org/github/Franck-PepperLabs/pepper_data-science_practising/blob/main/Sklearn/2_2_manifold.ipynb#locally-linear-embedding))\n",
    "    - 2.2.4. [**Plongement localement linéaire modifié (MLLE)**](https://nbviewer.org/github/Franck-PepperLabs/pepper_data-science_practising/blob/main/Sklearn/2_unsupervised_learning.ipynb#modified-locally-linear-embedding)<br/>([_Modified Locally Linear Embedding_](https://nbviewer.org/github/Franck-PepperLabs/pepper_data-science_practising/blob/main/Sklearn/2_2_manifold.ipynb#modified-locally-linear-embedding))\n",
    "    - 2.2.5. [**Correspondance hessienne de valeurs propres (HLLE)**](https://nbviewer.org/github/Franck-PepperLabs/pepper_data-science_practising/blob/main/Sklearn/2_unsupervised_learning.ipynb#hessian-eigenmapping)<br/>([_Hessian Eigenmapping_](https://nbviewer.org/github/Franck-PepperLabs/pepper_data-science_practising/blob/main/Sklearn/2_2_manifold.ipynb#hessian-eigenmapping))\n",
    "    - 2.2.6. [**Plongement spectral**](https://nbviewer.org/github/Franck-PepperLabs/pepper_data-science_practising/blob/main/Sklearn/2_unsupervised_learning.ipynb#spectral-embedding)<br/>([_Spectral Embedding_](https://nbviewer.org/github/Franck-PepperLabs/pepper_data-science_practising/blob/main/Sklearn/2_2_manifold.ipynb#spectral-embedding))\n",
    "    - 2.2.7. [**Alignement local dans l'espace tangent (LTSA)**](https://nbviewer.org/github/Franck-PepperLabs/pepper_data-science_practising/blob/main/Sklearn/2_unsupervised_learning.ipynb#local-tangent-space-alignment)<br/>([_Local Tangent Space Alignment_](https://nbviewer.org/github/Franck-PepperLabs/pepper_data-science_practising/blob/main/Sklearn/2_2_manifold.ipynb#local-tangent-space-alignment))\n",
    "    - 2.2.8. [**Positionnement multidimensionnel (MDS)**](https://nbviewer.org/github/Franck-PepperLabs/pepper_data-science_practising/blob/main/Sklearn/2_unsupervised_learning.ipynb#multi-dimensional-scaling-mds)<br/>([_Multi-dimensional Scaling (MDS)_](https://nbviewer.org/github/Franck-PepperLabs/pepper_data-science_practising/blob/main/Sklearn/2_2_manifold.ipynb#multi-dimensional-scaling-mds))\n",
    "    - 2.2.9. [**Plongement stochastique des voisins distribués en t (t-SNE)**](https://nbviewer.org/github/Franck-PepperLabs/pepper_data-science_practising/blob/main/Sklearn/2_unsupervised_learning.ipynb#t-distributed-stochastic-neighbor-embedding-t-sne)<br/>([_t-distributed Stochastic Neighbor Embedding (t-SNE)_](https://nbviewer.org/github/Franck-PepperLabs/pepper_data-science_practising/blob/main/Sklearn/2_2_manifold.ipynb#t-distributed-stochastic-neighbor-embedding-t-sne))\n",
    "    - 2.2.10. [**Conseils pratiques**](https://nbviewer.org/github/Franck-PepperLabs/pepper_data-science_practising/blob/main/Sklearn/2_unsupervised_learning.ipynb#tips-on-practical-use)<br/>([_Tips on practical use_](https://nbviewer.org/github/Franck-PepperLabs/pepper_data-science_practising/blob/main/Sklearn/2_2_manifold.ipynb#tips-on-practical-use))\n",
    "- 2.3. [**Regroupement**](https://nbviewer.org/github/Franck-PepperLabs/pepper_data-science_practising/blob/main/Sklearn/2_unsupervised_learning.ipynb#..)<br/>([_Clustering_](https://scikit-learn.org/stable/unsupervised_learning.html#..))\n",
    "    - **Volume** : 54 pages, 20 exemples, 40 papiers\n",
    "    - 2.3.1. [**..**](https://nbviewer.org/github/Franck-PepperLabs/pepper_data-science_practising/blob/main/Sklearn/2_unsupervised_learning.ipynb#..)<br/>([_.._](https://scikit-learn.org/stable/unsupervised_learning.html#..))\n",
    "    * 2.3.1. Présentation des méthodes de clustering\n",
    "    * 2.3.2. K-means\n",
    "    * 2.3.3. Propagation par affinité\n",
    "    * 2.3.4. Décalage moyen\n",
    "    * 2.3.5. Regroupement spectral\n",
    "    * 2.3.6. Classification hiérarchique\n",
    "    * 2.3.7. DBSCAN\n",
    "    * 2.3.8. OPTICS\n",
    "    * 2.3.9. BIRCH\n",
    "    * 2.3.10. Évaluation des performances de clustering\n",
    "- ✔ 2.4. [**Regroupement double**](https://nbviewer.org/github/Franck-PepperLabs/pepper_data-science_practising/blob/main/Sklearn/2_unsupervised_learning.ipynb#biclustering)<br/>([_Biclustering_](https://scikit-learn.org/stable/unsupervised_learning.html#biclustering))\n",
    "    - 2.4.1. [**Regroupement conjoint spectral (_Co-Clustering_ spectral)**](https://nbviewer.org/github/Franck-PepperLabs/pepper_data-science_practising/blob/main/Sklearn/2_4_biclustering.ipynb#spectral-co-clustering)<br/>([_Spectral Co-Clustering_](https://scikit-learn.org/stable/modules/biclustering.html#spectral-co-clustering))\n",
    "    - 2.4.2. [**Regroupement double spectral (_Biclustering_ spectral)**](https://nbviewer.org/github/Franck-PepperLabs/pepper_data-science_practising/blob/main/Sklearn/2_4_biclustering.ipynb#spectral-biclustering)<br/>([_Spectral Biclustering_](https://scikit-learn.org/stable/modules/biclustering.html#spectral-biclustering))\n",
    "    - 2.4.3. [**Évaluation du regroupement double**](https://nbviewer.org/github/Franck-PepperLabs/pepper_data-science_practising/blob/main/Sklearn/2_4_biclustering.ipynb#biclustering-evaluation)<br/>([_Biclustering evaluation_](https://scikit-learn.org/stable/modules/biclustering.html#biclustering-evaluation))\n",
    "- 2.5. [**Décomposer les signaux en composantes (problèmes de factorisation matricielle)**](https://nbviewer.org/github/Franck-PepperLabs/pepper_data-science_practising/blob/main/Sklearn/2_unsupervised_learning.ipynb#decomposing-signals-in-components-matrix-factorization-problems)<br/>([_Decomposing signals in components (matrix factorization problems)_](https://scikit-learn.org/stable/unsupervised_learning.html#decomposing-signals-in-components-matrix-factorization-problems))\n",
    "    - **Volume** : 29 pages, 18 exemples, 22 papiers\n",
    "    - 2.5.1. [**Analyse en composantes principales (ACP)**](https://nbviewer.org/github/Franck-PepperLabs/pepper_data-science_practising/blob/main/Sklearn/2_unsupervised_learning.ipynb#principal-component-analysis-pca)<br/>([_Principal component analysis (PCA)_](https://scikit-learn.org/stable/unsupervised_learning.html#principal-component-analysis-pca))\n",
    "    * 2.5.2. Analyse en composantes principales du noyau (kPCA)\n",
    "    * 2.5.3. Décomposition en valeurs singulières tronquées et analyse sémantique latente\n",
    "    * 2.5.4. Apprentissage du dictionnaire\n",
    "    * 2.5.5. Analyse factorielle\n",
    "    * 2.5.6. Analyse en composantes indépendantes (ICA)\n",
    "    * 2.5.7. Factorisation matricielle non négative (NMF ou NNMF)\n",
    "    * 2.5.8. Allocation de Dirichlet latente (LDA)\n",
    "- ✔ 2.6. [**Estimation de la covariance**](https://nbviewer.org/github/Franck-PepperLabs/pepper_data-science_practising/blob/main/Sklearn/2_6_covariance.ipynb#covariance-estimation)<br/>([_Covariance estimation_](https://scikit-learn.org/stable/modules/covariance.html#covariance-estimation))\n",
    "    - **Volume** : 9 pages, 6 exemples, 5 papiers\n",
    "    - 2.6.1. [**Covariance empirique**](https://nbviewer.org/github/Franck-PepperLabs/pepper_data-science_practising/blob/main/Sklearn/2_6_covariance.ipynb#empirical-covariance)<br/>([_Empirical covariance_](https://scikit-learn.org/stable/modules/covariance.html#empirical-covariance))\n",
    "    - 2.6.2. [**Covariance réduite**](https://nbviewer.org/github/Franck-PepperLabs/pepper_data-science_practising/blob/main/Sklearn/2_6_covariance.ipynb#shrunk-covariance)<br/>([_Shrunk Covariance_](https://scikit-learn.org/stable/modules/covariance.html#shrunk-covariance))\n",
    "    - 2.6.3. [**Covariance inverse creuse**](https://nbviewer.org/github/Franck-PepperLabs/pepper_data-science_practising/blob/main/Sklearn/2_6_covariance.ipynb#sparse-inverse-covariance)<br/>([_Sparse inverse covariance_](https://scikit-learn.org/stable/modules/covariance.html#sparse-inverse-covariance))\n",
    "    - 2.6.4. [**Estimation robuste de la covariance**](https://nbviewer.org/github/Franck-PepperLabs/pepper_data-science_practising/blob/main/Sklearn/2_6_covariance.ipynb#robust-covariance-estimation)<br/>([_Robust Covariance Estimation_](https://scikit-learn.org/stable/modules/covariance.html#robust-covariance-estimation))\n",
    "- ✔ 2.7. [**Détection de valeurs nouvelles et atypiques**](https://nbviewer.org/github/Franck-PepperLabs/pepper_data-science_practising/blob/main/Sklearn/2_7_outlier_detection.ipynb#novelty-and-outlier-detection)<br/>([_Novelty and Outlier Detection_](https://scikit-learn.org/stable/modules/outlier_detection.html#novelty-and-outlier-detection))\n",
    "    - **Volume** : 12 pages, 10 exemples, 6 papiers\n",
    "    - 2.7.1. [**Aperçu des méthodes de détection d'atypisme**](https://nbviewer.org/github/Franck-PepperLabs/pepper_data-science_practising/blob/main/Sklearn/2_7_outlier_detection.ipynb#overview-of-outlier-detection-methods)<br/>([_Overview of outlier detection methods_](https://scikit-learn.org/stable/outlier_detection.html#overview-of-outlier-detection-methods))\n",
    "    - 2.7.2. [**Détection de nouveauté**](https://nbviewer.org/github/Franck-PepperLabs/pepper_data-science_practising/blob/main/Sklearn/2_7_outlier_detection.ipynb#novelty-detection)<br/>([_Novelty Detection_](https://scikit-learn.org/stable/outlier_detection.html#novelty-detection))\n",
    "    - 2.7.3. [**Détection d'atypisme**](https://nbviewer.org/github/Franck-PepperLabs/pepper_data-science_practising/blob/main/Sklearn/2_7_outlier_detection.ipynb#outlier-detection)<br/>([_Outlier Detection_](https://scikit-learn.org/stable/outlier_detection.html#outlier-detection))\n",
    "    - 2.7.4. [**Détection de nouveauté avec Local Outlier Factor**](https://nbviewer.org/github/Franck-PepperLabs/pepper_data-science_practising/blob/main/Sklearn/2_7_outlier_detection.ipynb#novelty-detection-with-local-outlier-factor)<br/>([_Novelty detection with Local Outlier Factor_](https://scikit-learn.org/stable/outlier_detection.html#novelty-detection-with-local-outlier-factor))\n",
    "- ✔ 2.8. [**Estimation de la densité**](https://nbviewer.org/github/Franck-PepperLabs/pepper_data-science_practising/blob/main/Sklearn/2_8_density.ipynb#density-estimation)<br/>([_Density Estimation_](https://scikit-learn.org/stable/density.html#density-estimation))\n",
    "    - **Volume** : 7 pages, 3 exemples, 0 papiers\n",
    "    - 2.8.1. [**Estimation de la densité : histogrammes**](https://nbviewer.org/github/Franck-PepperLabs/pepper_data-science_practising/blob/main/Sklearn/2_8_density.ipynb#density-estimation-histograms)<br/>([_Density Estimation: Histograms_](https://scikit-learn.org/stable/density.html#density-estimation-histograms))\n",
    "    - 2.8.2. [**Estimation de la densité du noyau**](https://nbviewer.org/github/Franck-PepperLabs/pepper_data-science_practising/blob/main/Sklearn/2_8_density.ipynb#kernel-density-estimation)<br/>([_Kernel Density Estimation_](https://scikit-learn.org/stable/modules/density.html#kernel-density-estimation))\n",
    "- ✔ 2.9. [**Modèles de réseaux de neurones (non supervisés)**](https://nbviewer.org/github/Franck-PepperLabs/pepper_data-science_practising/blob/main/Sklearn/2_9_neural_networks_unsupervised.ipynb#neural-network-models-unsupervised)<br/>([_Neural network models (unsupervised)_](https://scikit-learn.org/stable/neural_networks_unsupervised.html#neural-network-models-unsupervised))\n",
    "    - **Volume** : 4 pages, 1 exemples, 2 papiers\n",
    "    - 2.9.1. [**Machines Boltzmann restreintes**](https://nbviewer.org/github/Franck-PepperLabs/pepper_data-science_practising/blob/main/Sklearn/2_9_neural_networks_unsupervised.ipynb#restricted-boltzmann-machines)<br/>([_Restricted Boltzmann machines_](https://scikit-learn.org/stable/neural_networks_unsupervised.html#restricted-boltzmann-machines))"
   ]
  }
 ],
 "metadata": {
  "kernelspec": {
   "display_name": "Python 3.9.12 ('base')",
   "language": "python",
   "name": "python3"
  },
  "language_info": {
   "codemirror_mode": {
    "name": "ipython",
    "version": 3
   },
   "file_extension": ".py",
   "mimetype": "text/x-python",
   "name": "python",
   "nbconvert_exporter": "python",
   "pygments_lexer": "ipython3",
   "version": "3.9.12 (main, Apr  4 2022, 05:22:27) [MSC v.1916 64 bit (AMD64)]"
  },
  "orig_nbformat": 4,
  "vscode": {
   "interpreter": {
    "hash": "e03b612d84ba21ce95ed447e81b3062e1eb99b56c6d885cdab4aaa12f1b8e240"
   }
  }
 },
 "nbformat": 4,
 "nbformat_minor": 2
}
