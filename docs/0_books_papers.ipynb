{
 "cells": [
  {
   "attachments": {},
   "cell_type": "markdown",
   "metadata": {},
   "source": [
    "- 🔬 : articles ou les papiers de recherche.\n",
    "- 📚 : livres ou les ouvrages.\n",
    "- 📰 : articles de presse ou les revues.\n",
    "- 🌐 : articles Wikipédia ou autres encyclopédies en ligne."
   ]
  },
  {
   "attachments": {},
   "cell_type": "markdown",
   "metadata": {},
   "source": [
    "# Books\n",
    "\n",
    "📚 [H2009] T. Hastie, R. Tibshirani et J. Friedman, [“**Elements of Statistical Learning Ed. 2**](https://hastie.su.domains/Papers/ESLII.pdf)[”](https://drive.google.com/file/d/1wbK7Ii8bQliX7D3rKyGoR0-gxqJZ11iN/view?usp=share_link), Springer, 2009.\n",
    "\n",
    "📚 [M2019] C. Molnar, [“**Interpretable Machine Learning**”](https://christophm.github.io/interpretable-ml-book/), 2019."
   ]
  },
  {
   "attachments": {},
   "cell_type": "markdown",
   "metadata": {},
   "source": [
    "# OpenCV, etc, .. autres sources\n",
    "\n",
    "Chris Harris & Mike Stephens in their paper A Combined Corner and Edge Detector\n",
    "\n",
    "https://www.semanticscholar.org/paper/A-Combined-Corner-and-Edge-Detector-Harris-Stephens/6818668fb895d95861a2eb9673ddc3a41e27b3b3\n",
    "\n",
    "https://drive.google.com/file/d/1mHnl8dq4RTN-3sGMn2Gvqsi1k6XYPYKD/view?usp=share_link\n",
    "\n",
    "\n",
    "Later in 1994, J. Shi and C. Tomasi made a small modification to it in their paper Good Features to Track \n",
    "\n",
    "https://www.semanticscholar.org/paper/Good-features-to-track-Shi-Tomasi/2ab46391005cea85fa5c204b6e77a9c870fdbaed\n",
    "\n",
    "https://drive.google.com/file/d/1s060VY4dtyfNZJkR5cOTDf5R_7VQjgqh/view?usp=share_link\n",
    "\n",
    "\n",
    "2004, D.Lowe, University of British Columbia\n",
    "\n",
    "[\"Distinctive Image Features from Scale-Invariant Keypoints\"](https://www.cs.ubc.ca/~lowe/papers/ijcv04.pdf)\n",
    "\n",
    "https://drive.google.com/file/d/1yXXw7-6iWtQyX-cx8yRdIDsAkZz78Tm2/view?usp=share_link\n",
    "\n",
    "En 2006, trois personnes, Bay, H., Tuytelaars, T. et Van Gool, L, ont publié un autre article, [\"SURF: Speeded Up Robust Features\"](https://people.ee.ethz.ch/~surf/eccv06.pdf)\n",
    "\n",
    "https://drive.google.com/file/d/1_ePqFwUCEb-R8BOLrZU4uTKzCgSty_MF/view?usp=share_link"
   ]
  },
  {
   "attachments": {},
   "cell_type": "markdown",
   "metadata": {},
   "source": [
    "# Papers\n",
    "\n",
    "[Friedman2001] (1,2,3,4) Friedman, J.H. [“**Greedy function approximation: A gradient boosting machine**](https://projecteuclid.org/journals/annals-of-statistics/volume-29/issue-5/Greedy-function-approximation-A-gradient-boosting-machine/10.1214/aos/1013203451.full)[”](https://drive.google.com/file/d/1voZldAUTto1QS8z459_ZAEKalwo-uaE6/view?usp=share_link). Annals of Statistics, 29, 1189-1232, 2001.\n",
    "\n",
    "[Friedman2002] Friedman, J.H. [“**Stochastic gradient boosting.**](https://jerryfriedman.su.domains/ftp/stobst.pdf)[”](https://drive.google.com/file/d/1FXSz7-PvPPKxGMmr9aU0gRELhJzV0yyX/view?usp=share_link) Computational Statistics & Data Analysis, 38, 367-378, 2002\n",
    "\n",
    "[R2007] G. Ridgeway [“**Generalized Boosted Models: A guide to the gbm package**](https://cran.r-project.org/web/packages/gbm/vignettes/gbm.pdf)[”](https://drive.google.com/file/d/1ZqCUt3KbiZQkfyVHHIykj3KCGAeTY7j5/view?usp=share_link), 2006\n",
    "\n",
    "[G2015] A. Goldstein, A. Kapelner, J. Bleich, and E. Pitkin, [“**Peeking Inside the Black Box: Visualizing Statistical Learning With Plots of Individual Conditional Expectation**](https://arxiv.org/abs/1309.6392)[”](https://drive.google.com/file/d/1zGXt3Wk54sYV4fJaj4lhuotHDlQ9CLsN/view?usp=share_link). Journal of Computational and Graphical Statistics, 24(1): 44-65, 2015\n",
    "\n",
    "\n",
    "[B2001] L. Breiman, [“**Random Forests**](https://link.springer.com/content/pdf/10.1023/A:1010933404324.pdf)[”](https://drive.google.com/file/d/1Kb5Z81PDb2d_HGi0OBzJjWOzIq834G0y/view?usp=share_link), Machine Learning, 45(1), 5-32, 2001.\n",
    "\n",
    "\n",
    "[H2008] T. Hofmann, B. Schölkopf, A. J. Smola [“**Kernel methods in machine learning**]()[”](https://drive.google.com/file/d/1YrhL8PFhVpbKV3PajXDpwxxVsfBthD4x/view?usp=share_link)\n",
    "\n",
    "\n",
    "[?] M. Hein, O. Bousquet [“**Hilbertian Metrics and Positive Definite Kernels on Probability Measures**]()[”](https://drive.google.com/file/d/189LXiiglOH6PPpetTk4Q_ouiDLnIN5zD/view?usp=share_link)\n",
    "\n",
    "\n",
    "[?2010] J. Friedman, T. Hastie, R. Tibshirani [“**Regularization Paths for Generalized Linear Models via Coordinate Descent**]()[”](https://drive.google.com/file/d/1lq8dqCqQ2QWF-aZ31LYO6_KWa6VSbzhL/view?usp=share_link)\n",
    "\n"
   ]
  },
  {
   "attachments": {},
   "cell_type": "markdown",
   "metadata": {},
   "source": [
    "## 2.2 Variétés\n",
    "\n",
    "[“**A global geometric framework for nonlinear dimensionality reduction**](https://www.science.org/doi/10.1126/science.290.5500.2319)[”](https://drive.google.com/file/d/1O1La5-3gEhlpmgVZot2LcZmdkl9cIv3w/view?usp=share_link) Tenenbaum, J.B.; De Silva, V.; & Langford, J.C. Science 290 (5500) PMID: 11125149 DOI: 10.1126/science.290.5500.2319\n",
    "\n",
    "[“**Nonlinear dimensionality reduction by locally linear embedding**](https://www.science.org/doi/10.1126/science.290.5500.2323)[”](https://drive.google.com/file/d/1bLGwpuA7jnoYqF4W5PkooZwAyhrZN7d9/view?usp=share_link) Roweis, S. & Saul, L. Science 290:2323 (2000) DOI:10.1126/SCIENCE.290.5500.2323Corpus ID: 5987139\n",
    "\n",
    "[“**MLLE: Modified Locally Linear Embedding Using Multiple Weights**](https://citeseerx.ist.psu.edu/doc_view/pid/0b060fdbd92cbcc66b383bcaa9ba5e5e624d7ee3)[”](https://drive.google.com/file/d/1u28tZprjY5Hj2dn4eUHlIACutnbolZMo/view?usp=share_link) Zhang, Z. & Wang, J. DOI:10.7551/mitpress/7503.003.0204Corpus ID: 15481825\n",
    "\n",
    "[“**Hessian Eigenmaps: Locally linear embedding techniques for high-dimensional data**](https://www.pnas.org/doi/10.1073/pnas.1031596100)[”](https://drive.google.com/file/d/1QDsM5lUYYXGta8hGLsiAKWNcoAI8q2Nx/view?usp=share_link) Donoho, D. & Grimes, C. Proc Natl Acad Sci USA. 100:5591 (2003)\n",
    "\n",
    "[“**Laplacian Eigenmaps for Dimensionality Reduction and Data Representation**](https://web.cse.ohio-state.edu/~belkin.8/papers/LEM_NC_03.pdf)[”](https://drive.google.com/file/d/1Ap41yNxmeAkz1qn_P8jpTaEnTcO0d3h9/view?usp=share_link) M. Belkin, P. Niyogi, Neural Computation, June 2003; 15 (6):1373-1396\n",
    "\n",
    "[“**Principal manifolds and nonlinear dimensionality reduction via tangent space alignment**](https://arxiv.org/abs/cs/0212008)[”](https://drive.google.com/file/d/1VLFHVvkLFlDiCOm3qzH3SNZ6Itojdz2g/view?usp=share_link) Zhang, Z. & Zha, H. Journal of Shanghai Univ. 8:406 (2004)\n",
    "\n",
    "[“**Modern Multidimensional Scaling - Theory and Applications**](https://link.springer.com/book/10.1007/0-387-28981-X)[”](https://drive.google.com/file/d/1VkI6hCu7jD53IUf8e0l2XRZp-Hbmw60j/view?usp=share_link) Borg, I.; Groenen P. Springer Series in Statistics (1997)\n",
    "\n",
    "[“**Nonmetric multidimensional scaling: a numerical method**](http://cda.psych.uiuc.edu/psychometrika_highly_cited_articles/kruskal_1964b.pdf)[”](https://drive.google.com/file/d/1MJmlG36RbYf0ZFwB-1t9SB6fHTvJsWEW/view?usp=share_link) Kruskal, J. Psychometrika, 29 (1964)\n",
    "\n",
    "[“**Multidimensional scaling by optimizing goodness of fit to a nonmetric hypothesis**](http://cda.psych.uiuc.edu/psychometrika_highly_cited_articles/kruskal_1964a.pdf)[”](https://drive.google.com/file/d/1jXd7szGJr73654L075ZG52BgiFCPqckW/view?usp=share_link) Kruskal, J. Psychometrika, 29, (1964)\n",
    "\n",
    "[“**Visualizing High-Dimensional Data Using t-SNE**](https://jmlr.org/papers/v9/vandermaaten08a.html)[”](https://drive.google.com/file/d/1Q89rllRipYMKaQEK4FAlUjdZytE76OSa/view?usp=share_link) van der Maaten, L.J.P.; Hinton, G. Journal of Machine Learning Research (2008)\n",
    "\n",
    "[“**t-Distributed Stochastic Neighbor Embedding**”](https://lvdmaaten.github.io/tsne/) van der Maaten, L.J.P.\n",
    "\n",
    "[“**Accelerating t-SNE using Tree-Based Algorithms**](https://lvdmaaten.github.io/publications/papers/JMLR_2014.pdf)[”](https://drive.google.com/file/d/1SP6ls2GMn89ZbpFZ8uOVy2CW3XY4aRSq/view?usp=share_link) van der Maaten, L.J.P.; Journal of Machine Learning Research 15(Oct):3221-3245, 2014.\n",
    "\n",
    "[“**Automated optimized parameters for T-distributed stochastic neighbor embedding improve visualization and analysis of large datasets**](https://www.nature.com/articles/s41467-019-13055-y)[”](https://drive.google.com/file/d/1a9pGWAPrDJ5OFyeQtiPwHbLRoq-FvTIr/view?usp=share_link) Belkina, A.C., Ciccolella, C.O., Anno, R., Halpert, R., Spidlen, J., Snyder-Cappione, J.E., Nature Communications 10, 5415 (2019)."
   ]
  },
  {
   "attachments": {},
   "cell_type": "markdown",
   "metadata": {},
   "source": [
    "## 2.5 Décomposition\n",
    "\n",
    "Algorithm 4.3 in [“**Finding structure with randomness: Stochastic algorithms for constructing approximate matrix decompositions**](https://arxiv.org/abs/0909.4061)[”](https://drive.google.com/file/d/1O9-E0VIScKwDGpK-TMI9C--xscgOfJMY/view?usp=share_link) Halko, et al., 2009\n",
    "\n",
    "[“**An implementation of a randomized algorithm for principal component analysis**](https://arxiv.org/abs/1412.3510)[”](https://drive.google.com/file/d/133PgG41En86q1mYcFUfvMj8DK1wCT-0k/view?usp=share_link) A. Szlam et al. 2014\n",
    "\n",
    "\n",
    "[Mrl09] [“**Online Dictionary Learning for Sparse Coding**](https://www.di.ens.fr/sierra/pdfs/icml09.pdf)[”](https://drive.google.com/file/d/1Hx7MG2TRAuZ9p23Nm0EGSqDfOy3OTotL/view?usp=share_link) J. Mairal, F. Bach, J. Ponce, G. Sapiro, 2009\n",
    "\n",
    "[Jen09] [“**Structured Sparse Principal Component Analysis**](https://www.di.ens.fr/~fbach/sspca_AISTATS2010.pdf)[”](https://drive.google.com/file/d/1tSTLTpmjKI2scOWQT8o_onwLI1JEBCo5/view?usp=share_link) R. Jenatton, G. Obozinski, F. Bach, 2009\n",
    "\n",
    "[Scholkopf1997] Schölkopf, Bernhard, Alexander Smola, and Klaus-Robert Müller. [“**Kernel principal component analysis.**](https://people.eecs.berkeley.edu/~wainwrig/stat241b/scholkopf_kernel.pdf)[”](https://drive.google.com/file/d/1s20gTFGRkBDYJluOoMkH56m9cYB4S7Uf/view?usp=share_link) International conference on artificial neural networks. Springer, Berlin, Heidelberg, 1997.\n",
    "\n",
    "[Bakir2003] Bakır, Gökhan H., Jason Weston, and Bernhard Schölkopf. [“**Learning to find pre-images.**](https://papers.nips.cc/paper/2003/file/ac1ad983e08ad3304a97e147f522747e-Paper.pdf)[”](https://drive.google.com/file/d/1zCHu0fxYROQYJoMHvPX4HFctlG1IMOhO/view?usp=share_link) Advances in neural information processing systems 16 (2003): 449-456.\n",
    "\n",
    "Algorithm 4.3 in [“**Finding structure with randomness: Stochastic algorithms for constructing approximate matrix decompositions**](https://arxiv.org/abs/0909.4061)[”](https://drive.google.com/file/d/1O9-E0VIScKwDGpK-TMI9C--xscgOfJMY/view?usp=share_link) Halko, et al. (2009)\n",
    "\n",
    "[“**An implementation of a randomized algorithm for principal component analysis**](https://arxiv.org/abs/1412.3510)[”](https://drive.google.com/file/d/133PgG41En86q1mYcFUfvMj8DK1wCT-0k/view?usp=share_link) A. Szlam et al. (2014)\n",
    "\n",
    "Christopher D. Manning, Prabhakar Raghavan and Hinrich Schütze (2008), [“**Introduction to Information Retrieval**](https://nlp.stanford.edu/IR-book/pdf/18lsi.pdf)[”](https://drive.google.com/file/d/1H_KmwRi9zLlibApB1uNqr3c7ikaP4BoV/view?usp=share_link), Cambridge University Press, chapter 18: Matrix decompositions & latent semantic indexing\n",
    "\n",
    "\n",
    "### 2.5.7.3\n",
    "\n",
    "[1] [“**Learning the parts of objects by non-negative matrix factorization**](http://www.cs.columbia.edu/~blei/fogm/2020F/readings/LeeSeung1999.pdf)[”](https://drive.google.com/file/d/1ixsS5v3thm7FfzmvTqu5sY5Q7KKGFPF-/view?usp=share_link) D. Lee, S. Seung, 1999\n",
    "\n",
    "[2] [“**Non-negative Matrix Factorization with Sparseness Constraints**](https://www.jmlr.org/papers/volume5/hoyer04a/hoyer04a.pdf)[”](https://drive.google.com/file/d/1_e-MZKCEtVeMsUyynC5byY0kjp80b0kk/view?usp=share_link) P. Hoyer, 2004\n",
    "\n",
    "[4] [“**SVD based initialization: A head start for nonnegative matrix factorization**](https://www.boutsidis.org/Boutsidis_PRE_08.pdf)[”](https://drive.google.com/file/d/1xyE4McsxcbQk7MFJI17n-Yv4Q9Pvzu60/view?usp=share_link) C. Boutsidis, E. Gallopoulos, 2008\n",
    "\n",
    "[5] [“**Fast local algorithms for large scale nonnegative matrix and tensor factorizations**](https://www.researchgate.net/publication/220241471_Fast_Local_Algorithms_for_Large_Scale_Nonnegative_Matrix_and_Tensor_Factorizations)[”](https://drive.google.com/file/d/1g-lnePcoXG4KD1_tVkYCTaNHuKMb-7en/view?usp=share_link) A. Cichocki, A. Phan, 2009\n",
    "\n",
    "[6] (1,2) [“**Algorithms for nonnegative matrix factorization with the beta-divergence**](https://arxiv.org/abs/1010.1763)[”](https://drive.google.com/file/d/10Yb-ljfmdMxCV_BVaYiJiwujBBHqWkXk/view?usp=share_link) C. Fevotte, J. Idier, 2011\n",
    "\n",
    "[7] [“**Online algorithms for nonnegative matrix factorization with the Itakura-Saito divergence**](https://arxiv.org/abs/1106.4198)[”](https://drive.google.com/file/d/1lcQNCEY0Al-mAiVau80oCejKNA-iPSkG/view?usp=share_link) A. Lefevre, F. Bach, C. Fevotte, 2011\n",
    "\n",
    "### 2.5.8 LDA\n",
    "\n",
    "* [“**Latent Dirichlet Allocation**](https://www.jmlr.org/papers/volume3/blei03a/blei03a.pdf)[”](https://drive.google.com/file/d/1SDTUhg9fw_6Dsd6dFQc_jNjK4ejU9Sdc/view?usp=share_link) D. Blei, A. Ng, M. Jordan, 2003\n",
    "* [“**Online Learning for Latent Dirichlet Allocation**](https://proceedings.neurips.cc/paper/2010/file/71f6278d140af599e06ad9bf1ba03cb0-Paper.pdf)[”](https://drive.google.com/file/d/15riW5yBsxZFJfbM-WMPTcfK_K9yI7p3K/view?usp=share_link) M. Hoffman, D. Blei, F. Bach, 2010\n",
    "* [“**Stochastic Variational Inference**](https://www.cs.columbia.edu/~blei/papers/HoffmanBleiWangPaisley2013.pdf)[”](https://drive.google.com/file/d/1tJOQSEILN0nWMmyz5MU3JJyh90SyzWx0/view?usp=share_link) M. Hoffman, D. Blei, C. Wang, J. Paisley, 2013\n",
    "* [“**The varimax criterion for analytic rotation in factor analysis**](https://link.springer.com/article/10.1007/BF02289233)[”](https://drive.google.com/file/d/1PJYgFkZCIKCO-TaHevyo8BthWPjv3oxf/view?usp=share_link) H. F. Kaiser, 1958"
   ]
  },
  {
   "attachments": {},
   "cell_type": "markdown",
   "metadata": {},
   "source": [
    "## Ridge\n",
    "\n",
    "“**Notes on Regularized Least Squares**”, Rifkin & Lippert [(](https://drive.google.com/file/d/14EuBuRok9fMNfXPAExnb8-r2xBbkYU5K/view?usp=share_link)[*rapport technique*](http://cbcl.mit.edu/publications/ps/MIT-CSAIL-TR-2007-025.pdf), [*diapositives de cours*](https://www.mit.edu/~9.520/spring07/Classes/rlsslides.pdf)[)](https://drive.google.com/file/d/1EEnlzb0jI5yxebwN7atU9QnbVQwtYh0_/view?usp=share_link)."
   ]
  },
  {
   "attachments": {},
   "cell_type": "markdown",
   "metadata": {},
   "source": [
    "## ...\n",
    "\n",
    "[FS1995] Y. Freund, and R. Schapire, [“**A Decision-Theoretic Generalization of On-Line Learning and an Application to Boosting**](https://reader.elsevier.com/reader/sd/pii/S002200009791504X?token=AD1674DDF28DD408B7DDD9B0CDADA79A121E6BB81335081764FF30C2992E13A694C3122F25D23A16EB9B688BE2D01526&originRegion=eu-west-1&originCreation=20221106045206)[”](https://drive.google.com/file/d/1hSyiKvcDxWcDzjiDvRBUEUsniwiaOdun/view?usp=share_link), 1997.\n",
    "\n",
    "[ZZRH2009] J Zhu, H. Zou, S. Rosset, T. Hastie, [“**Multi-class AdaBoost**](https://www.intlpress.com/site/pub/files/_fulltext/journals/sii/2009/0002/0003/SII-2009-0002-0003-a008.pdf)[”](https://drive.google.com/file/d/1xqvN5UIc9VebtSAwMJrUI-3LPRKSaQ4g/view?usp=share_link), Statistics and Its Interface, 2009.\n",
    "\n",
    "[D1997] Drucker. [“**Improving Regressors using Boosting Techniques**](https://www.researchgate.net/profile/Harris-Drucker/publication/2424244_Improving_Regressors_Using_Boosting_Techniques/links/0deec51ae736538cec000000/Improving-Regressors-Using-Boosting-Techniques.pdf)[”](https://drive.google.com/file/d/1LpxXmeVx5UR34hPrWnHmFBp_jiNzMar_/view?usp=share_link), 1997."
   ]
  },
  {
   "attachments": {},
   "cell_type": "markdown",
   "metadata": {},
   "source": [
    "## SVM\n",
    "\n",
    "[9] Platt [“**Probabilistic outputs for SVMs and comparisons to regularized likelihood methods**](https://home.cs.colorado.edu/~mozer/Teaching/syllabi/6622/papers/Platt1999.pdf)[”](https://drive.google.com/file/d/1cBfroxgInFyZmZ52e-iYi444d5w9AI2m/view?usp=share_link).\n",
    "\n",
    "[10] Wu, Lin and Weng, [“**Probability estimates for multi-class classification by pairwise coupling**](https://www.csie.ntu.edu.tw/~cjlin/papers/svmprob/svmprob.pdf)[”](https://drive.google.com/file/d/1DH6u13pnd9xxTAO1hs3OMY7MBFyQV13X/view?usp=share_link), JMLR 5:975-1005, 2004.\n",
    "\n",
    "[11] (1,2) Fan, Rong-En, et al., [“**LIBLINEAR: A library for large linear classification**](https://www.csie.ntu.edu.tw/~cjlin/papers/liblinear.pdf)[”](https://drive.google.com/file/d/1OgxjdAxo4_OnE0e-FGBBxF59YibgI1ns/view?usp=share_link), Journal of machine learning research 9.Aug (2008): 1871-1874.\n",
    "\n",
    "[12] (1,2) Chang and Lin, [“**LIBSVM: A Library for Support Vector Machines**](https://www.csie.ntu.edu.tw/~cjlin/papers/libsvm.pdf)[”](https://drive.google.com/file/d/18YORFpFwaXxh4-Ls4rApH5HfT0r8DKgO/view?usp=share_link).\n",
    "\n",
    "[13] Bishop, [“**Pattern recognition and machine learning**](https://www.microsoft.com/en-us/research/uploads/prod/2006/01/Bishop-Pattern-Recognition-and-Machine-Learning-2006.pdf)[”](https://drive.google.com/file/d/1TPZWto6Aj4qeaOmmD5xTwZ1TcI0_WVSr/view?usp=share_link), chapter 7 Sparse Kernel Machines\n",
    "\n",
    "[14] [**“A Tutorial on Support Vector Regression**](https://web.cs.dal.ca/~tt/CSCI650806/projects/papers/SmolaSchoelkopf.pdf)[”](https://drive.google.com/file/d/1eEwkHfY3OWXAc22_rvEHZrw4BQ8gk7ou/view?usp=share_link) Alex J. Smola, Bernhard Schölkopf - Statistics and Computing archive Volume 14 Issue 3, August 2004, p. 199-222.\n",
    "\n",
    "[15] Schölkopf et. al [**“New Support Vector Algorithms**](https://www.stat.purdue.edu/~yuzhu/stat598m3/Papers/NewSVM.pdf)[”](https://drive.google.com/file/d/1auxg6rehTRbBGzxmrxl_XLVphVxSIyAS/view?usp=share_link)\n",
    "\n",
    "[16] Crammer and Singer [**“On the Algorithmic Implementation ofMulticlass Kernel-based Vector Machines**](https://jmlr.csail.mit.edu/papers/volume2/crammer01a/crammer01a.pdf)[”](https://drive.google.com/file/d/1BOEbH6RpscH2dNi-RTgRZyG0-jCZgiua/view?usp=share_link), JMLR 2001."
   ]
  },
  {
   "attachments": {},
   "cell_type": "markdown",
   "metadata": {},
   "source": [
    "## Clustering\n",
    "\n",
    "[?] Arthur, David and Sergei Vassilvitskii [“**k-means++: The advantages of careful seeding**](http://ilpubs.stanford.edu:8090/778/1/2006-13.pdf)[”](https://drive.google.com/file/d/11vuxCwPrrjuv8JakiEF5TCYyMBZzqoVg/view?usp=share_link), Actes du dix-huitième symposium annuel ACM-SIAM sur les algorithmes discrets, Society for Industrial and Applied Mathematics (2007)\n",
    "\n",
    "[?] D. Sculley [“**Web Scale K-Means clustering**](https://www.eecs.tufts.edu/~dsculley/papers/fastkmeans.pdf)[”](https://drive.google.com/file/d/1urEewuktSLJpV_PhQh7ita5O-VjRLtyw/view?usp=share_link), Proceedings of the 19th international conference on World wide web (2010)\n",
    "\n",
    "[?] Brendan J. Frey, Delbert Dueck, [“**Clustering by Passing Messages Between Data Points**](https://www.science.org/cms/asset/231f2875-11f5-44cd-98dc-b3e583f9fddd/pap.pdf)[”](https://drive.google.com/file/d/1vUPeQOsRGEJa0n6PxBqBaSShA8NJm00U/view?usp=share_link), Science Feb. 2007\n",
    "\n",
    "\n",
    "[?] Dorin Comaniciu, Peter Meer, [“**Mean Shift: A robust approach toward feature space analysis**](https://ieeexplore.ieee.org/document/1000236)[”](https://drive.google.com/file/d/1v5NOqj-DIjEZDWrZfN2yIRw_vbwMu0Ea/view?usp=share_link). IEEE Transactions on Pattern Analysis and Machine Intelligence. 2002. pp. 603-619.\n",
    "\n",
    "[?] Stella X. Yu, Jianbo Shi, [“**Multiclass spectral clustering**](http://lear.inrialpes.fr/people/triggs/events/iccv03/cdrom/iccv03/0313_yu.pdf)[”](https://drive.google.com/file/d/1JsQ_aa3BheGcipQONMcdZa0AzISuGJ-C/view?usp=share_link), 2003\n",
    "\n",
    "[?] Anil Damle, Victor Minden, Lexing Ying, [“**Simple, direct, and efficient multi-way spectral clustering**](https://doi.org/10.1093/imaiai/iay008)[”](https://drive.google.com/file/d/1eWIeV12C78cthlB7D498g3pq_QvtCofI/view?usp=share_link), 2019\n",
    "\n",
    "[?] Ulrike von Luxburg,  [“**A Tutorial on Spectral Clustering**](https://arxiv.org/pdf/0711.0189.pdf)[”](https://drive.google.com/file/d/1Hb7HwNENVUXgosAk3bG0tpcM-AhfjQdF/view?usp=share_link), 2007\n",
    "\n",
    "[?] Jianbo Shi, Jitendra Malik, [“**Normalized cuts and image segmentation**](https://people.eecs.berkeley.edu/~malik/papers/SM-ncut.pdf)[”](https://drive.google.com/file/d/1-_p-J8SktpTVCdTs140WRNpJ5qPFHbzD/view?usp=share_link), 2000\n",
    "\n",
    "[?] Marina Meila, Jianbo Shi, [“**A Random Walks View of Spectral Segmentation**](https://www.ri.cmu.edu/pub_files/pub3/maila_marina_2001_2/maila_marina_2001_2.pdf)[”](https://drive.google.com/file/d/19zsTu3Vz1NtibSD2qw_3u44uZYvsj3na/view?usp=share_link), 2001\n",
    "\n",
    "[?] Andrew Y. Ng, Michael I. Jordan, Yair Weiss, [“**On Spectral Clustering: Analysis and an algorithm**](https://proceedings.neurips.cc/paper/2001/file/801272ee79cfde7fa5960571fee36b9b-Paper.pdf)[”](https://drive.google.com/file/d/1DNbfVClFKFNdZ7ubynCUbGSvPdtUHRJG/view?usp=share_link), 2001\n",
    "\n",
    "[?] David Zhuzhunashvili, Andrew Knyazev, [“**Preconditioned Spectral Clustering for Stochastic Block Partition Streaming Graph Challenge**](https://arxiv.org/pdf/1708.07481.pdf)[”](https://drive.google.com/file/d/1QhXpbu371LnDwzTeIpidRr-YCWRA-ZJE/view?usp=share_link)"
   ]
  },
  {
   "attachments": {},
   "cell_type": "markdown",
   "metadata": {},
   "source": [
    "### 2.3.6.5. Bisecting K-Means\n",
    "\n",
    "[?] Michael Steinbach, George Karypis and Vipin Kumar, [“**A Comparison of Document Clustering Techniques**](http://www.philippe-fournier-viger.com/spmf/bisectingkmeans.pdf)[”](https://drive.google.com/file/d/1XwuyijuSlSEzdhS3UUzxfWB-K16YLoMs/view?usp=share_link), Department of Computer Science and Egineering, University of Minnesota (June 2000)\n",
    "\n",
    "[?] K.Abirami and Dr.P.Mayilvahanan, [“**Performance Analysis of K-Means and Bisecting K-Means Algorithms in Weblog Data**](https://ijeter.everscience.org/Manuscripts/Volume-4/Issue-8/Vol-4-issue-8-M-23.pdf)[”](https://drive.google.com/file/d/14ypP25t0s7Oxqg15aDqjF0T5fatoz1SM/view?usp=share_link), International Journal of Emerging Technologies in Engineering Research (IJETER) Volume 4, Issue 8, (August 2016)\n",
    "\n",
    "[?] Jian Di, Xinyue Gou, [“**Bisecting K-means Algorithm Based on K-valued Self-determining and Clustering Center Optimization**](http://www.jcomputers.us/vol13/jcp1306-01.pdf)[”](https://drive.google.com/file/d/1pTCDwE70kjr1y7GmIYfJNatHGhU58tQe/view?usp=share_link), School of Control and Computer Engineering, North China Electric Power University, Baoding, Hebei, China (August 2017)"
   ]
  },
  {
   "attachments": {},
   "cell_type": "markdown",
   "metadata": {},
   "source": [
    "## 2.3.7. DBSCAN\n",
    "\n",
    "[?] Ester, M., H. P. Kriegel, J. Sander, and X. Xu, [“**A Density-Based Algorithm for Discovering Clusters in Large Spatial Databases with Noise**](https://www.aaai.org/Papers/KDD/1996/KDD96-037.pdf)[”](https://drive.google.com/file/d/13RAM29dEJVWiyUjg1rBilvrT7k02YCl_/view?usp=share_link), In Proceedings of the 2nd International Conference on Knowledge Discovery and Data Mining, Portland, OR, AAAI Press, pp. 226–231. 1996\n",
    "\n",
    "[?] Schubert, E., Sander, J., Ester, M., Kriegel, H. P., & Xu, X., [“**DBSCAN revisited, revisited: why and how you should (still) use DBSCAN**](https://www.ccs.neu.edu/home/vip/teach/DMcourse/2_cluster_EM_mixt/notes_slides/revisitofrevisitDBSCAN.pdf)[”](https://drive.google.com/file/d/1d1W-6NPSbIiQR0cEGxzsEHkqvjTRixFZ/view?usp=share_link), In ACM Transactions on Database Systems (TODS), 42(3), 19, 2017"
   ]
  },
  {
   "attachments": {},
   "cell_type": "markdown",
   "metadata": {},
   "source": [
    "## 2.3.8. OPTICS\n",
    "\n",
    "[?] Ankerst, Mihael, Markus M. Breunig, Hans-Peter Kriegel et Jörg Sander., [“**OPTICS: ordering points to identify the clustering structure**](https://www.dbs.ifi.lmu.de/Publikationen/Papers/OPTICS.pdf)[”](https://drive.google.com/file/d/1U46lCsWPejLFLlWRBqqpYJnUsqfbNarg/view?usp=share_link), In ACM Sigmod Record, vol. 28, non. 2, p. 49-60. AMC, 1999."
   ]
  },
  {
   "attachments": {},
   "cell_type": "markdown",
   "metadata": {},
   "source": [
    "## 2.3.9. BIRCH\n",
    "\n",
    "[?] Tian Zhang, Raghu Ramakrishnan, Maron Livny [“**BIRCH: An efficient data clustering method for large databases**](https://www.cs.sfu.ca/CourseCentral/459/han/papers/zhang96.pdf)[”](https://drive.google.com/file/d/1n8-C65wdcXpHHrErzrAswXeuuBc24uas/view?usp=share_link)"
   ]
  },
  {
   "attachments": {},
   "cell_type": "markdown",
   "metadata": {},
   "source": [
    "### 2.3.10.1. Indice Rand\n",
    "\n",
    "[?] L. Hubert and P. Arabie, “**Comparing Partitions**”, Journal of Classification, 1985[.](https://drive.google.com/file/d/1tLtEWnFFD6PZ_uv8uwI_UNTBvZQTa0og/view?usp=share_link)\n",
    "\n",
    "[?] D. Steinley, “**Properties of the Hubert-Arabie adjusted Rand index**”, Psychological Methods, 2004[.](https://drive.google.com/file/d/14PJfGnsbax-DtX_guyQw6UDeBbn-O458/view?usp=share_link)\n",
    "\n",
    "[?] [Wikipedia entry for the **Rand index**](https://en.wikipedia.org/wiki/Rand_index)\n",
    "\n",
    "[?] [Wikipedia entry for the **adjusted Rand index**](https://en.wikipedia.org/wiki/Rand_index#Adjusted_Rand_index)"
   ]
  },
  {
   "attachments": {},
   "cell_type": "markdown",
   "metadata": {},
   "source": [
    "### Cours OC ACP\n",
    "\n",
    "[“**Probabilistic Principal Component Analysis**](https://www.microsoft.com/en-us/research/wp-content/uploads/2016/02/bishop-ppca-jrss.pdf)[”](https://drive.google.com/file/d/1uzKsIVj4dkJ9glZbkjNexFe2_BL5m7t9/view?usp=share_link), Journal of the Royal Statistical Society, Series B (61), 1999."
   ]
  },
  {
   "attachments": {},
   "cell_type": "markdown",
   "metadata": {},
   "source": [
    "## 2.3.10.2. **Scores basés sur l'information mutuelle**<br/>([Mutual Information based scores](https://scikit-learn.org/stable/modules/clustering.html#mutual-information-based-scores))\n",
    "\n",
    "[?] Strehl, Alexander, and Joydeep Ghosh (2002). [“**Cluster ensembles – a knowledge reuse framework for combining multiple partitions**](https://dl.acm.org/doi/pdf/10.1162/153244303321897735)[”](https://drive.google.com/file/d/1BQxDsFWFFabMlAwrmDwjFaEqIiiTMbVA/view?usp=share_link). Journal of Machine Learning Research 3: 583–617. doi:10.1162/153244303321897735.\n",
    "\n",
    "[Wikipedia entry for the **(normalized) Mutual Information**](https://en.wikipedia.org/wiki/Mutual_information)\n",
    "\n",
    "[Wikipedia entry for the **Adjusted Mutual Information**](https://en.wikipedia.org/wiki/Adjusted_mutual_information)\n",
    "\n",
    "[VEB2009] Vinh, Epps, and Bailey, (2009). [“**Information theoretic measures for clusterings comparison**](https://dl.acm.org/doi/10.1145/1553374.1553511)[”](https://drive.google.com/file/d/1TWusEcciRGg1XklzyM8P8jKVr0JwCUYf/view?usp=share_link). Proceedings of the 26th Annual International Conference on Machine Learning - ICML ‘09. doi:10.1145/1553374.1553511. ISBN 9781605585161.\n",
    "\n",
    "[VEB2010] Vinh, Epps, and Bailey, (2010). [“**Information Theoretic Measures for Clusterings Comparison: Variants, Properties, Normalization and Correction for Chance**](https://jmlr.csail.mit.edu/papers/volume11/vinh10a/vinh10a.pdf)[”](https://drive.google.com/file/d/144opdgyDLoPavOrxlMO9eh8e5TIi1hCV/view?usp=share_link). JMLR\n",
    "\n",
    "[YAT2016] Yang, Algesheimer, and Tessone, (2016). [“**A comparative analysis of community detection algorithms on artificial networks**](https://zora.uzh.ch/id/eprint/127494/1/srep30750.pdf)[”](https://drive.google.com/file/d/1Ckhyhx2Fx0lk4i94dYOwdSMnqf_hADM1/view?usp=share_link). Scientific Reports 6: 30750. doi:10.1038/srep30750."
   ]
  },
  {
   "attachments": {},
   "cell_type": "markdown",
   "metadata": {},
   "source": [
    "## 2.3.10.3. **Homogénéité, complétude et V-mesure**\n",
    "\n",
    "[?] [“**V-Measure: A conditional entropy-based external cluster evaluation measure**](https://aclanthology.org/D07-1043.pdf)[”](https://drive.google.com/file/d/1ycDJJmQqTMHp3LCR6iI1c8QjqXmYtBQn/view?usp=share_link) Andrew Rosenberg and Julia Hirschberg, 2007\n",
    "\n",
    "[B2011] [“**Identication and Characterization of Events in Social Media**](http://www.cs.columbia.edu/~hila/hila-thesis-distributed.pdf)[”](https://drive.google.com/file/d/1Sbt6Qu-zE_wPaEBVefL6hLb4krGyuFr-/view?usp=share_link), Hila Becker, PhD Thesis."
   ]
  },
  {
   "attachments": {},
   "cell_type": "markdown",
   "metadata": {},
   "source": [
    "## 2.3.10.4. Scores de Fowlkes-Mallows\n",
    "\n",
    "E. B. Fowkles and C. L. Mallows, 1983. [“**A method for comparing two hierarchical clusterings**](https://www.semanticscholar.org/paper/A-Method-for-Comparing-Two-Hierarchical-Clusterings-Fowlkes-Mallows/ededd54b4f7578802ce81fe7a34c05d93e5e09ee)[”](https://drive.google.com/file/d/1-KzvRHfFIDsQ_zyPUhO3uXhUJuLjDJrL/view?usp=share_link). Journal of the American Statistical Association.\n",
    "\n",
    "[Wikipedia entry for the **Fowlkes-Mallows Index**](https://en.wikipedia.org/wiki/Fowlkes%E2%80%93Mallows_index)"
   ]
  },
  {
   "attachments": {},
   "cell_type": "markdown",
   "metadata": {},
   "source": [
    "## 2.3.10.5. Coefficient de silhouette\n",
    "\n",
    "[?] Peter J. Rousseeuw (1987). [“**Silhouettes: a Graphical Aid to the Interpretation and Validation of Cluster Analysis**](https://www.sciencedirect.com/science/article/pii/0377042787901257?via%3Dihub)[”](https://drive.google.com/file/d/1T-cjvWWtWF_gUIixc3Rcmmq4wOLYhWvQ/view?usp=share_link). Computational and Applied Mathematics 20: 53–65."
   ]
  },
  {
   "attachments": {},
   "cell_type": "markdown",
   "metadata": {},
   "source": [
    "## 2.3.10.6. Indice de Calinski-Harabasz\n",
    "\n",
    "[?] Caliński, T., & Harabasz, J. (1974). [“**A Dendrite Method for Cluster Analysis**](https://www.researchgate.net/publication/233096619_A_Dendrite_Method_for_Cluster_Analysis)[”](https://drive.google.com/file/d/1wVMKVAYxRrM4Ma9EwqJ5xqv3a_L0hvQT/view?usp=share_link). Communications in Statistics-theory and Methods 3: 1-27."
   ]
  },
  {
   "attachments": {},
   "cell_type": "markdown",
   "metadata": {},
   "source": [
    "## 2.3.10.7. Davies-Bouldin Index\n",
    "\n",
    "\n",
    "[?] Davies, David L.; Bouldin, Dld W. (1979). [“**A Cluster Separation Measure**](https://ieeexplore.ieee.org/document/4766909)[”](https://drive.google.com/file/d/1UYs_tDk5azMulhvMTpKhj5Agw930cfW_/view?usp=share_link) IEEE Transactions on Pattern Analysis and Machine Intelligence. PAMI-1 (2): 224-227.\n",
    "\n",
    "[?] Halkidi, Maria; Batistakis, Yannis; Vazirgiannis, Michalis (2001). [“**On Clustering Validation Techniques**](https://link.springer.com/article/10.1023/A:1012801612483)[”](https://drive.google.com/file/d/1Ku1fxm7MOm5n8ImQ3UoUbN_F84zgjz_8/view?usp=share_link) Journal of Intelligent Information Systems, 17(2-3), 107-145.\n",
    "\n",
    "[?] [Wikipedia entry for **Davies-Bouldin index**](https://en.wikipedia.org/wiki/Davies%E2%80%93Bouldin_index)."
   ]
  },
  {
   "attachments": {},
   "cell_type": "markdown",
   "metadata": {},
   "source": [
    "## 6.2. Extraction de caractéristiques\n",
    "\n",
    "### 6.2.2. Hachage de caractéristiques\n",
    "\n",
    "Kilian Weinberger, Anirban Dasgupta, John Langford, Alex Smola and Josh Attenberg (2009). [“**Feature hashing for large scale multitask learning**](https://alex.smola.org/papers/2009/Weinbergeretal09.pdf)[”](https://drive.google.com/file/d/1zcMDHxm0Nf3gCmBpViDg_pQ_5N6GB11I/view?usp=share_link) Proc. ICML.\n",
    "\n",
    "### 6.2.3. Extraction de caractéristiques textuelle\n",
    "\n",
    "[NQY18] J. Nothman, H. Qin and R. Yurchak (2018). [“**Stop Word Lists in Free Open-source Software Packages**](https://scikit-learn.org/stable/modules/feature_extraction.html)[”](https://drive.google.com/file/d/1k0wR1OX6ZjWEvmQTdYbFvpKr2eOwE0Dv/view?usp=share_link). In Proc. Workshop for NLP Open Source Software."
   ]
  },
  {
   "attachments": {},
   "cell_type": "markdown",
   "metadata": {},
   "source": [
    "## 6.3. Prétraitement des données\n",
    "\n",
    "[Scholkopf1998] B. Schölkopf, A. Smola, and K.R. Müller, [“**Nonlinear component analysis as a kernel eigenvalue problem**](https://www.mlpack.org/papers/kpca.pdf)[”](https://drive.google.com/file/d/1ApHX19KKGii4WNoGWJCStLa3zK1sTB3p/view?usp=drive_link). Neural computation 10.5 (1998): 1299-1319.\n",
    "\n",
    "### 6.3.4. Encodage des caractéristiques catégorielles\n",
    "\n",
    "#### 6.3.4.1. Encodeur de cible\n",
    "\n",
    "[MIC] Micci-Barreca, Daniele. [“**A preprocessing scheme for high-cardinality categorical attributes in classification and prediction problems**](https://dl.acm.org/doi/10.1145/507533.507538)[”](https://drive.google.com/file/d/1BZZf6TCUb5F7H-7FmVPTcWrwrywP8w8o/view?usp=drive_link) SIGKDD Explor. Newsl. 3, 1 (July 2001), 27–32.\n",
    "\n",
    "[PAR] Pargent, F., Pfisterer, F., Thomas, J. et al. [“**Regularized target encoding outperforms traditional methods in supervised machine learning with high cardinality features**](https://link.springer.com/article/10.1007/s00180-022-01207-6)[”](https://drive.google.com/file/d/1-8PJVt5nSDRcQn3KXsbcSieAiKTqhJI2/view?usp=drive_link) Comput Stat 37, 2671–2692 (2022)\n",
    "\n",
    "#### 6.3.7.2. Transformateur Spline\n",
    "\n",
    "- Eilers, P., & Marx, B. (1996). [“**Flexible Smoothing with B-splines and Penalties**](https://projecteuclid.org/journals/statistical-science/volume-11/issue-2/Flexible-smoothing-with-B-splines-and-penalties/10.1214/ss/1038425655.full)[”](https://drive.google.com/file/d/1JbQUYqM7iWJ4qC7oXx23AMM9L_Y5kSVa/view?usp=drive_link). Statist. Sci. 11 (1996), no. 2, 89–121.\n",
    "- Perperoglou, A., Sauerbrei, W., Abrahamowicz, M. et al. [“**A review of spline function procedures in R**](https://bmcmedresmethodol.biomedcentral.com/articles/10.1186/s12874-019-0666-3)[”](https://drive.google.com/file/d/1XKlipPMjuy-3Ug6P9w4_LzlkaMt6usgH/view?usp=drive_link). BMC Med Res Methodol 19, 46 (2019)."
   ]
  },
  {
   "attachments": {},
   "cell_type": "markdown",
   "metadata": {},
   "source": [
    "## 6.4.3. Imputation multivariée des caractéristiques\n",
    "\n",
    "- Stef van Buuren, Karin Groothuis-Oudshoorn (2011). [“**mice: Multivariate Imputation by Chained Equations in R**](https://www.jstatsoft.org/article/view/v045i03)[”](https://drive.google.com/file/d/1TCGl_roQnvBQp-OntDPQZ-edvrQkQPxN/view?usp=drive_link). Journal of Statistical Software 45: 1-67.\n",
    "\n",
    "- [**BOOK**] Roderick J A Little and Donald B Rubin (1986). [“**Statistical Analysis with Missing Data**](https://onlinelibrary.wiley.com/doi/book/10.1002/9781119013563)[”](https://drive.google.com/file/d/1eGVHvjaFN5nEthRMHdTD3CXhQJPFmFKc/view?usp=drive_link). John Wiley & Sons, Inc., New York, NY, USA.\n",
    "\n",
    "## 6.4.4. Imputation par les plus proches voisins\n",
    "\n",
    "- Olga Troyanskaya, Michael Cantor, Gavin Sherlock, Pat Brown, Trevor Hastie, Robert Tibshirani, David Botstein and Russ B. Altman, [“**Missing value estimation methods for DNA microarrays**](https://sci2s.ugr.es/keel/pdf/algorithm/articulo/troyanskaya_cantor_sherlock01.pdf)[”](https://drive.google.com/file/d/1Lz7bcRMKRhXJV-SjF7BGjAhRMSFvx4IO/view?usp=drive_link), BIOINFORMATICS Vol. 17 no. 6, 2001 Pages 520-525."
   ]
  },
  {
   "attachments": {},
   "cell_type": "markdown",
   "metadata": {},
   "source": [
    "# 6.6. Projection aléatoire\n",
    "\n",
    "- Sanjoy Dasgupta. 2000. [“**Experiments with random projection**](https://cseweb.ucsd.edu/~dasgupta/papers/randomf.pdf)[”](https://drive.google.com/file/d/1-VIy31JaOmvgtsWInL4ppR-j64DB8m7f/view?usp=drive_link). In Proceedings of the Sixteenth conference on Uncertainty in artificial intelligence (UAI’00), Craig Boutilier and Moisés Goldszmidt (Eds.). Morgan Kaufmann Publishers Inc., San Francisco, CA, USA, 143-151.\n",
    "\n",
    "- Ella Bingham and Heikki Mannila. 2001. [“**Random projection in dimensionality reduction: applications to image and text data**](https://citeseerx.ist.psu.edu/doc_view/pid/aed77346f737b0ed5890b61ad02e5eb4ab2f3dc6)[”](https://drive.google.com/file/d/1NdIw9ZL8sEft3aqLyVi1Ljv0Hj-7UDY5/view?usp=drive_link). In Proceedings of the seventh ACM SIGKDD international conference on Knowledge discovery and data mining (KDD ‘01). ACM, New York, NY, USA, 245-250.\n",
    "\n",
    "## 6.6.1. Le lemme de Johnson-Lindenstrauss\n",
    "\n",
    "- Sanjoy Dasgupta and Anupam Gupta, 1999. [“**An elementary proof of the Johnson-Lindenstrauss Lemma**](https://cseweb.ucsd.edu/~dasgupta/papers/jl.pdf)[”](https://drive.google.com/file/d/1qwf2ScFtGK5bfsfHUEdANgptllT3CB06/view?usp=drive_link).\n",
    "\n",
    "## 6.6.3. Projection aléatoire creuse\n",
    "\n",
    "- D. Achlioptas. 2003. [“**Database-friendly random projections: Johnson-Lindenstrauss with binary coins**](https://www.sciencedirect.com/science/article/pii/S0022000003000254)[”](https://drive.google.com/file/d/1pa6Yr8bZfpmWfzqqLdLLNDItgFS15ChY/view?usp=drive_link). Journal of Computer and System Sciences 66 (2003) 671–687\n",
    "\n",
    "- Ping Li, Trevor J. Hastie, and Kenneth W. Church. 2006. [“**Very sparse random projections**](https://hastie.su.domains/Papers/Ping/KDD06_rp.pdf)[”](https://drive.google.com/file/d/10l1qq26uzYK_O7ToBU-C1jMdsjyzpgm7/view?usp=drive_link). In Proceedings of the 12th ACM SIGKDD international conference on Knowledge discovery and data mining (KDD ‘06). ACM, New York, NY, USA, 287-296.\n"
   ]
  },
  {
   "attachments": {},
   "cell_type": "markdown",
   "metadata": {},
   "source": [
    "## 6.7 Kernel Approximation\n",
    "\n",
    "[RR2007] (1,2) [“**Random features for large-scale kernel machines**](https://papers.nips.cc/paper/2007/hash/013a006f03dbc5392effeb8f18fda755-Abstract.html)[”](https://drive.google.com/file/d/1M3PZaLgkoCFmoQMUS8Wu9LOEPJdOc0OM/view?usp=drive_link) Rahimi, A. and Recht, B. - Advances in neural information processing 2007,\n",
    "\n",
    "[LS2010] [“**Random Fourier approximations for skewed multiplicative histogram kernels**](https://www.researchgate.net/publication/221114584_Random_Fourier_Approximations_for_Skewed_Multiplicative_Histogram_Kernels)[”](https://drive.google.com/file/d/1niKSiwVYFC2O2666aVK6gNaFlgovgQJW/view?usp=drive_link) Li, F., Ionescu, C., and Sminchisescu, C. - Pattern Recognition, DAGM 2010, Lecture Notes in Computer Science.\n",
    "\n",
    "[VZ2010] (1,2) [“**Efficient additive kernels via explicit feature maps**](https://www.robots.ox.ac.uk/~vgg/publications/2011/Vedaldi11/vedaldi11.pdf)[”](https://drive.google.com/file/d/1HYkw9kyMhEu8X49z97-Hl3yYwAyE4wJt/view?usp=drive_link) Vedaldi, A. and Zisserman, A. - Computer Vision and Pattern Recognition 2010\n",
    "\n",
    "[VVZ2010] [“**Generalized RBF feature maps for Efficient Detection**](https://www.robots.ox.ac.uk/~vgg/publications/2010/Sreekanth10/sreekanth10.pdf)[”](https://drive.google.com/file/d/1W6SPhxHEWmPUMT-JvmC2MP4WPhK5UqW2/view?usp=drive_link) Vempati, S. and Vedaldi, A. and Zisserman, A. and Jawahar, CV - 2010\n",
    "\n",
    "[PP2013] [“**Fast and scalable polynomial kernels via explicit feature maps**](https://dl.acm.org/doi/10.1145/2487575.2487591)[”](https://drive.google.com/file/d/1Hv80uCR8FVdlJX4u2Cqys8uQ6MHpIVLU/view?usp=drive_link) Pham, N., & Pagh, R. - 2013\n",
    "\n",
    "🔬 [CCF2002] [“**Finding frequent items in data streams**](https://www.cs.princeton.edu/courses/archive/spring04/cos598B/bib/CharikarCF.pdf)[”](https://drive.google.com/file/d/1hHKakg5qubQJ0jSufITH68SE6odgh04J/view?usp=drive_link) Charikar, M., Chen, K., & Farach-Colton - 2002\n",
    "\n",
    "🌐 [WIKICS] [“**Wikipedia: Count sketch**”](https://en.wikipedia.org/wiki/Count_sketch)\n",
    "\n",
    "📚 [“**Pattern Recognition**](https://searchworks.stanford.edu/view/9114666)[”](https://drive.google.com/file/d/1aFLYwM2oTMVvnUnMQzYiwrp7Jdu_CdsM/view?usp=drive_link), DAGM 2010, Lecture Notes in Computer Science.\n"
   ]
  },
  {
   "attachments": {},
   "cell_type": "markdown",
   "metadata": {},
   "source": [
    "## 6.8 Mesures par paires, Affinités et Noyaux\n",
    "\n",
    "### 6.8.1. Similarité cosinus\n",
    "\n",
    "📚 C.D. Manning, P. Raghavan and H. Schütze (2008). [“**Introduction to Information Retrieval**](https://www.cambridge.org/highereducation/books/introduction-to-information-retrieval/669D108D20F556C5C30957D63B5AB65C#overview)[”](https://drive.google.com/file/d/1Gr8HxMaFYIjK6MbsFNKfdzf3HrNLTSQF/view?usp=drive_link). Cambridge University Press.\n",
    "\n",
    "### 6.8.6. Noyau Laplacien\n",
    "\n",
    "🔬 M. Rupp (2015). [“**Machine Learning for Quantum Mechanics in a Nutshell**](https://onlinelibrary.wiley.com/doi/epdf/10.1002/qua.24954)[”](https://drive.google.com/file/d/1rX5YODlxxWFiYz3tgNxCbLVO9e_JZ7_W/view?usp=drive_link).\n",
    "\n",
    "## 6.8.7. Noyau du chi carré\n",
    "\n",
    "🔬 Zhang, J. and Marszalek, M. and Lazebnik, S. and Schmid, C. [“**Local features and kernels for classification of texture and object categories: A comprehensive study**](https://hal.science/hal-00171412/document)[”](https://drive.google.com/file/d/1mSwzIOjCQrQS52CsKeZHYJpme_gZamld/view?usp=drive_link) International Journal of Computer Vision 200"
   ]
  },
  {
   "attachments": {},
   "cell_type": "markdown",
   "metadata": {},
   "source": [
    "## 7.1 Toy datasets\n",
    "\n",
    "### 7.1.1 Iris dataset\n",
    "\n",
    "- Fisher, R.A. [“**The use of multiple measurements in taxonomic problems**](http://syllabus.cs.manchester.ac.uk/pgt/2021/COMP61021/reference/Fisher-DA.pdf)[”](https://drive.google.com/file/d/1GQ4BDycNnyCgqlB3nNVEEmf4Mw45YBk2/view?usp=drive_link) Annual Eugenics, 7, Part II, 179-188 (1936); également dans \"Contributions to Mathematical Statistics\" (John Wiley, NY, 1950).\n",
    "- <mark>[BOOK]</mark> Duda, R.O., & Hart, P.E. (1973) [“**Pattern Classification and Scene Analysis**](https://www.semanticscholar.org/paper/Pattern-classification-and-scene-analysis-Duda-Hart/b07ce649d6f6eb636872527104b0209d3edc8188)” (Q327.D83) John Wiley & Sons. ISBN 0-471-22361-1. Voir la page 218.\n",
    "- Dasarathy, B.V. (1980) [“**Nosing Around the Neighborhood: A New System Structure and Classification Rule for Recognition in Partially Exposed Environments**](https://www.computer.org/csdl/journal/tp/1980/01/04766972/13rRUIIVldy)[”](https://drive.google.com/file/d/1Qh0f9PhjrO2Zgyk9Nm7VJPgeUQBx7bz7/view?usp=drive_link).\n",
    "- Gates, G.W. (1972) [“**The Reduced Nearest Neighbor Rule**](https://sci2s.ugr.es/keel/pdf/algorithm/articulo/gates1972.pdf)[”](https://drive.google.com/file/d/1tlYe9MtAtqZi6JF2mqhWPnlcopFpJ0Jb/view?usp=drive_link). IEEE Transactions on Information Theory, May 1972, 431-433.\n",
    "- Cheeseman, P., Kelly, J., Self, M., Stutz, J., Taylor, W., and Freeman, D. 1988. [“**AUTOCLASS: A bayesian classification system**](https://www.semanticscholar.org/paper/AutoClass%3A-A-Bayesian-Classification-System-Cheeseman-Kelly/9f48079c278b02decf14f71b9f94c6ce1756940b)[”](https://drive.google.com/file/d/1zctxXudfRggAW4Mpoe9uPxaaFmiJTDOf/view?usp=drive_link) In Proceedings of the Fifth International Conference on Machine Learning (ICML-88), pp. 54–64\n",
    "\n",
    "## 7.1.2 Diabetes dataset\n",
    "\n",
    "- Bradley Efron, Trevor Hastie, Iain Johnstone and Robert Tibshirani (2004) [“**Least Angle Regression**](https://web.stanford.edu/~hastie/Papers/LARS/LeastAngle_2002.pdf)[”](https://drive.google.com/file/d/1PiEY8K3fr7CiFGDrqsMIgx33j431nO3d/view?usp=drive_link), Annals of Statistics (with discussion), 407-499.\n",
    "\n",
    "## 7.1.3 Handwritten digits dataset\n",
    "\n",
    "- M. D. Garris, J. L. Blue, G. T. Candela, D. L. Dimmick, J. Geist, P. J. Grother, S. A. Janet, and C. L. Wilson, [“**NIST Form-Based Handprint Recognition System**](https://www.semanticscholar.org/paper/NIST-form-based-handprint-recognition-system-Garris/d06230cc44f0c67c00121799751bc64e190ac798)[”](https://drive.google.com/file/d/1Txhzp-Lypw6dWZfvVJxdQVMKng7UxzJA/view?usp=drive_link), NISTIR 5469, 1994.\n",
    "- C. Kaynak (1995) [“**Methods of Combining Multiple Classifiers and Their Applications to Handwritten Digit Recognition**](https://www.semanticscholar.org/paper/Methods-of-combining-multiple-classifiers-and-their-Xu-Krzy%C5%BCak/ec25da04ef7f09396ca00da3f9b5f2d9670cb6fc)[”](https://drive.google.com/file/d/1k9WPdLGye7aELn-GH7g-C0Wv-p-ADrPD/view?usp=drive_link), MSc Thesis, Institute of Graduate Studies in Science and Engineering, Bogazici University.\n",
    "- Alpaydin, C. Kaynak (1998) [“**Cascading Classifiers**](https://www.kybernetika.cz/content/1998/4/369/paper.pdf)[”](https://drive.google.com/file/d/1mfkx92CXNYxRQ6W-9ET-5yRuX96XQuPk/view?usp=drive_link), Kybernetika.\n",
    "- Ken Tang and Ponnuthurai N. Suganthan and Xi Yao and A. Kai Qin. [“**Linear dimensionality reduction using relevance weighted LDA**](https://www.semanticscholar.org/paper/Linear-dimensionality-reduction-using-relevance-LDA-Tang-Suganthan/a380817fb24ff67ae988d4cb2326573f6b7ccb02)[”](https://drive.google.com/file/d/16-phdK_Kevv3IgvE5-nUDp08okgdRHEe/view?usp=drive_link). School of Electrical and Electronic Engineering Nanyang Technological University. 2005.\n",
    "- Claudio Gentile. [“**A New Approximate Maximal Margin Classification Algorithm**](https://www.jmlr.org/papers/volume2/gentile01a/gentile01a.pdf)[”](https://drive.google.com/file/d/1FPAOkg1HBwMEMcP_evQ3xWyw6k2hxB8r/view?usp=drive_link). NIPS. 2000.\n",
    "\n",
    "## 7.1.4 Linnerrud dataset\n",
    "\n",
    "- <mark>[**BOOK**]</mark> Tenenhaus, M. (1998). [“**La régression PLS : théorie et pratique**”](https://www.editionstechnip.com/en/catalogue-detail/625/regression-pls-la.html). Paris : Éditions Technic.\n",
    "\n",
    "## 7.1.5 Wine Recognition\n",
    "\n",
    "- Forina, M. et al, [“**PARVUS: An Extendible Package for Data Exploration, Classification and Correlation**](https://www.semanticscholar.org/paper/PARVUS%3A-An-extendable-package-of-programs-for-data-Vandeginste/582727b66f210d2399383d7d213941fde93e7143)[”](https://drive.google.com/file/d/1p8SmxxEfkH2RTdbET_bM1K4eyVucmL3w/view?usp=drive_link). Institute of Pharmaceutical and Food Analysis and Technologies, Via Brigata Salerno, 16147 Genoa, Italy.\n",
    "- Lichman, M. (2013). UCI Machine Learning Repository [https://archive.ics.uci.edu/ml]. Irvine, CA: University of California, School of Information and Computer Science.\n",
    "- S. Aeberhard, D. Coomans and O. de Vel, [“**Comparative analysis of statistical pattern recognition methods in high dimensional settings**](https://www.semanticscholar.org/paper/Comparative-analysis-of-statistical-pattern-methods-Aeberhard-Coomans/83dc3e4030d7b9fbdbb4bde03ce12ab70ca10528)[”](https://drive.google.com/file/d/1vRWkfHxs7QF_A8NDwHy3buKALch4C5E3/view?usp=drive_link), Tech. Rep. no. 92-02, (1992), Dept. of Computer Science and Dept. of Mathematics and Statistics, James Cook University of North Queensland. (Also submitted to Technometrics).\n",
    "- S. Aeberhard, D. Coomans and O. de Vel, [**“Improvements to the classification performance of RDA**](https://www.semanticscholar.org/paper/Improvements-to-the-classification-performance-of-Aeberhard-Coomans/19fcf3bd90af749db28390d751b6040466b03097)[”](https://drive.google.com/file/d/15iw0I_cLxGre-Va0LW8zwZFjrKyQprhE/view?usp=drive_link) Tech. Rep. no. 92-01, (1992), Dept. of Computer Science and Dept. of Mathematics and Statistics, James Cook University of North Queensland. (Also submitted to Journal of Chemometrics).\n",
    "\n",
    "## 7.1.6 Breast cancer wisconsin (diagnostic) dataset\n",
    "\n",
    "- K. P. Bennett et O. L. Mangasarian : [**“Robust Linear Programming Discrimination of Two Linearly Inseparable Sets**](https://minds.wisconsin.edu/bitstream/handle/1793/59538/TR1054.pdf;jsessionid=95537C3C7CFA33DA92F10133F54B2B09?sequence=1)[”](https://drive.google.com/file/d/138okBFIXGV495sxE1PfuQ0uUQiIbdZmZ/view?usp=drive_link), Optimization Methods and Software 1, 1992, 23-34.\n",
    "- K. P. Bennett, [**“Decision Tree Construction Via Linear Programming**](https://minds.wisconsin.edu/bitstream/handle/1793/59564/TR1067.pdf?sequence=1)[”](https://drive.google.com/file/d/1yxgViM7xsJfuCzNBRgRkMOzW96QqwSQf/view?usp=drive_link) Proceedings of the 4th Midwest Artificial Intelligence and Cognitive Science Society, pp. 97-101, 1992\n",
    "- K. P. Bennett et O. L. Mangasarian : [**“Robust Linear Programming Discrimination of Two Linearly Inseparable Sets**](https://minds.wisconsin.edu/bitstream/handle/1793/59538/TR1054.pdf;jsessionid=95537C3C7CFA33DA92F10133F54B2B09?sequence=1)[”](https://drive.google.com/file/d/138okBFIXGV495sxE1PfuQ0uUQiIbdZmZ/view?usp=drive_link), Optimization Methods and Software 1, 1992, 23-34.\n",
    "- W.N. Street, W.H. Wolberg et O.L. Mangasarian. [**“Nuclear feature extraction for breast tumor diagnosis**](https://minds.wisconsin.edu/bitstream/handle/1793/59692/TR1131.pdf?sequence=1&isAllowed=y)[”](https://drive.google.com/file/d/16HuAA8m4mHrLTCgkPPlTlQ7daIZs4wob/view?usp=drive_link). IS&T/SPIE 1993 International Symposium on Electronic Imaging: Science and Technology, volume 1905, pages 861-870, San Jose, CA, 1993.\n",
    "- O.L. Mangasarian, W.N. Street and W.H. Wolberg. [**“Breast Cancer Diagnosis and Prognosis via Linear Programming**](https://minds.wisconsin.edu/bitstream/handle/1793/64370/94-10.pdf?sequence=1)[”](https://drive.google.com/file/d/1pWddWQCCB3_zTLXgYmgS8z2ASLiXRtzE/view?usp=drive_link). Operations Research, 43(4), pages 570-577, July-August 1995.\n",
    "- W.H. Wolberg, W.N. Street, and O.L. Mangasarian. [**“Machine learning techniques to diagnose breast cancer from fine-needle aspirates**](https://pubmed.ncbi.nlm.nih.gov/8168063/)[”](https://drive.google.com/file/d/1ovmMtobsLQt1s2Hmjc_NtSjEFBMOSiHL/view?usp=drive_link). Cancer Letters 77 (1994) 163-171.\n",
    "\n",
    "## 7.2.3 The Labeled Faces in the Wild face recognition dataset\n",
    "\n",
    "[**“Labeled Faces in the Wild: A Database for Studying Face Recognition in Unconstrained Environments**](http://vis-www.cs.umass.edu/lfw/lfw.pdf)[”](https://drive.google.com/file/d/1tSKBkVVBohARKjVnLnPXlgga00XAivqy/view?usp=drive_link) Gary B. Huang, Manu Ramesh, Tamara Berg, and Erik Learned-Miller. University of Massachusetts, Amherst, Technical Report 07-49, October, 2007.\n",
    "\n",
    "## 7.2.5. RCV1 dataset\n",
    "\n",
    "- Lewis, D. D., Yang, Y., Rose, T. G., & Li, F. (2004). [**“RCV1: A New Benchmark Collection for Text Categorization Research**](https://www.jmlr.org/papers/volume5/lewis04a/lewis04a.pdf)[”](https://drive.google.com/file/d/1tf6QpZfXQPXf8fn1iD2JSte8h09P_twJ/view?usp=drive_link). The Journal of Machine Learning Research, 5, 361-397.\n",
    "\n",
    "## 7.2.6. Kddcup 99 dataset\n",
    "\n",
    "- Analysis and Results of [**“The 1999 DARPA Off-Line Intrusion Detection Evaluation**](https://cs.fit.edu/~pkc/id/related/lippmann-cn00.pdf)[”](https://drive.google.com/file/d/173j17kvtJbg2ygFUbQmM7hGloQXBzoFL/view?usp=drive_link), Richard Lippmann, Joshua W. Haines, David J. Fried, Jonathan Korba, Kumar Das.\n",
    "\n",
    "- K. Yamanishi, J.-I. Takeuchi, G. Williams, and P. Milne. [**“Online unsupervised outlier detection using finite mixtures with discounting learning algorithms**](https://dl.acm.org/doi/10.1145/347090.347160)[”](https://drive.google.com/file/d/1VzgFnoewAn41LGw4UsJiev2h-7KIIqy4/view?usp=drive_link). In Proceedings of the sixth ACM SIGKDD international conference on Knowledge discovery and data mining, pages 320-324. ACM Press, 2000.\n",
    "\n",
    "## 7.2.7. California Housing dataset\n",
    "\n",
    "- Pace, R. Kelley et Ronald Barry, [**“Sparse Spatial Autoregressions**](https://www.sciencedirect.com/science/article/abs/pii/S016771529600140X)[”](https://drive.google.com/file/d/1JefCYZkcdvPMEC4wimtOhXvSiTTfyYRR/view?usp=drive_link), Statistics and Probability Letters, 33 (1997) 291-297\n",
    "\n",
    "## 7.4.3. Downloading datasets from the openml.org repository\n",
    "\n",
    "- Vanschoren, van Rijn, Bischl and Torgo. [“**OpenML: networked science in machine learning**](https://arxiv.org/abs/1407.7722)[”](https://drive.google.com/file/d/1iqKrw3MOU4PXwYM0aT5oHJUmZ33TBWQZ/view?usp=drive_link) ACM SIGKDD Explorations Newsletter, 15(2), 49-60, 2014."
   ]
  },
  {
   "attachments": {},
   "cell_type": "markdown",
   "metadata": {},
   "source": [
    "# SKI\n",
    "\n",
    "## SKI 10.14\n",
    "\n",
    "[1] Viola, Paul, and Michael J. Jones. [“**Robust real-time face detection**](https://www.merl.com/publications/docs/TR2004-043.pdf)[”](https://drive.google.com/file/d/1KuPgFyVw0WGIVNiYs0TY0MvDH6D970q1/view?usp=share_link) International journal of computer vision 57.2 (2004): 137-154. DOI:10.1109/CVPR.2001.990517"
   ]
  }
 ],
 "metadata": {
  "kernelspec": {
   "display_name": "Python 3",
   "language": "python",
   "name": "python3"
  },
  "language_info": {
   "name": "python",
   "version": "3.10.11"
  },
  "orig_nbformat": 4,
  "vscode": {
   "interpreter": {
    "hash": "9aff9e50adfaa9e30c910fb3872ffdc72747acb5f50803ca0504f00e980f7c25"
   }
  }
 },
 "nbformat": 4,
 "nbformat_minor": 2
}
