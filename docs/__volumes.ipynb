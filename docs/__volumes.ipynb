{
 "cells": [
  {
   "cell_type": "markdown",
   "metadata": {},
   "source": [
    "# **Volume des contenus**\n",
    "\n",
    "Nouvelle passe fin août, septembre 2023 : estimation de la charge :\n",
    "\n",
    "Partie 1 : tout est à réviser, mais une bonne partie reste à faire\n",
    "- Total : 189p, 112e, 118r\n",
    "- 1.1. Linear Models\n",
    "    - 33p, 30e, r40\n",
    "- 1.2. Linear and Quadratic Discriminant Analysis\n",
    "    - 6p, 3e, 3r\n",
    "- 1.3. Kernel ridge regression\n",
    "    - 2p, 0e, 1r\n",
    "- 1.4. Support Vector Machines\n",
    "    - 13p, 9e, 8r\n",
    "- 1.5. Stochastic Gradient Descent\n",
    "    - 11p, 6e, 7r\n",
    "- 1.6. Nearest Neighbors\n",
    "    - 16p, 9e, 3r\n",
    "- 1.7. Gaussian Processes\n",
    "    - 19p, 8e, 2r\n",
    "- 1.8. Cross decomposition\n",
    "    - 4p, 2e, 1r\n",
    "- 1.9. Naive Bayes\n",
    "    - 5p, 0e, 5r\n",
    "- 1.10. Decision Trees\n",
    "    - 15p, 6e, 6r\n",
    "- 1.11. Ensemble methods\n",
    "    - 31p, 24e, 19r\n",
    "- 1.12. Multiclass and multioutput algorithms\n",
    "    - 11p, 1e, 5r\n",
    "- 1.13. Feature selection\n",
    "    - 6p, 9e, 2r\n",
    "- 1.14. Semi-supervised learning\n",
    "    - 3p, 6e, 3r\n",
    "- 1.15. Isotonic regression\n",
    "    - 1p, 0e, 0r\n",
    "- 1.16. Probability calibration\n",
    "    - 6p, 4e, 8r\n",
    "- 1.17. Neural network models (supervised)\n",
    "    - 7p, 3e, 5r"
   ]
  }
 ],
 "metadata": {
  "language_info": {
   "name": "python"
  }
 },
 "nbformat": 4,
 "nbformat_minor": 2
}
