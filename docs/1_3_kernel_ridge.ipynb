{
 "cells": [
  {
   "cell_type": "markdown",
   "metadata": {},
   "source": [
    "# <a id='supervised-learning'></a> 1. [**Apprentissage supervisé**](https://nbviewer.org/github/Franck-PepperLabs/pepper_data-science_practising/blob/main/Sklearn/1_supervised_learning.ipynb#supervised-learning)</br>([*Supervised learning*](https://scikit-learn.org/stable/supervised_learning.html#supervised-learning))"
   ]
  },
  {
   "cell_type": "markdown",
   "metadata": {},
   "source": [
    "# <a id='kernel-ridge-regression'></a> 1.3. **Régression ridge par noyau**<br/>([_Kernel ridge regression_](https://scikit-learn.org/stable/modules/kernel_ridge.html))\n",
    "\n",
    "La régression ridge par noyau (KRR) [M2012] combine [**la régression et la classification Ridge** (1.1.2)](https://scikit-learn.org/stable/modules/linear_model.html#ridge-regression) (moindres carrés linéaires avec régularisation $\\ell_2$) avec la [**technique du noyau**](https://en.wikipedia.org/wiki/Kernel_method). Elle apprend ainsi une fonction linéaire dans l'espace induit par le noyau respectif et les données. Pour les noyaux non linéaires, cela correspond à une fonction non linéaire dans l'espace d'origine.\n",
    "\n",
    "La forme du modèle appris par [**`KernelRidge`**](https://scikit-learn.org/stable/modules/generated/sklearn.kernel_ridge.KernelRidge.html#sklearn.kernel_ridge.KernelRidge) est identique à la régression des vecteurs de support ([**`SVR`**](https://scikit-learn.org/stable/modules/generated/sklearn.svm.SVR.html#sklearn.svm.SVR)). Cependant, différentes fonctions de perte sont utilisées : KRR utilise la perte d'erreur quadratique tandis que la régression des vecteurs de support utilise la perte $\\epsilon$-insensitive, toutes deux combinées avec une régularisation $\\ell_2$. Contrairement à [**`SVR`**](https://scikit-learn.org/stable/modules/generated/sklearn.svm.SVR.html#sklearn.svm.SVR), l'ajustement de [**`KernelRidge`**](https://scikit-learn.org/stable/modules/generated/sklearn.kernel_ridge.KernelRidge.html#sklearn.kernel_ridge.KernelRidge) peut se faire sous forme fermée et est généralement plus rapide pour des ensembles de données de taille moyenne. D'autre part, le modèle appris n'est pas parcimonieux et donc plus lent que [**`SVR`**](https://scikit-learn.org/stable/modules/generated/sklearn.svm.SVR.html#sklearn.svm.SVR), qui apprend un modèle parcimonieux pour $\\epsilon > 0$, au moment de la prédiction.\n",
    "\n",
    "La figure suivante compare [**`KernelRidge`**](https://scikit-learn.org/stable/modules/generated/sklearn.kernel_ridge.KernelRidge.html#sklearn.kernel_ridge.KernelRidge) et [**`SVR`**](https://scikit-learn.org/stable/modules/generated/sklearn.svm.SVR.html#sklearn.svm.SVR) sur un ensemble de données artificiel, composé d'une fonction cible sinusoïdale et de bruit important ajouté à chaque cinquième point de données. Le modèle appris de [**`KernelRidge`**](https://scikit-learn.org/stable/modules/generated/sklearn.kernel_ridge.KernelRidge.html#sklearn.kernel_ridge.KernelRidge) et [**`SVR`**](https://scikit-learn.org/stable/modules/generated/sklearn.svm.SVR.html#sklearn.svm.SVR) est représenté, où à la fois la complexité/la régularisation et la bande passante du noyau RBF ont été optimisées par recherche sur grille. Les fonctions apprises sont très similaires ; cependant, l'ajustement de [**`KernelRidge`**](https://scikit-learn.org/stable/modules/generated/sklearn.kernel_ridge.KernelRidge.html#sklearn.kernel_ridge.KernelRidge) est environ sept fois plus rapide que l'ajustement de [**`SVR`**](https://scikit-learn.org/stable/modules/generated/sklearn.svm.SVR.html#sklearn.svm.SVR) (toutes deux avec recherche sur grille). Cependant, la prédiction de 100 000 valeurs cibles est plus de trois fois plus rapide avec [**`SVR`**](https://scikit-learn.org/stable/modules/generated/sklearn.svm.SVR.html#sklearn.svm.SVR), car il a appris un modèle parcimonieux en n'utilisant qu'environ 1/3 des 100 points de données d'entraînement comme vecteurs de support.\n",
    "\n",
    "<div style=\"background-color: white; color: black; text-align: center;\">\n",
    "  <img\n",
    "    src=\"https://scikit-learn.org/stable/_images/sphx_glr_plot_kernel_ridge_regression_001.png\"\n",
    "    alt=\"SVR versus Kernel Ridge\"\n",
    "    style=\"max-width: 50%; height: auto;\"/>\n",
    "</div>\n",
    "\n",
    "La figure suivante compare le temps nécessaire pour l'ajustement et la prédiction de [**`KernelRidge`**](https://scikit-learn.org/stable/modules/generated/sklearn.kernel_ridge.KernelRidge.html#sklearn.kernel_ridge.KernelRidge) et [**`SVR`**](https://scikit-learn.org/stable/modules/generated/sklearn.svm.SVR.html#sklearn.svm.SVR) pour différentes tailles de l'ensemble d'entraînement. L'ajustement de [**`KernelRidge`**](https://scikit-learn.org/stable/modules/generated/sklearn.kernel_ridge.KernelRidge.html#sklearn.kernel_ridge.KernelRidge) est plus rapide que [**`SVR`**](https://scikit-learn.org/stable/modules/generated/sklearn.svm.SVR.html#sklearn.svm.SVR) pour les ensembles d'entraînement de taille moyenne (moins de 1000 échantillons) ; cependant, pour des ensembles d'entraînement plus grands, [**`SVR`**](https://scikit-learn.org/stable/modules/generated/sklearn.svm.SVR.html#sklearn.svm.SVR) s'échelonne mieux. En ce qui concerne le temps de prédiction, [**`SVR`**](https://scikit-learn.org/stable/modules/generated/sklearn.svm.SVR.html#sklearn.svm.SVR) est plus rapide que [**`KernelRidge`**](https://scikit-learn.org/stable/modules/generated/sklearn.kernel_ridge.KernelRidge.html#sklearn.kernel_ridge.KernelRidge) pour toutes les tailles de l'ensemble d'entraînement en raison de la solution parcimonieuse apprise. Notez que le degré de parcimonie et donc le temps de prédiction dépendent des paramètres et de [**`SVR`**](https://scikit-learn.org/stable/modules/generated/sklearn.svm.SVR.html#sklearn.svm.SVR) ; il correspondrait à un modèle dense.\n",
    "\n",
    "<div style=\"background-color: white; color: black; text-align: center;\">\n",
    "  <img\n",
    "    src=\"https://scikit-learn.org/stable/_images/sphx_glr_plot_kernel_ridge_regression_002.png\"\n",
    "    alt=\"SVR versus Kernel Ridge Execution Time\"\n",
    "    style=\"max-width: 50%; height: auto;\"/>\n",
    "</div>\n",
    "\n",
    "### Références\n",
    "\n",
    "📚 [M2012] [**\"Machine Learning: A Probabilistic Perspective\"**](https://github.com/probml/pml-book/blob/main/transition-guide-2012-to-2022.pdf) Murphy, K. P. - chapitre 14.4.3, pp. 492-493, The MIT Press, 2012"
   ]
  }
 ],
 "metadata": {
  "language_info": {
   "name": "python"
  },
  "orig_nbformat": 4
 },
 "nbformat": 4,
 "nbformat_minor": 2
}
