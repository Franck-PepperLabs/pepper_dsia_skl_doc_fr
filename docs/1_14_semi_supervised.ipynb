{
 "cells": [
  {
   "cell_type": "markdown",
   "metadata": {},
   "source": [
    "# <a id='supervised-learning'></a> 1. [**Apprentissage supervisé**](https://nbviewer.org/github/Franck-PepperLabs/pepper_dsia_skl_doc_fr/blob/main/docs/1_supervised_learning.ipynb#supervised-learning)</br>([*Supervised learning*](https://scikit-learn.org/stable/supervised_learning.html#supervised-learning))\n",
    "\n",
    "# <a id='semi-supervised-learning'></a> 1.14. [**Apprentissage semi-supervisé**](https://nbviewer.org/github/Franck-PepperLabs/pepper_dsia_skl_doc_fr/blob/main/docs/1_14_semi_supervised.ipynb)<br/>([_Semi-supervised learning_](https://scikit-learn.org/stable/modules/semi_supervised.html))"
   ]
  },
  {
   "cell_type": "markdown",
   "metadata": {},
   "source": [
    "# Sommaire\n",
    "\n",
    "- **Volume** : 3 pages, 6 exemples, 3 papiers\n",
    "- 1.14.1. [**Auto-Entraînement**](https://nbviewer.org/github/Franck-PepperLabs/pepper_dsia_skl_doc_fr/blob/main/docs/1_14_semi_supervised.ipynb#self-training)<br/>([_Self Training_](https://scikit-learn.org/stable/modules/semi_supervised.html#self-training))\n",
    "- 1.14.2. [**Propagation d'étiquettes**](https://nbviewer.org/github/Franck-PepperLabs/pepper_dsia_skl_doc_fr/blob/main/docs/1_14_semi_supervised.ipynb#label-propagation)<br/>([_Label Propagation_](https://scikit-learn.org/stable/modules/semi_supervised.html#label-propagation))"
   ]
  },
  {
   "cell_type": "markdown",
   "metadata": {},
   "source": [
    "# <a id='semi-supervised-learning'></a> 1.14. **Apprentissage semi-supervisé**<br/>([_Semi-supervised learning_](https://scikit-learn.org/stable/modules/semi_supervised.html))\n",
    "\n",
    "L'[**apprentissage semi-supervisé**](https://en.wikipedia.org/wiki/Weak_supervision) est une situation dans laquelle, dans vos données d'entraînement, certains des échantillons ne sont pas étiquetés. Les estimateurs semi-supervisés dans [**`sklearn.semi_supervised`**](https://scikit-learn.org/stable/modules/classes.html#module-sklearn.semi_supervised) sont capables d'utiliser ces données non étiquetées supplémentaires pour mieux capturer la forme de la distribution sous-jacente des données et généraliser plus efficacement vers de nouveaux échantillons. Ces algorithmes peuvent fonctionner de manière optimale lorsque vous disposez d'un très petit nombre de points étiquetés et d'un grand nombre de points non étiquetés.\n",
    "\n",
    "**Entrées non étiquetées dans `y`**\n",
    "\n",
    "Il est important d'attribuer un identifiant aux points non étiquetés en plus des données étiquetées lors de l'entraînement du modèle avec la méthode `fit`. L'identifiant utilisé par cette implémentation est la valeur entière $-1$. Notez que pour les étiquettes de type chaîne, le type de données de `y` doit être `object` pour qu'il puisse contenir à la fois des chaînes et des entiers.\n",
    "\n",
    "> **Remarque :** Les algorithmes semi-supervisés doivent faire des hypothèses sur la distribution de l'ensemble de données afin d'améliorer leurs performances. Consultez [**ici**](https://en.wikipedia.org/wiki/Semi-supervised_learning#Assumptions) pour plus de détails."
   ]
  },
  {
   "cell_type": "markdown",
   "metadata": {},
   "source": [
    "## <a id='self-training'></a> 1.14.1. [**Auto-Entraînement**](https://nbviewer.org/github/Franck-PepperLabs/pepper_dsia_skl_doc_fr/blob/main/docs/1_14_semi_supervised.ipynb#self-training)<br/>([_Self Training_](https://scikit-learn.org/stable/modules/semi_supervised.html#self-training))\n",
    "\n",
    "Cette implémentation d'auto-entraînement est basée sur l'algorithme de Yarowsky [1]. En utilisant cet algorithme, un classifieur supervisé donné peut fonctionner comme un classifieur semi-supervisé, lui permettant d'apprendre à partir de données non étiquetées.\n",
    "\n",
    "[**`SelfTrainingClassifier`**](https://scikit-learn.org/stable/modules/generated/sklearn.semi_supervised.SelfTrainingClassifier.html#sklearn.semi_supervised.SelfTrainingClassifier) peut être appelé avec n'importe quel classificateur qui implémente `predict_proba`, passé en tant que paramètre `base_classifier`. À chaque itération, le `base_classifier` prédit les étiquettes des échantillons non étiquetés et ajoute un sous-ensemble de ces étiquettes à l'ensemble de données étiquetées.\n",
    "\n",
    "Le choix de ce sous-ensemble est déterminé par le critère de sélection. Cette sélection peut être effectuée à l'aide d'un `seuil` sur les probabilités de prédiction, ou en choisissant les `k_best` échantillons en fonction des probabilités de prédiction.\n",
    "\n",
    "Les étiquettes utilisées pour l'ajustement final ainsi que l'itération à laquelle chaque échantillon a été étiqueté sont disponibles en tant qu'attributs. Le paramètre `max_iter` facultatif spécifie combien de fois la boucle est exécutée au maximum.\n",
    "\n",
    "Le paramètre `max_iter` peut être défini sur `None`, ce qui fait itérer l'algorithme jusqu'à ce que tous les échantillons aient des étiquettes ou qu'aucun nouvel échantillon ne soit sélectionné lors de cette itération.\n",
    "\n",
    "**Remarque :** Lors de l'utilisation du classifieur d'auto-entraînement, l'[**étalonnage** (1.16)](https://scikit-learn.org/stable/modules/calibration.html#calibration) du classifieur est important.\n",
    "\n",
    "#### Exemples\n",
    "\n",
    "##### [**Effet de la variation du seuil pour l'auto-entraînement**](https://nbviewer.org/github/Franck-PepperLabs/pepper_dsia_skl_doc_fr/blob/main/docs/examples/1_14_semi_supervised/plot_self_training_varying_threshold.ipynb)<br/>([_Effect of varying threshold for self-training_](https://scikit-learn.org/stable/auto_examples/semi_supervised/plot_self_training_varying_threshold.html))\n",
    "\n",
    "##### [**Frontière de décision des classifieurs semi-supervisés par rapport aux SVM sur l'ensemble de données Iris**](https://nbviewer.org/github/Franck-PepperLabs/pepper_dsia_skl_doc_fr/blob/main/docs/examples/1_14_semi_supervised/plot_self_training_varying_threshold.ipynb)<br/>([_Decision boundary of semi-supervised classifiers versus SVM on the Iris dataset_](https://scikit-learn.org/stable/auto_examples/semi_supervised/plot_self_training_varying_threshold.html))\n",
    "\n",
    "#### Références\n",
    "\n",
    "🔬 [1] [**“Unsupervised Word Sense Disambiguation Rivaling Supervised Methods”**](http://dl.acm.org/ft_gateway.cfm?id=981684&type=pdf) David Yarowsky, Proceedings of the 33rd annual meeting on Association for Computational Linguistics (ACL ‘95). Association for Computational Linguistics, Stroudsburg, PA, USA, 189-196."
   ]
  },
  {
   "cell_type": "markdown",
   "metadata": {},
   "source": [
    "## <a id='label-propagation'></a> 1.14.2. [**Propagation d'étiquettes**](https://nbviewer.org/github/Franck-PepperLabs/pepper_dsia_skl_doc_fr/blob/main/docs/1_14_semi_supervised.ipynb#label-propagation)<br/>([_Label Propagation_](https://scikit-learn.org/stable/modules/semi_supervised.html#label-propagation))\n",
    "\n",
    "La propagation d'étiquettes désigne quelques variations d'algorithmes d'inférence de graphe semi-supervisés.\n",
    "\n",
    "**Quelques caractéristiques disponibles dans ce modèle :**\n",
    "- Utilisé pour les tâches de classification.\n",
    "- Méthodes de noyau pour projeter les données dans des espaces dimensionnels alternatifs.\n",
    "\n",
    "`scikit-learn` propose deux modèles de propagation d'étiquettes : [**`LabelPropagation`**](https://scikit-learn.org/stable/modules/generated/sklearn.semi_supervised.LabelPropagation.html#sklearn.semi_supervised.LabelPropagation) et [**`LabelSpreading`**](https://scikit-learn.org/stable/modules/generated/sklearn.semi_supervised.LabelSpreading.html#sklearn.semi_supervised.LabelSpreading). Les deux modèles fonctionnent en construisant un graphe de similarité sur l'ensemble des éléments de l'ensemble de données en entrée.\n",
    "\n",
    "<div style=\"background-color: white; color: black; text-align: center;\">\n",
    "  <img\n",
    "    src=\"https://scikit-learn.org/stable/_images/sphx_glr_plot_label_propagation_structure_001.png\"\n",
    "    alt=\"Apprentissage de la propagation d'étiquettes d'une structure complexe\"\n",
    "    style=\"max-width: 30%; height: auto;\"/>\n",
    "</div>\n",
    "\n",
    "**Une illustration de la propagation d'étiquettes :** _la structure des observations non étiquetées est cohérente avec la structure des classes, et donc l'étiquette de classe peut être propagée aux observations non étiquetées de l'ensemble d'entraînement._\n",
    "\n",
    "[**`LabelPropagation`**](https://scikit-learn.org/stable/modules/generated/sklearn.semi_supervised.LabelPropagation.html#sklearn.semi_supervised.LabelPropagation) et [**`LabelSpreading`**](https://scikit-learn.org/stable/modules/generated/sklearn.semi_supervised.LabelSpreading.html#sklearn.semi_supervised.LabelSpreading) diffèrent par les modifications apportées à la matrice de similarité du graphe et par l'effet de resserrement sur les distributions d'étiquettes. Le resserrement permet à l'algorithme de changer le poids des données étiquetées réelles dans une certaine mesure. L'algorithme [**`LabelPropagation`**](https://scikit-learn.org/stable/modules/generated/sklearn.semi_supervised.LabelPropagation.html#sklearn.semi_supervised.LabelPropagation) effectue un resserrement fort des étiquettes d'entrée, ce qui signifie $\\alpha=0$. Ce facteur de resserrement peut être assoupli, par exemple $\\alpha=0.2$, ce qui signifie que nous conserverons toujours 80 % de notre distribution d'étiquettes d'origine, mais que l'algorithme pourra changer sa confiance dans la distribution dans les 20 % restants.\n",
    "\n",
    "[**`LabelPropagation`**](https://scikit-learn.org/stable/modules/generated/sklearn.semi_supervised.LabelPropagation.html#sklearn.semi_supervised.LabelPropagation) utilise la matrice de similarité brute construite à partir des données sans aucune modification. En revanche, [**`LabelSpreading`**](https://scikit-learn.org/stable/modules/generated/sklearn.semi_supervised.LabelSpreading.html#sklearn.semi_supervised.LabelSpreading) minimise une fonction de perte avec des propriétés de régularisation, ce qui le rend souvent plus robuste au bruit. L'algorithme itère sur une version modifiée du graphe d'origine et normalise les poids des arêtes en calculant la matrice laplacienne du graphe normalisé. Cette procédure est également utilisée dans le [**regroupement spectral** (2.3.5)](https://scikit-learn.org/stable/modules/clustering.html#spectral-clustering).\n",
    "\n",
    "Les modèles de propagation d'étiquettes disposent de deux méthodes de noyau intégrées. Le choix du noyau affecte à la fois la capacité de montée en charge et les performances des algorithmes. Les suivantes sont disponibles :\n",
    "- rbf ($\\exp(-\\gamma |x-y|^2), \\gamma > 0$). $\\gamma$ est spécifié par le mot-clé `gamma`.\n",
    "- knn ($1[x' \\in kNN(x)]$). $k$ est spécifié par le mot-clé `n_neighbors`.\n",
    "\n",
    "Le noyau RBF produira un graphe entièrement connecté, représenté en mémoire par une matrice dense. Cette matrice peut être très volumineuse et combinée avec le coût de la réalisation d'un calcul de multiplication de matrices complet à chaque itération de l'algorithme, cela peut entraîner des temps d'exécution prohibitivement longs. En revanche, le noyau kNN produira une matrice creuse beaucoup plus raisonnable en termes de mémoire, ce qui peut réduire considérablement les temps d'exécution.\n",
    "\n",
    "#### Exemples\n",
    "\n",
    "##### [**Frontière de décision des classifieurs semi-supervisés par rapport aux SVM sur l'ensemble de données Iris**](https://nbviewer.org/github/Franck-PepperLabs/pepper_dsia_skl_doc_fr/blob/main/docs/examples/1_14_semi_supervised/plot_self_training_varying_threshold.ipynb)<br/>([_Decision boundary of semi-supervised classifiers versus SVM on the Iris dataset_](https://scikit-learn.org/stable/auto_examples/semi_supervised/plot_self_training_varying_threshold.html))\n",
    "\n",
    "##### [**Apprentissage de la propagation d'étiquettes d'une structure complexe**](https://nbviewer.org/github/Franck-PepperLabs/pepper_data_science_practising/blob/main/Sklearn/examples/1_14_semi_supervised/plot_label_propagation_structure.ipynb)<br/>([_Label Propagation learning a complex structure_](https://scikit-learn.org/stable/auto_examples/semi_supervised/plot_label_propagation_structure.html))\n",
    "\n",
    "##### [**Propagation d'étiquettes de chiffres : démonstration des performances**](https://nbviewer.org/github/Franck-PepperLabs/pepper_data_science_practising/blob/main/Sklearn/examples/1_14_semi_supervised/plot_label_propagation_digits.ipynb)<br/>([_Label Propagation digits: Demonstrating performance_](https://scikit-learn.org/stable/auto_examples/semi_supervised/plot_label_propagation_digits.html))\n",
    "\n",
    "##### [**Propagation d'étiquettes de chiffres : apprentissage actif**](https://nbviewer.org/github/Franck-PepperLabs/pepper_data_science_practising/blob/main/Sklearn/examples/1_14_semi_supervised/plot_label_propagation_digits_active_learning.ipynb)<br/>([_Label Propagation digits active learning_](https://scikit-learn.org/stable/auto_examples/semi_supervised/plot_label_propagation_digits_active_learning.html))\n",
    "\n",
    "#### Références\n",
    "\n",
    "🔬 [2] Yoshua Bengio, Olivier Delalleau, Nicolas Le Roux. [**“Label Propagation and Quadratic Criterion”**](http://www.iro.umontreal.ca/~lisa/bib/pub_subject/finance/pointeurs/bengio_ssl.pdf), In Semi-Supervised Learning (2006), pp. 193-216\n",
    "\n",
    "🔬 [3] Olivier Delalleau, Yoshua Bengio, Nicolas Le Roux. [**“Efficient Non-Parametric Function Induction in Semi-Supervised Learning”**](https://www.gatsby.ucl.ac.uk/aistats/fullpapers/204.pdf). AISTAT 2005"
   ]
  }
 ],
 "metadata": {
  "language_info": {
   "name": "python"
  }
 },
 "nbformat": 4,
 "nbformat_minor": 2
}
