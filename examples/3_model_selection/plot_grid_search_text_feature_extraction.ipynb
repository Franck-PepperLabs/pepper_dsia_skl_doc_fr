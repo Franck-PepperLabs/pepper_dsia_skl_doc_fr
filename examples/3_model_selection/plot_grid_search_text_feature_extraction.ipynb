{
 "cells": [
  {
   "attachments": {},
   "cell_type": "markdown",
   "metadata": {},
   "source": [
    "# [**Exemple de pipeline pour l'extraction et l'évaluation des caractéristiques de texte**](https://nbviewer.org/github/Franck-PepperLabs/pepper_data-science_practising/blob/main/Sklearn/examples/3_model_selection/plot_grid_search_text_feature_extraction.ipynb)<br/>([*Sample pipeline for text feature extraction and evaluation*](https://scikit-learn.org/stable/auto_examples/model_selection/plot_grid_search_text_feature_extraction.html))\n",
    "\n",
    "Le jeu de données utilisé dans cet exemple est [**le jeu de données de textes 20 newsgroups** (7.2.2)](https://scikit-learn.org/stable/datasets/real_world.html#newsgroups-dataset) qui sera automatiquement téléchargé, mis en cache et réutilisé pour l'exemple de classification de documents.\n",
    "\n",
    "Dans cet exemple, nous réglons les hyperparamètres d'un classificateur particulier en utilisant un [**`RandomizedSearchCV`**](https://scikit-learn.org/stable/modules/generated/sklearn.model_selection.RandomizedSearchCV.html). Pour une démonstration sur les performances de certains autres classificateurs, consultez le notebook [**Classification des documents de textes à l'aide de caractéristiques creuses**](https://scikit-learn.org/stable/auto_examples/text/plot_document_classification_20newsgroups.html)."
   ]
  },
  {
   "cell_type": "code",
   "execution_count": 1,
   "metadata": {},
   "outputs": [],
   "source": [
    "# Author: Olivier Grisel <olivier.grisel@ensta.org>\n",
    "#         Peter Prettenhofer <peter.prettenhofer@gmail.com>\n",
    "#         Mathieu Blondel <mathieu@mblondel.org>\n",
    "#         Arturo Amor <david-arturo.amor-quiroz@inria.fr>\n",
    "# License: BSD 3 clause"
   ]
  },
  {
   "attachments": {},
   "cell_type": "markdown",
   "metadata": {},
   "source": [
    "# Chargement des données\n",
    "\n",
    "Nous chargeons deux catégories du jeu d'entraînement. Vous pouvez ajuster le nombre de catégories en ajoutant leurs noms à la liste ou en définissant `categories=None` lors de l'appel du chargeur de jeu de données `fetch20newsgroups` pour obtenir les 20 d'entre elles."
   ]
  },
  {
   "cell_type": "code",
   "execution_count": 1,
   "metadata": {},
   "outputs": [
    {
     "name": "stdout",
     "output_type": "stream",
     "text": [
      "Loading 20 newsgroups dataset for 2 categories:\n",
      "['alt.atheism', 'talk.religion.misc']\n",
      "857 documents\n"
     ]
    }
   ],
   "source": [
    "from sklearn.datasets import fetch_20newsgroups\n",
    "\n",
    "categories = [\n",
    "    \"alt.atheism\",\n",
    "    \"talk.religion.misc\",\n",
    "]\n",
    "\n",
    "data_train = fetch_20newsgroups(\n",
    "    subset=\"train\",\n",
    "    categories=categories,\n",
    "    shuffle=True,\n",
    "    random_state=42,\n",
    "    remove=(\"headers\", \"footers\", \"quotes\"),\n",
    ")\n",
    "\n",
    "data_test = fetch_20newsgroups(\n",
    "    subset=\"test\",\n",
    "    categories=categories,\n",
    "    shuffle=True,\n",
    "    random_state=42,\n",
    "    remove=(\"headers\", \"footers\", \"quotes\"),\n",
    ")\n",
    "\n",
    "print(f\"Loading 20 newsgroups dataset for {len(data_train.target_names)} categories:\")\n",
    "print(data_train.target_names)\n",
    "print(f\"{len(data_train.data)} documents\")"
   ]
  },
  {
   "attachments": {},
   "cell_type": "markdown",
   "metadata": {},
   "source": [
    "# Pipeline avec ajustement des hyperparamètres\n",
    "\n",
    "Nous définissons un pipeline combinant un vectoriseur de caractéristiques de texte avec un classificateur simple mais efficace pour la classification de textes."
   ]
  },
  {
   "cell_type": "code",
   "execution_count": 2,
   "metadata": {},
   "outputs": [
    {
     "data": {
      "text/html": [
       "<style>#sk-container-id-1 {color: black;background-color: white;}#sk-container-id-1 pre{padding: 0;}#sk-container-id-1 div.sk-toggleable {background-color: white;}#sk-container-id-1 label.sk-toggleable__label {cursor: pointer;display: block;width: 100%;margin-bottom: 0;padding: 0.3em;box-sizing: border-box;text-align: center;}#sk-container-id-1 label.sk-toggleable__label-arrow:before {content: \"▸\";float: left;margin-right: 0.25em;color: #696969;}#sk-container-id-1 label.sk-toggleable__label-arrow:hover:before {color: black;}#sk-container-id-1 div.sk-estimator:hover label.sk-toggleable__label-arrow:before {color: black;}#sk-container-id-1 div.sk-toggleable__content {max-height: 0;max-width: 0;overflow: hidden;text-align: left;background-color: #f0f8ff;}#sk-container-id-1 div.sk-toggleable__content pre {margin: 0.2em;color: black;border-radius: 0.25em;background-color: #f0f8ff;}#sk-container-id-1 input.sk-toggleable__control:checked~div.sk-toggleable__content {max-height: 200px;max-width: 100%;overflow: auto;}#sk-container-id-1 input.sk-toggleable__control:checked~label.sk-toggleable__label-arrow:before {content: \"▾\";}#sk-container-id-1 div.sk-estimator input.sk-toggleable__control:checked~label.sk-toggleable__label {background-color: #d4ebff;}#sk-container-id-1 div.sk-label input.sk-toggleable__control:checked~label.sk-toggleable__label {background-color: #d4ebff;}#sk-container-id-1 input.sk-hidden--visually {border: 0;clip: rect(1px 1px 1px 1px);clip: rect(1px, 1px, 1px, 1px);height: 1px;margin: -1px;overflow: hidden;padding: 0;position: absolute;width: 1px;}#sk-container-id-1 div.sk-estimator {font-family: monospace;background-color: #f0f8ff;border: 1px dotted black;border-radius: 0.25em;box-sizing: border-box;margin-bottom: 0.5em;}#sk-container-id-1 div.sk-estimator:hover {background-color: #d4ebff;}#sk-container-id-1 div.sk-parallel-item::after {content: \"\";width: 100%;border-bottom: 1px solid gray;flex-grow: 1;}#sk-container-id-1 div.sk-label:hover label.sk-toggleable__label {background-color: #d4ebff;}#sk-container-id-1 div.sk-serial::before {content: \"\";position: absolute;border-left: 1px solid gray;box-sizing: border-box;top: 0;bottom: 0;left: 50%;z-index: 0;}#sk-container-id-1 div.sk-serial {display: flex;flex-direction: column;align-items: center;background-color: white;padding-right: 0.2em;padding-left: 0.2em;position: relative;}#sk-container-id-1 div.sk-item {position: relative;z-index: 1;}#sk-container-id-1 div.sk-parallel {display: flex;align-items: stretch;justify-content: center;background-color: white;position: relative;}#sk-container-id-1 div.sk-item::before, #sk-container-id-1 div.sk-parallel-item::before {content: \"\";position: absolute;border-left: 1px solid gray;box-sizing: border-box;top: 0;bottom: 0;left: 50%;z-index: -1;}#sk-container-id-1 div.sk-parallel-item {display: flex;flex-direction: column;z-index: 1;position: relative;background-color: white;}#sk-container-id-1 div.sk-parallel-item:first-child::after {align-self: flex-end;width: 50%;}#sk-container-id-1 div.sk-parallel-item:last-child::after {align-self: flex-start;width: 50%;}#sk-container-id-1 div.sk-parallel-item:only-child::after {width: 0;}#sk-container-id-1 div.sk-dashed-wrapped {border: 1px dashed gray;margin: 0 0.4em 0.5em 0.4em;box-sizing: border-box;padding-bottom: 0.4em;background-color: white;}#sk-container-id-1 div.sk-label label {font-family: monospace;font-weight: bold;display: inline-block;line-height: 1.2em;}#sk-container-id-1 div.sk-label-container {text-align: center;}#sk-container-id-1 div.sk-container {/* jupyter's `normalize.less` sets `[hidden] { display: none; }` but bootstrap.min.css set `[hidden] { display: none !important; }` so we also need the `!important` here to be able to override the default hidden behavior on the sphinx rendered scikit-learn.org. See: https://github.com/scikit-learn/scikit-learn/issues/21755 */display: inline-block !important;position: relative;}#sk-container-id-1 div.sk-text-repr-fallback {display: none;}</style><div id=\"sk-container-id-1\" class=\"sk-top-container\"><div class=\"sk-text-repr-fallback\"><pre>Pipeline(steps=[(&#x27;vect&#x27;, TfidfVectorizer()), (&#x27;clf&#x27;, ComplementNB())])</pre><b>In a Jupyter environment, please rerun this cell to show the HTML representation or trust the notebook. <br />On GitHub, the HTML representation is unable to render, please try loading this page with nbviewer.org.</b></div><div class=\"sk-container\" hidden><div class=\"sk-item sk-dashed-wrapped\"><div class=\"sk-label-container\"><div class=\"sk-label sk-toggleable\"><input class=\"sk-toggleable__control sk-hidden--visually\" id=\"sk-estimator-id-1\" type=\"checkbox\" ><label for=\"sk-estimator-id-1\" class=\"sk-toggleable__label sk-toggleable__label-arrow\">Pipeline</label><div class=\"sk-toggleable__content\"><pre>Pipeline(steps=[(&#x27;vect&#x27;, TfidfVectorizer()), (&#x27;clf&#x27;, ComplementNB())])</pre></div></div></div><div class=\"sk-serial\"><div class=\"sk-item\"><div class=\"sk-estimator sk-toggleable\"><input class=\"sk-toggleable__control sk-hidden--visually\" id=\"sk-estimator-id-2\" type=\"checkbox\" ><label for=\"sk-estimator-id-2\" class=\"sk-toggleable__label sk-toggleable__label-arrow\">TfidfVectorizer</label><div class=\"sk-toggleable__content\"><pre>TfidfVectorizer()</pre></div></div></div><div class=\"sk-item\"><div class=\"sk-estimator sk-toggleable\"><input class=\"sk-toggleable__control sk-hidden--visually\" id=\"sk-estimator-id-3\" type=\"checkbox\" ><label for=\"sk-estimator-id-3\" class=\"sk-toggleable__label sk-toggleable__label-arrow\">ComplementNB</label><div class=\"sk-toggleable__content\"><pre>ComplementNB()</pre></div></div></div></div></div></div></div>"
      ],
      "text/plain": [
       "Pipeline(steps=[('vect', TfidfVectorizer()), ('clf', ComplementNB())])"
      ]
     },
     "execution_count": 2,
     "metadata": {},
     "output_type": "execute_result"
    }
   ],
   "source": [
    "from sklearn.feature_extraction.text import TfidfVectorizer\n",
    "from sklearn.naive_bayes import ComplementNB\n",
    "from sklearn.pipeline import Pipeline\n",
    "\n",
    "pipeline = Pipeline(\n",
    "    [\n",
    "        (\"vect\", TfidfVectorizer()),\n",
    "        (\"clf\", ComplementNB()),\n",
    "    ]\n",
    ")\n",
    "pipeline"
   ]
  },
  {
   "attachments": {},
   "cell_type": "markdown",
   "metadata": {},
   "source": [
    "Nous définissons une grille d'hyperparamètres à explorer par [**`RandomizedSearchCV`**](https://scikit-learn.org/stable/modules/generated/sklearn.model_selection.RandomizedSearchCV.html). En utilisant plutôt [**`GridSearchCV`**](https://scikit-learn.org/stable/modules/generated/sklearn.model_selection.GridSearchCV.html), toutes les combinaisons possibles sur la grille seraient explorées, ce qui peut être coûteux à calculer, alors que le paramètre `n_iter` de [**`RandomizedSearchCV`**](https://scikit-learn.org/stable/modules/generated/sklearn.model_selection.RandomizedSearchCV.html) contrôle le nombre de combinaisons aléatoires différentes qui sont évaluées. Veuillez noter que définir `n_iter` plus grand que le nombre de combinaisons possibles dans une grille conduirait à répéter des combinaisons déjà explorées. Nous recherchons la meilleure combinaison de paramètres pour l'extraction de caractéristiques (`vect__`) et pour le classificateur (`clf__`)."
   ]
  },
  {
   "cell_type": "code",
   "execution_count": 3,
   "metadata": {},
   "outputs": [],
   "source": [
    "import numpy as np\n",
    "\n",
    "parameter_grid = {\n",
    "    \"vect__max_df\": (0.2, 0.4, 0.6, 0.8, 1.0),\n",
    "    \"vect__min_df\": (1, 3, 5, 10),\n",
    "    \"vect__ngram_range\": ((1, 1), (1, 2)),  # unigrams or bigrams\n",
    "    \"vect__norm\": (\"l1\", \"l2\"),\n",
    "    \"clf__alpha\": np.logspace(-6, 6, 13),\n",
    "}"
   ]
  },
  {
   "attachments": {},
   "cell_type": "markdown",
   "metadata": {},
   "source": [
    "Dans ce cas, `n_iter=40` n'est pas une recherche exhaustive de la grille d'hyperparamètres. En pratique, il serait intéressant d'augmenter le paramètre `n_iter` pour obtenir une analyse plus informative. En conséquence, le temps de calcul augmente. Nous pouvons le réduire en profitant de la parallélisation sur l'évaluation des combinaisons de paramètres en augmentant le nombre de CPUs utilisés via le paramètre `n_jobs`."
   ]
  },
  {
   "cell_type": "code",
   "execution_count": 4,
   "metadata": {},
   "outputs": [
    {
     "name": "stdout",
     "output_type": "stream",
     "text": [
      "Performing grid search...\n",
      "Hyperparameters to be evaluated:\n",
      "{'clf__alpha': array([1.e-06, 1.e-05, 1.e-04, 1.e-03, 1.e-02, 1.e-01, 1.e+00, 1.e+01,\n",
      "       1.e+02, 1.e+03, 1.e+04, 1.e+05, 1.e+06]),\n",
      " 'vect__max_df': (0.2, 0.4, 0.6, 0.8, 1.0),\n",
      " 'vect__min_df': (1, 3, 5, 10),\n",
      " 'vect__ngram_range': ((1, 1), (1, 2)),\n",
      " 'vect__norm': ('l1', 'l2')}\n"
     ]
    }
   ],
   "source": [
    "from pprint import pprint\n",
    "from sklearn.model_selection import RandomizedSearchCV\n",
    "\n",
    "random_search = RandomizedSearchCV(\n",
    "    estimator=pipeline,\n",
    "    param_distributions=parameter_grid,\n",
    "    n_iter=40,\n",
    "    random_state=0,\n",
    "    n_jobs=2,\n",
    "    verbose=1,\n",
    ")\n",
    "\n",
    "print(\"Performing grid search...\")\n",
    "print(\"Hyperparameters to be evaluated:\")\n",
    "pprint(parameter_grid)"
   ]
  },
  {
   "cell_type": "code",
   "execution_count": 5,
   "metadata": {},
   "outputs": [
    {
     "name": "stdout",
     "output_type": "stream",
     "text": [
      "Fitting 5 folds for each of 40 candidates, totalling 200 fits\n",
      "Done in 44.419s\n"
     ]
    }
   ],
   "source": [
    "from time import time\n",
    "\n",
    "t0 = time()\n",
    "random_search.fit(data_train.data, data_train.target)\n",
    "print(f\"Done in {time() - t0:.3f}s\")"
   ]
  },
  {
   "cell_type": "code",
   "execution_count": 6,
   "metadata": {},
   "outputs": [
    {
     "name": "stdout",
     "output_type": "stream",
     "text": [
      "Best parameters combination found:\n",
      "clf__alpha: 0.01\n",
      "vect__max_df: 0.2\n",
      "vect__min_df: 1\n",
      "vect__ngram_range: (1, 1)\n",
      "vect__norm: l1\n"
     ]
    }
   ],
   "source": [
    "print(\"Best parameters combination found:\")\n",
    "best_parameters = random_search.best_estimator_.get_params()\n",
    "for param_name in sorted(parameter_grid.keys()):\n",
    "    print(f\"{param_name}: {best_parameters[param_name]}\")"
   ]
  },
  {
   "cell_type": "code",
   "execution_count": 7,
   "metadata": {},
   "outputs": [
    {
     "name": "stdout",
     "output_type": "stream",
     "text": [
      "Accuracy of the best parameters using the inner CV of the random search: 0.816\n",
      "Accuracy on test set: 0.709\n"
     ]
    }
   ],
   "source": [
    "test_accuracy = random_search.score(data_test.data, data_test.target)\n",
    "print(\n",
    "    \"Accuracy of the best parameters using the inner CV of \"\n",
    "    f\"the random search: {random_search.best_score_:.3f}\"\n",
    ")\n",
    "print(f\"Accuracy on test set: {test_accuracy:.3f}\")"
   ]
  },
  {
   "attachments": {},
   "cell_type": "markdown",
   "metadata": {},
   "source": [
    "Les préfixes `vect` et `clf` sont nécessaires pour éviter les ambiguïtés possibles dans le pipeline, mais ne sont pas nécessaires pour visualiser les résultats. Pour cette raison, nous définissons une fonction qui renommera les hyperparamètres ajustés et améliorera la lisibilité."
   ]
  },
  {
   "cell_type": "code",
   "execution_count": 8,
   "metadata": {},
   "outputs": [],
   "source": [
    "import pandas as pd\n",
    "\n",
    "\n",
    "def shorten_param(param_name):\n",
    "    \"\"\"Remove components' prefixes in param_name.\"\"\"\n",
    "    return param_name.rsplit(\"__\", 1)[1] if \"__\" in param_name else param_name\n",
    "\n",
    "\n",
    "cv_results = pd.DataFrame(random_search.cv_results_)\n",
    "cv_results = cv_results.rename(shorten_param, axis=1)"
   ]
  },
  {
   "attachments": {},
   "cell_type": "markdown",
   "metadata": {},
   "source": [
    "Nous pouvons utiliser un [`plotly.express.scatter`](https://plotly.com/python-api-reference/generated/plotly.express.scatter.html) pour visualiser le compromis entre le temps de notation et le score moyen de test (c'est-à-dire le \"CV score\"). En passant le curseur sur un point donné, nous affichons les paramètres correspondants. Les barres d'erreur correspondent à une déviation standard telle que calculée dans les différents plis de la validation croisée."
   ]
  },
  {
   "cell_type": "code",
   "execution_count": 9,
   "metadata": {},
   "outputs": [
    {
     "data": {
      "application/vnd.plotly.v1+json": {
       "config": {
        "plotlyServerURL": "https://plot.ly"
       },
       "data": [
        {
         "customdata": [
          [
           1,
           3,
           [
            1,
            2
           ],
           "l2",
           10
          ],
          [
           0.6,
           3,
           [
            1,
            2
           ],
           "l2",
           100
          ],
          [
           0.6,
           10,
           [
            1,
            1
           ],
           "l1",
           0.01
          ],
          [
           1,
           10,
           [
            1,
            2
           ],
           "l2",
           0.001
          ],
          [
           0.2,
           3,
           [
            1,
            2
           ],
           "l2",
           1
          ],
          [
           0.2,
           1,
           [
            1,
            2
           ],
           "l2",
           1000
          ],
          [
           0.2,
           1,
           [
            1,
            2
           ],
           "l2",
           1
          ],
          [
           1,
           5,
           [
            1,
            2
           ],
           "l1",
           100000
          ],
          [
           0.2,
           5,
           [
            1,
            2
           ],
           "l2",
           0.001
          ],
          [
           0.4,
           10,
           [
            1,
            2
           ],
           "l1",
           0.001
          ],
          [
           1,
           5,
           [
            1,
            2
           ],
           "l2",
           0.000001
          ],
          [
           0.4,
           10,
           [
            1,
            2
           ],
           "l2",
           100
          ],
          [
           0.6,
           3,
           [
            1,
            2
           ],
           "l1",
           100
          ],
          [
           0.2,
           1,
           [
            1,
            1
           ],
           "l1",
           0.01
          ],
          [
           0.6,
           10,
           [
            1,
            2
           ],
           "l2",
           0.01
          ],
          [
           0.8,
           3,
           [
            1,
            2
           ],
           "l1",
           0.001
          ],
          [
           0.8,
           5,
           [
            1,
            1
           ],
           "l1",
           10000
          ],
          [
           0.8,
           1,
           [
            1,
            1
           ],
           "l2",
           100
          ],
          [
           0.4,
           5,
           [
            1,
            2
           ],
           "l1",
           1
          ],
          [
           0.8,
           1,
           [
            1,
            2
           ],
           "l1",
           1
          ],
          [
           0.2,
           1,
           [
            1,
            1
           ],
           "l2",
           0.000001
          ],
          [
           0.4,
           5,
           [
            1,
            2
           ],
           "l2",
           0.000001
          ],
          [
           0.8,
           1,
           [
            1,
            2
           ],
           "l2",
           1
          ],
          [
           0.4,
           10,
           [
            1,
            2
           ],
           "l2",
           0.000001
          ],
          [
           0.6,
           1,
           [
            1,
            1
           ],
           "l2",
           1
          ],
          [
           1,
           1,
           [
            1,
            2
           ],
           "l1",
           1
          ],
          [
           0.2,
           1,
           [
            1,
            2
           ],
           "l1",
           1000000
          ],
          [
           0.8,
           1,
           [
            1,
            2
           ],
           "l2",
           10000
          ],
          [
           0.8,
           10,
           [
            1,
            1
           ],
           "l1",
           0.01
          ],
          [
           1,
           5,
           [
            1,
            1
           ],
           "l1",
           0.001
          ],
          [
           0.2,
           5,
           [
            1,
            2
           ],
           "l2",
           0.01
          ],
          [
           0.8,
           10,
           [
            1,
            2
           ],
           "l2",
           100000
          ],
          [
           0.4,
           1,
           [
            1,
            2
           ],
           "l1",
           0.000001
          ],
          [
           0.6,
           3,
           [
            1,
            2
           ],
           "l1",
           100000
          ],
          [
           0.2,
           5,
           [
            1,
            1
           ],
           "l2",
           10000
          ],
          [
           1,
           1,
           [
            1,
            1
           ],
           "l2",
           10000
          ],
          [
           0.6,
           3,
           [
            1,
            2
           ],
           "l1",
           1
          ],
          [
           0.8,
           3,
           [
            1,
            2
           ],
           "l2",
           1000000
          ],
          [
           0.8,
           3,
           [
            1,
            2
           ],
           "l2",
           0.001
          ],
          [
           0.2,
           1,
           [
            1,
            2
           ],
           "l2",
           0.1
          ]
         ],
         "error_x": {
          "array": [
           0.016529970205934174,
           0.010413670793541519,
           0.007222338989368548,
           0.01637394056945338,
           0.01669750920302505,
           0.02021643187965128,
           0.022825313998973192,
           0.010646013619007112,
           0.01185565750531283,
           0.0076273956860322244,
           0.02731326922746861,
           0.01212831947366237,
           0.01203725749329111,
           0.004615832109827874,
           0.012844580051354797,
           0.010985453927050404,
           0.005003173292384853,
           0.0052334451356323905,
           0.009041368199023132,
           0.013699276341684413,
           0.005762147589539014,
           0.0064655814905779305,
           0.015633723783171013,
           0.008618746005222536,
           0.005331799739964046,
           0.0137252668699199,
           0.009770933642234306,
           0.020181839546151683,
           0.005744156494731849,
           0.006701277901724943,
           0.018247262225781765,
           0.014786770157174785,
           0.007482215744806804,
           0.016343837431125895,
           0.00407407454721729,
           0.01012786402373769,
           0.01085739848497236,
           0.013807525128802286,
           0.008452579673862244,
           0.016760831111592486
          ]
         },
         "error_y": {
          "array": [
           0.021709462916372543,
           0.019660424372293657,
           0.02280701551644583,
           0.04141503839481188,
           0.025197247740550304,
           0.02185207140572817,
           0.03919239713819249,
           0.0064363918745756095,
           0.04904124161348298,
           0.05189316457318038,
           0.048501681550639386,
           0.03741855291831512,
           0.017469874157429344,
           0.02173863377120521,
           0.03542621298833128,
           0.025243761085853186,
           0.006667969931544837,
           0.006180189207600158,
           0.03507679946932842,
           0.011860875164389911,
           0.03629456169941096,
           0.04938433795727698,
           0.03192696045040785,
           0.039585633198194775,
           0.03748169491939798,
           0.008394295296711565,
           0.024477745202560856,
           0.009089774981294351,
           0.017562478457491922,
           0.023480916167601486,
           0.0422343170600075,
           0.0070716818832471,
           0.02787646303524185,
           0.017469874157429344,
           0.02866436715108689,
           0.0030358844335549935,
           0.024286892696920713,
           0.006307564442123955,
           0.03887461994008526,
           0.028260891331683496
          ]
         },
         "hovertemplate": "CV Score time (s)=%{x}<br>CV score (accuracy)=%{y}<br>max_df=%{customdata[0]}<br>min_df=%{customdata[1]}<br>ngram_range=%{customdata[2]}<br>norm=%{customdata[3]}<br>alpha=%{customdata[4]}<extra></extra>",
         "legendgroup": "",
         "marker": {
          "color": "#636efa",
          "symbol": "circle"
         },
         "mode": "markers",
         "name": "",
         "orientation": "v",
         "showlegend": false,
         "type": "scatter",
         "x": [
          0.0772097110748291,
          0.07061176300048828,
          0.0328000545501709,
          0.06878848075866699,
          0.06440601348876954,
          0.08920621871948242,
          0.08640336990356445,
          0.07119317054748535,
          0.06280303001403809,
          0.058216285705566403,
          0.06939225196838379,
          0.058006906509399415,
          0.06537442207336426,
          0.03220896720886231,
          0.05819659233093262,
          0.06239056587219238,
          0.029598426818847657,
          0.03179292678833008,
          0.060808229446411136,
          0.07758769989013672,
          0.03499937057495117,
          0.06038641929626465,
          0.07441229820251465,
          0.05700230598449707,
          0.0318148136138916,
          0.07581534385681152,
          0.06977815628051758,
          0.08480806350708008,
          0.03401002883911133,
          0.032193660736083984,
          0.06399269104003906,
          0.06340746879577637,
          0.06521492004394532,
          0.06720404624938965,
          0.030793285369873045,
          0.037201738357543944,
          0.059600210189819335,
          0.06859426498413086,
          0.06359710693359374,
          0.07420668601989747
         ],
         "xaxis": "x",
         "y": [
          0.6067319461444309,
          0.6114035087719298,
          0.7444308445532435,
          0.7385624915000679,
          0.7735890112879098,
          0.6988916088671291,
          0.7350537195702435,
          0.5775873793009656,
          0.7723922208622331,
          0.7327281381748946,
          0.76890384876921,
          0.6603835169318646,
          0.599734802121583,
          0.8156262749898001,
          0.73625050999592,
          0.7958044335645316,
          0.5729294165646674,
          0.5705902352781178,
          0.6661906704746362,
          0.5857405140758873,
          0.7841425268597851,
          0.7665714674282607,
          0.670875832993336,
          0.7304229566163472,
          0.7000271997824018,
          0.5810825513395892,
          0.6673806609547123,
          0.5775873793009656,
          0.7479464164286685,
          0.7770909832721339,
          0.7747314021487828,
          0.5845913232694139,
          0.8109547123623011,
          0.599734802121583,
          0.7280769753841969,
          0.5624303005575955,
          0.6195498436012512,
          0.5752685978512172,
          0.7829389364885082,
          0.8132666938664489
         ],
         "yaxis": "y"
        }
       ],
       "layout": {
        "legend": {
         "tracegroupgap": 0
        },
        "margin": {
         "t": 60
        },
        "template": {
         "data": {
          "bar": [
           {
            "error_x": {
             "color": "#2a3f5f"
            },
            "error_y": {
             "color": "#2a3f5f"
            },
            "marker": {
             "line": {
              "color": "#E5ECF6",
              "width": 0.5
             },
             "pattern": {
              "fillmode": "overlay",
              "size": 10,
              "solidity": 0.2
             }
            },
            "type": "bar"
           }
          ],
          "barpolar": [
           {
            "marker": {
             "line": {
              "color": "#E5ECF6",
              "width": 0.5
             },
             "pattern": {
              "fillmode": "overlay",
              "size": 10,
              "solidity": 0.2
             }
            },
            "type": "barpolar"
           }
          ],
          "carpet": [
           {
            "aaxis": {
             "endlinecolor": "#2a3f5f",
             "gridcolor": "white",
             "linecolor": "white",
             "minorgridcolor": "white",
             "startlinecolor": "#2a3f5f"
            },
            "baxis": {
             "endlinecolor": "#2a3f5f",
             "gridcolor": "white",
             "linecolor": "white",
             "minorgridcolor": "white",
             "startlinecolor": "#2a3f5f"
            },
            "type": "carpet"
           }
          ],
          "choropleth": [
           {
            "colorbar": {
             "outlinewidth": 0,
             "ticks": ""
            },
            "type": "choropleth"
           }
          ],
          "contour": [
           {
            "colorbar": {
             "outlinewidth": 0,
             "ticks": ""
            },
            "colorscale": [
             [
              0,
              "#0d0887"
             ],
             [
              0.1111111111111111,
              "#46039f"
             ],
             [
              0.2222222222222222,
              "#7201a8"
             ],
             [
              0.3333333333333333,
              "#9c179e"
             ],
             [
              0.4444444444444444,
              "#bd3786"
             ],
             [
              0.5555555555555556,
              "#d8576b"
             ],
             [
              0.6666666666666666,
              "#ed7953"
             ],
             [
              0.7777777777777778,
              "#fb9f3a"
             ],
             [
              0.8888888888888888,
              "#fdca26"
             ],
             [
              1,
              "#f0f921"
             ]
            ],
            "type": "contour"
           }
          ],
          "contourcarpet": [
           {
            "colorbar": {
             "outlinewidth": 0,
             "ticks": ""
            },
            "type": "contourcarpet"
           }
          ],
          "heatmap": [
           {
            "colorbar": {
             "outlinewidth": 0,
             "ticks": ""
            },
            "colorscale": [
             [
              0,
              "#0d0887"
             ],
             [
              0.1111111111111111,
              "#46039f"
             ],
             [
              0.2222222222222222,
              "#7201a8"
             ],
             [
              0.3333333333333333,
              "#9c179e"
             ],
             [
              0.4444444444444444,
              "#bd3786"
             ],
             [
              0.5555555555555556,
              "#d8576b"
             ],
             [
              0.6666666666666666,
              "#ed7953"
             ],
             [
              0.7777777777777778,
              "#fb9f3a"
             ],
             [
              0.8888888888888888,
              "#fdca26"
             ],
             [
              1,
              "#f0f921"
             ]
            ],
            "type": "heatmap"
           }
          ],
          "heatmapgl": [
           {
            "colorbar": {
             "outlinewidth": 0,
             "ticks": ""
            },
            "colorscale": [
             [
              0,
              "#0d0887"
             ],
             [
              0.1111111111111111,
              "#46039f"
             ],
             [
              0.2222222222222222,
              "#7201a8"
             ],
             [
              0.3333333333333333,
              "#9c179e"
             ],
             [
              0.4444444444444444,
              "#bd3786"
             ],
             [
              0.5555555555555556,
              "#d8576b"
             ],
             [
              0.6666666666666666,
              "#ed7953"
             ],
             [
              0.7777777777777778,
              "#fb9f3a"
             ],
             [
              0.8888888888888888,
              "#fdca26"
             ],
             [
              1,
              "#f0f921"
             ]
            ],
            "type": "heatmapgl"
           }
          ],
          "histogram": [
           {
            "marker": {
             "pattern": {
              "fillmode": "overlay",
              "size": 10,
              "solidity": 0.2
             }
            },
            "type": "histogram"
           }
          ],
          "histogram2d": [
           {
            "colorbar": {
             "outlinewidth": 0,
             "ticks": ""
            },
            "colorscale": [
             [
              0,
              "#0d0887"
             ],
             [
              0.1111111111111111,
              "#46039f"
             ],
             [
              0.2222222222222222,
              "#7201a8"
             ],
             [
              0.3333333333333333,
              "#9c179e"
             ],
             [
              0.4444444444444444,
              "#bd3786"
             ],
             [
              0.5555555555555556,
              "#d8576b"
             ],
             [
              0.6666666666666666,
              "#ed7953"
             ],
             [
              0.7777777777777778,
              "#fb9f3a"
             ],
             [
              0.8888888888888888,
              "#fdca26"
             ],
             [
              1,
              "#f0f921"
             ]
            ],
            "type": "histogram2d"
           }
          ],
          "histogram2dcontour": [
           {
            "colorbar": {
             "outlinewidth": 0,
             "ticks": ""
            },
            "colorscale": [
             [
              0,
              "#0d0887"
             ],
             [
              0.1111111111111111,
              "#46039f"
             ],
             [
              0.2222222222222222,
              "#7201a8"
             ],
             [
              0.3333333333333333,
              "#9c179e"
             ],
             [
              0.4444444444444444,
              "#bd3786"
             ],
             [
              0.5555555555555556,
              "#d8576b"
             ],
             [
              0.6666666666666666,
              "#ed7953"
             ],
             [
              0.7777777777777778,
              "#fb9f3a"
             ],
             [
              0.8888888888888888,
              "#fdca26"
             ],
             [
              1,
              "#f0f921"
             ]
            ],
            "type": "histogram2dcontour"
           }
          ],
          "mesh3d": [
           {
            "colorbar": {
             "outlinewidth": 0,
             "ticks": ""
            },
            "type": "mesh3d"
           }
          ],
          "parcoords": [
           {
            "line": {
             "colorbar": {
              "outlinewidth": 0,
              "ticks": ""
             }
            },
            "type": "parcoords"
           }
          ],
          "pie": [
           {
            "automargin": true,
            "type": "pie"
           }
          ],
          "scatter": [
           {
            "fillpattern": {
             "fillmode": "overlay",
             "size": 10,
             "solidity": 0.2
            },
            "type": "scatter"
           }
          ],
          "scatter3d": [
           {
            "line": {
             "colorbar": {
              "outlinewidth": 0,
              "ticks": ""
             }
            },
            "marker": {
             "colorbar": {
              "outlinewidth": 0,
              "ticks": ""
             }
            },
            "type": "scatter3d"
           }
          ],
          "scattercarpet": [
           {
            "marker": {
             "colorbar": {
              "outlinewidth": 0,
              "ticks": ""
             }
            },
            "type": "scattercarpet"
           }
          ],
          "scattergeo": [
           {
            "marker": {
             "colorbar": {
              "outlinewidth": 0,
              "ticks": ""
             }
            },
            "type": "scattergeo"
           }
          ],
          "scattergl": [
           {
            "marker": {
             "colorbar": {
              "outlinewidth": 0,
              "ticks": ""
             }
            },
            "type": "scattergl"
           }
          ],
          "scattermapbox": [
           {
            "marker": {
             "colorbar": {
              "outlinewidth": 0,
              "ticks": ""
             }
            },
            "type": "scattermapbox"
           }
          ],
          "scatterpolar": [
           {
            "marker": {
             "colorbar": {
              "outlinewidth": 0,
              "ticks": ""
             }
            },
            "type": "scatterpolar"
           }
          ],
          "scatterpolargl": [
           {
            "marker": {
             "colorbar": {
              "outlinewidth": 0,
              "ticks": ""
             }
            },
            "type": "scatterpolargl"
           }
          ],
          "scatterternary": [
           {
            "marker": {
             "colorbar": {
              "outlinewidth": 0,
              "ticks": ""
             }
            },
            "type": "scatterternary"
           }
          ],
          "surface": [
           {
            "colorbar": {
             "outlinewidth": 0,
             "ticks": ""
            },
            "colorscale": [
             [
              0,
              "#0d0887"
             ],
             [
              0.1111111111111111,
              "#46039f"
             ],
             [
              0.2222222222222222,
              "#7201a8"
             ],
             [
              0.3333333333333333,
              "#9c179e"
             ],
             [
              0.4444444444444444,
              "#bd3786"
             ],
             [
              0.5555555555555556,
              "#d8576b"
             ],
             [
              0.6666666666666666,
              "#ed7953"
             ],
             [
              0.7777777777777778,
              "#fb9f3a"
             ],
             [
              0.8888888888888888,
              "#fdca26"
             ],
             [
              1,
              "#f0f921"
             ]
            ],
            "type": "surface"
           }
          ],
          "table": [
           {
            "cells": {
             "fill": {
              "color": "#EBF0F8"
             },
             "line": {
              "color": "white"
             }
            },
            "header": {
             "fill": {
              "color": "#C8D4E3"
             },
             "line": {
              "color": "white"
             }
            },
            "type": "table"
           }
          ]
         },
         "layout": {
          "annotationdefaults": {
           "arrowcolor": "#2a3f5f",
           "arrowhead": 0,
           "arrowwidth": 1
          },
          "autotypenumbers": "strict",
          "coloraxis": {
           "colorbar": {
            "outlinewidth": 0,
            "ticks": ""
           }
          },
          "colorscale": {
           "diverging": [
            [
             0,
             "#8e0152"
            ],
            [
             0.1,
             "#c51b7d"
            ],
            [
             0.2,
             "#de77ae"
            ],
            [
             0.3,
             "#f1b6da"
            ],
            [
             0.4,
             "#fde0ef"
            ],
            [
             0.5,
             "#f7f7f7"
            ],
            [
             0.6,
             "#e6f5d0"
            ],
            [
             0.7,
             "#b8e186"
            ],
            [
             0.8,
             "#7fbc41"
            ],
            [
             0.9,
             "#4d9221"
            ],
            [
             1,
             "#276419"
            ]
           ],
           "sequential": [
            [
             0,
             "#0d0887"
            ],
            [
             0.1111111111111111,
             "#46039f"
            ],
            [
             0.2222222222222222,
             "#7201a8"
            ],
            [
             0.3333333333333333,
             "#9c179e"
            ],
            [
             0.4444444444444444,
             "#bd3786"
            ],
            [
             0.5555555555555556,
             "#d8576b"
            ],
            [
             0.6666666666666666,
             "#ed7953"
            ],
            [
             0.7777777777777778,
             "#fb9f3a"
            ],
            [
             0.8888888888888888,
             "#fdca26"
            ],
            [
             1,
             "#f0f921"
            ]
           ],
           "sequentialminus": [
            [
             0,
             "#0d0887"
            ],
            [
             0.1111111111111111,
             "#46039f"
            ],
            [
             0.2222222222222222,
             "#7201a8"
            ],
            [
             0.3333333333333333,
             "#9c179e"
            ],
            [
             0.4444444444444444,
             "#bd3786"
            ],
            [
             0.5555555555555556,
             "#d8576b"
            ],
            [
             0.6666666666666666,
             "#ed7953"
            ],
            [
             0.7777777777777778,
             "#fb9f3a"
            ],
            [
             0.8888888888888888,
             "#fdca26"
            ],
            [
             1,
             "#f0f921"
            ]
           ]
          },
          "colorway": [
           "#636efa",
           "#EF553B",
           "#00cc96",
           "#ab63fa",
           "#FFA15A",
           "#19d3f3",
           "#FF6692",
           "#B6E880",
           "#FF97FF",
           "#FECB52"
          ],
          "font": {
           "color": "#2a3f5f"
          },
          "geo": {
           "bgcolor": "white",
           "lakecolor": "white",
           "landcolor": "#E5ECF6",
           "showlakes": true,
           "showland": true,
           "subunitcolor": "white"
          },
          "hoverlabel": {
           "align": "left"
          },
          "hovermode": "closest",
          "mapbox": {
           "style": "light"
          },
          "paper_bgcolor": "white",
          "plot_bgcolor": "#E5ECF6",
          "polar": {
           "angularaxis": {
            "gridcolor": "white",
            "linecolor": "white",
            "ticks": ""
           },
           "bgcolor": "#E5ECF6",
           "radialaxis": {
            "gridcolor": "white",
            "linecolor": "white",
            "ticks": ""
           }
          },
          "scene": {
           "xaxis": {
            "backgroundcolor": "#E5ECF6",
            "gridcolor": "white",
            "gridwidth": 2,
            "linecolor": "white",
            "showbackground": true,
            "ticks": "",
            "zerolinecolor": "white"
           },
           "yaxis": {
            "backgroundcolor": "#E5ECF6",
            "gridcolor": "white",
            "gridwidth": 2,
            "linecolor": "white",
            "showbackground": true,
            "ticks": "",
            "zerolinecolor": "white"
           },
           "zaxis": {
            "backgroundcolor": "#E5ECF6",
            "gridcolor": "white",
            "gridwidth": 2,
            "linecolor": "white",
            "showbackground": true,
            "ticks": "",
            "zerolinecolor": "white"
           }
          },
          "shapedefaults": {
           "line": {
            "color": "#2a3f5f"
           }
          },
          "ternary": {
           "aaxis": {
            "gridcolor": "white",
            "linecolor": "white",
            "ticks": ""
           },
           "baxis": {
            "gridcolor": "white",
            "linecolor": "white",
            "ticks": ""
           },
           "bgcolor": "#E5ECF6",
           "caxis": {
            "gridcolor": "white",
            "linecolor": "white",
            "ticks": ""
           }
          },
          "title": {
           "x": 0.05
          },
          "xaxis": {
           "automargin": true,
           "gridcolor": "white",
           "linecolor": "white",
           "ticks": "",
           "title": {
            "standoff": 15
           },
           "zerolinecolor": "white",
           "zerolinewidth": 2
          },
          "yaxis": {
           "automargin": true,
           "gridcolor": "white",
           "linecolor": "white",
           "ticks": "",
           "title": {
            "standoff": 15
           },
           "zerolinecolor": "white",
           "zerolinewidth": 2
          }
         }
        },
        "title": {
         "text": "trade-off between scoring time and mean test score",
         "x": 0.5,
         "xanchor": "center",
         "y": 0.95,
         "yanchor": "top"
        },
        "xaxis": {
         "anchor": "y",
         "domain": [
          0,
          1
         ],
         "title": {
          "text": "CV Score time (s)"
         }
        },
        "yaxis": {
         "anchor": "x",
         "domain": [
          0,
          1
         ],
         "title": {
          "text": "CV score (accuracy)"
         }
        }
       }
      }
     },
     "metadata": {},
     "output_type": "display_data"
    }
   ],
   "source": [
    "import plotly.express as px\n",
    "\n",
    "param_names = [shorten_param(name) for name in parameter_grid.keys()]\n",
    "labels = {\n",
    "    \"mean_score_time\": \"CV Score time (s)\",\n",
    "    \"mean_test_score\": \"CV score (accuracy)\",\n",
    "}\n",
    "fig = px.scatter(\n",
    "    cv_results,\n",
    "    x=\"mean_score_time\",\n",
    "    y=\"mean_test_score\",\n",
    "    error_x=\"std_score_time\",\n",
    "    error_y=\"std_test_score\",\n",
    "    hover_data=param_names,\n",
    "    labels=labels,\n",
    ")\n",
    "fig.update_layout(\n",
    "    title={\n",
    "        \"text\": \"trade-off between scoring time and mean test score\",\n",
    "        \"y\": 0.95,\n",
    "        \"x\": 0.5,\n",
    "        \"xanchor\": \"center\",\n",
    "        \"yanchor\": \"top\",\n",
    "    }\n",
    ")\n",
    "fig"
   ]
  },
  {
   "attachments": {},
   "cell_type": "markdown",
   "metadata": {},
   "source": [
    "Notez que les clusters de modèles dans le coin supérieur gauche du graphique ont le meilleur compromis entre précision et temps de scoring. Dans ce cas, l'utilisation de bigrammes augmente le temps de scoring requis sans considérablement améliorer la précision du pipeline.\n",
    "\n",
    "**Note** : pour plus d'informations sur la façon de personnaliser un réglage automatisé pour maximiser le score et minimiser le temps de scoring, voir le notebook d'exemple [**Stratégie de réajustement personnalisée d'une recherche en grille avec validation croisée**](https://scikit-learn.org/stable/auto_examples/model_selection/plot_grid_search_digits.html).\n",
    "\n",
    "Nous pouvons également utiliser un [`plotly.express.parallel_coordinates`](https://plotly.com/python-api-reference/generated/plotly.express.parallel_coordinates.html) pour visualiser davantage la moyenne du score de test en fonction des hyperparamètres ajustés. Cela aide à trouver les interactions entre plus de deux hyperparamètres et à fournir une intuition sur leur pertinence pour améliorer les performances d'un pipeline.\n",
    "\n",
    "Nous appliquons une transformation `math.log10` sur l'axe `alpha` pour étendre la plage active et améliorer la lisibilité du graphique. Une valeur sur cet axe doit être comprise comme $10^x$."
   ]
  },
  {
   "cell_type": "code",
   "execution_count": 10,
   "metadata": {},
   "outputs": [
    {
     "data": {
      "application/vnd.plotly.v1+json": {
       "config": {
        "plotlyServerURL": "https://plot.ly"
       },
       "data": [
        {
         "dimensions": [
          {
           "label": "max_df",
           "values": [
            1,
            0.6,
            0.6,
            1,
            0.2,
            0.2,
            0.2,
            1,
            0.2,
            0.4,
            1,
            0.4,
            0.6,
            0.2,
            0.6,
            0.8,
            0.8,
            0.8,
            0.4,
            0.8,
            0.2,
            0.4,
            0.8,
            0.4,
            0.6,
            1,
            0.2,
            0.8,
            0.8,
            1,
            0.2,
            0.8,
            0.4,
            0.6,
            0.2,
            1,
            0.6,
            0.8,
            0.8,
            0.2
           ]
          },
          {
           "label": "min_df",
           "values": [
            3,
            3,
            10,
            10,
            3,
            1,
            1,
            5,
            5,
            10,
            5,
            10,
            3,
            1,
            10,
            3,
            5,
            1,
            5,
            1,
            1,
            5,
            1,
            10,
            1,
            1,
            1,
            1,
            10,
            5,
            5,
            10,
            1,
            3,
            5,
            1,
            3,
            3,
            3,
            1
           ]
          },
          {
           "label": "ngram_range",
           "values": [
            2,
            2,
            1,
            2,
            2,
            2,
            2,
            2,
            2,
            2,
            2,
            2,
            2,
            1,
            2,
            2,
            1,
            1,
            2,
            2,
            1,
            2,
            2,
            2,
            1,
            2,
            2,
            2,
            1,
            1,
            2,
            2,
            2,
            2,
            1,
            1,
            2,
            2,
            2,
            2
           ]
          },
          {
           "label": "norm",
           "values": [
            2,
            2,
            1,
            2,
            2,
            2,
            2,
            1,
            2,
            1,
            2,
            2,
            1,
            1,
            2,
            1,
            1,
            2,
            1,
            1,
            2,
            2,
            2,
            2,
            2,
            1,
            1,
            2,
            1,
            1,
            2,
            2,
            1,
            1,
            2,
            2,
            1,
            2,
            2,
            2
           ]
          },
          {
           "label": "alpha",
           "values": [
            1,
            2,
            -2,
            -3,
            0,
            3,
            0,
            5,
            -3,
            -3,
            -6,
            2,
            2,
            -2,
            -2,
            -3,
            4,
            2,
            0,
            0,
            -6,
            -6,
            0,
            -6,
            0,
            0,
            6,
            4,
            -2,
            -3,
            -2,
            5,
            -6,
            5,
            4,
            4,
            0,
            6,
            -3,
            -1
           ]
          },
          {
           "label": "CV score (accuracy)",
           "values": [
            0.6067319461444309,
            0.6114035087719298,
            0.7444308445532435,
            0.7385624915000679,
            0.7735890112879098,
            0.6988916088671291,
            0.7350537195702435,
            0.5775873793009656,
            0.7723922208622331,
            0.7327281381748946,
            0.76890384876921,
            0.6603835169318646,
            0.599734802121583,
            0.8156262749898001,
            0.73625050999592,
            0.7958044335645316,
            0.5729294165646674,
            0.5705902352781178,
            0.6661906704746362,
            0.5857405140758873,
            0.7841425268597851,
            0.7665714674282607,
            0.670875832993336,
            0.7304229566163472,
            0.7000271997824018,
            0.5810825513395892,
            0.6673806609547123,
            0.5775873793009656,
            0.7479464164286685,
            0.7770909832721339,
            0.7747314021487828,
            0.5845913232694139,
            0.8109547123623011,
            0.599734802121583,
            0.7280769753841969,
            0.5624303005575955,
            0.6195498436012512,
            0.5752685978512172,
            0.7829389364885082,
            0.8132666938664489
           ]
          },
          {
           "label": "CV Score time (s)",
           "values": [
            0.0772097110748291,
            0.07061176300048828,
            0.0328000545501709,
            0.06878848075866699,
            0.06440601348876954,
            0.08920621871948242,
            0.08640336990356445,
            0.07119317054748535,
            0.06280303001403809,
            0.058216285705566403,
            0.06939225196838379,
            0.058006906509399415,
            0.06537442207336426,
            0.03220896720886231,
            0.05819659233093262,
            0.06239056587219238,
            0.029598426818847657,
            0.03179292678833008,
            0.060808229446411136,
            0.07758769989013672,
            0.03499937057495117,
            0.06038641929626465,
            0.07441229820251465,
            0.05700230598449707,
            0.0318148136138916,
            0.07581534385681152,
            0.06977815628051758,
            0.08480806350708008,
            0.03401002883911133,
            0.032193660736083984,
            0.06399269104003906,
            0.06340746879577637,
            0.06521492004394532,
            0.06720404624938965,
            0.030793285369873045,
            0.037201738357543944,
            0.059600210189819335,
            0.06859426498413086,
            0.06359710693359374,
            0.07420668601989747
           ]
          }
         ],
         "domain": {
          "x": [
           0,
           1
          ],
          "y": [
           0,
           1
          ]
         },
         "line": {
          "color": [
           0.6067319461444309,
           0.6114035087719298,
           0.7444308445532435,
           0.7385624915000679,
           0.7735890112879098,
           0.6988916088671291,
           0.7350537195702435,
           0.5775873793009656,
           0.7723922208622331,
           0.7327281381748946,
           0.76890384876921,
           0.6603835169318646,
           0.599734802121583,
           0.8156262749898001,
           0.73625050999592,
           0.7958044335645316,
           0.5729294165646674,
           0.5705902352781178,
           0.6661906704746362,
           0.5857405140758873,
           0.7841425268597851,
           0.7665714674282607,
           0.670875832993336,
           0.7304229566163472,
           0.7000271997824018,
           0.5810825513395892,
           0.6673806609547123,
           0.5775873793009656,
           0.7479464164286685,
           0.7770909832721339,
           0.7747314021487828,
           0.5845913232694139,
           0.8109547123623011,
           0.599734802121583,
           0.7280769753841969,
           0.5624303005575955,
           0.6195498436012512,
           0.5752685978512172,
           0.7829389364885082,
           0.8132666938664489
          ],
          "coloraxis": "coloraxis"
         },
         "name": "",
         "type": "parcoords"
        }
       ],
       "layout": {
        "coloraxis": {
         "colorbar": {
          "title": {
           "text": "CV score (accuracy)"
          }
         },
         "colorscale": [
          [
           0,
           "#fde725"
          ],
          [
           0.1111111111111111,
           "#b5de2b"
          ],
          [
           0.2222222222222222,
           "#6ece58"
          ],
          [
           0.3333333333333333,
           "#35b779"
          ],
          [
           0.4444444444444444,
           "#1f9e89"
          ],
          [
           0.5555555555555556,
           "#26828e"
          ],
          [
           0.6666666666666666,
           "#31688e"
          ],
          [
           0.7777777777777778,
           "#3e4989"
          ],
          [
           0.8888888888888888,
           "#482878"
          ],
          [
           1,
           "#440154"
          ]
         ]
        },
        "legend": {
         "tracegroupgap": 0
        },
        "margin": {
         "t": 60
        },
        "template": {
         "data": {
          "bar": [
           {
            "error_x": {
             "color": "#2a3f5f"
            },
            "error_y": {
             "color": "#2a3f5f"
            },
            "marker": {
             "line": {
              "color": "#E5ECF6",
              "width": 0.5
             },
             "pattern": {
              "fillmode": "overlay",
              "size": 10,
              "solidity": 0.2
             }
            },
            "type": "bar"
           }
          ],
          "barpolar": [
           {
            "marker": {
             "line": {
              "color": "#E5ECF6",
              "width": 0.5
             },
             "pattern": {
              "fillmode": "overlay",
              "size": 10,
              "solidity": 0.2
             }
            },
            "type": "barpolar"
           }
          ],
          "carpet": [
           {
            "aaxis": {
             "endlinecolor": "#2a3f5f",
             "gridcolor": "white",
             "linecolor": "white",
             "minorgridcolor": "white",
             "startlinecolor": "#2a3f5f"
            },
            "baxis": {
             "endlinecolor": "#2a3f5f",
             "gridcolor": "white",
             "linecolor": "white",
             "minorgridcolor": "white",
             "startlinecolor": "#2a3f5f"
            },
            "type": "carpet"
           }
          ],
          "choropleth": [
           {
            "colorbar": {
             "outlinewidth": 0,
             "ticks": ""
            },
            "type": "choropleth"
           }
          ],
          "contour": [
           {
            "colorbar": {
             "outlinewidth": 0,
             "ticks": ""
            },
            "colorscale": [
             [
              0,
              "#0d0887"
             ],
             [
              0.1111111111111111,
              "#46039f"
             ],
             [
              0.2222222222222222,
              "#7201a8"
             ],
             [
              0.3333333333333333,
              "#9c179e"
             ],
             [
              0.4444444444444444,
              "#bd3786"
             ],
             [
              0.5555555555555556,
              "#d8576b"
             ],
             [
              0.6666666666666666,
              "#ed7953"
             ],
             [
              0.7777777777777778,
              "#fb9f3a"
             ],
             [
              0.8888888888888888,
              "#fdca26"
             ],
             [
              1,
              "#f0f921"
             ]
            ],
            "type": "contour"
           }
          ],
          "contourcarpet": [
           {
            "colorbar": {
             "outlinewidth": 0,
             "ticks": ""
            },
            "type": "contourcarpet"
           }
          ],
          "heatmap": [
           {
            "colorbar": {
             "outlinewidth": 0,
             "ticks": ""
            },
            "colorscale": [
             [
              0,
              "#0d0887"
             ],
             [
              0.1111111111111111,
              "#46039f"
             ],
             [
              0.2222222222222222,
              "#7201a8"
             ],
             [
              0.3333333333333333,
              "#9c179e"
             ],
             [
              0.4444444444444444,
              "#bd3786"
             ],
             [
              0.5555555555555556,
              "#d8576b"
             ],
             [
              0.6666666666666666,
              "#ed7953"
             ],
             [
              0.7777777777777778,
              "#fb9f3a"
             ],
             [
              0.8888888888888888,
              "#fdca26"
             ],
             [
              1,
              "#f0f921"
             ]
            ],
            "type": "heatmap"
           }
          ],
          "heatmapgl": [
           {
            "colorbar": {
             "outlinewidth": 0,
             "ticks": ""
            },
            "colorscale": [
             [
              0,
              "#0d0887"
             ],
             [
              0.1111111111111111,
              "#46039f"
             ],
             [
              0.2222222222222222,
              "#7201a8"
             ],
             [
              0.3333333333333333,
              "#9c179e"
             ],
             [
              0.4444444444444444,
              "#bd3786"
             ],
             [
              0.5555555555555556,
              "#d8576b"
             ],
             [
              0.6666666666666666,
              "#ed7953"
             ],
             [
              0.7777777777777778,
              "#fb9f3a"
             ],
             [
              0.8888888888888888,
              "#fdca26"
             ],
             [
              1,
              "#f0f921"
             ]
            ],
            "type": "heatmapgl"
           }
          ],
          "histogram": [
           {
            "marker": {
             "pattern": {
              "fillmode": "overlay",
              "size": 10,
              "solidity": 0.2
             }
            },
            "type": "histogram"
           }
          ],
          "histogram2d": [
           {
            "colorbar": {
             "outlinewidth": 0,
             "ticks": ""
            },
            "colorscale": [
             [
              0,
              "#0d0887"
             ],
             [
              0.1111111111111111,
              "#46039f"
             ],
             [
              0.2222222222222222,
              "#7201a8"
             ],
             [
              0.3333333333333333,
              "#9c179e"
             ],
             [
              0.4444444444444444,
              "#bd3786"
             ],
             [
              0.5555555555555556,
              "#d8576b"
             ],
             [
              0.6666666666666666,
              "#ed7953"
             ],
             [
              0.7777777777777778,
              "#fb9f3a"
             ],
             [
              0.8888888888888888,
              "#fdca26"
             ],
             [
              1,
              "#f0f921"
             ]
            ],
            "type": "histogram2d"
           }
          ],
          "histogram2dcontour": [
           {
            "colorbar": {
             "outlinewidth": 0,
             "ticks": ""
            },
            "colorscale": [
             [
              0,
              "#0d0887"
             ],
             [
              0.1111111111111111,
              "#46039f"
             ],
             [
              0.2222222222222222,
              "#7201a8"
             ],
             [
              0.3333333333333333,
              "#9c179e"
             ],
             [
              0.4444444444444444,
              "#bd3786"
             ],
             [
              0.5555555555555556,
              "#d8576b"
             ],
             [
              0.6666666666666666,
              "#ed7953"
             ],
             [
              0.7777777777777778,
              "#fb9f3a"
             ],
             [
              0.8888888888888888,
              "#fdca26"
             ],
             [
              1,
              "#f0f921"
             ]
            ],
            "type": "histogram2dcontour"
           }
          ],
          "mesh3d": [
           {
            "colorbar": {
             "outlinewidth": 0,
             "ticks": ""
            },
            "type": "mesh3d"
           }
          ],
          "parcoords": [
           {
            "line": {
             "colorbar": {
              "outlinewidth": 0,
              "ticks": ""
             }
            },
            "type": "parcoords"
           }
          ],
          "pie": [
           {
            "automargin": true,
            "type": "pie"
           }
          ],
          "scatter": [
           {
            "fillpattern": {
             "fillmode": "overlay",
             "size": 10,
             "solidity": 0.2
            },
            "type": "scatter"
           }
          ],
          "scatter3d": [
           {
            "line": {
             "colorbar": {
              "outlinewidth": 0,
              "ticks": ""
             }
            },
            "marker": {
             "colorbar": {
              "outlinewidth": 0,
              "ticks": ""
             }
            },
            "type": "scatter3d"
           }
          ],
          "scattercarpet": [
           {
            "marker": {
             "colorbar": {
              "outlinewidth": 0,
              "ticks": ""
             }
            },
            "type": "scattercarpet"
           }
          ],
          "scattergeo": [
           {
            "marker": {
             "colorbar": {
              "outlinewidth": 0,
              "ticks": ""
             }
            },
            "type": "scattergeo"
           }
          ],
          "scattergl": [
           {
            "marker": {
             "colorbar": {
              "outlinewidth": 0,
              "ticks": ""
             }
            },
            "type": "scattergl"
           }
          ],
          "scattermapbox": [
           {
            "marker": {
             "colorbar": {
              "outlinewidth": 0,
              "ticks": ""
             }
            },
            "type": "scattermapbox"
           }
          ],
          "scatterpolar": [
           {
            "marker": {
             "colorbar": {
              "outlinewidth": 0,
              "ticks": ""
             }
            },
            "type": "scatterpolar"
           }
          ],
          "scatterpolargl": [
           {
            "marker": {
             "colorbar": {
              "outlinewidth": 0,
              "ticks": ""
             }
            },
            "type": "scatterpolargl"
           }
          ],
          "scatterternary": [
           {
            "marker": {
             "colorbar": {
              "outlinewidth": 0,
              "ticks": ""
             }
            },
            "type": "scatterternary"
           }
          ],
          "surface": [
           {
            "colorbar": {
             "outlinewidth": 0,
             "ticks": ""
            },
            "colorscale": [
             [
              0,
              "#0d0887"
             ],
             [
              0.1111111111111111,
              "#46039f"
             ],
             [
              0.2222222222222222,
              "#7201a8"
             ],
             [
              0.3333333333333333,
              "#9c179e"
             ],
             [
              0.4444444444444444,
              "#bd3786"
             ],
             [
              0.5555555555555556,
              "#d8576b"
             ],
             [
              0.6666666666666666,
              "#ed7953"
             ],
             [
              0.7777777777777778,
              "#fb9f3a"
             ],
             [
              0.8888888888888888,
              "#fdca26"
             ],
             [
              1,
              "#f0f921"
             ]
            ],
            "type": "surface"
           }
          ],
          "table": [
           {
            "cells": {
             "fill": {
              "color": "#EBF0F8"
             },
             "line": {
              "color": "white"
             }
            },
            "header": {
             "fill": {
              "color": "#C8D4E3"
             },
             "line": {
              "color": "white"
             }
            },
            "type": "table"
           }
          ]
         },
         "layout": {
          "annotationdefaults": {
           "arrowcolor": "#2a3f5f",
           "arrowhead": 0,
           "arrowwidth": 1
          },
          "autotypenumbers": "strict",
          "coloraxis": {
           "colorbar": {
            "outlinewidth": 0,
            "ticks": ""
           }
          },
          "colorscale": {
           "diverging": [
            [
             0,
             "#8e0152"
            ],
            [
             0.1,
             "#c51b7d"
            ],
            [
             0.2,
             "#de77ae"
            ],
            [
             0.3,
             "#f1b6da"
            ],
            [
             0.4,
             "#fde0ef"
            ],
            [
             0.5,
             "#f7f7f7"
            ],
            [
             0.6,
             "#e6f5d0"
            ],
            [
             0.7,
             "#b8e186"
            ],
            [
             0.8,
             "#7fbc41"
            ],
            [
             0.9,
             "#4d9221"
            ],
            [
             1,
             "#276419"
            ]
           ],
           "sequential": [
            [
             0,
             "#0d0887"
            ],
            [
             0.1111111111111111,
             "#46039f"
            ],
            [
             0.2222222222222222,
             "#7201a8"
            ],
            [
             0.3333333333333333,
             "#9c179e"
            ],
            [
             0.4444444444444444,
             "#bd3786"
            ],
            [
             0.5555555555555556,
             "#d8576b"
            ],
            [
             0.6666666666666666,
             "#ed7953"
            ],
            [
             0.7777777777777778,
             "#fb9f3a"
            ],
            [
             0.8888888888888888,
             "#fdca26"
            ],
            [
             1,
             "#f0f921"
            ]
           ],
           "sequentialminus": [
            [
             0,
             "#0d0887"
            ],
            [
             0.1111111111111111,
             "#46039f"
            ],
            [
             0.2222222222222222,
             "#7201a8"
            ],
            [
             0.3333333333333333,
             "#9c179e"
            ],
            [
             0.4444444444444444,
             "#bd3786"
            ],
            [
             0.5555555555555556,
             "#d8576b"
            ],
            [
             0.6666666666666666,
             "#ed7953"
            ],
            [
             0.7777777777777778,
             "#fb9f3a"
            ],
            [
             0.8888888888888888,
             "#fdca26"
            ],
            [
             1,
             "#f0f921"
            ]
           ]
          },
          "colorway": [
           "#636efa",
           "#EF553B",
           "#00cc96",
           "#ab63fa",
           "#FFA15A",
           "#19d3f3",
           "#FF6692",
           "#B6E880",
           "#FF97FF",
           "#FECB52"
          ],
          "font": {
           "color": "#2a3f5f"
          },
          "geo": {
           "bgcolor": "white",
           "lakecolor": "white",
           "landcolor": "#E5ECF6",
           "showlakes": true,
           "showland": true,
           "subunitcolor": "white"
          },
          "hoverlabel": {
           "align": "left"
          },
          "hovermode": "closest",
          "mapbox": {
           "style": "light"
          },
          "paper_bgcolor": "white",
          "plot_bgcolor": "#E5ECF6",
          "polar": {
           "angularaxis": {
            "gridcolor": "white",
            "linecolor": "white",
            "ticks": ""
           },
           "bgcolor": "#E5ECF6",
           "radialaxis": {
            "gridcolor": "white",
            "linecolor": "white",
            "ticks": ""
           }
          },
          "scene": {
           "xaxis": {
            "backgroundcolor": "#E5ECF6",
            "gridcolor": "white",
            "gridwidth": 2,
            "linecolor": "white",
            "showbackground": true,
            "ticks": "",
            "zerolinecolor": "white"
           },
           "yaxis": {
            "backgroundcolor": "#E5ECF6",
            "gridcolor": "white",
            "gridwidth": 2,
            "linecolor": "white",
            "showbackground": true,
            "ticks": "",
            "zerolinecolor": "white"
           },
           "zaxis": {
            "backgroundcolor": "#E5ECF6",
            "gridcolor": "white",
            "gridwidth": 2,
            "linecolor": "white",
            "showbackground": true,
            "ticks": "",
            "zerolinecolor": "white"
           }
          },
          "shapedefaults": {
           "line": {
            "color": "#2a3f5f"
           }
          },
          "ternary": {
           "aaxis": {
            "gridcolor": "white",
            "linecolor": "white",
            "ticks": ""
           },
           "baxis": {
            "gridcolor": "white",
            "linecolor": "white",
            "ticks": ""
           },
           "bgcolor": "#E5ECF6",
           "caxis": {
            "gridcolor": "white",
            "linecolor": "white",
            "ticks": ""
           }
          },
          "title": {
           "x": 0.05
          },
          "xaxis": {
           "automargin": true,
           "gridcolor": "white",
           "linecolor": "white",
           "ticks": "",
           "title": {
            "standoff": 15
           },
           "zerolinecolor": "white",
           "zerolinewidth": 2
          },
          "yaxis": {
           "automargin": true,
           "gridcolor": "white",
           "linecolor": "white",
           "ticks": "",
           "title": {
            "standoff": 15
           },
           "zerolinecolor": "white",
           "zerolinewidth": 2
          }
         }
        },
        "title": {
         "text": "Parallel coordinates plot of text classifier pipeline",
         "x": 0.5,
         "xanchor": "center",
         "y": 0.99,
         "yanchor": "top"
        }
       }
      }
     },
     "metadata": {},
     "output_type": "display_data"
    }
   ],
   "source": [
    "import math\n",
    "\n",
    "column_results = param_names + [\"mean_test_score\", \"mean_score_time\"]\n",
    "\n",
    "transform_funcs = dict.fromkeys(column_results, lambda x: x)\n",
    "# Using a logarithmic scale for alpha\n",
    "transform_funcs[\"alpha\"] = math.log10\n",
    "# L1 norms are mapped to index 1, and L2 norms to index 2\n",
    "transform_funcs[\"norm\"] = lambda x: 2 if x == \"l2\" else 1\n",
    "# Unigrams are mapped to index 1 and bigrams to index 2\n",
    "transform_funcs[\"ngram_range\"] = lambda x: x[1]\n",
    "\n",
    "fig = px.parallel_coordinates(\n",
    "    cv_results[column_results].apply(transform_funcs),\n",
    "    color=\"mean_test_score\",\n",
    "    color_continuous_scale=px.colors.sequential.Viridis_r,\n",
    "    labels=labels,\n",
    ")\n",
    "fig.update_layout(\n",
    "    title={\n",
    "        \"text\": \"Parallel coordinates plot of text classifier pipeline\",\n",
    "        \"y\": 0.99,\n",
    "        \"x\": 0.5,\n",
    "        \"xanchor\": \"center\",\n",
    "        \"yanchor\": \"top\",\n",
    "    }\n",
    ")\n",
    "fig"
   ]
  },
  {
   "attachments": {},
   "cell_type": "markdown",
   "metadata": {},
   "source": [
    "Le graphique de coordonnées parallèles affiche les valeurs des hyperparamètres sur différentes colonnes, tandis que la métrique de performance est codée en couleur. Il est possible de sélectionner une plage de résultats en cliquant et en maintenant enfoncé n'importe quel axe du graphique de coordonnées parallèles. Vous pouvez ensuite faire glisser (déplacer) la sélection de plage et couper deux sélections pour voir les intersections. Vous pouvez annuler une sélection en cliquant à nouveau sur le même axe.\n",
    "\n",
    "En particulier pour cette recherche d'hyperparamètres, il est intéressant de remarquer que les meilleurs modèles ne semblent pas dépendre de la norme de régularisation, mais dépendent d'un compromis entre `max_df`, `min_df` et la force de régularisation `alpha`. La raison en est que l'inclusion de caractéristiques bruyantes (c'est-à-dire `max_df` proche de 1.0 ou `min_df` proche de 0) tend à surapprendre et nécessite donc une régularisation plus forte pour compenser. Avoir moins de caractéristiques nécessite moins de régularisation et moins de temps de scoring.\n",
    "\n",
    "Les meilleurs scores de précision sont obtenus lorsque `alpha` est compris entre $10^{-6}$ et $10^0$, indépendamment de l'hyperparamètre `norm`."
   ]
  }
 ],
 "metadata": {
  "kernelspec": {
   "display_name": "Python 3",
   "language": "python",
   "name": "python3"
  },
  "language_info": {
   "codemirror_mode": {
    "name": "ipython",
    "version": 3
   },
   "file_extension": ".py",
   "mimetype": "text/x-python",
   "name": "python",
   "nbconvert_exporter": "python",
   "pygments_lexer": "ipython3",
   "version": "3.10.11"
  },
  "orig_nbformat": 4,
  "vscode": {
   "interpreter": {
    "hash": "9aff9e50adfaa9e30c910fb3872ffdc72747acb5f50803ca0504f00e980f7c25"
   }
  }
 },
 "nbformat": 4,
 "nbformat_minor": 2
}
