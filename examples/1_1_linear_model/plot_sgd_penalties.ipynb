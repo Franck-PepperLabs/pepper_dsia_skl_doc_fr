{
 "cells": [
  {
   "cell_type": "markdown",
   "metadata": {},
   "source": [
    "# [**Pénalités SGD**](https://nbviewer.org/github/Franck-PepperLabs/pepper_data-science_practising/blob/main/Sklearn/examples/1_1_linear_model/plot_sgd_penalties.ipynb)<br/>([_SGD: Penalties_](https://scikit-learn.org/stable/auto_examples/linear_model/plot_sgd_penalties.html))\n",
    "\n",
    "Contours où la pénalité est égale à $1$ pour les trois pénalités $\\ell_1$, $\\ell_2$ et Elastic-net.\n",
    "\n",
    "Toutes les options ci-dessus sont prises en charge par [**`SGDClassifier`**](https://scikit-learn.org/stable/modules/generated/sklearn.linear_model.SGDClassifier.html#sklearn.linear_model.SGDClassifier) et [**`SGDRegressor`**](https://scikit-learn.org/stable/modules/generated/sklearn.linear_model.SGDRegressor.html#sklearn.linear_model.SGDRegressor)."
   ]
  },
  {
   "cell_type": "code",
   "execution_count": null,
   "metadata": {},
   "outputs": [],
   "source": [
    "import matplotlib.pyplot as plt\n",
    "import numpy as np\n",
    "\n",
    "l1_color = \"navy\"\n",
    "l2_color = \"c\"\n",
    "elastic_net_color = \"darkorange\"\n",
    "\n",
    "line = np.linspace(-1.5, 1.5, 1001)\n",
    "xx, yy = np.meshgrid(line, line)\n",
    "\n",
    "l2 = xx**2 + yy**2\n",
    "l1 = np.abs(xx) + np.abs(yy)\n",
    "rho = 0.5\n",
    "elastic_net = rho * l1 + (1 - rho) * l2\n",
    "\n",
    "plt.figure(figsize=(10, 10), dpi=100)\n",
    "ax = plt.gca()\n",
    "\n",
    "elastic_net_contour = plt.contour(\n",
    "    xx, yy, elastic_net, levels=[1], colors=elastic_net_color\n",
    ")\n",
    "l2_contour = plt.contour(xx, yy, l2, levels=[1], colors=l2_color)\n",
    "l1_contour = plt.contour(xx, yy, l1, levels=[1], colors=l1_color)\n",
    "ax.set_aspect(\"equal\")\n",
    "ax.spines[\"left\"].set_position(\"center\")\n",
    "ax.spines[\"right\"].set_color(\"none\")\n",
    "ax.spines[\"bottom\"].set_position(\"center\")\n",
    "ax.spines[\"top\"].set_color(\"none\")\n",
    "\n",
    "plt.clabel(\n",
    "    elastic_net_contour,\n",
    "    inline=1,\n",
    "    fontsize=18,\n",
    "    fmt={1.0: \"elastic-net\"},\n",
    "    manual=[(-1, -1)],\n",
    ")\n",
    "plt.clabel(l2_contour, inline=1, fontsize=18, fmt={1.0: \"L2\"}, manual=[(-1, -1)])\n",
    "plt.clabel(l1_contour, inline=1, fontsize=18, fmt={1.0: \"L1\"}, manual=[(-1, -1)])\n",
    "\n",
    "plt.tight_layout()\n",
    "plt.show()"
   ]
  }
 ],
 "metadata": {
  "kernelspec": {
   "display_name": "Python 3",
   "language": "python",
   "name": "python3"
  },
  "language_info": {
   "name": "python",
   "version": "3.11.1"
  }
 },
 "nbformat": 4,
 "nbformat_minor": 2
}
