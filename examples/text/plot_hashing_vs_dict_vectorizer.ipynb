{
 "cells": [
  {
   "attachments": {},
   "cell_type": "markdown",
   "metadata": {},
   "source": [
    "# [**Comparaison de `FeatureHasher` et `DictVectorizer`**](https://nbviewer.org/github/Franck-PepperLabs/pepper_dsia_skl_doc_fr/blob/main/docs/examples/text/plot_hashing_vs_dict_vectorizer.ipynb)<br/>([_FeatureHasher and DictVectorizer Comparison_](https://scikit-learn.org/stable/auto_examples/text/plot_hashing_vs_dict_vectorizer.html))\n",
    "\n",
    "Dans cet exemple, nous illustrons la vectorisation de texte, qui est le processus de représentation de données d'entrée non numériques (telles que des dictionnaires ou des documents textuels) sous forme de vecteurs de nombres réels.\n",
    "\n",
    "Nous commençons par comparer les méthodes [**`FeatureHasher`**](https://scikit-learn.org/stable/modules/generated/sklearn.feature_extraction.FeatureHasher.html) et [**`DictVectorizer`**](https://scikit-learn.org/stable/modules/generated/sklearn.feature_extraction.DictVectorizer.html) en utilisant ces deux méthodes pour vectoriser des documents textuels prétraités (tokenisés) à l'aide d'une fonction Python personnalisée.\n",
    "\n",
    "Ensuite, nous introduisons et analysons les vectoriseurs spécifiques au texte [**`HashingVectorizer`**](https://scikit-learn.org/stable/modules/generated/sklearn.feature_extraction.text.HashingVectorizer.html), [**`CountVectorizer`**](https://scikit-learn.org/stable/modules/generated/sklearn.feature_extraction.text.CountVectorizer.html) et [**`TfidfVectorizer`**](https://scikit-learn.org/stable/modules/generated/sklearn.feature_extraction.text.TfidfVectorizer.html) qui gèrent à la fois la tokenisation et l'assemblage de la matrice de caractéristiques au sein d'une seule classe.\n",
    "\n",
    "L'objectif de cet exemple est de démontrer l'utilisation de l'API de vectorisation de texte et de comparer leur temps de traitement. Consultez les scripts d'exemple [**Classification de documents textuels à l'aide de caractéristiques creuses**](https://nbviewer.org/github/Franck-PepperLabs/pepper_dsia_skl_doc_fr/blob/main/docs/examples/text/plot_document_classification_20newsgroups.ipynb) et [**Regroupement de documents textuels à l'aide de k-means**](https://nbviewer.org/github/Franck-PepperLabs/pepper_dsia_skl_doc_fr/blob/main/docs/examples/text/plot_document_clustering.ipynb) pour voir l'apprentissage réel sur des documents textuels."
   ]
  },
  {
   "cell_type": "code",
   "execution_count": null,
   "metadata": {},
   "outputs": [],
   "source": [
    "# Author: Lars Buitinck\n",
    "#         Olivier Grisel <olivier.grisel@ensta.org>\n",
    "#         Arturo Amor <david-arturo.amor-quiroz@inria.fr>\n",
    "# License: BSD 3 clause"
   ]
  },
  {
   "attachments": {},
   "cell_type": "markdown",
   "metadata": {},
   "source": [
    "# Chargement des données\n",
    "\n",
    "Nous chargeons les données à partir de l'ensemble de données textuelles [\"The 20 newsgroups\"](https://scikit-learn.org/stable/datasets/real_world.html#newsgroups-dataset), qui comprend environ 18 000 messages de groupes de discussion répartis sur 20 sujets, divisés en deux sous-ensembles : un pour l'entraînement et un pour les tests. Dans un souci de simplicité et de réduction des coûts de calcul, nous sélectionnons un sous-ensemble de 7 sujets et n'utilisons que l'ensemble d'entraînement."
   ]
  },
  {
   "cell_type": "code",
   "execution_count": 1,
   "metadata": {},
   "outputs": [
    {
     "name": "stdout",
     "output_type": "stream",
     "text": [
      "Loading 20 newsgroups training data\n",
      "3803 documents - 6.245MB\n"
     ]
    }
   ],
   "source": [
    "from sklearn.datasets import fetch_20newsgroups\n",
    "\n",
    "categories = [\n",
    "    \"alt.atheism\",\n",
    "    \"comp.graphics\",\n",
    "    \"comp.sys.ibm.pc.hardware\",\n",
    "    \"misc.forsale\",\n",
    "    \"rec.autos\",\n",
    "    \"sci.space\",\n",
    "    \"talk.religion.misc\",\n",
    "]\n",
    "\n",
    "print(\"Loading 20 newsgroups training data\")\n",
    "raw_data, _ = fetch_20newsgroups(subset=\"train\", categories=categories, return_X_y=True)\n",
    "data_size_mb = sum(len(s.encode(\"utf-8\")) for s in raw_data) / 1e6\n",
    "print(f\"{len(raw_data)} documents - {data_size_mb:.3f}MB\")"
   ]
  },
  {
   "attachments": {},
   "cell_type": "markdown",
   "metadata": {},
   "source": [
    "# Définition des fonctions de prétraitement\n",
    "\n",
    "Un jeton peut être un mot, une partie d'un mot ou tout ce qui se trouve entre des espaces ou des symboles dans une chaîne de caractères. Ici, nous définissons une fonction qui extrait les jetons à l'aide d'une expression régulière simple (regex) qui correspond aux caractères de mots Unicode. Cela inclut la plupart des caractères pouvant faire partie d'un mot dans n'importe quelle langue, ainsi que les chiffres et le trait de soulignement :"
   ]
  },
  {
   "cell_type": "code",
   "execution_count": 2,
   "metadata": {},
   "outputs": [
    {
     "data": {
      "text/plain": [
       "['this', 'is', 'a', 'simple', 'example', 'isn', 't', 'it']"
      ]
     },
     "execution_count": 2,
     "metadata": {},
     "output_type": "execute_result"
    }
   ],
   "source": [
    "import re\n",
    "\n",
    "\n",
    "def tokenize(doc):\n",
    "    \"\"\"Extract tokens from doc.\n",
    "\n",
    "    This uses a simple regex that matches word characters to break strings\n",
    "    into tokens. For a more principled approach, see CountVectorizer or\n",
    "    TfidfVectorizer.\n",
    "    \"\"\"\n",
    "    return (tok.lower() for tok in re.findall(r\"\\w+\", doc))\n",
    "\n",
    "\n",
    "list(tokenize(\"This is a simple example, isn't it?\"))"
   ]
  },
  {
   "attachments": {},
   "cell_type": "markdown",
   "metadata": {},
   "source": [
    "Nous définissons une fonction supplémentaire qui compte la fréquence d'occurrence de chaque jeton dans un document donné. Elle renvoie un dictionnaire de fréquences à utiliser par les vectoriseurs."
   ]
  },
  {
   "cell_type": "code",
   "execution_count": 3,
   "metadata": {},
   "outputs": [
    {
     "data": {
      "text/plain": [
       "defaultdict(int,\n",
       "            {'that': 1,\n",
       "             'is': 2,\n",
       "             'one': 2,\n",
       "             'example': 1,\n",
       "             'but': 1,\n",
       "             'this': 1,\n",
       "             'another': 1})"
      ]
     },
     "execution_count": 3,
     "metadata": {},
     "output_type": "execute_result"
    }
   ],
   "source": [
    "from collections import defaultdict\n",
    "\n",
    "\n",
    "def token_freqs(doc):\n",
    "    \"\"\"Extract a dict mapping tokens from doc to their occurrences.\"\"\"\n",
    "\n",
    "    freq = defaultdict(int)\n",
    "    for tok in tokenize(doc):\n",
    "        freq[tok] += 1\n",
    "    return freq\n",
    "\n",
    "\n",
    "token_freqs(\"That is one example, but this is another one\")"
   ]
  },
  {
   "attachments": {},
   "cell_type": "markdown",
   "metadata": {},
   "source": [
    "Remarquez en particulier que le jeton répété `\"is\"` est compté deux fois, par exemple.\n",
    "\n",
    "Le fait de découper un document textuel en jetons de mots, en perdant éventuellement les informations d'ordre entre les mots dans une phrase, est souvent appelé représentation [**\"Bag of Words\"** (_sac de mots_)](https://en.wikipedia.org/wiki/Bag-of-words_model)."
   ]
  },
  {
   "attachments": {},
   "cell_type": "markdown",
   "metadata": {},
   "source": [
    "# `DictVectorizer`\n",
    "\n",
    "Tout d'abord, nous évaluons les performances de [**`DictVectorizer`**](https://scikit-learn.org/stable/modules/generated/sklearn.feature_extraction.DictVectorizer.html), puis nous le comparons à [**`FeatureHasher`**](https://scikit-learn.org/stable/modules/generated/sklearn.feature_extraction.FeatureHasher.html) car les deux reçoivent des dictionnaires en entrée."
   ]
  },
  {
   "cell_type": "code",
   "execution_count": 4,
   "metadata": {},
   "outputs": [
    {
     "name": "stdout",
     "output_type": "stream",
     "text": [
      "done in 1.256 s at 5.0 MB/s\n",
      "Found 47928 unique terms\n"
     ]
    }
   ],
   "source": [
    "from time import time\n",
    "from sklearn.feature_extraction import DictVectorizer\n",
    "\n",
    "dict_count_vectorizers = defaultdict(list)\n",
    "\n",
    "t0 = time()\n",
    "vectorizer = DictVectorizer()\n",
    "vectorizer.fit_transform(token_freqs(d) for d in raw_data)\n",
    "duration = time() - t0\n",
    "dict_count_vectorizers[\"vectorizer\"].append(\n",
    "    vectorizer.__class__.__name__ + \"\\non freq dicts\"\n",
    ")\n",
    "dict_count_vectorizers[\"speed\"].append(data_size_mb / duration)\n",
    "print(f\"done in {duration:.3f} s at {data_size_mb / duration:.1f} MB/s\")\n",
    "print(f\"Found {len(vectorizer.get_feature_names_out())} unique terms\")"
   ]
  },
  {
   "attachments": {},
   "cell_type": "markdown",
   "metadata": {},
   "source": [
    "La correspondance réelle entre le jeton de texte et l'indice de colonne est explicitement stockée dans l'attribut `.vocabulary_`, qui est un dictionnaire Python potentiellement très volumineux :"
   ]
  },
  {
   "cell_type": "code",
   "execution_count": 5,
   "metadata": {},
   "outputs": [
    {
     "data": {
      "text/plain": [
       "dict"
      ]
     },
     "execution_count": 5,
     "metadata": {},
     "output_type": "execute_result"
    }
   ],
   "source": [
    "type(vectorizer.vocabulary_)"
   ]
  },
  {
   "cell_type": "code",
   "execution_count": 6,
   "metadata": {},
   "outputs": [
    {
     "data": {
      "text/plain": [
       "47928"
      ]
     },
     "execution_count": 6,
     "metadata": {},
     "output_type": "execute_result"
    }
   ],
   "source": [
    "len(vectorizer.vocabulary_)"
   ]
  },
  {
   "cell_type": "code",
   "execution_count": 7,
   "metadata": {},
   "outputs": [
    {
     "data": {
      "text/plain": [
       "19145"
      ]
     },
     "execution_count": 7,
     "metadata": {},
     "output_type": "execute_result"
    }
   ],
   "source": [
    "vectorizer.vocabulary_[\"example\"]"
   ]
  },
  {
   "attachments": {},
   "cell_type": "markdown",
   "metadata": {},
   "source": [
    "# `FeatureHasher`\n",
    "\n",
    "Les dictionnaires occupent beaucoup d'espace de stockage et augmentent en taille à mesure que l'ensemble d'entraînement grandit. Au lieu d'augmenter les vecteurs avec un dictionnaire, le \"feature hashing\" construit un vecteur de longueur prédéfinie en appliquant une fonction de hachage `h` aux caractéristiques (par exemple, les jetons), puis en utilisant directement les valeurs de hachage comme indices de caractéristiques et en mettant à jour le vecteur résultant à ces indices. Lorsque l'espace des caractéristiques n'est pas suffisamment grand, les fonctions de hachage ont tendance à mapper des valeurs distinctes sur le même code de hachage (collisions de hachage). Par conséquent, il est impossible de déterminer quel objet a généré un code de hachage particulier.\n",
    "\n",
    "En raison de ce qui précède, il est impossible de récupérer les jetons d'origine à partir de la matrice de caractéristiques et la meilleure approche pour estimer le nombre de termes uniques dans le dictionnaire d'origine est de compter le nombre de colonnes actives dans la matrice de caractéristiques encodées. À cette fin, nous définissons la fonction suivante :"
   ]
  },
  {
   "cell_type": "code",
   "execution_count": 9,
   "metadata": {},
   "outputs": [],
   "source": [
    "import numpy as np\n",
    "\n",
    "\n",
    "def n_nonzero_columns(X):\n",
    "    \"\"\"Number of columns with at least one non-zero value in a CSR matrix.\n",
    "\n",
    "    This is useful to count the number of features columns that are effectively\n",
    "    active when using the FeatureHasher.\n",
    "    \"\"\"\n",
    "    return len(np.unique(X.nonzero()[1]))"
   ]
  },
  {
   "attachments": {},
   "cell_type": "markdown",
   "metadata": {},
   "source": [
    "Le nombre par défaut de caractéristiques pour le [**`FeatureHasher`**](https://scikit-learn.org/stable/modules/generated/sklearn.feature_extraction.FeatureHasher.html) est $2^{20}$. Ici, nous définissons `n_features = 2**18` pour illustrer les collisions de hachage.\n",
    "\n",
    "## `FeatureHasher` sur des dictionnaires de fréquence"
   ]
  },
  {
   "cell_type": "code",
   "execution_count": 10,
   "metadata": {},
   "outputs": [
    {
     "name": "stdout",
     "output_type": "stream",
     "text": [
      "done in 0.760 s at 8.2 MB/s\n",
      "Found 43873 unique tokens\n"
     ]
    }
   ],
   "source": [
    "from sklearn.feature_extraction import FeatureHasher\n",
    "\n",
    "t0 = time()\n",
    "hasher = FeatureHasher(n_features=2**18)\n",
    "X = hasher.transform(token_freqs(d) for d in raw_data)\n",
    "duration = time() - t0\n",
    "dict_count_vectorizers[\"vectorizer\"].append(\n",
    "    hasher.__class__.__name__ + \"\\non freq dicts\"\n",
    ")\n",
    "dict_count_vectorizers[\"speed\"].append(data_size_mb / duration)\n",
    "print(f\"done in {duration:.3f} s at {data_size_mb / duration:.1f} MB/s\")\n",
    "print(f\"Found {n_nonzero_columns(X)} unique tokens\")"
   ]
  },
  {
   "attachments": {},
   "cell_type": "markdown",
   "metadata": {},
   "source": [
    "Le nombre de jetons uniques lors de l'utilisation de [**`FeatureHasher`**](https://scikit-learn.org/stable/modules/generated/sklearn.feature_extraction.FeatureHasher.html) est inférieur à ceux obtenus avec [**`DictVectorizer`**](https://scikit-learn.org/stable/modules/generated/sklearn.feature_extraction.DictVectorizer.html). Cela est dû aux collisions de hachage.\n",
    "\n",
    "Le nombre de collisions peut être réduit en augmentant l'espace des caractéristiques. Remarquez que la vitesse du vectoriseur ne change pas de manière significative lorsqu'un grand nombre de caractéristiques est défini, bien que cela entraîne des dimensions de coefficient plus grandes et nécessite donc une utilisation plus importante de la mémoire pour les stocker, même si la majorité d'entre elles est inactive."
   ]
  },
  {
   "cell_type": "code",
   "execution_count": 11,
   "metadata": {},
   "outputs": [
    {
     "name": "stdout",
     "output_type": "stream",
     "text": [
      "done in 0.757 s at 8.2 MB/s\n",
      "Found 47668 unique tokens\n"
     ]
    }
   ],
   "source": [
    "t0 = time()\n",
    "hasher = FeatureHasher(n_features=2**22)\n",
    "X = hasher.transform(token_freqs(d) for d in raw_data)\n",
    "duration = time() - t0\n",
    "\n",
    "print(f\"done in {duration:.3f} s at {data_size_mb / duration:.1f} MB/s\")\n",
    "print(f\"Found {n_nonzero_columns(X)} unique tokens\")"
   ]
  },
  {
   "attachments": {},
   "cell_type": "markdown",
   "metadata": {},
   "source": [
    "Nous confirmons que le nombre de jetons uniques se rapproche du nombre de termes uniques trouvés par [**`DictVectorizer`**](https://scikit-learn.org/stable/modules/generated/sklearn.feature_extraction.DictVectorizer.html).\n",
    "\n",
    "## `FeatureHasher` sur des jetons bruts\n",
    "\n",
    "Alternativement, on peut définir `input_type=\"string\"` dans [**`FeatureHasher`**](https://scikit-learn.org/stable/modules/generated/sklearn.feature_extraction.FeatureHasher.html) pour vectoriser directement les chaînes de caractères produites par la fonction de `tokenisation` personnalisée. Cela équivaut à passer un dictionnaire avec une fréquence implicite de 1 pour chaque nom de caractéristique."
   ]
  },
  {
   "cell_type": "code",
   "execution_count": 12,
   "metadata": {},
   "outputs": [
    {
     "name": "stdout",
     "output_type": "stream",
     "text": [
      "done in 0.713 s at 8.8 MB/s\n",
      "Found 43873 unique tokens\n"
     ]
    }
   ],
   "source": [
    "t0 = time()\n",
    "hasher = FeatureHasher(n_features=2**18, input_type=\"string\")\n",
    "X = hasher.transform(tokenize(d) for d in raw_data)\n",
    "duration = time() - t0\n",
    "dict_count_vectorizers[\"vectorizer\"].append(\n",
    "    hasher.__class__.__name__ + \"\\non raw tokens\"\n",
    ")\n",
    "dict_count_vectorizers[\"speed\"].append(data_size_mb / duration)\n",
    "print(f\"done in {duration:.3f} s at {data_size_mb / duration:.1f} MB/s\")\n",
    "print(f\"Found {n_nonzero_columns(X)} unique tokens\")"
   ]
  },
  {
   "attachments": {},
   "cell_type": "markdown",
   "metadata": {},
   "source": [
    "Nous traçons maintenant la vitesse des méthodes ci-dessus pour la vectorisation."
   ]
  },
  {
   "cell_type": "code",
   "execution_count": 13,
   "metadata": {},
   "outputs": [
    {
     "data": {
      "image/png": "[encoded data removed]",
      "text/plain": [
       "<Figure size 1200x600 with 1 Axes>"
      ]
     },
     "metadata": {},
     "output_type": "display_data"
    }
   ],
   "source": [
    "import matplotlib.pyplot as plt\n",
    "\n",
    "fig, ax = plt.subplots(figsize=(12, 6))\n",
    "\n",
    "y_pos = np.arange(len(dict_count_vectorizers[\"vectorizer\"]))\n",
    "ax.barh(y_pos, dict_count_vectorizers[\"speed\"], align=\"center\")\n",
    "ax.set_yticks(y_pos)\n",
    "ax.set_yticklabels(dict_count_vectorizers[\"vectorizer\"])\n",
    "ax.invert_yaxis()\n",
    "_ = ax.set_xlabel(\"speed (MB/s)\")"
   ]
  },
  {
   "attachments": {},
   "cell_type": "markdown",
   "metadata": {},
   "source": [
    "Dans les deux cas, [**`FeatureHasher`**](https://scikit-learn.org/stable/modules/generated/sklearn.feature_extraction.FeatureHasher.html) est environ deux fois plus rapide que [**`DictVectorizer`**](https://scikit-learn.org/stable/modules/generated/sklearn.feature_extraction.DictVectorizer.html). Cela est pratique lors du traitement de grandes quantités de données, avec l'inconvénient de perdre l'inversibilité de la transformation, ce qui rend l'interprétation d'un modèle plus complexe.\n",
    "\n",
    "Le `FeatureHasher` avec `input_type=\"string\"` est légèrement plus rapide que la variante qui fonctionne sur les dictionnaires de fréquence car il ne compte pas les jetons répétés : chaque jeton est implicitement compté une fois, même s'il est répété. Selon la tâche d'apprentissage automatique en aval, cela peut être une limitation ou non.\n",
    "\n",
    "# Comparaison avec des vectoriseurs de texte spécialisés\n",
    "\n",
    "[**`CountVectorizer`**](https://scikit-learn.org/stable/modules/generated/sklearn.feature_extraction.text.CountVectorizer.html) accepte des données brutes car il implémente en interne la tokenisation et le comptage des occurrences. Il est similaire à [**`DictVectorizer`**](https://scikit-learn.org/stable/modules/generated/sklearn.feature_extraction.DictVectorizer.html) lorsqu'il est utilisé avec la fonction personnalisée `token_freqs` comme dans la section précédente. La différence est que [**`CountVectorizer`**](https://scikit-learn.org/stable/modules/generated/sklearn.feature_extraction.text.CountVectorizer.html) est plus flexible. En particulier, il accepte différents modèles regex via le paramètre `token_pattern`."
   ]
  },
  {
   "cell_type": "code",
   "execution_count": 14,
   "metadata": {},
   "outputs": [
    {
     "name": "stdout",
     "output_type": "stream",
     "text": [
      "done in 1.104 s at 5.7 MB/s\n",
      "Found 47885 unique terms\n"
     ]
    }
   ],
   "source": [
    "from sklearn.feature_extraction.text import CountVectorizer\n",
    "\n",
    "t0 = time()\n",
    "vectorizer = CountVectorizer()\n",
    "vectorizer.fit_transform(raw_data)\n",
    "duration = time() - t0\n",
    "dict_count_vectorizers[\"vectorizer\"].append(vectorizer.__class__.__name__)\n",
    "dict_count_vectorizers[\"speed\"].append(data_size_mb / duration)\n",
    "print(f\"done in {duration:.3f} s at {data_size_mb / duration:.1f} MB/s\")\n",
    "print(f\"Found {len(vectorizer.get_feature_names_out())} unique terms\")"
   ]
  },
  {
   "attachments": {},
   "cell_type": "markdown",
   "metadata": {},
   "source": [
    "Nous constatons que l'utilisation de l'implémentation [**`CountVectorizer`**](https://scikit-learn.org/stable/modules/generated/sklearn.feature_extraction.text.CountVectorizer.html) est environ deux fois plus rapide que l'utilisation de [**`DictVectorizer`**](https://scikit-learn.org/stable/modules/generated/sklearn.feature_extraction.DictVectorizer.html) avec la fonction simple que nous avons définie pour mapper les jetons. La raison en est que [**`CountVectorizer`**](https://scikit-learn.org/stable/modules/generated/sklearn.feature_extraction.text.CountVectorizer.html) est optimisé en réutilisant une expression régulière compilée pour l'ensemble complet d'entraînement au lieu d'en créer une par document comme le fait notre fonction de tokenisation naïve.\n",
    "\n",
    "Maintenant, nous faisons une expérience similaire avec [**`HashingVectorizer`**](https://scikit-learn.org/stable/modules/generated/sklearn.feature_extraction.text.HashingVectorizer.html), qui équivaut à combiner le \"hashing trick\" implémenté par la classe [**`FeatureHasher`**](https://scikit-learn.org/stable/modules/generated/sklearn.feature_extraction.FeatureHasher.html) et la prétraitement et la tokenisation de [**`CountVectorizer`**](https://scikit-learn.org/stable/modules/generated/sklearn.feature_extraction.text.CountVectorizer.html)."
   ]
  },
  {
   "cell_type": "code",
   "execution_count": 15,
   "metadata": {},
   "outputs": [
    {
     "name": "stdout",
     "output_type": "stream",
     "text": [
      "done in 0.882 s at 7.1 MB/s\n"
     ]
    }
   ],
   "source": [
    "from sklearn.feature_extraction.text import HashingVectorizer\n",
    "\n",
    "t0 = time()\n",
    "vectorizer = HashingVectorizer(n_features=2**18)\n",
    "vectorizer.fit_transform(raw_data)\n",
    "duration = time() - t0\n",
    "dict_count_vectorizers[\"vectorizer\"].append(vectorizer.__class__.__name__)\n",
    "dict_count_vectorizers[\"speed\"].append(data_size_mb / duration)\n",
    "print(f\"done in {duration:.3f} s at {data_size_mb / duration:.1f} MB/s\")"
   ]
  },
  {
   "attachments": {},
   "cell_type": "markdown",
   "metadata": {},
   "source": [
    "Nous pouvons observer que c'est la stratégie de tokenisation de texte la plus rapide jusqu'à présent, en supposant que la tâche d'apprentissage automatique en aval peut tolérer quelques collisions."
   ]
  },
  {
   "attachments": {},
   "cell_type": "markdown",
   "metadata": {},
   "source": [
    "## `TfidfVectorizer`\n",
    "\n",
    "Dans un grand corpus de texte, certains mots apparaissent avec une fréquence plus élevée (par exemple, \"the\", \"a\", \"is\" en anglais) et ne portent pas d'informations significatives sur le contenu réel d'un document. Si nous devions fournir directement les données de comptage des mots à un classificateur, ces termes très courants masqueraient les fréquences des termes plus rares mais plus informatifs. Afin de rééquilibrer les caractéristiques de comptage en valeurs flottantes adaptées à une utilisation par un classificateur, il est très courant d'utiliser la transformation tf-idf telle qu'elle est implémentée par [**`TfidfTransformer`**](https://scikit-learn.org/stable/modules/generated/sklearn.feature_extraction.text.TfidfTransformer.html). TF signifie \"fréquence du terme\" tandis que \"tf-idf\" signifie \"fréquence du terme multipliée par la fréquence inverse dans les documents\".\n",
    "\n",
    "Nous évaluons maintenant [**`TfidfVectorizer`**](https://scikit-learn.org/stable/modules/generated/sklearn.feature_extraction.text.TfidfVectorizer.html), qui équivaut à combiner la tokenisation et le comptage des occurrences de [**`CountVectorizer`**](https://scikit-learn.org/stable/modules/generated/sklearn.feature_extraction.text.CountVectorizer.html) avec la normalisation et la pondération d'un [**`TfidfTransformer`**](https://scikit-learn.org/stable/modules/generated/sklearn.feature_extraction.text.TfidfTransformer.html)."
   ]
  },
  {
   "cell_type": "code",
   "execution_count": 16,
   "metadata": {},
   "outputs": [
    {
     "name": "stdout",
     "output_type": "stream",
     "text": [
      "done in 0.959 s at 6.5 MB/s\n",
      "Found 47885 unique terms\n"
     ]
    }
   ],
   "source": [
    "from sklearn.feature_extraction.text import TfidfVectorizer\n",
    "\n",
    "t0 = time()\n",
    "vectorizer = TfidfVectorizer()\n",
    "vectorizer.fit_transform(raw_data)\n",
    "duration = time() - t0\n",
    "dict_count_vectorizers[\"vectorizer\"].append(vectorizer.__class__.__name__)\n",
    "dict_count_vectorizers[\"speed\"].append(data_size_mb / duration)\n",
    "print(f\"done in {duration:.3f} s at {data_size_mb / duration:.1f} MB/s\")\n",
    "print(f\"Found {len(vectorizer.get_feature_names_out())} unique terms\")"
   ]
  },
  {
   "attachments": {},
   "cell_type": "markdown",
   "metadata": {},
   "source": [
    "## Résumé\n",
    "\n",
    "Concluons ce notebook en résumant toutes les vitesses de traitement enregistrées dans un seul graphique :"
   ]
  },
  {
   "cell_type": "code",
   "execution_count": 17,
   "metadata": {},
   "outputs": [
    {
     "data": {
      "image/png": "[encoded data removed]",
      "text/plain": [
       "<Figure size 1200x600 with 1 Axes>"
      ]
     },
     "metadata": {},
     "output_type": "display_data"
    }
   ],
   "source": [
    "fig, ax = plt.subplots(figsize=(12, 6))\n",
    "\n",
    "y_pos = np.arange(len(dict_count_vectorizers[\"vectorizer\"]))\n",
    "ax.barh(y_pos, dict_count_vectorizers[\"speed\"], align=\"center\")\n",
    "ax.set_yticks(y_pos)\n",
    "ax.set_yticklabels(dict_count_vectorizers[\"vectorizer\"])\n",
    "ax.invert_yaxis()\n",
    "_ = ax.set_xlabel(\"speed (MB/s)\")"
   ]
  },
  {
   "attachments": {},
   "cell_type": "markdown",
   "metadata": {},
   "source": [
    "Remarquez sur le graphique que [**`TfidfVectorizer`**](https://scikit-learn.org/stable/modules/generated/sklearn.feature_extraction.text.TfidfVectorizer.html) est légèrement plus lent que [**`CountVectorizer`**](https://scikit-learn.org/stable/modules/generated/sklearn.feature_extraction.text.CountVectorizer.html) en raison de l'opération supplémentaire induite par [**`TfidfTransformer`**](https://scikit-learn.org/stable/modules/generated/sklearn.feature_extraction.text.TfidfTransformer.html).\n",
    "\n",
    "Remarquez également qu'en fixant le nombre de caractéristiques `n_features = 2**18`, [**`HashingVectorizer`**](https://scikit-learn.org/stable/modules/generated/sklearn.feature_extraction.text.HashingVectorizer.html) fonctionne mieux que [**`CountVectorizer`**](https://scikit-learn.org/stable/modules/generated/sklearn.feature_extraction.text.CountVectorizer.html) au détriment de l'inversibilité de la transformation en raison des collisions de hachage.\n",
    "\n",
    "Nous soulignons que [**`CountVectorizer`**](https://scikit-learn.org/stable/modules/generated/sklearn.feature_extraction.text.CountVectorizer.html) et [**`HashingVectorizer`**](https://scikit-learn.org/stable/modules/generated/sklearn.feature_extraction.text.HashingVectorizer.html) fonctionnent mieux que leur équivalent [**`DictVectorizer`**](https://scikit-learn.org/stable/modules/generated/sklearn.feature_extraction.DictVectorizer.html) et [**`FeatureHasher`**](https://scikit-learn.org/stable/modules/generated/sklearn.feature_extraction.FeatureHasher.html) sur des documents tokenisés manuellement, car l'étape interne de tokenisation des premiers vectoriseurs compile une expression régulière une fois et la réutilise pour tous les documents."
   ]
  }
 ],
 "metadata": {
  "kernelspec": {
   "display_name": "Python 3",
   "language": "python",
   "name": "python3"
  },
  "language_info": {
   "codemirror_mode": {
    "name": "ipython",
    "version": 3
   },
   "file_extension": ".py",
   "mimetype": "text/x-python",
   "name": "python",
   "nbconvert_exporter": "python",
   "pygments_lexer": "ipython3",
   "version": "3.11.1"
  },
  "orig_nbformat": 4
 },
 "nbformat": 4,
 "nbformat_minor": 2
}
