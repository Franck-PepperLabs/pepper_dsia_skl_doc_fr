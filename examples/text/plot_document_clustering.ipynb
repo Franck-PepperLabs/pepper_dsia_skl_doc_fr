{
 "cells": [
  {
   "attachments": {},
   "cell_type": "markdown",
   "metadata": {},
   "source": [
    "# [**Classification de documents textuels à l'aide de k-means**](https://nbviewer.org/github/Franck-PepperLabs/pepper_data-science_practising/blob/main/Sklearn/examples/text/plot_document_clustering.ipynb)<br/>([*Clustering text documents using k-means*](https://scikit-learn.org/stable/auto_examples/text/plot_document_clustering.html))\n",
    "\n",
    "Il s'agit d'un exemple montrant comment l'API scikit-learn peut être utilisée pour regrouper des documents par sujets à l'aide d'une [**approche de sac de mots** (wkpd)](https://en.wikipedia.org/wiki/Bag-of-words_model).\n",
    "\n",
    "Deux algorithmes sont en démonstration : [**`KMeans`**](https://scikit-learn.org/stable/modules/generated/sklearn.cluster.KMeans.html) et sa variante plus évolutive, [**`MiniBatchKMeans`**](https://scikit-learn.org/stable/modules/generated/sklearn.cluster.MiniBatchKMeans.html). De plus, l'analyse sémantique latente est utilisée pour réduire la dimensionnalité et découvrir des modèles latents dans les données.\n",
    "\n",
    "Cet exemple utilise deux vectoriseurs de texte différents : un [**`TfidfVectorizer`**](https://scikit-learn.org/stable/modules/generated/sklearn.feature_extraction.text.TfidfVectorizer.html) et un [**`HashingVectorizer`**](https://scikit-learn.org/stable/modules/generated/sklearn.feature_extraction.text.HashingVectorizer.html). Voir l'exemple de bloc-notes [**Comparaison de FeatureHasher et DictVectorizer**](https://scikit-learn.org/stable/auto_examples/text/plot_hashing_vs_dict_vectorizer.html) pour plus d'informations sur les vectoriseurs et une comparaison de leurs temps de traitement.\n",
    "\n",
    "Pour l'analyse de documents via une approche d'apprentissage supervisé, voir l'exemple de script [**Classification de documents texte à l'aide de caractéristiques creuses**](https://scikit-learn.org/stable/auto_examples/text/plot_document_classification_20newsgroups.html)."
   ]
  },
  {
   "cell_type": "code",
   "execution_count": 1,
   "metadata": {},
   "outputs": [],
   "source": [
    "# Author: Peter Prettenhofer <peter.prettenhofer@gmail.com>\n",
    "#         Lars Buitinck\n",
    "#         Olivier Grisel <olivier.grisel@ensta.org>\n",
    "#         Arturo Amor <david-arturo.amor-quiroz@inria.fr>\n",
    "# License: BSD 3 clause"
   ]
  },
  {
   "cell_type": "markdown",
   "metadata": {},
   "source": [
    "# Chargement de données textuelles\n",
    "\n",
    "Nous chargeons les données du [**jeu de données textuelles The 20 newsgroups** (7.2.2)](https://scikit-learn.org/stable/datasets/real_world.html#newsgroups-dataset), qui comprend environ 18 000 messages de newsgroups sur 20 sujets. À des fins d'illustration et pour réduire le coût de calcul, nous sélectionnons un sous-ensemble de 4 sujets ne représentant qu'environ 3 400 documents. Voir l'exemple [**Classification de documents texte à l'aide de caractéristiques creuses**](https://scikit-learn.org/stable/auto_examples/text/plot_document_classification_20newsgroups.html) pour avoir une intuition sur le chevauchement de ces sujets.\n",
    "\n",
    "Notez que, par défaut, les exemples de texte contiennent certaines métadonnées de message telles que les `\"headers\"`, les `\"footers\"` (signatures) et les `\"quotes\"` vers d'autres publications. Nous utilisons le paramètre `remove` de [**`fetch_20newsgroups`**](https://scikit-learn.org/stable/modules/generated/sklearn.datasets.fetch_20newsgroups.html) pour supprimer ces fonctionnalités et avoir un problème de clustering plus sensible."
   ]
  },
  {
   "cell_type": "code",
   "execution_count": 2,
   "metadata": {},
   "outputs": [
    {
     "name": "stdout",
     "output_type": "stream",
     "text": [
      "3387 documents - 4 categories\n"
     ]
    }
   ],
   "source": [
    "import numpy as np\n",
    "from sklearn.datasets import fetch_20newsgroups\n",
    "\n",
    "categories = [\n",
    "    \"alt.atheism\",\n",
    "    \"talk.religion.misc\",\n",
    "    \"comp.graphics\",\n",
    "    \"sci.space\",\n",
    "]\n",
    "\n",
    "dataset = fetch_20newsgroups(\n",
    "    remove=(\"headers\", \"footers\", \"quotes\"),\n",
    "    subset=\"all\",\n",
    "    categories=categories,\n",
    "    shuffle=True,\n",
    "    random_state=42,\n",
    ")\n",
    "\n",
    "labels = dataset.target\n",
    "unique_labels, category_sizes = np.unique(labels, return_counts=True)\n",
    "true_k = unique_labels.shape[0]\n",
    "\n",
    "print(f\"{len(dataset.data)} documents - {true_k} categories\")"
   ]
  },
  {
   "cell_type": "markdown",
   "metadata": {},
   "source": [
    "# Quantification de la qualité des résultats de clustering\n",
    "\n",
    "Dans cette section, nous définissons une fonction pour évaluer différents pipelines de clustering à l'aide de plusieurs métriques.\n",
    "\n",
    "Les algorithmes de clustering sont fondamentalement des méthodes d'apprentissage non supervisées. Cependant, étant donné que nous avons des étiquettes de classe pour cet ensemble de données spécifique, il est possible d'utiliser des métriques d'évaluation qui exploitent ces informations de vérité terrain \"supervisées\" pour quantifier la qualité des clusters résultants. Voici des exemples de ces métriques :\n",
    "* l'homogénéité, qui quantifie la quantité de clusters contenant uniquement des membres d'une seule classe ;\n",
    "* l'exhaustivité, qui quantifie le nombre de membres d'une classe donnée affectés aux mêmes clusters ;\n",
    "* V-mesure, la moyenne harmonique de la complétude et de l'homogénéité ;\n",
    "* Rand-Index, qui mesure la fréquence à laquelle des paires de points de données sont regroupées de manière cohérente en fonction du résultat de l'algorithme de regroupement et de l'attribution de la classe de vérité terrain ;\n",
    "* Rand-Index ajusté, un Rand-Index ajusté au hasard tel que l'attribution aléatoire des grappes ait un ARI de 0,0 en attente.\n",
    "\n",
    "Si les étiquettes de vérité terrain ne sont pas connues, l'évaluation ne peut être effectuée qu'en utilisant les résultats du modèle lui-même. Dans ce cas, le coefficient de silhouette est utile.\n",
    "\n",
    "Pour plus de références, voir [**Évaluation des performances de clustering** (2.3.10)](https://scikit-learn.org/stable/modules/clustering.html#clustering-evaluation)."
   ]
  },
  {
   "cell_type": "code",
   "execution_count": 3,
   "metadata": {},
   "outputs": [],
   "source": [
    "from collections import defaultdict\n",
    "from sklearn import metrics\n",
    "from time import time\n",
    "\n",
    "evaluations = []\n",
    "evaluations_std = []\n",
    "\n",
    "\n",
    "def fit_and_evaluate(km, X, name=None, n_runs=5):\n",
    "    name = km.__class__.__name__ if name is None else name\n",
    "\n",
    "    train_times = []\n",
    "    scores = defaultdict(list)\n",
    "    for seed in range(n_runs):\n",
    "        km.set_params(random_state=seed)\n",
    "        t0 = time()\n",
    "        km.fit(X)\n",
    "        train_times.append(time() - t0)\n",
    "        scores[\"Homogeneity\"].append(metrics.homogeneity_score(labels, km.labels_))\n",
    "        scores[\"Completeness\"].append(metrics.completeness_score(labels, km.labels_))\n",
    "        scores[\"V-measure\"].append(metrics.v_measure_score(labels, km.labels_))\n",
    "        scores[\"Adjusted Rand-Index\"].append(\n",
    "            metrics.adjusted_rand_score(labels, km.labels_)\n",
    "        )\n",
    "        scores[\"Silhouette Coefficient\"].append(\n",
    "            metrics.silhouette_score(X, km.labels_, sample_size=2000)\n",
    "        )\n",
    "    train_times = np.asarray(train_times)\n",
    "\n",
    "    print(f\"clustering done in {train_times.mean():.2f} ± {train_times.std():.2f} s \")\n",
    "    evaluation = {\n",
    "        \"estimator\": name,\n",
    "        \"train_time\": train_times.mean(),\n",
    "    }\n",
    "    evaluation_std = {\n",
    "        \"estimator\": name,\n",
    "        \"train_time\": train_times.std(),\n",
    "    }\n",
    "    for score_name, score_values in scores.items():\n",
    "        mean_score, std_score = np.mean(score_values), np.std(score_values)\n",
    "        print(f\"{score_name}: {mean_score:.3f} ± {std_score:.3f}\")\n",
    "        evaluation[score_name] = mean_score\n",
    "        evaluation_std[score_name] = std_score\n",
    "    evaluations.append(evaluation)\n",
    "    evaluations_std.append(evaluation_std)"
   ]
  },
  {
   "cell_type": "markdown",
   "metadata": {},
   "source": [
    "# K-means clustering sur les caractéristiques du texte\n",
    "\n",
    "Deux méthodes d'extraction de caractéristiques sont utilisées dans cet exemple :\n",
    "* [**`TfidfVectorizer`**](https://scikit-learn.org/stable/modules/generated/sklearn.feature_extraction.text.TfidfVectorizer.html) utilise un vocabulaire en mémoire (un dict Python) pour mapper les mots les plus fréquents aux indices de caractéristiques et donc calculer une matrice de fréquence d'occurrence de mots (creuse). Les fréquences des mots sont ensuite repondérées à l'aide du vecteur Inverse Document Frequency (IDF) collecté par caractéristique sur le corpus.\n",
    "* [**`HashingVectorizer`**](https://scikit-learn.org/stable/modules/generated/sklearn.feature_extraction.text.HashingVectorizer.html) hache les occurrences de mots dans un espace de dimension fixe, éventuellement avec des collisions. Les vecteurs de comptage de mots sont ensuite normalisés pour que chacun ait une norme $\\ell_2$ égale à un (projetée sur la sphère unitaire euclidienne), ce qui semble être important pour que k-means fonctionne dans un espace de grande dimension.\n",
    "\n",
    "De plus, il est possible de post-traiter ces caractéristiques extraites en utilisant la réduction de dimensionnalité. Nous explorerons l'impact de ces choix sur la qualité du clustering dans ce qui suit."
   ]
  },
  {
   "cell_type": "markdown",
   "metadata": {},
   "source": [
    "## Extraction de caractéristiques à l'aide de TfidfVectorizer\n",
    "\n",
    "Nous avons d'abord étalonné les estimateurs à l'aide d'un vectoriseur de dictionnaire avec une normalisation IDF fournie par [**`TfidfVectorizer`**](https://scikit-learn.org/stable/modules/generated/sklearn.feature_extraction.text.TfidfVectorizer.html)."
   ]
  },
  {
   "cell_type": "code",
   "execution_count": 4,
   "metadata": {},
   "outputs": [
    {
     "name": "stdout",
     "output_type": "stream",
     "text": [
      "vectorization done in 0.494 s\n",
      "n_samples: 3387, n_features: 7929\n"
     ]
    }
   ],
   "source": [
    "from sklearn.feature_extraction.text import TfidfVectorizer\n",
    "\n",
    "vectorizer = TfidfVectorizer(\n",
    "    max_df=0.5,\n",
    "    min_df=5,\n",
    "    stop_words=\"english\",\n",
    ")\n",
    "t0 = time()\n",
    "X_tfidf = vectorizer.fit_transform(dataset.data)\n",
    "\n",
    "print(f\"vectorization done in {time() - t0:.3f} s\")\n",
    "print(f\"n_samples: {X_tfidf.shape[0]}, n_features: {X_tfidf.shape[1]}\")"
   ]
  },
  {
   "cell_type": "markdown",
   "metadata": {},
   "source": [
    "Après avoir ignoré les termes qui apparaissent dans plus de 50 % des documents (tel que défini par `max_df=0.5`) et les termes qui ne sont pas présents dans au moins 5 documents (défini par `min_df=5`), le nombre résultant de termes uniques `n_features` est d'environ 8 000. Nous pouvons en outre quantifier la parcimonie de la matrice `X_tfidf` comme la fraction d'entrées non nulles divisée par le nombre total d'éléments."
   ]
  },
  {
   "cell_type": "code",
   "execution_count": 5,
   "metadata": {},
   "outputs": [
    {
     "name": "stdout",
     "output_type": "stream",
     "text": [
      "0.007\n"
     ]
    }
   ],
   "source": [
    "print(f\"{X_tfidf.nnz / np.prod(X_tfidf.shape):.3f}\")"
   ]
  },
  {
   "cell_type": "markdown",
   "metadata": {},
   "source": [
    "Nous constatons qu'environ 0,7 % des entrées de la matrice `X_tfidf` sont non nulles."
   ]
  },
  {
   "cell_type": "markdown",
   "metadata": {},
   "source": [
    "## Regroupement de données creuses avec k-means\n",
    "\n",
    "Comme [**`KMeans`**](https://scikit-learn.org/stable/modules/generated/sklearn.cluster.KMeans.html) et [**`MiniBatchKMeans`**](https://scikit-learn.org/stable/modules/generated/sklearn.cluster.MiniBatchKMeans.html) optimisent tous deux une fonction objective non convexe, leur regroupement n'est pas garanti comme étant optimal pour un init aléatoire donné. De plus, sur des données creuses de grande dimension  telles que du texte vectorisé à l'aide de l'approche Bag of Words, k-means peut initialiser des centroïdes sur des points de données extrêmement isolés. Ces points de données peuvent rester leurs propres centroïdes tout au long.\n",
    "\n",
    "Le code suivant illustre comment le phénomène précédent peut parfois conduire à des clusters très déséquilibrés, en fonction de l'initialisation aléatoire :"
   ]
  },
  {
   "cell_type": "code",
   "execution_count": 6,
   "metadata": {},
   "outputs": [
    {
     "name": "stdout",
     "output_type": "stream",
     "text": [
      "Number of elements asigned to each cluster: [   1    1 3384    1]\n",
      "Number of elements asigned to each cluster: [1597  732  233  825]\n",
      "Number of elements asigned to each cluster: [2004  446  646  291]\n",
      "Number of elements asigned to each cluster: [1695  649  446  597]\n",
      "Number of elements asigned to each cluster: [ 254 2117  459  557]\n",
      "\n",
      "True number of documents in each category according to the class labels: [799 973 987 628]\n"
     ]
    }
   ],
   "source": [
    "from sklearn.cluster import KMeans\n",
    "\n",
    "for seed in range(5):\n",
    "    kmeans = KMeans(\n",
    "        n_clusters=true_k,\n",
    "        max_iter=100,\n",
    "        n_init=1,\n",
    "        random_state=seed,\n",
    "    ).fit(X_tfidf)\n",
    "    cluster_ids, cluster_sizes = np.unique(kmeans.labels_, return_counts=True)\n",
    "    print(f\"Number of elements asigned to each cluster: {cluster_sizes}\")\n",
    "print()\n",
    "print(\n",
    "    \"True number of documents in each category according to the class labels: \"\n",
    "    f\"{category_sizes}\"\n",
    ")"
   ]
  },
  {
   "cell_type": "markdown",
   "metadata": {},
   "source": [
    "Pour éviter ce problème, une possibilité est d'augmenter le nombre d'exécutions avec des initiations aléatoires indépendantes `n_init`. Dans ce cas, le clustering avec la meilleure inertie (fonction objective des k-moyennes) est choisi."
   ]
  },
  {
   "cell_type": "code",
   "execution_count": 7,
   "metadata": {},
   "outputs": [
    {
     "name": "stdout",
     "output_type": "stream",
     "text": [
      "clustering done in 0.77 ± 0.12 s \n",
      "Homogeneity: 0.336 ± 0.026\n",
      "Completeness: 0.400 ± 0.008\n",
      "V-measure: 0.365 ± 0.014\n",
      "Adjusted Rand-Index: 0.202 ± 0.012\n",
      "Silhouette Coefficient: 0.008 ± 0.001\n"
     ]
    }
   ],
   "source": [
    "kmeans = KMeans(\n",
    "    n_clusters=true_k,\n",
    "    max_iter=100,\n",
    "    n_init=5,\n",
    ")\n",
    "\n",
    "fit_and_evaluate(kmeans, X_tfidf, name=\"KMeans\\non tf-idf vectors\")"
   ]
  },
  {
   "cell_type": "markdown",
   "metadata": {},
   "source": [
    "Toutes ces métriques d'évaluation de clustering ont une valeur maximale de 1,0 (pour un résultat de clustering parfait). Des valeurs plus élevées sont meilleures. Des valeurs de l'Adjusted Rand-Index proches de 0,0 correspondent à un étiquetage aléatoire. Remarquez d'après les scores ci-dessus que l'attribution des clusters est en effet bien au-dessus du niveau du hasard, mais la qualité globale peut certainement s'améliorer.\n",
    "\n",
    "Gardez à l'esprit que les étiquettes de classe peuvent ne pas refléter avec précision les sujets du document et que, par conséquent, les métriques qui utilisent des étiquettes ne sont pas nécessairement les meilleures pour évaluer la qualité de notre pipeline de clustering."
   ]
  },
  {
   "cell_type": "markdown",
   "metadata": {},
   "source": [
    "## Effectuer une réduction de dimensionnalité à l'aide de LSA\n",
    "\n",
    "Un `n_init=1` peut toujours être utilisé tant que la dimension de l'espace vectorisé est d'abord réduite pour rendre les k-means plus stables. À cette fin, nous utilisons [**`TruncatedSVD`**](https://scikit-learn.org/stable/modules/generated/sklearn.decomposition.TruncatedSVD.html), qui fonctionne sur les matrices term count/tf-idf. Étant donné que les résultats SVD ne sont pas normalisés, nous refaisons la normalisation pour améliorer le résultat [**`KMeans`**](https://scikit-learn.org/stable/modules/generated/sklearn.cluster.KMeans.html). L'utilisation de SVD pour réduire la dimensionnalité des vecteurs de documents TF-IDF est souvent connue sous le nom d'[**analyse sémantique latente (LSA)** (wkpd)](https://en.wikipedia.org/wiki/Latent_semantic_analysis) dans la littérature sur la recherche d'informations et l'exploration de texte."
   ]
  },
  {
   "cell_type": "code",
   "execution_count": 8,
   "metadata": {},
   "outputs": [
    {
     "name": "stdout",
     "output_type": "stream",
     "text": [
      "LSA done in 0.547 s\n",
      "Explained variance of the SVD step: 18.4%\n"
     ]
    }
   ],
   "source": [
    "from sklearn.decomposition import TruncatedSVD\n",
    "from sklearn.pipeline import make_pipeline\n",
    "from sklearn.preprocessing import Normalizer\n",
    "\n",
    "\n",
    "lsa = make_pipeline(TruncatedSVD(n_components=100), Normalizer(copy=False))\n",
    "t0 = time()\n",
    "X_lsa = lsa.fit_transform(X_tfidf)\n",
    "explained_variance = lsa[0].explained_variance_ratio_.sum()\n",
    "\n",
    "print(f\"LSA done in {time() - t0:.3f} s\")\n",
    "print(f\"Explained variance of the SVD step: {explained_variance * 100:.1f}%\")"
   ]
  },
  {
   "cell_type": "markdown",
   "metadata": {},
   "source": [
    "L'utilisation d'une seule initialisation signifie que le temps de traitement sera réduit pour [**`KMeans`**](https://scikit-learn.org/stable/modules/generated/sklearn.cluster.KMeans.html) et [**`MiniBatchKMeans`**](https://scikit-learn.org/stable/modules/generated/sklearn.cluster.MiniBatchKMeans.html)."
   ]
  },
  {
   "cell_type": "code",
   "execution_count": 9,
   "metadata": {},
   "outputs": [
    {
     "name": "stdout",
     "output_type": "stream",
     "text": [
      "clustering done in 0.08 ± 0.02 s \n",
      "Homogeneity: 0.399 ± 0.010\n",
      "Completeness: 0.436 ± 0.013\n",
      "V-measure: 0.417 ± 0.008\n",
      "Adjusted Rand-Index: 0.322 ± 0.016\n",
      "Silhouette Coefficient: 0.031 ± 0.001\n"
     ]
    }
   ],
   "source": [
    "kmeans = KMeans(\n",
    "    n_clusters=true_k,\n",
    "    max_iter=100,\n",
    "    n_init=1,\n",
    ")\n",
    "\n",
    "fit_and_evaluate(kmeans, X_lsa, name=\"KMeans\\nwith LSA on tf-idf vectors\")"
   ]
  },
  {
   "cell_type": "markdown",
   "metadata": {},
   "source": [
    "Nous pouvons observer que le regroupement sur la représentation LSA du document est nettement plus rapide (à la fois à cause de `n_init=1` et parce que la dimensionnalité de l'espace des caractéristiques LSA est beaucoup plus petite). De plus, toutes les métriques d'évaluation de clustering se sont améliorées. Nous répétons l'expérience avec [**`MiniBatchKMeans`**](https://scikit-learn.org/stable/modules/generated/sklearn.cluster.MiniBatchKMeans.html)."
   ]
  },
  {
   "cell_type": "code",
   "execution_count": 10,
   "metadata": {},
   "outputs": [
    {
     "name": "stderr",
     "output_type": "stream",
     "text": [
      "c:\\Users\\franc\\anaconda3\\lib\\site-packages\\sklearn\\cluster\\_kmeans.py:1848: UserWarning: MiniBatchKMeans is known to have a memory leak on Windows with MKL, when there are less chunks than available threads. You can prevent it by setting batch_size >= 3072 or by setting the environment variable OMP_NUM_THREADS=4\n",
      "  warnings.warn(\n",
      "c:\\Users\\franc\\anaconda3\\lib\\site-packages\\sklearn\\cluster\\_kmeans.py:1848: UserWarning: MiniBatchKMeans is known to have a memory leak on Windows with MKL, when there are less chunks than available threads. You can prevent it by setting batch_size >= 3072 or by setting the environment variable OMP_NUM_THREADS=4\n",
      "  warnings.warn(\n",
      "c:\\Users\\franc\\anaconda3\\lib\\site-packages\\sklearn\\cluster\\_kmeans.py:1848: UserWarning: MiniBatchKMeans is known to have a memory leak on Windows with MKL, when there are less chunks than available threads. You can prevent it by setting batch_size >= 3072 or by setting the environment variable OMP_NUM_THREADS=4\n",
      "  warnings.warn(\n",
      "c:\\Users\\franc\\anaconda3\\lib\\site-packages\\sklearn\\cluster\\_kmeans.py:1848: UserWarning: MiniBatchKMeans is known to have a memory leak on Windows with MKL, when there are less chunks than available threads. You can prevent it by setting batch_size >= 3072 or by setting the environment variable OMP_NUM_THREADS=4\n",
      "  warnings.warn(\n",
      "c:\\Users\\franc\\anaconda3\\lib\\site-packages\\sklearn\\cluster\\_kmeans.py:1848: UserWarning: MiniBatchKMeans is known to have a memory leak on Windows with MKL, when there are less chunks than available threads. You can prevent it by setting batch_size >= 3072 or by setting the environment variable OMP_NUM_THREADS=4\n",
      "  warnings.warn(\n"
     ]
    },
    {
     "name": "stdout",
     "output_type": "stream",
     "text": [
      "clustering done in 0.39 ± 0.04 s \n",
      "Homogeneity: 0.361 ± 0.050\n",
      "Completeness: 0.400 ± 0.024\n",
      "V-measure: 0.378 ± 0.035\n",
      "Adjusted Rand-Index: 0.315 ± 0.073\n",
      "Silhouette Coefficient: 0.026 ± 0.004\n"
     ]
    }
   ],
   "source": [
    "from sklearn.cluster import MiniBatchKMeans\n",
    "\n",
    "minibatch_kmeans = MiniBatchKMeans(\n",
    "    n_clusters=true_k,\n",
    "    n_init=1,\n",
    "    init_size=1000,\n",
    "    batch_size=1000,\n",
    ")\n",
    "\n",
    "fit_and_evaluate(\n",
    "    minibatch_kmeans,\n",
    "    X_lsa,\n",
    "    name=\"MiniBatchKMeans\\nwith LSA on tf-idf vectors\",\n",
    ")"
   ]
  },
  {
   "cell_type": "markdown",
   "metadata": {},
   "source": [
    "## Principaux termes par cluster\n",
    "\n",
    "Puisque [**`TfidfVectorizer`**](https://scikit-learn.org/stable/modules/generated/sklearn.feature_extraction.text.TfidfVectorizer.html) peut être inversé, nous pouvons identifier les centres de cluster, qui fournissent une intuition des mots les plus influents **pour chaque cluster**. Voir l'exemple de script [**Classification de documents texte à l'aide de caractéristiques creuses**](https://scikit-learn.org/stable/auto_examples/text/plot_document_classification_20newsgroups.html) pour une comparaison avec les mots les plus prédictifs **pour chaque classe cible**."
   ]
  },
  {
   "cell_type": "code",
   "execution_count": 11,
   "metadata": {},
   "outputs": [
    {
     "name": "stdout",
     "output_type": "stream",
     "text": [
      "Cluster 0: thanks graphics image know program file files software edu looking \n",
      "Cluster 1: god jesus bible believe christian people say faith christians don \n",
      "Cluster 2: space launch orbit nasa shuttle earth moon mission like just \n",
      "Cluster 3: don just think people like know say time religion did \n"
     ]
    }
   ],
   "source": [
    "original_space_centroids = lsa[0].inverse_transform(kmeans.cluster_centers_)\n",
    "order_centroids = original_space_centroids.argsort()[:, ::-1]\n",
    "terms = vectorizer.get_feature_names_out()\n",
    "\n",
    "for i in range(true_k):\n",
    "    print(f\"Cluster {i}: \", end=\"\")\n",
    "    for ind in order_centroids[i, :10]:\n",
    "        print(f\"{terms[ind]} \", end=\"\")\n",
    "    print()"
   ]
  },
  {
   "cell_type": "markdown",
   "metadata": {},
   "source": [
    "# HashingVectorizer\n",
    "\n",
    "Une vectorisation alternative peut être effectuée à l'aide d'une instance [**`HashingVectorizer`**](https://scikit-learn.org/stable/modules/generated/sklearn.feature_extraction.text.HashingVectorizer.html), qui ne fournit pas de pondération IDF car il s'agit d'un modèle sans état (la méthode d'ajustement ne fait rien). Lorsque la pondération IDF est nécessaire, elle peut être ajoutée en canalisant la sortie [**`HashingVectorizer`**](https://scikit-learn.org/stable/modules/generated/sklearn.feature_extraction.text.HashingVectorizer.html) vers une instance de [**`TfidfVectorizer`**](https://scikit-learn.org/stable/modules/generated/sklearn.feature_extraction.text.TfidfVectorizer.html). Dans ce cas, nous ajoutons également LSA au pipeline pour réduire la dimension et la rareté de l'espace vectoriel haché."
   ]
  },
  {
   "cell_type": "code",
   "execution_count": 12,
   "metadata": {},
   "outputs": [
    {
     "name": "stdout",
     "output_type": "stream",
     "text": [
      "vectorization done in 2.429 s\n"
     ]
    }
   ],
   "source": [
    "from sklearn.feature_extraction.text import HashingVectorizer\n",
    "from sklearn.feature_extraction.text import TfidfTransformer\n",
    "\n",
    "lsa_vectorizer = make_pipeline(\n",
    "    HashingVectorizer(stop_words=\"english\", n_features=50_000),\n",
    "    TfidfTransformer(),\n",
    "    TruncatedSVD(n_components=100, random_state=0),\n",
    "    Normalizer(copy=False),\n",
    ")\n",
    "\n",
    "t0 = time()\n",
    "X_hashed_lsa = lsa_vectorizer.fit_transform(dataset.data)\n",
    "print(f\"vectorization done in {time() - t0:.3f} s\")"
   ]
  },
  {
   "cell_type": "markdown",
   "metadata": {},
   "source": [
    "On peut observer que l'étape LSA prend un temps relativement long à s'adapter, en particulier avec des vecteurs hachés. La raison en est qu'un espace haché est généralement grand (défini sur `n_features=50_000` dans cet exemple). On peut essayer de réduire le nombre de fonctionnalités au détriment d'avoir une plus grande fraction de fonctionnalités avec des collisions de hachage, comme indiqué dans l'exemple de bloc-notes [**Comparaison de FeatureHasher et DictVectorizer**](https://scikit-learn.org/stable/auto_examples/text/plot_hashing_vs_dict_vectorizer.html).\n",
    "\n",
    "Nous adaptons et évaluons maintenant les instances `kmeans` et `minibatch_kmeans` sur ces données réduites en hash-lsa :"
   ]
  },
  {
   "cell_type": "code",
   "execution_count": 13,
   "metadata": {},
   "outputs": [
    {
     "name": "stdout",
     "output_type": "stream",
     "text": [
      "clustering done in 0.08 ± 0.01 s \n",
      "Homogeneity: 0.400 ± 0.006\n",
      "Completeness: 0.437 ± 0.023\n",
      "V-measure: 0.417 ± 0.014\n",
      "Adjusted Rand-Index: 0.340 ± 0.022\n",
      "Silhouette Coefficient: 0.027 ± 0.003\n"
     ]
    }
   ],
   "source": [
    "fit_and_evaluate(kmeans, X_hashed_lsa, name=\"KMeans\\nwith LSA on hashed vectors\")"
   ]
  },
  {
   "cell_type": "code",
   "execution_count": 14,
   "metadata": {},
   "outputs": [
    {
     "name": "stderr",
     "output_type": "stream",
     "text": [
      "c:\\Users\\franc\\anaconda3\\lib\\site-packages\\sklearn\\cluster\\_kmeans.py:1848: UserWarning: MiniBatchKMeans is known to have a memory leak on Windows with MKL, when there are less chunks than available threads. You can prevent it by setting batch_size >= 3072 or by setting the environment variable OMP_NUM_THREADS=4\n",
      "  warnings.warn(\n",
      "c:\\Users\\franc\\anaconda3\\lib\\site-packages\\sklearn\\cluster\\_kmeans.py:1848: UserWarning: MiniBatchKMeans is known to have a memory leak on Windows with MKL, when there are less chunks than available threads. You can prevent it by setting batch_size >= 3072 or by setting the environment variable OMP_NUM_THREADS=4\n",
      "  warnings.warn(\n",
      "c:\\Users\\franc\\anaconda3\\lib\\site-packages\\sklearn\\cluster\\_kmeans.py:1848: UserWarning: MiniBatchKMeans is known to have a memory leak on Windows with MKL, when there are less chunks than available threads. You can prevent it by setting batch_size >= 3072 or by setting the environment variable OMP_NUM_THREADS=4\n",
      "  warnings.warn(\n",
      "c:\\Users\\franc\\anaconda3\\lib\\site-packages\\sklearn\\cluster\\_kmeans.py:1848: UserWarning: MiniBatchKMeans is known to have a memory leak on Windows with MKL, when there are less chunks than available threads. You can prevent it by setting batch_size >= 3072 or by setting the environment variable OMP_NUM_THREADS=4\n",
      "  warnings.warn(\n",
      "c:\\Users\\franc\\anaconda3\\lib\\site-packages\\sklearn\\cluster\\_kmeans.py:1848: UserWarning: MiniBatchKMeans is known to have a memory leak on Windows with MKL, when there are less chunks than available threads. You can prevent it by setting batch_size >= 3072 or by setting the environment variable OMP_NUM_THREADS=4\n",
      "  warnings.warn(\n"
     ]
    },
    {
     "name": "stdout",
     "output_type": "stream",
     "text": [
      "clustering done in 0.38 ± 0.05 s \n",
      "Homogeneity: 0.337 ± 0.036\n",
      "Completeness: 0.355 ± 0.043\n",
      "V-measure: 0.346 ± 0.039\n",
      "Adjusted Rand-Index: 0.303 ± 0.065\n",
      "Silhouette Coefficient: 0.026 ± 0.004\n"
     ]
    }
   ],
   "source": [
    "fit_and_evaluate(\n",
    "    minibatch_kmeans,\n",
    "    X_hashed_lsa,\n",
    "    name=\"MiniBatchKMeans\\nwith LSA on hashed vectors\",\n",
    ")"
   ]
  },
  {
   "cell_type": "markdown",
   "metadata": {},
   "source": [
    "Les deux méthodes conduisent à de bons résultats similaires à l'exécution des mêmes modèles sur les vecteurs LSA traditionnels (sans hachage)."
   ]
  },
  {
   "cell_type": "markdown",
   "metadata": {},
   "source": [
    "# Résumé de l'évaluation du partitionnement"
   ]
  },
  {
   "cell_type": "code",
   "execution_count": 15,
   "metadata": {},
   "outputs": [
    {
     "data": {
      "image/png": "[encoded data removed]",
      "text/plain": [
       "<Figure size 1152x432 with 2 Axes>"
      ]
     },
     "metadata": {
      "needs_background": "light"
     },
     "output_type": "display_data"
    }
   ],
   "source": [
    "import pandas as pd\n",
    "import matplotlib.pyplot as plt\n",
    "\n",
    "fig, (ax0, ax1) = plt.subplots(ncols=2, figsize=(16, 6), sharey=True)\n",
    "\n",
    "df = pd.DataFrame(evaluations[::-1]).set_index(\"estimator\")\n",
    "df_std = pd.DataFrame(evaluations_std[::-1]).set_index(\"estimator\")\n",
    "\n",
    "df.drop(\n",
    "    [\"train_time\"],\n",
    "    axis=\"columns\",\n",
    ").plot.barh(ax=ax0, xerr=df_std)\n",
    "ax0.set_xlabel(\"Clustering scores\")\n",
    "ax0.set_ylabel(\"\")\n",
    "\n",
    "df[\"train_time\"].plot.barh(ax=ax1, xerr=df_std[\"train_time\"])\n",
    "ax1.set_xlabel(\"Clustering time (s)\")\n",
    "plt.tight_layout()"
   ]
  },
  {
   "cell_type": "markdown",
   "metadata": {},
   "source": [
    "[**`KMeans`**](https://scikit-learn.org/stable/modules/generated/sklearn.cluster.KMeans.html) et [**`MiniBatchKMeans`**](https://scikit-learn.org/stable/modules/generated/sklearn.cluster.MiniBatchKMeans.html) souffrent du phénomène appelé le [**fléau de la dimensionnalité** (wkpd)](https://en.wikipedia.org/wiki/Curse_of_dimensionality) pour les ensembles de données de grande dimension tels que les données textuelles. C'est la raison pour laquelle les scores globaux s'améliorent lors de l'utilisation de LSA. L'utilisation de données réduites LSA améliore également la stabilité et nécessite un temps de clustering plus court, mais gardez à l'esprit que l'étape LSA elle-même prend beaucoup de temps, en particulier avec des vecteurs hachés.\n",
    "\n",
    "Le coefficient de silhouette est défini entre 0 et 1. Dans tous les cas on obtient des valeurs proches de 0 (même si elles s'améliorent un peu après l'utilisation de LSA) car sa définition nécessite de mesurer des distances, contrairement à d'autres métriques d'évaluation comme la V-mesure et l'indice Rand ajusté qui est uniquement basé sur les affectations de grappes plutôt que sur les distances. Notez qu'à proprement parler, il ne faut pas comparer le coefficient de silhouette entre des espaces de dimension différente, en raison des différentes notions de distance qu'ils impliquent.\n",
    "\n",
    "L'homogénéité, l'exhaustivité et donc les métriques de mesure v ne fournissent pas de référence en ce qui concerne l'étiquetage aléatoire : cela signifie qu'en fonction du nombre d'échantillons, de grappes et de classes de vérité terrain, un étiquetage complètement aléatoire ne donnera pas toujours les mêmes valeurs. En particulier, l'étiquetage aléatoire ne donnera pas de scores nuls, en particulier lorsque le nombre de clusters est important. Ce problème peut être ignoré en toute sécurité lorsque le nombre d'échantillons est supérieur à mille et le nombre de grappes est inférieur à 10, ce qui est le cas du présent exemple. Pour des tailles d'échantillon plus petites ou un plus grand nombre de grappes, il est plus sûr d'utiliser un indice ajusté tel que l'indice Rand ajusté (ARI). Voir l'exemple [**Ajustement pour le hasard dans l'évaluation des performances de clustering**](https://scikit-learn.org/stable/auto_examples/cluster/plot_adjusted_for_chance_measures.html) pour une démonstration sur l'effet de l'étiquetage aléatoire.\n",
    "\n",
    "La taille des barres d'erreur montre que [**`MiniBatchKMeans`**](https://scikit-learn.org/stable/modules/generated/sklearn.cluster.MiniBatchKMeans.html) est moins stable que [**`KMeans`**](https://scikit-learn.org/stable/modules/generated/sklearn.cluster.KMeans.html) pour cet ensemble de données relativement petit. Il est plus intéressant à utiliser lorsque le nombre d'échantillons est beaucoup plus important, mais cela peut se faire au prix d'une légère dégradation de la qualité du clustering par rapport à l'algorithme k-means traditionnel."
   ]
  }
 ],
 "metadata": {
  "kernelspec": {
   "display_name": "Python 3",
   "language": "python",
   "name": "python3"
  },
  "language_info": {
   "codemirror_mode": {
    "name": "ipython",
    "version": 3
   },
   "file_extension": ".py",
   "mimetype": "text/x-python",
   "name": "python",
   "nbconvert_exporter": "python",
   "pygments_lexer": "ipython3",
   "version": "3.10.10"
  },
  "orig_nbformat": 4,
  "vscode": {
   "interpreter": {
    "hash": "9aff9e50adfaa9e30c910fb3872ffdc72747acb5f50803ca0504f00e980f7c25"
   }
  }
 },
 "nbformat": 4,
 "nbformat_minor": 2
}
