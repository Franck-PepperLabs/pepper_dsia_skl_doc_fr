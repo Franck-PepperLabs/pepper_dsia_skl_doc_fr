{
 "cells": [
  {
   "attachments": {},
   "cell_type": "markdown",
   "metadata": {},
   "source": [
    "# [**Apprentissage extensible avec une approximation du noyau polynomial**](https://nbviewer.org/github/Franck-PepperLabs/pepper_dsia_skl_doc_fr/blob/main/docs/examples/6_7_kernel_approximation/plot_scalable_poly_kernels.ipynb)<br/>([_Scalable learning with polynomial kernel approximation_](https://scikit-learn.org/stable/auto_examples/kernel_approximation/plot_scalable_poly_kernels.html))\n",
    "\n",
    "Cet exemple illustre l'utilisation de `PolynomialCountSketch` pour générer efficacement des approximations de l'espace des caractéristiques du noyau polynomial. Cela est utilisé pour entraîner des classifieurs linéaires qui approximent la précision des classifieurs noyautés.\n",
    "\n",
    "Nous utilisons le jeu de données Covtype [2], en essayant de reproduire les expériences décrites dans l'article original de Tensor Sketch [1], c'est-à-dire l'algorithme implémenté par [**`PolynomialCountSketch`**](https://scikit-learn.org/stable/modules/generated/sklearn.kernel_approximation.PolynomialCountSketch.html).\n",
    "\n",
    "Tout d'abord, nous calculons la précision d'un classifieur linéaire sur les caractéristiques d'origine. Ensuite, nous entraînons des classifieurs linéaires sur différents nombres de caractéristiques (`n_components`) générées par [**`PolynomialCountSketch`**](https://scikit-learn.org/stable/modules/generated/sklearn.kernel_approximation.PolynomialCountSketch.html), en approximant la précision d'un classifieur noyauté de manière extensible."
   ]
  },
  {
   "cell_type": "code",
   "execution_count": null,
   "metadata": {},
   "outputs": [],
   "source": [
    "# Auteur : Daniel Lopez-Sanchez <lope@usal.es>\n",
    "# Licence : BSD 3 clause"
   ]
  },
  {
   "attachments": {},
   "cell_type": "markdown",
   "metadata": {},
   "source": [
    "# Préparation des données\n",
    "\n",
    "Chargement du jeu de données Covtype, qui contient 581 012 échantillons de 54 caractéristiques chacun, répartis en 6 classes. L'objectif de ce jeu de données est de prédire le type de couverture forestière à partir de variables cartographiques uniquement (pas de données télédétectées). Après le chargement, nous le transformons en un problème de classification binaire afin de correspondre à la version du jeu de données du site web LIBSVM [2], utilisée dans [1]."
   ]
  },
  {
   "cell_type": "code",
   "execution_count": 1,
   "metadata": {},
   "outputs": [],
   "source": [
    "from sklearn.datasets import fetch_covtype\n",
    "\n",
    "X, y = fetch_covtype(return_X_y=True)\n",
    "\n",
    "y[y != 2] = 0\n",
    "y[y == 2] = 1  # We will try to separate class 2 from the other 6 classes."
   ]
  },
  {
   "attachments": {},
   "cell_type": "markdown",
   "metadata": {},
   "source": [
    "# Partitionnement des données\n",
    "\n",
    "Nous sélectionnons ici 5 000 échantillons pour l'entraînement et 10 000 pour les tests. Pour reproduire réellement les résultats de l'article original de Tensor Sketch, sélectionnez 100 000 échantillons pour l'entraînement."
   ]
  },
  {
   "cell_type": "code",
   "execution_count": 2,
   "metadata": {},
   "outputs": [],
   "source": [
    "from sklearn.model_selection import train_test_split\n",
    "\n",
    "X_train, X_test, y_train, y_test = train_test_split(\n",
    "    X, y, train_size=5_000, test_size=10_000, random_state=42\n",
    ")"
   ]
  },
  {
   "attachments": {},
   "cell_type": "markdown",
   "metadata": {},
   "source": [
    "# Normalisation des caractéristiques\n",
    "\n",
    "Nous mettons maintenant à l'échelle les caractéristiques dans l'intervalle [0, 1] afin de correspondre au format du jeu de données sur le site web LIBSVM, puis nous les normalisons à une longueur unitaire, comme cela est fait dans l'article original de Tensor Sketch [1]."
   ]
  },
  {
   "cell_type": "code",
   "execution_count": 3,
   "metadata": {},
   "outputs": [],
   "source": [
    "from sklearn.pipeline import make_pipeline\n",
    "from sklearn.preprocessing import MinMaxScaler, Normalizer\n",
    "\n",
    "mm = make_pipeline(MinMaxScaler(), Normalizer())\n",
    "X_train = mm.fit_transform(X_train)\n",
    "X_test = mm.transform(X_test)"
   ]
  },
  {
   "attachments": {},
   "cell_type": "markdown",
   "metadata": {},
   "source": [
    "# Établissement d'un modèle de référence\n",
    "\n",
    "Comme référence, nous entraînons un SVM linéaire sur les caractéristiques d'origine et affichons la précision. Nous mesurons également et stockons les précisions et les temps d'entraînement afin de les afficher ultérieurement."
   ]
  },
  {
   "cell_type": "code",
   "execution_count": 7,
   "metadata": {},
   "outputs": [
    {
     "name": "stdout",
     "output_type": "stream",
     "text": [
      "Note: you may need to restart the kernel to use updated packages.\n"
     ]
    },
    {
     "name": "stderr",
     "output_type": "stream",
     "text": [
      "ERROR: Could not install packages due to an OSError: [WinError 5] Accès refusé: 'C:\\\\Users\\\\franc\\\\AppData\\\\Local\\\\Programs\\\\Python\\\\Python311\\\\Lib\\\\site-packages\\\\~klearn\\\\.libs\\\\msvcp140.dll'\n",
      "Consider using the `--user` option or check the permissions.\n",
      "\n"
     ]
    },
    {
     "name": "stdout",
     "output_type": "stream",
     "text": [
      "Requirement already satisfied: scikit-learn in c:\\users\\franc\\appdata\\local\\programs\\python\\python311\\lib\\site-packages (1.2.2)\n",
      "Collecting scikit-learn\n",
      "  Downloading scikit_learn-1.3.0-cp311-cp311-win_amd64.whl (9.2 MB)\n",
      "                                              0.0/9.2 MB ? eta -:--:--\n",
      "     -                                        0.3/9.2 MB 10.2 MB/s eta 0:00:01\n",
      "     ---------                                2.1/9.2 MB 26.5 MB/s eta 0:00:01\n",
      "     --------------------                     4.7/9.2 MB 37.2 MB/s eta 0:00:01\n",
      "     --------------------------------         7.4/9.2 MB 43.1 MB/s eta 0:00:01\n",
      "     ---------------------------------------  9.2/9.2 MB 45.2 MB/s eta 0:00:01\n",
      "     ---------------------------------------- 9.2/9.2 MB 42.1 MB/s eta 0:00:00\n",
      "Requirement already satisfied: numpy>=1.17.3 in c:\\users\\franc\\appdata\\local\\programs\\python\\python311\\lib\\site-packages (from scikit-learn) (1.23.5)\n",
      "Requirement already satisfied: scipy>=1.5.0 in c:\\users\\franc\\appdata\\local\\programs\\python\\python311\\lib\\site-packages (from scikit-learn) (1.10.1)\n",
      "Requirement already satisfied: joblib>=1.1.1 in c:\\users\\franc\\appdata\\local\\programs\\python\\python311\\lib\\site-packages (from scikit-learn) (1.2.0)\n",
      "Requirement already satisfied: threadpoolctl>=2.0.0 in c:\\users\\franc\\appdata\\local\\programs\\python\\python311\\lib\\site-packages (from scikit-learn) (3.1.0)\n",
      "Installing collected packages: scikit-learn\n",
      "  Attempting uninstall: scikit-learn\n",
      "    Found existing installation: scikit-learn 1.2.2\n",
      "    Uninstalling scikit-learn-1.2.2:\n",
      "      Successfully uninstalled scikit-learn-1.2.2\n"
     ]
    }
   ],
   "source": [
    "%pip install scikit-learn --upgrade"
   ]
  },
  {
   "cell_type": "code",
   "execution_count": 4,
   "metadata": {},
   "outputs": [
    {
     "name": "stdout",
     "output_type": "stream",
     "text": [
      "Linear SVM score on raw features: 75.62%\n"
     ]
    }
   ],
   "source": [
    "import time\n",
    "from sklearn.svm import LinearSVC\n",
    "\n",
    "lsvm = LinearSVC(dual=\"auto\")\n",
    "start = time.time()\n",
    "lsvm.fit(X_train, y_train)\n",
    "lsvm_time = time.time() - start\n",
    "lsvm_score = 100 * lsvm.score(X_test, y_test)\n",
    "\n",
    "results = {\"LSVM\": {\"time\": lsvm_time, \"score\": lsvm_score}}\n",
    "print(f\"Linear SVM score on raw features: {lsvm_score:.2f}%\")"
   ]
  },
  {
   "attachments": {},
   "cell_type": "markdown",
   "metadata": {},
   "source": [
    "## Établissement du modèle d'approximation du noyau\n",
    "\n",
    "Ensuite, nous entraînons des SVM linéaires sur les caractéristiques générées par [**`PolynomialCountSketch`**](https://scikit-learn.org/stable/modules/generated/sklearn.kernel_approximation.PolynomialCountSketch.html) avec différentes valeurs de `n_components`, démontrant ainsi que ces approximations de caractéristiques noyautées améliorent la précision de la classification linéaire. Dans des scénarios d'application typiques, `n_components` devrait être supérieur au nombre de caractéristiques dans la représentation d'entrée afin d'obtenir une amélioration par rapport à la classification linéaire. À titre indicatif, l'optimum entre le score d'évaluation et le coût de temps d'exécution est généralement atteint autour de `n_components = 10 * n_features`, bien que cela puisse dépendre du jeu de données spécifique. Notez que, puisque les échantillons d'origine ont 54 caractéristiques, la correspondance de caractéristiques explicite du noyau polynomial de degré quatre aurait approximativement 8,5 millions de caractéristiques (précisément, 54^4). Grâce à [**`PolynomialCountSketch`**](https://scikit-learn.org/stable/modules/generated/sklearn.kernel_approximation.PolynomialCountSketch.html), nous pouvons condenser la majeure partie de l'information discriminante de cet espace de caractéristiques dans une représentation beaucoup plus compacte. Bien que nous exécutions l'expérience une seule fois (`n_runs = 1`) dans cet exemple, en pratique, il convient de répéter l'expérience plusieurs fois pour compenser la nature stochastique de [**`PolynomialCountSketch`**](https://scikit-learn.org/stable/modules/generated/sklearn.kernel_approximation.PolynomialCountSketch.html)."
   ]
  },
  {
   "cell_type": "code",
   "execution_count": 5,
   "metadata": {},
   "outputs": [
    {
     "name": "stdout",
     "output_type": "stream",
     "text": [
      "Linear SVM score on 250 PolynomialCountSketch features: 77.07%\n",
      "Linear SVM score on 500 PolynomialCountSketch features: 77.95%\n",
      "Linear SVM score on 1000 PolynomialCountSketch features: 78.32%\n",
      "Linear SVM score on 2000 PolynomialCountSketch features: 78.00%\n"
     ]
    }
   ],
   "source": [
    "from sklearn.kernel_approximation import PolynomialCountSketch\n",
    "\n",
    "n_runs = 1\n",
    "N_COMPONENTS = [250, 500, 1000, 2000]\n",
    "\n",
    "for n_components in N_COMPONENTS:\n",
    "    ps_lsvm_time = 0\n",
    "    ps_lsvm_score = 0\n",
    "    for _ in range(n_runs):\n",
    "        pipeline = make_pipeline(\n",
    "            PolynomialCountSketch(n_components=n_components, degree=4),\n",
    "            LinearSVC(dual=\"auto\"),\n",
    "        )\n",
    "\n",
    "        start = time.time()\n",
    "        pipeline.fit(X_train, y_train)\n",
    "        ps_lsvm_time += time.time() - start\n",
    "        ps_lsvm_score += 100 * pipeline.score(X_test, y_test)\n",
    "\n",
    "    ps_lsvm_time /= n_runs\n",
    "    ps_lsvm_score /= n_runs\n",
    "\n",
    "    results[f\"LSVM + PS({n_components})\"] = {\n",
    "        \"time\": ps_lsvm_time,\n",
    "        \"score\": ps_lsvm_score,\n",
    "    }\n",
    "    print(\n",
    "        f\"Linear SVM score on {n_components} PolynomialCountSketch \"\n",
    "        + f\"features: {ps_lsvm_score:.2f}%\"\n",
    "    )"
   ]
  },
  {
   "attachments": {},
   "cell_type": "markdown",
   "metadata": {},
   "source": [
    "# Établissement du modèle SVM noyauté\n",
    "\n",
    "Entraînez un SVM noyauté pour voir dans quelle mesure [**`PolynomialCountSketch`**](https://scikit-learn.org/stable/modules/generated/sklearn.kernel_approximation.PolynomialCountSketch.html) approxime les performances du noyau. Cela peut prendre un certain temps, car la classe SVC n'a pas une très bonne extensibilité. C'est la raison pour laquelle les approximations de noyau sont si utiles :"
   ]
  },
  {
   "cell_type": "code",
   "execution_count": 6,
   "metadata": {},
   "outputs": [
    {
     "name": "stdout",
     "output_type": "stream",
     "text": [
      "Kernel-SVM score on raw features: 79.78%\n"
     ]
    }
   ],
   "source": [
    "from sklearn.svm import SVC\n",
    "\n",
    "ksvm = SVC(C=500.0, kernel=\"poly\", degree=4, coef0=0, gamma=1.0)\n",
    "\n",
    "start = time.time()\n",
    "ksvm.fit(X_train, y_train)\n",
    "ksvm_time = time.time() - start\n",
    "ksvm_score = 100 * ksvm.score(X_test, y_test)\n",
    "\n",
    "results[\"KSVM\"] = {\"time\": ksvm_time, \"score\": ksvm_score}\n",
    "print(f\"Kernel-SVM score on raw features: {ksvm_score:.2f}%\")"
   ]
  },
  {
   "attachments": {},
   "cell_type": "markdown",
   "metadata": {},
   "source": [
    "# Comparaison des résultats\n",
    "\n",
    "Enfin, tracez les résultats des différentes méthodes en fonction de leurs temps d'entraînement. Comme nous pouvons le voir, le SVM noyauté atteint une précision plus élevée, mais son temps d'entraînement est beaucoup plus long et, surtout, il augmentera beaucoup plus rapidement si le nombre d'échantillons d'entraînement augmente."
   ]
  },
  {
   "cell_type": "code",
   "execution_count": 7,
   "metadata": {},
   "outputs": [
    {
     "data": {
      "image/png": "[encoded data removed]",
      "text/plain": [
       "<Figure size 700x700 with 1 Axes>"
      ]
     },
     "metadata": {},
     "output_type": "display_data"
    }
   ],
   "source": [
    "import matplotlib.pyplot as plt\n",
    "\n",
    "fig, ax = plt.subplots(figsize=(7, 7))\n",
    "ax.scatter(\n",
    "    [\n",
    "        results[\"LSVM\"][\"time\"],\n",
    "    ],\n",
    "    [\n",
    "        results[\"LSVM\"][\"score\"],\n",
    "    ],\n",
    "    label=\"Linear SVM\",\n",
    "    c=\"green\",\n",
    "    marker=\"^\",\n",
    ")\n",
    "\n",
    "ax.scatter(\n",
    "    [\n",
    "        results[\"LSVM + PS(250)\"][\"time\"],\n",
    "    ],\n",
    "    [\n",
    "        results[\"LSVM + PS(250)\"][\"score\"],\n",
    "    ],\n",
    "    label=\"Linear SVM + PolynomialCountSketch\",\n",
    "    c=\"blue\",\n",
    ")\n",
    "\n",
    "for n_components in N_COMPONENTS:\n",
    "    ax.scatter(\n",
    "        [\n",
    "            results[f\"LSVM + PS({n_components})\"][\"time\"],\n",
    "        ],\n",
    "        [\n",
    "            results[f\"LSVM + PS({n_components})\"][\"score\"],\n",
    "        ],\n",
    "        c=\"blue\",\n",
    "    )\n",
    "    ax.annotate(\n",
    "        f\"n_comp.={n_components}\",\n",
    "        (\n",
    "            results[f\"LSVM + PS({n_components})\"][\"time\"],\n",
    "            results[f\"LSVM + PS({n_components})\"][\"score\"],\n",
    "        ),\n",
    "        xytext=(-30, 10),\n",
    "        textcoords=\"offset pixels\",\n",
    "    )\n",
    "\n",
    "ax.scatter(\n",
    "    [\n",
    "        results[\"KSVM\"][\"time\"],\n",
    "    ],\n",
    "    [\n",
    "        results[\"KSVM\"][\"score\"],\n",
    "    ],\n",
    "    label=\"Kernel SVM\",\n",
    "    c=\"red\",\n",
    "    marker=\"x\",\n",
    ")\n",
    "\n",
    "ax.set_xlabel(\"Training time (s)\")\n",
    "ax.set_ylabel(\"Accuracy (%)\")\n",
    "ax.legend()\n",
    "plt.show()"
   ]
  }
 ],
 "metadata": {
  "kernelspec": {
   "display_name": "Python 3",
   "language": "python",
   "name": "python3"
  },
  "language_info": {
   "codemirror_mode": {
    "name": "ipython",
    "version": 3
   },
   "file_extension": ".py",
   "mimetype": "text/x-python",
   "name": "python",
   "nbconvert_exporter": "python",
   "pygments_lexer": "ipython3",
   "version": "3.11.1"
  },
  "orig_nbformat": 4
 },
 "nbformat": 4,
 "nbformat_minor": 2
}
