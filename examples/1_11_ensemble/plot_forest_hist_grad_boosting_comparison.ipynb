{
 "cells": [
  {
   "cell_type": "markdown",
   "metadata": {},
   "source": [
    "# [**Comparaison des modèles de forêts aléatoires et d'amplification de gradient basés sur des histogrammes**](https://nbviewer.org/github/Franck-PepperLabs/pepper_dsia_skl_doc_fr/blob/main/docs/examples/1_11_ensembles/plot_forest_hist_grad_boosting_comparison.ipynb)<br/>([_Comparing Random Forests and Histogram Gradient Boosting models_](https://scikit-learn.org/stable/auto_examples/ensemble/plot_forest_hist_grad_boosting_comparison.html))\n",
    "\n",
    "Dans cet exemple, nous comparons les performances des modèles de forêts aléatoires (RF) et d'amplification de gradient basés sur des histogrammes (HGBT) en termes de score et de temps de calcul pour un ensemble de données de régression, bien que **tous les concepts présentés ici s'appliquent également à la classification**.\n",
    "\n",
    "La comparaison est effectuée en faisant varier les paramètres qui contrôlent le nombre d'arbres selon chaque estimateur :\n",
    "- `n_estimators` contrôle le nombre d'arbres dans la forêt. C'est un nombre fixe.\n",
    "- `max_iter` est le nombre maximum d'itérations dans un modèle basé sur l'amplification de gradient. Le nombre d'itérations correspond au nombre d'arbres pour les problèmes de régression et de classification binaire. De plus, le nombre réel d'arbres requis par le modèle dépend des critères d'arrêt.\n",
    "\n",
    "HGBT utilise l'amplification de gradient pour améliorer itérativement les performances du modèle en ajustant chaque arbre au gradient négatif de la fonction de perte par rapport à la valeur prédite. En revanche, les forêts aléatoires sont basées sur le bagging et utilisent un vote à la majorité pour prédire le résultat.\n",
    "\n",
    "Pour plus d'informations sur les modèles d'ensemble, consultez le [**Guide de l'utilisateur** (1.11)](https://scikit-learn.org/stable/modules/ensemble.html#ensemble)."
   ]
  },
  {
   "cell_type": "code",
   "execution_count": 1,
   "metadata": {},
   "outputs": [],
   "source": [
    "# Author:  Arturo Amor <david-arturo.amor-quiroz@inria.fr>\n",
    "# License: BSD 3 clause"
   ]
  },
  {
   "cell_type": "markdown",
   "metadata": {},
   "source": [
    "# Chargement de l'ensemble de données"
   ]
  },
  {
   "cell_type": "code",
   "execution_count": 2,
   "metadata": {},
   "outputs": [],
   "source": [
    "from sklearn.datasets import fetch_california_housing\n",
    "\n",
    "X, y = fetch_california_housing(return_X_y=True, as_frame=True)\n",
    "n_samples, n_features = X.shape"
   ]
  },
  {
   "cell_type": "markdown",
   "metadata": {},
   "source": [
    "HGBT utilise un algorithme basé sur des histogrammes pour des valeurs de caractéristiques binées qui peuvent gérer efficacement de grands ensembles de données (des dizaines de milliers d'échantillons ou plus) avec un grand nombre de caractéristiques (voir [**Pourquoi c'est plus rapide** (1.11.1.1.8)](https://scikit-learn.org/stable/modules/ensemble.html#why-it-s-faster)). L'implémentation de RF dans scikit-learn n'utilise pas le binning et repose sur des divisions exactes, ce qui peut être coûteux en termes de calcul."
   ]
  },
  {
   "cell_type": "code",
   "execution_count": 3,
   "metadata": {},
   "outputs": [
    {
     "name": "stdout",
     "output_type": "stream",
     "text": [
      "The dataset consists of 20640 samples and 8 features\n"
     ]
    }
   ],
   "source": [
    "print(f\"The dataset consists of {n_samples} samples and {n_features} features\")"
   ]
  },
  {
   "cell_type": "markdown",
   "metadata": {},
   "source": [
    "# Calcul des scores et des temps de calcul\n",
    "\n",
    "Remarquez que de nombreuses parties de l'implémentation de [**`HistGradientBoostingClassifier`**](https://scikit-learn.org/stable/modules/generated/sklearn.ensemble.HistGradientBoostingClassifier.html#sklearn.ensemble.HistGradientBoostingClassifier) et de [**`HistGradientBoostingRegressor`**](https://scikit-learn.org/stable/modules/generated/sklearn.ensemble.HistGradientBoostingRegressor.html#sklearn.ensemble.HistGradientBoostingRegressor) sont par défaut parallélisées.\n",
    "\n",
    "L'implémentation de [**`RandomForestRegressor`**](https://scikit-learn.org/stable/modules/generated/sklearn.ensemble.RandomForestRegressor.html#sklearn.ensemble.RandomForestRegressor) et de [**`RandomForestClassifier`**](https://scikit-learn.org/stable/modules/generated/sklearn.ensemble.RandomForestClassifier.html#sklearn.ensemble.RandomForestClassifier) peut également être exécutée sur plusieurs cœurs en utilisant le paramètre `n_jobs`, ici réglé pour correspondre au nombre de cœurs physiques sur la machine hôte. Consultez [**Parallélisme** (8.3.1)](https://scikit-learn.org/stable/computing/parallelism.html#parallelism) pour plus d'informations."
   ]
  },
  {
   "cell_type": "code",
   "execution_count": 4,
   "metadata": {},
   "outputs": [
    {
     "name": "stdout",
     "output_type": "stream",
     "text": [
      "Number of physical cores: 6\n"
     ]
    }
   ],
   "source": [
    "import joblib\n",
    "\n",
    "N_CORES = joblib.cpu_count(only_physical_cores=True)\n",
    "print(f\"Number of physical cores: {N_CORES}\")"
   ]
  },
  {
   "cell_type": "markdown",
   "metadata": {},
   "source": [
    "Contrairement à RF, les modèles HGBT offrent une option d'arrêt anticipé (voir [**Arrêt anticipé de l'amplification de gradient**](https://scikit-learn.org/stable/auto_examples/ensemble/plot_gradient_boosting_early_stopping.html#sphx-glr-auto-examples-ensemble-plot-gradient-boosting-early-stopping-py)) pour éviter d'ajouter de nouveaux arbres inutiles. En interne, l'algorithme utilise un ensemble hors échantillon pour calculer les performances de généralisation du modèle à chaque ajout d'un arbre. Ainsi, si les performances de généralisation n'augmentent pas pendant plus de `n_iter_no_change` itérations, il cesse d'ajouter des arbres.\n",
    "\n",
    "Les autres paramètres des deux modèles ont été réglés, mais la procédure n'est pas montrée ici pour simplifier l'exemple."
   ]
  },
  {
   "cell_type": "code",
   "execution_count": 5,
   "metadata": {},
   "outputs": [],
   "source": [
    "import pandas as pd\n",
    "\n",
    "from sklearn.ensemble import HistGradientBoostingRegressor, RandomForestRegressor\n",
    "from sklearn.model_selection import GridSearchCV, KFold\n",
    "\n",
    "models = {\n",
    "    \"Random Forest\": RandomForestRegressor(\n",
    "        min_samples_leaf=5, random_state=0, n_jobs=N_CORES\n",
    "    ),\n",
    "    \"Hist Gradient Boosting\": HistGradientBoostingRegressor(\n",
    "        max_leaf_nodes=15, random_state=0, early_stopping=False\n",
    "    ),\n",
    "}\n",
    "param_grids = {\n",
    "    \"Random Forest\": {\"n_estimators\": [10, 20, 50, 100]},\n",
    "    \"Hist Gradient Boosting\": {\"max_iter\": [10, 20, 50, 100, 300, 500]},\n",
    "}\n",
    "cv = KFold(n_splits=4, shuffle=True, random_state=0)\n",
    "\n",
    "results = []\n",
    "for name, model in models.items():\n",
    "    grid_search = GridSearchCV(\n",
    "        estimator=model,\n",
    "        param_grid=param_grids[name],\n",
    "        return_train_score=True,\n",
    "        cv=cv,\n",
    "    ).fit(X, y)\n",
    "    result = {\"model\": name, \"cv_results\": pd.DataFrame(grid_search.cv_results_)}\n",
    "    results.append(result)"
   ]
  },
  {
   "cell_type": "markdown",
   "metadata": {},
   "source": [
    "> **Remarque :** Régler `n_estimators` pour RF résulte généralement en une perte de puissance de calcul. En pratique, il suffit de s'assurer qu'il est suffisamment grand pour que doubler sa valeur ne conduise pas à une amélioration significative du score de test.\n",
    "\n",
    "# Tracé des résultats\n",
    "\n",
    "Nous pouvons utiliser un [**`plotly.express.scatter`**](https://plotly.com/python-api-reference/generated/plotly.express.scatter.html) pour visualiser le compromis entre le temps de calcul écoulé et le score moyen au test. Le passage du curseur sur un point donné affiche les paramètres correspondants. Les barres d'erreur correspondent à un écart-type tel que calculé dans les différentes validations croisées."
   ]
  },
  {
   "cell_type": "code",
   "execution_count": 6,
   "metadata": {},
   "outputs": [
    {
     "data": {
      "application/vnd.plotly.v1+json": {
       "config": {
        "plotlyServerURL": "https://plot.ly"
       },
       "data": [
        {
         "customdata": [
          [
           10
          ],
          [
           20
          ],
          [
           50
          ],
          [
           100
          ]
         ],
         "error_x": {
          "array": [
           2.187,
           0.009,
           0.722,
           1.844
          ]
         },
         "error_y": {
          "array": [
           0.011,
           0.011,
           0.009,
           0.009
          ]
         },
         "hovertemplate": "model=Random Forest<br>mean_fit_time=%{x}<br>mean_test_score=%{y}<br>n_estimators=%{customdata[0]}<extra></extra>",
         "legendgroup": "Random Forest",
         "marker": {
          "color": "#636EFA",
          "symbol": "circle"
         },
         "mode": "markers",
         "name": "Random Forest",
         "orientation": "v",
         "showlegend": true,
         "type": "scatter",
         "x": [
          2.261,
          1.964,
          5.454,
          11.952
         ],
         "xaxis": "x",
         "y": [
          0.793,
          0.799,
          0.803,
          0.805
         ],
         "yaxis": "y"
        },
        {
         "hovertemplate": "mean_fit_time=%{x}<br>mean_test_score=%{y}<extra></extra>",
         "legendgroup": "",
         "line": {
          "color": "#636EFA",
          "dash": "solid"
         },
         "marker": {
          "symbol": "circle"
         },
         "mode": "lines",
         "name": "",
         "orientation": "v",
         "showlegend": false,
         "type": "scatter",
         "x": [
          2.261,
          1.964,
          5.454,
          11.952
         ],
         "xaxis": "x",
         "y": [
          0.793,
          0.799,
          0.803,
          0.805
         ],
         "yaxis": "y"
        },
        {
         "customdata": [
          [
           10
          ],
          [
           20
          ],
          [
           50
          ],
          [
           100
          ]
         ],
         "error_x": {
          "array": [
           0.003,
           0.001,
           0.018,
           0.002
          ]
         },
         "error_y": {
          "array": [
           0.011,
           0.011,
           0.009,
           0.009
          ]
         },
         "hovertemplate": "mean_score_time=%{x}<br>mean_test_score=%{y}<br>n_estimators=%{customdata[0]}<extra></extra>",
         "legendgroup": "",
         "marker": {
          "color": "#636EFA",
          "symbol": "circle"
         },
         "mode": "markers",
         "name": "",
         "orientation": "v",
         "showlegend": false,
         "type": "scatter",
         "x": [
          0.015,
          0.014,
          0.039,
          0.044
         ],
         "xaxis": "x2",
         "y": [
          0.793,
          0.799,
          0.803,
          0.805
         ],
         "yaxis": "y2"
        },
        {
         "hovertemplate": "mean_score_time=%{x}<br>mean_test_score=%{y}<extra></extra>",
         "legendgroup": "",
         "line": {
          "color": "#636EFA",
          "dash": "solid"
         },
         "marker": {
          "symbol": "circle"
         },
         "mode": "lines",
         "name": "",
         "orientation": "v",
         "showlegend": false,
         "type": "scatter",
         "x": [
          0.015,
          0.014,
          0.039,
          0.044
         ],
         "xaxis": "x2",
         "y": [
          0.793,
          0.799,
          0.803,
          0.805
         ],
         "yaxis": "y2"
        },
        {
         "customdata": [
          [
           10
          ],
          [
           20
          ],
          [
           50
          ],
          [
           100
          ],
          [
           300
          ],
          [
           500
          ]
         ],
         "error_x": {
          "array": [
           0.024,
           0.032,
           0.039,
           0.048,
           0.143,
           0.146
          ]
         },
         "error_y": {
          "array": [
           0.007,
           0.008,
           0.006,
           0.003,
           0.003,
           0.003
          ]
         },
         "hovertemplate": "model=Hist Gradient Boosting<br>mean_fit_time=%{x}<br>mean_test_score=%{y}<br>max_iter=%{customdata[0]}<extra></extra>",
         "legendgroup": "Hist Gradient Boosting",
         "marker": {
          "color": "#EF553B",
          "symbol": "circle"
         },
         "mode": "markers",
         "name": "Hist Gradient Boosting",
         "orientation": "v",
         "showlegend": true,
         "type": "scatter",
         "x": [
          0.096,
          0.142,
          0.305,
          0.564,
          1.498,
          2.24
         ],
         "xaxis": "x",
         "y": [
          0.577,
          0.714,
          0.8,
          0.823,
          0.843,
          0.848
         ],
         "yaxis": "y"
        },
        {
         "hovertemplate": "mean_fit_time=%{x}<br>mean_test_score=%{y}<extra></extra>",
         "legendgroup": "",
         "line": {
          "color": "#EF553B",
          "dash": "solid"
         },
         "marker": {
          "symbol": "circle"
         },
         "mode": "lines",
         "name": "",
         "orientation": "v",
         "showlegend": false,
         "type": "scatter",
         "x": [
          0.096,
          0.142,
          0.305,
          0.564,
          1.498,
          2.24
         ],
         "xaxis": "x",
         "y": [
          0.577,
          0.714,
          0.8,
          0.823,
          0.843,
          0.848
         ],
         "yaxis": "y"
        },
        {
         "customdata": [
          [
           10
          ],
          [
           20
          ],
          [
           50
          ],
          [
           100
          ],
          [
           300
          ],
          [
           500
          ]
         ],
         "error_x": {
          "array": [
           0.001,
           0.001,
           0.003,
           0.006,
           0.012,
           0.009
          ]
         },
         "error_y": {
          "array": [
           0.007,
           0.008,
           0.006,
           0.003,
           0.003,
           0.003
          ]
         },
         "hovertemplate": "mean_score_time=%{x}<br>mean_test_score=%{y}<br>max_iter=%{customdata[0]}<extra></extra>",
         "legendgroup": "",
         "marker": {
          "color": "#EF553B",
          "symbol": "circle"
         },
         "mode": "markers",
         "name": "",
         "orientation": "v",
         "showlegend": false,
         "type": "scatter",
         "x": [
          0.007,
          0.01,
          0.018,
          0.029,
          0.07,
          0.099
         ],
         "xaxis": "x2",
         "y": [
          0.577,
          0.714,
          0.8,
          0.823,
          0.843,
          0.848
         ],
         "yaxis": "y2"
        },
        {
         "hovertemplate": "mean_score_time=%{x}<br>mean_test_score=%{y}<extra></extra>",
         "legendgroup": "",
         "line": {
          "color": "#EF553B",
          "dash": "solid"
         },
         "marker": {
          "symbol": "circle"
         },
         "mode": "lines",
         "name": "",
         "orientation": "v",
         "showlegend": false,
         "type": "scatter",
         "x": [
          0.007,
          0.01,
          0.018,
          0.029,
          0.07,
          0.099
         ],
         "xaxis": "x2",
         "y": [
          0.577,
          0.714,
          0.8,
          0.823,
          0.843,
          0.848
         ],
         "yaxis": "y2"
        }
       ],
       "layout": {
        "annotations": [
         {
          "font": {
           "size": 16
          },
          "showarrow": false,
          "text": "Train time vs score",
          "x": 0.225,
          "xanchor": "center",
          "xref": "paper",
          "y": 1,
          "yanchor": "bottom",
          "yref": "paper"
         },
         {
          "font": {
           "size": 16
          },
          "showarrow": false,
          "text": "Predict time vs score",
          "x": 0.775,
          "xanchor": "center",
          "xref": "paper",
          "y": 1,
          "yanchor": "bottom",
          "yref": "paper"
         }
        ],
        "legend": {
         "borderwidth": 1,
         "traceorder": "normal",
         "x": 0.72,
         "y": 0.05
        },
        "template": {
         "data": {
          "bar": [
           {
            "error_x": {
             "color": "#2a3f5f"
            },
            "error_y": {
             "color": "#2a3f5f"
            },
            "marker": {
             "line": {
              "color": "#E5ECF6",
              "width": 0.5
             },
             "pattern": {
              "fillmode": "overlay",
              "size": 10,
              "solidity": 0.2
             }
            },
            "type": "bar"
           }
          ],
          "barpolar": [
           {
            "marker": {
             "line": {
              "color": "#E5ECF6",
              "width": 0.5
             },
             "pattern": {
              "fillmode": "overlay",
              "size": 10,
              "solidity": 0.2
             }
            },
            "type": "barpolar"
           }
          ],
          "carpet": [
           {
            "aaxis": {
             "endlinecolor": "#2a3f5f",
             "gridcolor": "white",
             "linecolor": "white",
             "minorgridcolor": "white",
             "startlinecolor": "#2a3f5f"
            },
            "baxis": {
             "endlinecolor": "#2a3f5f",
             "gridcolor": "white",
             "linecolor": "white",
             "minorgridcolor": "white",
             "startlinecolor": "#2a3f5f"
            },
            "type": "carpet"
           }
          ],
          "choropleth": [
           {
            "colorbar": {
             "outlinewidth": 0,
             "ticks": ""
            },
            "type": "choropleth"
           }
          ],
          "contour": [
           {
            "colorbar": {
             "outlinewidth": 0,
             "ticks": ""
            },
            "colorscale": [
             [
              0,
              "#0d0887"
             ],
             [
              0.1111111111111111,
              "#46039f"
             ],
             [
              0.2222222222222222,
              "#7201a8"
             ],
             [
              0.3333333333333333,
              "#9c179e"
             ],
             [
              0.4444444444444444,
              "#bd3786"
             ],
             [
              0.5555555555555556,
              "#d8576b"
             ],
             [
              0.6666666666666666,
              "#ed7953"
             ],
             [
              0.7777777777777778,
              "#fb9f3a"
             ],
             [
              0.8888888888888888,
              "#fdca26"
             ],
             [
              1,
              "#f0f921"
             ]
            ],
            "type": "contour"
           }
          ],
          "contourcarpet": [
           {
            "colorbar": {
             "outlinewidth": 0,
             "ticks": ""
            },
            "type": "contourcarpet"
           }
          ],
          "heatmap": [
           {
            "colorbar": {
             "outlinewidth": 0,
             "ticks": ""
            },
            "colorscale": [
             [
              0,
              "#0d0887"
             ],
             [
              0.1111111111111111,
              "#46039f"
             ],
             [
              0.2222222222222222,
              "#7201a8"
             ],
             [
              0.3333333333333333,
              "#9c179e"
             ],
             [
              0.4444444444444444,
              "#bd3786"
             ],
             [
              0.5555555555555556,
              "#d8576b"
             ],
             [
              0.6666666666666666,
              "#ed7953"
             ],
             [
              0.7777777777777778,
              "#fb9f3a"
             ],
             [
              0.8888888888888888,
              "#fdca26"
             ],
             [
              1,
              "#f0f921"
             ]
            ],
            "type": "heatmap"
           }
          ],
          "heatmapgl": [
           {
            "colorbar": {
             "outlinewidth": 0,
             "ticks": ""
            },
            "colorscale": [
             [
              0,
              "#0d0887"
             ],
             [
              0.1111111111111111,
              "#46039f"
             ],
             [
              0.2222222222222222,
              "#7201a8"
             ],
             [
              0.3333333333333333,
              "#9c179e"
             ],
             [
              0.4444444444444444,
              "#bd3786"
             ],
             [
              0.5555555555555556,
              "#d8576b"
             ],
             [
              0.6666666666666666,
              "#ed7953"
             ],
             [
              0.7777777777777778,
              "#fb9f3a"
             ],
             [
              0.8888888888888888,
              "#fdca26"
             ],
             [
              1,
              "#f0f921"
             ]
            ],
            "type": "heatmapgl"
           }
          ],
          "histogram": [
           {
            "marker": {
             "pattern": {
              "fillmode": "overlay",
              "size": 10,
              "solidity": 0.2
             }
            },
            "type": "histogram"
           }
          ],
          "histogram2d": [
           {
            "colorbar": {
             "outlinewidth": 0,
             "ticks": ""
            },
            "colorscale": [
             [
              0,
              "#0d0887"
             ],
             [
              0.1111111111111111,
              "#46039f"
             ],
             [
              0.2222222222222222,
              "#7201a8"
             ],
             [
              0.3333333333333333,
              "#9c179e"
             ],
             [
              0.4444444444444444,
              "#bd3786"
             ],
             [
              0.5555555555555556,
              "#d8576b"
             ],
             [
              0.6666666666666666,
              "#ed7953"
             ],
             [
              0.7777777777777778,
              "#fb9f3a"
             ],
             [
              0.8888888888888888,
              "#fdca26"
             ],
             [
              1,
              "#f0f921"
             ]
            ],
            "type": "histogram2d"
           }
          ],
          "histogram2dcontour": [
           {
            "colorbar": {
             "outlinewidth": 0,
             "ticks": ""
            },
            "colorscale": [
             [
              0,
              "#0d0887"
             ],
             [
              0.1111111111111111,
              "#46039f"
             ],
             [
              0.2222222222222222,
              "#7201a8"
             ],
             [
              0.3333333333333333,
              "#9c179e"
             ],
             [
              0.4444444444444444,
              "#bd3786"
             ],
             [
              0.5555555555555556,
              "#d8576b"
             ],
             [
              0.6666666666666666,
              "#ed7953"
             ],
             [
              0.7777777777777778,
              "#fb9f3a"
             ],
             [
              0.8888888888888888,
              "#fdca26"
             ],
             [
              1,
              "#f0f921"
             ]
            ],
            "type": "histogram2dcontour"
           }
          ],
          "mesh3d": [
           {
            "colorbar": {
             "outlinewidth": 0,
             "ticks": ""
            },
            "type": "mesh3d"
           }
          ],
          "parcoords": [
           {
            "line": {
             "colorbar": {
              "outlinewidth": 0,
              "ticks": ""
             }
            },
            "type": "parcoords"
           }
          ],
          "pie": [
           {
            "automargin": true,
            "type": "pie"
           }
          ],
          "scatter": [
           {
            "fillpattern": {
             "fillmode": "overlay",
             "size": 10,
             "solidity": 0.2
            },
            "type": "scatter"
           }
          ],
          "scatter3d": [
           {
            "line": {
             "colorbar": {
              "outlinewidth": 0,
              "ticks": ""
             }
            },
            "marker": {
             "colorbar": {
              "outlinewidth": 0,
              "ticks": ""
             }
            },
            "type": "scatter3d"
           }
          ],
          "scattercarpet": [
           {
            "marker": {
             "colorbar": {
              "outlinewidth": 0,
              "ticks": ""
             }
            },
            "type": "scattercarpet"
           }
          ],
          "scattergeo": [
           {
            "marker": {
             "colorbar": {
              "outlinewidth": 0,
              "ticks": ""
             }
            },
            "type": "scattergeo"
           }
          ],
          "scattergl": [
           {
            "marker": {
             "colorbar": {
              "outlinewidth": 0,
              "ticks": ""
             }
            },
            "type": "scattergl"
           }
          ],
          "scattermapbox": [
           {
            "marker": {
             "colorbar": {
              "outlinewidth": 0,
              "ticks": ""
             }
            },
            "type": "scattermapbox"
           }
          ],
          "scatterpolar": [
           {
            "marker": {
             "colorbar": {
              "outlinewidth": 0,
              "ticks": ""
             }
            },
            "type": "scatterpolar"
           }
          ],
          "scatterpolargl": [
           {
            "marker": {
             "colorbar": {
              "outlinewidth": 0,
              "ticks": ""
             }
            },
            "type": "scatterpolargl"
           }
          ],
          "scatterternary": [
           {
            "marker": {
             "colorbar": {
              "outlinewidth": 0,
              "ticks": ""
             }
            },
            "type": "scatterternary"
           }
          ],
          "surface": [
           {
            "colorbar": {
             "outlinewidth": 0,
             "ticks": ""
            },
            "colorscale": [
             [
              0,
              "#0d0887"
             ],
             [
              0.1111111111111111,
              "#46039f"
             ],
             [
              0.2222222222222222,
              "#7201a8"
             ],
             [
              0.3333333333333333,
              "#9c179e"
             ],
             [
              0.4444444444444444,
              "#bd3786"
             ],
             [
              0.5555555555555556,
              "#d8576b"
             ],
             [
              0.6666666666666666,
              "#ed7953"
             ],
             [
              0.7777777777777778,
              "#fb9f3a"
             ],
             [
              0.8888888888888888,
              "#fdca26"
             ],
             [
              1,
              "#f0f921"
             ]
            ],
            "type": "surface"
           }
          ],
          "table": [
           {
            "cells": {
             "fill": {
              "color": "#EBF0F8"
             },
             "line": {
              "color": "white"
             }
            },
            "header": {
             "fill": {
              "color": "#C8D4E3"
             },
             "line": {
              "color": "white"
             }
            },
            "type": "table"
           }
          ]
         },
         "layout": {
          "annotationdefaults": {
           "arrowcolor": "#2a3f5f",
           "arrowhead": 0,
           "arrowwidth": 1
          },
          "autotypenumbers": "strict",
          "coloraxis": {
           "colorbar": {
            "outlinewidth": 0,
            "ticks": ""
           }
          },
          "colorscale": {
           "diverging": [
            [
             0,
             "#8e0152"
            ],
            [
             0.1,
             "#c51b7d"
            ],
            [
             0.2,
             "#de77ae"
            ],
            [
             0.3,
             "#f1b6da"
            ],
            [
             0.4,
             "#fde0ef"
            ],
            [
             0.5,
             "#f7f7f7"
            ],
            [
             0.6,
             "#e6f5d0"
            ],
            [
             0.7,
             "#b8e186"
            ],
            [
             0.8,
             "#7fbc41"
            ],
            [
             0.9,
             "#4d9221"
            ],
            [
             1,
             "#276419"
            ]
           ],
           "sequential": [
            [
             0,
             "#0d0887"
            ],
            [
             0.1111111111111111,
             "#46039f"
            ],
            [
             0.2222222222222222,
             "#7201a8"
            ],
            [
             0.3333333333333333,
             "#9c179e"
            ],
            [
             0.4444444444444444,
             "#bd3786"
            ],
            [
             0.5555555555555556,
             "#d8576b"
            ],
            [
             0.6666666666666666,
             "#ed7953"
            ],
            [
             0.7777777777777778,
             "#fb9f3a"
            ],
            [
             0.8888888888888888,
             "#fdca26"
            ],
            [
             1,
             "#f0f921"
            ]
           ],
           "sequentialminus": [
            [
             0,
             "#0d0887"
            ],
            [
             0.1111111111111111,
             "#46039f"
            ],
            [
             0.2222222222222222,
             "#7201a8"
            ],
            [
             0.3333333333333333,
             "#9c179e"
            ],
            [
             0.4444444444444444,
             "#bd3786"
            ],
            [
             0.5555555555555556,
             "#d8576b"
            ],
            [
             0.6666666666666666,
             "#ed7953"
            ],
            [
             0.7777777777777778,
             "#fb9f3a"
            ],
            [
             0.8888888888888888,
             "#fdca26"
            ],
            [
             1,
             "#f0f921"
            ]
           ]
          },
          "colorway": [
           "#636efa",
           "#EF553B",
           "#00cc96",
           "#ab63fa",
           "#FFA15A",
           "#19d3f3",
           "#FF6692",
           "#B6E880",
           "#FF97FF",
           "#FECB52"
          ],
          "font": {
           "color": "#2a3f5f"
          },
          "geo": {
           "bgcolor": "white",
           "lakecolor": "white",
           "landcolor": "#E5ECF6",
           "showlakes": true,
           "showland": true,
           "subunitcolor": "white"
          },
          "hoverlabel": {
           "align": "left"
          },
          "hovermode": "closest",
          "mapbox": {
           "style": "light"
          },
          "paper_bgcolor": "white",
          "plot_bgcolor": "#E5ECF6",
          "polar": {
           "angularaxis": {
            "gridcolor": "white",
            "linecolor": "white",
            "ticks": ""
           },
           "bgcolor": "#E5ECF6",
           "radialaxis": {
            "gridcolor": "white",
            "linecolor": "white",
            "ticks": ""
           }
          },
          "scene": {
           "xaxis": {
            "backgroundcolor": "#E5ECF6",
            "gridcolor": "white",
            "gridwidth": 2,
            "linecolor": "white",
            "showbackground": true,
            "ticks": "",
            "zerolinecolor": "white"
           },
           "yaxis": {
            "backgroundcolor": "#E5ECF6",
            "gridcolor": "white",
            "gridwidth": 2,
            "linecolor": "white",
            "showbackground": true,
            "ticks": "",
            "zerolinecolor": "white"
           },
           "zaxis": {
            "backgroundcolor": "#E5ECF6",
            "gridcolor": "white",
            "gridwidth": 2,
            "linecolor": "white",
            "showbackground": true,
            "ticks": "",
            "zerolinecolor": "white"
           }
          },
          "shapedefaults": {
           "line": {
            "color": "#2a3f5f"
           }
          },
          "ternary": {
           "aaxis": {
            "gridcolor": "white",
            "linecolor": "white",
            "ticks": ""
           },
           "baxis": {
            "gridcolor": "white",
            "linecolor": "white",
            "ticks": ""
           },
           "bgcolor": "#E5ECF6",
           "caxis": {
            "gridcolor": "white",
            "linecolor": "white",
            "ticks": ""
           }
          },
          "title": {
           "x": 0.05
          },
          "xaxis": {
           "automargin": true,
           "gridcolor": "white",
           "linecolor": "white",
           "ticks": "",
           "title": {
            "standoff": 15
           },
           "zerolinecolor": "white",
           "zerolinewidth": 2
          },
          "yaxis": {
           "automargin": true,
           "gridcolor": "white",
           "linecolor": "white",
           "ticks": "",
           "title": {
            "standoff": 15
           },
           "zerolinecolor": "white",
           "zerolinewidth": 2
          }
         }
        },
        "title": {
         "text": "Speed-score trade-off of tree-based ensembles",
         "x": 0.5
        },
        "xaxis": {
         "anchor": "y",
         "domain": [
          0,
          0.45
         ],
         "title": {
          "text": "Train time (s) - lower is better"
         }
        },
        "xaxis2": {
         "anchor": "y2",
         "domain": [
          0.55,
          1
         ],
         "title": {
          "text": "Predict time (s) - lower is better"
         }
        },
        "yaxis": {
         "anchor": "x",
         "domain": [
          0,
          1
         ],
         "title": {
          "text": "Test R2 score - higher is better"
         }
        },
        "yaxis2": {
         "anchor": "x2",
         "domain": [
          0,
          1
         ],
         "matches": "y",
         "showticklabels": false
        }
       }
      }
     },
     "metadata": {},
     "output_type": "display_data"
    },
    {
     "ename": "",
     "evalue": "",
     "output_type": "error",
     "traceback": [
      "\u001b[1;31mLe Kernel s’est bloqué lors de l’exécution du code dans la cellule active ou une cellule précédente. Veuillez vérifier le code dans la ou les cellules pour identifier une cause possible de l’échec. Cliquez <a href='https://aka.ms/vscodeJupyterKernelCrash'>ici</a> pour plus d’informations. Pour plus d’informations, consultez Jupyter <a href='command:jupyter.viewOutput'>log</a>."
     ]
    }
   ],
   "source": [
    "import plotly.colors as colors\n",
    "import plotly.express as px\n",
    "from plotly.subplots import make_subplots\n",
    "\n",
    "fig = make_subplots(\n",
    "    rows=1,\n",
    "    cols=2,\n",
    "    shared_yaxes=True,\n",
    "    subplot_titles=[\"Train time vs score\", \"Predict time vs score\"],\n",
    ")\n",
    "model_names = [result[\"model\"] for result in results]\n",
    "colors_list = colors.qualitative.Plotly * (\n",
    "    len(model_names) // len(colors.qualitative.Plotly) + 1\n",
    ")\n",
    "\n",
    "for idx, result in enumerate(results):\n",
    "    cv_results = result[\"cv_results\"].round(3)\n",
    "    model_name = result[\"model\"]\n",
    "    param_name = list(param_grids[model_name].keys())[0]\n",
    "    cv_results[param_name] = cv_results[f\"param_{param_name}\"]\n",
    "    cv_results[\"model\"] = model_name\n",
    "\n",
    "    scatter_fig = px.scatter(\n",
    "        cv_results,\n",
    "        x=\"mean_fit_time\",\n",
    "        y=\"mean_test_score\",\n",
    "        error_x=\"std_fit_time\",\n",
    "        error_y=\"std_test_score\",\n",
    "        hover_data=param_name,\n",
    "        color=\"model\",\n",
    "    )\n",
    "    line_fig = px.line(\n",
    "        cv_results,\n",
    "        x=\"mean_fit_time\",\n",
    "        y=\"mean_test_score\",\n",
    "    )\n",
    "\n",
    "    scatter_trace = scatter_fig[\"data\"][0]\n",
    "    line_trace = line_fig[\"data\"][0]\n",
    "    scatter_trace.update(marker=dict(color=colors_list[idx]))\n",
    "    line_trace.update(line=dict(color=colors_list[idx]))\n",
    "    fig.add_trace(scatter_trace, row=1, col=1)\n",
    "    fig.add_trace(line_trace, row=1, col=1)\n",
    "\n",
    "    scatter_fig = px.scatter(\n",
    "        cv_results,\n",
    "        x=\"mean_score_time\",\n",
    "        y=\"mean_test_score\",\n",
    "        error_x=\"std_score_time\",\n",
    "        error_y=\"std_test_score\",\n",
    "        hover_data=param_name,\n",
    "    )\n",
    "    line_fig = px.line(\n",
    "        cv_results,\n",
    "        x=\"mean_score_time\",\n",
    "        y=\"mean_test_score\",\n",
    "    )\n",
    "\n",
    "    scatter_trace = scatter_fig[\"data\"][0]\n",
    "    line_trace = line_fig[\"data\"][0]\n",
    "    scatter_trace.update(marker=dict(color=colors_list[idx]))\n",
    "    line_trace.update(line=dict(color=colors_list[idx]))\n",
    "    fig.add_trace(scatter_trace, row=1, col=2)\n",
    "    fig.add_trace(line_trace, row=1, col=2)\n",
    "\n",
    "fig.update_layout(\n",
    "    xaxis=dict(title=\"Train time (s) - lower is better\"),\n",
    "    yaxis=dict(title=\"Test R2 score - higher is better\"),\n",
    "    xaxis2=dict(title=\"Predict time (s) - lower is better\"),\n",
    "    legend=dict(x=0.72, y=0.05, traceorder=\"normal\", borderwidth=1),\n",
    "    title=dict(x=0.5, text=\"Speed-score trade-off of tree-based ensembles\"),\n",
    ")"
   ]
  },
  {
   "cell_type": "markdown",
   "metadata": {},
   "source": [
    "Les modèles HGBT et RF s'améliorent tous deux en augmentant le nombre d'arbres dans l'ensemble. Cependant, les scores atteignent un plateau où l'ajout de nouveaux arbres ne fait qu'augmenter le temps d'ajustement et de notation. Le modèle RF atteint ce plateau plus tôt et ne peut jamais atteindre le score de test du modèle HGBDT le plus important.\n",
    "\n",
    "Notez que les résultats affichés sur le graphique ci-dessus peuvent varier légèrement d'une exécution à l'autre, et encore plus significativement lorsqu'ils sont exécutés sur d'autres machines : essayez d'exécuter cet exemple sur votre propre machine locale.\n",
    "\n",
    "Dans l'ensemble, on devrait souvent constater que les modèles d'amplification de gradient basés sur des histogrammes dominent uniformément les modèles de forêts aléatoires dans le \"compromis score de test vs vitesse d'entraînement\" (la courbe HGBDT devrait se trouver en haut à gauche de la courbe RF, sans jamais la croiser). Le \"compromis score de test vs vitesse de prédiction\" peut également être plus controversé, mais il est le plus souvent favorable à HGBDT. Il est toujours judicieux de vérifier les deux types de modèles (avec un réglage des hyperparamètres) et de comparer leurs performances sur votre problème spécifique pour déterminer lequel est le mieux adapté, mais **HGBT offre presque toujours un meilleur compromis entre vitesse et précision que RF**, que ce soit avec les hyperparamètres par défaut ou en tenant compte du coût du réglage des hyperparamètres.\n",
    "\n",
    "Il existe cependant une exception à cette règle générale : lors de l'entraînement d'un modèle de classification multiclasse avec un grand nombre de classes possibles, HGBDT ajuste en interne un arbre par classe à chaque itération d'amplification, tandis que les arbres utilisés par les modèles RF sont naturellement multiclasse, ce qui devrait améliorer le compromis vitesse de précision des modèles RF dans ce cas."
   ]
  }
 ],
 "metadata": {
  "kernelspec": {
   "display_name": "Python 3",
   "language": "python",
   "name": "python3"
  },
  "language_info": {
   "codemirror_mode": {
    "name": "ipython",
    "version": 3
   },
   "file_extension": ".py",
   "mimetype": "text/x-python",
   "name": "python",
   "nbconvert_exporter": "python",
   "pygments_lexer": "ipython3",
   "version": "3.11.1"
  }
 },
 "nbformat": 4,
 "nbformat_minor": 2
}
