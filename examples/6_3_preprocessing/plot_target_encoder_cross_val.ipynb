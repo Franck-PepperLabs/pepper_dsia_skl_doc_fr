{
 "cells": [
  {
   "attachments": {},
   "cell_type": "markdown",
   "metadata": {},
   "source": [
    "# [**Ajustement croisé interne du TargetEncoder**](https://nbviewer.org/github/Franck-PepperLabs/pepper_data-science_practising/blob/main/Sklearn/examples/6_3_preprocessing/plot_target_encoder_cross_val.ipynb)<br/>([_Target Encoder’s Internal Cross fitting_](https://scikit-learn.org/stable/auto_examples/preprocessing/plot_target_encoder_cross_val.html))\n",
    "\n",
    "Le [**`TargetEncoder`**](https://scikit-learn.org/stable/modules/generated/sklearn.preprocessing.TargetEncoder.html) remplace chaque catégorie d'une caractéristique catégorielle par la moyenne de la variable cible pour cette catégorie. Cette méthode est utile dans les cas où il existe une forte relation entre la caractéristique catégorielle et la cible. Pour éviter le surajustement, [**`TargetEncoder.fit_transform`**](https://scikit-learn.org/stable/modules/generated/sklearn.preprocessing.TargetEncoder.html#sklearn.preprocessing.TargetEncoder.fit_transform) utilise un schéma d'ajustement croisé interne pour encoder les données d'entraînement à utiliser par un modèle aval. Dans cet exemple, nous illustrons l'importance de la procédure d'ajustement croisé pour prévenir le surajustement."
   ]
  },
  {
   "attachments": {},
   "cell_type": "markdown",
   "metadata": {},
   "source": [
    "# Création d'un ensemble de données synthétique\n",
    "\n",
    "Pour cet exemple, nous construisons un ensemble de données avec trois caractéristiques catégorielles : une caractéristique informative de cardinalité moyenne, une caractéristique non informative de cardinalité moyenne et une caractéristique non informative de grande cardinalité. Tout d'abord, nous générons la caractéristique informative :"
   ]
  },
  {
   "cell_type": "code",
   "execution_count": 1,
   "metadata": {},
   "outputs": [
    {
     "name": "stderr",
     "output_type": "stream",
     "text": [
      "c:\\Users\\franc\\AppData\\Local\\Programs\\Python\\Python311\\Lib\\site-packages\\sklearn\\preprocessing\\_discretization.py:239: FutureWarning: In version 1.5 onwards, subsample=200_000 will be used by default. Set subsample explicitly to silence this warning in the mean time. Set subsample=None to disable subsampling explicitly.\n",
      "  warnings.warn(\n"
     ]
    }
   ],
   "source": [
    "import numpy as np\n",
    "\n",
    "from sklearn.preprocessing import KBinsDiscretizer\n",
    "\n",
    "n_samples = 50_000\n",
    "\n",
    "rng = np.random.RandomState(42)\n",
    "y = rng.randn(n_samples)\n",
    "noise = 0.5 * rng.randn(n_samples)\n",
    "n_categories = 100\n",
    "\n",
    "kbins = KBinsDiscretizer(\n",
    "    n_bins=n_categories, encode=\"ordinal\", strategy=\"uniform\", random_state=rng\n",
    ")\n",
    "X_informative = kbins.fit_transform((y + noise).reshape(-1, 1))\n",
    "\n",
    "# Remove the linear relationship between y and the bin index by permuting the values of\n",
    "# X_informative\n",
    "permuted_categories = rng.permutation(n_categories)\n",
    "X_informative = permuted_categories[X_informative.astype(np.int32)]"
   ]
  },
  {
   "attachments": {},
   "cell_type": "markdown",
   "metadata": {},
   "source": [
    "La caractéristique non informative de cardinalité moyenne est générée en permutant la caractéristique informative et en supprimant la relation avec la variable cible :"
   ]
  },
  {
   "cell_type": "code",
   "execution_count": 2,
   "metadata": {},
   "outputs": [],
   "source": [
    "X_shuffled = rng.permutation(X_informative)"
   ]
  },
  {
   "attachments": {},
   "cell_type": "markdown",
   "metadata": {},
   "source": [
    "La caractéristique non informative de grande cardinalité est générée de manière à être indépendante de la variable cible. Nous montrerons que l'encodage par cible sans ajustement croisé entraînera un surajustement catastrophique pour le modèle de régression aval. Ces caractéristiques de grande cardinalité sont essentiellement des identifiants uniques pour les échantillons, qui devraient généralement être supprimés de l'ensemble de données d'apprentissage automatique. Dans cet exemple, nous les générons pour montrer comment le comportement d'ajustement croisé par défaut de [**`TargetEncoder`**](https://scikit-learn.org/stable/modules/generated/sklearn.preprocessing.TargetEncoder.html) atténue automatiquement le problème de surajustement."
   ]
  },
  {
   "cell_type": "code",
   "execution_count": 3,
   "metadata": {},
   "outputs": [],
   "source": [
    "X_near_unique_categories = rng.choice(\n",
    "    int(0.9 * n_samples), size=n_samples, replace=True\n",
    ").reshape(-1, 1)"
   ]
  },
  {
   "attachments": {},
   "cell_type": "markdown",
   "metadata": {},
   "source": [
    "Enfin, nous assemblons l'ensemble de données et effectuons une division en ensembles d'entraînement et de test :"
   ]
  },
  {
   "cell_type": "code",
   "execution_count": 4,
   "metadata": {},
   "outputs": [],
   "source": [
    "import pandas as pd\n",
    "\n",
    "from sklearn.model_selection import train_test_split\n",
    "\n",
    "X = pd.DataFrame(\n",
    "    np.concatenate(\n",
    "        [X_informative, X_shuffled, X_near_unique_categories],\n",
    "        axis=1,\n",
    "    ),\n",
    "    columns=[\"informative\", \"shuffled\", \"near_unique\"],\n",
    ")\n",
    "X_train, X_test, y_train, y_test = train_test_split(X, y, random_state=0)"
   ]
  },
  {
   "attachments": {},
   "cell_type": "markdown",
   "metadata": {},
   "source": [
    "# Entraînement d'un régresseur Ridge\n",
    "\n",
    "Dans cette section, nous entraînons un régresseur Ridge sur l'ensemble de données avec et sans encodage, et explorons l'influence de l'encodeur de cible avec et sans ajustement croisé interne. Tout d'abord, nous constatons que le modèle Ridge entraîné sur les caractéristiques brutes aura une faible performance, car l'ordre de la caractéristique informative n'est pas informatif :"
   ]
  },
  {
   "cell_type": "code",
   "execution_count": 5,
   "metadata": {},
   "outputs": [
    {
     "name": "stdout",
     "output_type": "stream",
     "text": [
      "Raw Model score on training set:  0.0049896314219657345\n",
      "Raw Model score on test set:  0.0045776215813679855\n"
     ]
    }
   ],
   "source": [
    "import sklearn\n",
    "from sklearn.linear_model import Ridge\n",
    "\n",
    "# Configure transformers to always output DataFrames\n",
    "sklearn.set_config(transform_output=\"pandas\")\n",
    "\n",
    "ridge = Ridge(alpha=1e-6, solver=\"lsqr\", fit_intercept=False)\n",
    "\n",
    "raw_model = ridge.fit(X_train, y_train)\n",
    "print(\"Raw Model score on training set: \", raw_model.score(X_train, y_train))\n",
    "print(\"Raw Model score on test set: \", raw_model.score(X_test, y_test))"
   ]
  },
  {
   "attachments": {},
   "cell_type": "markdown",
   "metadata": {},
   "source": [
    "Ensuite, nous créons un pipeline avec l'encodeur de cible et le modèle Ridge. Le pipeline utilise **TargetEncoder.fit_transform** qui utilise l'ajustement croisé. Nous constatons que le modèle s'adapte bien aux données et généralise bien à l'ensemble de test :"
   ]
  },
  {
   "cell_type": "code",
   "execution_count": 6,
   "metadata": {},
   "outputs": [
    {
     "name": "stdout",
     "output_type": "stream",
     "text": [
      "Model with CV on training set:  0.800018467746029\n",
      "Model with CV on test set:  0.7927845601690929\n"
     ]
    }
   ],
   "source": [
    "from sklearn.pipeline import make_pipeline\n",
    "from sklearn.preprocessing import TargetEncoder\n",
    "\n",
    "model_with_cv = make_pipeline(TargetEncoder(random_state=0), ridge)\n",
    "model_with_cv.fit(X_train, y_train)\n",
    "print(\"Model with CV on training set: \", model_with_cv.score(X_train, y_train))\n",
    "print(\"Model with CV on test set: \", model_with_cv.score(X_test, y_test))"
   ]
  },
  {
   "attachments": {},
   "cell_type": "markdown",
   "metadata": {},
   "source": [
    "Les coefficients du modèle linéaire montrent que la plupart du poids est sur la caractéristique à l'indice de colonne 0, qui est la caractéristique informative."
   ]
  },
  {
   "cell_type": "code",
   "execution_count": 7,
   "metadata": {},
   "outputs": [
    {
     "data": {
      "image/png": "[encoded data removed]",
      "text/plain": [
       "<Figure size 640x480 with 1 Axes>"
      ]
     },
     "metadata": {},
     "output_type": "display_data"
    }
   ],
   "source": [
    "import matplotlib.pyplot as plt\n",
    "import pandas as pd\n",
    "\n",
    "plt.rcParams[\"figure.constrained_layout.use\"] = True\n",
    "\n",
    "coefs_cv = pd.Series(\n",
    "    model_with_cv[-1].coef_, index=model_with_cv[-1].feature_names_in_\n",
    ").sort_values()\n",
    "_ = coefs_cv.plot(kind=\"barh\")"
   ]
  },
  {
   "attachments": {},
   "cell_type": "markdown",
   "metadata": {},
   "source": [
    "Alors que [**`TargetEncoder.fit_transform`**](https://scikit-learn.org/stable/modules/generated/sklearn.preprocessing.TargetEncoder.html#sklearn.preprocessing.TargetEncoder.fit_transform) utilise un schéma d'ajustement croisé interne, [**`TargetEncoder.transform`**](https://scikit-learn.org/stable/modules/generated/sklearn.preprocessing.TargetEncoder.html#sklearn.preprocessing.TargetEncoder.transform) lui-même n'effectue aucun ajustement croisé. Il utilise l'agrégation de l'ensemble de formation complet pour transformer les caractéristiques catégorielles. Ainsi, nous pouvons utiliser [**`TargetEncoder.fit`**](https://scikit-learn.org/stable/modules/generated/sklearn.preprocessing.TargetEncoder.html#sklearn.preprocessing.TargetEncoder.fit) suivi de [**`TargetEncoder.transform`**](https://scikit-learn.org/stable/modules/generated/sklearn.preprocessing.TargetEncoder.html#sklearn.preprocessing.TargetEncoder.transform) pour désactiver l'ajustement croisé. Cet encodage est ensuite transmis au modèle Ridge."
   ]
  },
  {
   "cell_type": "code",
   "execution_count": 8,
   "metadata": {},
   "outputs": [],
   "source": [
    "target_encoder = TargetEncoder(random_state=0)\n",
    "target_encoder.fit(X_train, y_train)\n",
    "X_train_no_cv_encoding = target_encoder.transform(X_train)\n",
    "X_test_no_cv_encoding = target_encoder.transform(X_test)\n",
    "\n",
    "model_no_cv = ridge.fit(X_train_no_cv_encoding, y_train)"
   ]
  },
  {
   "attachments": {},
   "cell_type": "markdown",
   "metadata": {},
   "source": [
    "Nous évaluons le modèle sur l'encodage non validé par croisement et nous constatons qu'il y a un surajustement :"
   ]
  },
  {
   "cell_type": "code",
   "execution_count": 9,
   "metadata": {},
   "outputs": [
    {
     "name": "stdout",
     "output_type": "stream",
     "text": [
      "Model without CV on training set:  0.858486250088675\n",
      "Model without CV on test set:  0.6338211367109028\n"
     ]
    }
   ],
   "source": [
    "print(\n",
    "    \"Model without CV on training set: \",\n",
    "    model_no_cv.score(X_train_no_cv_encoding, y_train),\n",
    ")\n",
    "print(\n",
    "    \"Model without CV on test set: \", model_no_cv.score(X_test_no_cv_encoding, y_test)\n",
    ")"
   ]
  },
  {
   "attachments": {},
   "cell_type": "markdown",
   "metadata": {},
   "source": [
    "Le modèle Ridge surajuste car il attribue plus de poids à la caractéristique de grande cardinalité extrême par rapport à la caractéristique informative."
   ]
  },
  {
   "cell_type": "code",
   "execution_count": 10,
   "metadata": {},
   "outputs": [
    {
     "data": {
      "image/png": "[encoded data removed]",
      "text/plain": [
       "<Figure size 640x480 with 1 Axes>"
      ]
     },
     "metadata": {},
     "output_type": "display_data"
    }
   ],
   "source": [
    "coefs_no_cv = pd.Series(\n",
    "    model_no_cv.coef_, index=model_no_cv.feature_names_in_\n",
    ").sort_values()\n",
    "_ = coefs_no_cv.plot(kind=\"barh\")"
   ]
  },
  {
   "attachments": {},
   "cell_type": "markdown",
   "metadata": {},
   "source": [
    "# Conclusion\n",
    "\n",
    "Cet exemple met en évidence l'importance de l'ajustement croisé interne du [**`TargetEncoder`**](https://scikit-learn.org/stable/modules/generated/sklearn.preprocessing.TargetEncoder.html). Il est important d'utiliser [**`TargetEncoder.fit_transform`**](https://scikit-learn.org/stable/modules/generated/sklearn.preprocessing.TargetEncoder.html#sklearn.preprocessing.TargetEncoder.fit_transform) pour encoder les données d'entraînement avant de les passer à un modèle d'apprentissage automatique. Lorsqu'un [**`TargetEncoder`**](https://scikit-learn.org/stable/modules/generated/sklearn.preprocessing.TargetEncoder.html) fait partie d'un [**`Pipeline`**](https://scikit-learn.org/stable/modules/generated/sklearn.pipeline.Pipeline.html#sklearn.pipeline.Pipeline) et que le pipeline est ajusté, le pipeline appelle correctement [**`TargetEncoder.fit_transform`**](https://scikit-learn.org/stable/modules/generated/sklearn.preprocessing.TargetEncoder.html#sklearn.preprocessing.TargetEncoder.fit_transform) et transmet l'encodage."
   ]
  }
 ],
 "metadata": {
  "kernelspec": {
   "display_name": "Python 3",
   "language": "python",
   "name": "python3"
  },
  "language_info": {
   "codemirror_mode": {
    "name": "ipython",
    "version": 3
   },
   "file_extension": ".py",
   "mimetype": "text/x-python",
   "name": "python",
   "nbconvert_exporter": "python",
   "pygments_lexer": "ipython3",
   "version": "3.11.1"
  },
  "orig_nbformat": 4
 },
 "nbformat": 4,
 "nbformat_minor": 2
}
