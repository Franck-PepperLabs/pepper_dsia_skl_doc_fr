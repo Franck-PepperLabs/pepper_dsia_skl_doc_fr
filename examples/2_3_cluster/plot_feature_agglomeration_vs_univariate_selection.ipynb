{
 "cells": [
  {
   "cell_type": "markdown",
   "metadata": {},
   "source": [
    "# [**Agglomération de caractéristiques vs sélection univariée**](https://nbviewer.org/github/Franck-PepperLabs/pepper_data-science_practising/blob/main/Sklearn/examples/2_3_cluster/plot_feature_agglomeration_vs_univariate_selection.ipynb)<br/>([*Feature agglomeration vs. univariate selection*](https://scikit-learn.org/stable/auto_examples/cluster/plot_feature_agglomeration_vs_univariate_selection.html))\n",
    "\n",
    "Cet exemple compare 2 stratégies de réduction de dimensionnalité :\n",
    "* sélection de caractéristiques univariées avec Anova\n",
    "* agglomération d'entités avec le clustering hiérarchique Ward\n",
    "\n",
    "Les deux méthodes sont comparées dans un problème de régression utilisant un BayesianRidge comme estimateur supervisé."
   ]
  },
  {
   "cell_type": "code",
   "execution_count": 1,
   "metadata": {},
   "outputs": [],
   "source": [
    "# Author: Alexandre Gramfort <alexandre.gramfort@inria.fr>\n",
    "# License: BSD 3 clause"
   ]
  },
  {
   "cell_type": "code",
   "execution_count": 5,
   "metadata": {},
   "outputs": [],
   "source": [
    "import shutil\n",
    "import tempfile\n",
    "\n",
    "import numpy as np\n",
    "import matplotlib.pyplot as plt\n",
    "from scipy import linalg, ndimage\n",
    "from joblib import Memory\n",
    "\n",
    "from sklearn.feature_extraction.image import grid_to_graph\n",
    "from sklearn import feature_selection\n",
    "from sklearn.cluster import FeatureAgglomeration\n",
    "from sklearn.linear_model import BayesianRidge\n",
    "from sklearn.pipeline import Pipeline\n",
    "from sklearn.model_selection import GridSearchCV\n",
    "from sklearn.model_selection import KFold"
   ]
  },
  {
   "cell_type": "markdown",
   "metadata": {},
   "source": [
    "# Définition des paramètres"
   ]
  },
  {
   "cell_type": "code",
   "execution_count": 6,
   "metadata": {},
   "outputs": [],
   "source": [
    "n_samples = 200\n",
    "size = 40  # image size\n",
    "roi_size = 15\n",
    "snr = 5.0\n",
    "np.random.seed(0)"
   ]
  },
  {
   "cell_type": "markdown",
   "metadata": {},
   "source": [
    "# Génération du jeu de données"
   ]
  },
  {
   "cell_type": "code",
   "execution_count": 7,
   "metadata": {},
   "outputs": [],
   "source": [
    "coef = np.zeros((size, size))\n",
    "coef[0:roi_size, 0:roi_size] = -1.0\n",
    "coef[-roi_size:, -roi_size:] = 1.0\n",
    "\n",
    "X = np.random.randn(n_samples, size**2)\n",
    "for x in X:  # smooth data\n",
    "    x[:] = ndimage.gaussian_filter(x.reshape(size, size), sigma=1.0).ravel()\n",
    "X -= X.mean(axis=0)\n",
    "X /= X.std(axis=0)\n",
    "\n",
    "y = np.dot(X, coef.ravel())"
   ]
  },
  {
   "cell_type": "markdown",
   "metadata": {},
   "source": [
    "ajout de bruit"
   ]
  },
  {
   "cell_type": "code",
   "execution_count": 8,
   "metadata": {},
   "outputs": [],
   "source": [
    "noise = np.random.randn(y.shape[0])\n",
    "noise_coef = (linalg.norm(y, 2) / np.exp(snr / 20.0)) / linalg.norm(noise, 2)\n",
    "y += noise_coef * noise"
   ]
  },
  {
   "cell_type": "markdown",
   "metadata": {},
   "source": [
    "# Calcul des coefficients d'un Ridge Bayésien with GridSearch"
   ]
  },
  {
   "cell_type": "code",
   "execution_count": 9,
   "metadata": {},
   "outputs": [],
   "source": [
    "cv = KFold(2)  # cross-validation generator for model selection\n",
    "ridge = BayesianRidge()\n",
    "cachedir = tempfile.mkdtemp()\n",
    "mem = Memory(location=cachedir, verbose=1)"
   ]
  },
  {
   "cell_type": "markdown",
   "metadata": {},
   "source": [
    "# Agglomération Ward suivie de BayesianRidge"
   ]
  },
  {
   "cell_type": "code",
   "execution_count": 10,
   "metadata": {},
   "outputs": [
    {
     "name": "stdout",
     "output_type": "stream",
     "text": [
      "________________________________________________________________________________\n",
      "[Memory] Calling sklearn.cluster._agglomerative.ward_tree...\n",
      "ward_tree(array([[-0.451933, ..., -0.675318],\n",
      "       ...,\n",
      "       [ 0.275706, ..., -1.085711]]), connectivity=<1600x1600 sparse matrix of type '<class 'numpy.int32'>'\n",
      "\twith 7840 stored elements in COOrdinate format>, n_clusters=None, return_distance=False)\n",
      "________________________________________________________ward_tree - 0.0s, 0.0min\n",
      "________________________________________________________________________________\n",
      "[Memory] Calling sklearn.cluster._agglomerative.ward_tree...\n",
      "ward_tree(array([[ 0.905206, ...,  0.161245],\n",
      "       ...,\n",
      "       [-0.849835, ..., -1.091621]]), connectivity=<1600x1600 sparse matrix of type '<class 'numpy.int32'>'\n",
      "\twith 7840 stored elements in COOrdinate format>, n_clusters=None, return_distance=False)\n",
      "________________________________________________________ward_tree - 0.1s, 0.0min\n",
      "________________________________________________________________________________\n",
      "[Memory] Calling sklearn.cluster._agglomerative.ward_tree...\n",
      "ward_tree(array([[ 0.905206, ..., -0.675318],\n",
      "       ...,\n",
      "       [-0.849835, ..., -1.085711]]), connectivity=<1600x1600 sparse matrix of type '<class 'numpy.int32'>'\n",
      "\twith 7840 stored elements in COOrdinate format>, n_clusters=None, return_distance=False)\n",
      "________________________________________________________ward_tree - 0.1s, 0.0min\n"
     ]
    }
   ],
   "source": [
    "connectivity = grid_to_graph(n_x=size, n_y=size)\n",
    "ward = FeatureAgglomeration(n_clusters=10, connectivity=connectivity, memory=mem)\n",
    "clf = Pipeline([(\"ward\", ward), (\"ridge\", ridge)])\n",
    "# Select the optimal number of parcels with grid search\n",
    "clf = GridSearchCV(clf, {\"ward__n_clusters\": [10, 20, 30]}, n_jobs=1, cv=cv)\n",
    "clf.fit(X, y)  # set the best parameters\n",
    "coef_ = clf.best_estimator_.steps[-1][1].coef_\n",
    "coef_ = clf.best_estimator_.steps[0][1].inverse_transform(coef_)\n",
    "coef_agglomeration_ = coef_.reshape(size, size)"
   ]
  },
  {
   "cell_type": "markdown",
   "metadata": {},
   "source": [
    "# Sélection de caractéristiques univariées Anova suivie de BayesianRidge"
   ]
  },
  {
   "cell_type": "code",
   "execution_count": 11,
   "metadata": {},
   "outputs": [
    {
     "name": "stdout",
     "output_type": "stream",
     "text": [
      "________________________________________________________________________________\n",
      "[Memory] Calling sklearn.feature_selection._univariate_selection.f_regression...\n",
      "f_regression(array([[-0.451933, ...,  0.275706],\n",
      "       ...,\n",
      "       [-0.675318, ..., -1.085711]]), \n",
      "array([ 25.267703, ..., -25.026711]))\n",
      "_____________________________________________________f_regression - 0.0s, 0.0min\n",
      "________________________________________________________________________________\n",
      "[Memory] Calling sklearn.feature_selection._univariate_selection.f_regression...\n",
      "f_regression(array([[ 0.905206, ..., -0.849835],\n",
      "       ...,\n",
      "       [ 0.161245, ..., -1.091621]]), \n",
      "array([ -27.447268, ..., -112.638768]))\n",
      "_____________________________________________________f_regression - 0.0s, 0.0min\n",
      "________________________________________________________________________________\n",
      "[Memory] Calling sklearn.feature_selection._univariate_selection.f_regression...\n",
      "f_regression(array([[ 0.905206, ..., -0.849835],\n",
      "       ...,\n",
      "       [-0.675318, ..., -1.085711]]), \n",
      "array([-27.447268, ..., -25.026711]))\n",
      "_____________________________________________________f_regression - 0.0s, 0.0min\n"
     ]
    }
   ],
   "source": [
    "f_regression = mem.cache(feature_selection.f_regression)  # caching function\n",
    "anova = feature_selection.SelectPercentile(f_regression)\n",
    "clf = Pipeline([(\"anova\", anova), (\"ridge\", ridge)])\n",
    "# Select the optimal percentage of features with grid search\n",
    "clf = GridSearchCV(clf, {\"anova__percentile\": [5, 10, 20]}, cv=cv)\n",
    "clf.fit(X, y)  # set the best parameters\n",
    "coef_ = clf.best_estimator_.steps[-1][1].coef_\n",
    "coef_ = clf.best_estimator_.steps[0][1].inverse_transform(coef_.reshape(1, -1))\n",
    "coef_selection_ = coef_.reshape(size, size)"
   ]
  },
  {
   "cell_type": "markdown",
   "metadata": {},
   "source": [
    "# Inversion de transformation pour tracer les résultats sur une image"
   ]
  },
  {
   "cell_type": "code",
   "execution_count": 12,
   "metadata": {},
   "outputs": [
    {
     "data": {
      "image/png": "[encoded data removed]",
      "text/plain": [
       "<Figure size 525.6x194.4 with 3 Axes>"
      ]
     },
     "metadata": {
      "needs_background": "light"
     },
     "output_type": "display_data"
    }
   ],
   "source": [
    "plt.close(\"all\")\n",
    "plt.figure(figsize=(7.3, 2.7))\n",
    "plt.subplot(1, 3, 1)\n",
    "plt.imshow(coef, interpolation=\"nearest\", cmap=plt.cm.RdBu_r)\n",
    "plt.title(\"True weights\")\n",
    "plt.subplot(1, 3, 2)\n",
    "plt.imshow(coef_selection_, interpolation=\"nearest\", cmap=plt.cm.RdBu_r)\n",
    "plt.title(\"Feature Selection\")\n",
    "plt.subplot(1, 3, 3)\n",
    "plt.imshow(coef_agglomeration_, interpolation=\"nearest\", cmap=plt.cm.RdBu_r)\n",
    "plt.title(\"Feature Agglomeration\")\n",
    "plt.subplots_adjust(0.04, 0.0, 0.98, 0.94, 0.16, 0.26)\n",
    "plt.show()"
   ]
  },
  {
   "cell_type": "markdown",
   "metadata": {},
   "source": [
    "Tentative de suppression du cachedir temporaire, mais ne vous inquiétez pas si cela échoue."
   ]
  },
  {
   "cell_type": "code",
   "execution_count": 13,
   "metadata": {},
   "outputs": [],
   "source": [
    "shutil.rmtree(cachedir, ignore_errors=True)"
   ]
  }
 ],
 "metadata": {
  "kernelspec": {
   "display_name": "Python 3",
   "language": "python",
   "name": "python3"
  },
  "language_info": {
   "codemirror_mode": {
    "name": "ipython",
    "version": 3
   },
   "file_extension": ".py",
   "mimetype": "text/x-python",
   "name": "python",
   "nbconvert_exporter": "python",
   "pygments_lexer": "ipython3",
   "version": "3.10.10"
  },
  "orig_nbformat": 4,
  "vscode": {
   "interpreter": {
    "hash": "9aff9e50adfaa9e30c910fb3872ffdc72747acb5f50803ca0504f00e980f7c25"
   }
  }
 },
 "nbformat": 4,
 "nbformat_minor": 2
}
