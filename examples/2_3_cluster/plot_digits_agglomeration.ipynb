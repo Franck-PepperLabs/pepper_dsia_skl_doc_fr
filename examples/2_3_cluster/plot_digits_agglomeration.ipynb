{
 "cells": [
  {
   "attachments": {},
   "cell_type": "markdown",
   "metadata": {},
   "source": [
    "# [**Agglomération de caractéristiques**](https://nbviewer.org/github/Franck-PepperLabs/pepper_data-science_practising/blob/main/Sklearn/examples/2_3_cluster/plot_digits_agglomeration.ipynb)<br/>([*Feature agglomeration*](https://scikit-learn.org/stable/auto_examples/cluster/plot_digits_agglomeration.html))\n",
    "\n",
    "Ces images montrent comment des entités similaires sont fusionnées à l'aide de l'agglomération d'entités."
   ]
  },
  {
   "cell_type": "code",
   "execution_count": 1,
   "metadata": {},
   "outputs": [
    {
     "data": {
      "image/png": "[encoded data removed]",
      "text/plain": [
       "<Figure size 400x350 with 9 Axes>"
      ]
     },
     "metadata": {},
     "output_type": "display_data"
    }
   ],
   "source": [
    "# Code source: Gaël Varoquaux\n",
    "# Modified for documentation by Jaques Grobler\n",
    "# License: BSD 3 clause\n",
    "\n",
    "import numpy as np\n",
    "import matplotlib.pyplot as plt\n",
    "\n",
    "from sklearn import datasets, cluster\n",
    "from sklearn.feature_extraction.image import grid_to_graph\n",
    "\n",
    "digits = datasets.load_digits()\n",
    "images = digits.images\n",
    "X = np.reshape(images, (len(images), -1))\n",
    "connectivity = grid_to_graph(*images[0].shape)\n",
    "\n",
    "agglo = cluster.FeatureAgglomeration(connectivity=connectivity, n_clusters=32)\n",
    "\n",
    "agglo.fit(X)\n",
    "X_reduced = agglo.transform(X)\n",
    "\n",
    "X_restored = agglo.inverse_transform(X_reduced)\n",
    "images_restored = np.reshape(X_restored, images.shape)\n",
    "plt.figure(1, figsize=(4, 3.5))\n",
    "plt.clf()\n",
    "plt.subplots_adjust(left=0.01, right=0.99, bottom=0.01, top=0.91)\n",
    "for i in range(4):\n",
    "    plt.subplot(3, 4, i + 1)\n",
    "    plt.imshow(images[i], cmap=plt.cm.gray, vmax=16, interpolation=\"nearest\")\n",
    "    plt.xticks(())\n",
    "    plt.yticks(())\n",
    "    if i == 1:\n",
    "        plt.title(\"Original data\")\n",
    "    plt.subplot(3, 4, 4 + i + 1)\n",
    "    plt.imshow(images_restored[i], cmap=plt.cm.gray, vmax=16, interpolation=\"nearest\")\n",
    "    if i == 1:\n",
    "        plt.title(\"Agglomerated data\")\n",
    "    plt.xticks(())\n",
    "    plt.yticks(())\n",
    "\n",
    "plt.subplot(3, 4, 10)\n",
    "plt.imshow(\n",
    "    np.reshape(agglo.labels_, images[0].shape),\n",
    "    interpolation=\"nearest\",\n",
    "    cmap=plt.cm.nipy_spectral,\n",
    ")\n",
    "plt.xticks(())\n",
    "plt.yticks(())\n",
    "plt.title(\"Labels\")\n",
    "plt.show()"
   ]
  }
 ],
 "metadata": {
  "kernelspec": {
   "display_name": "Python 3",
   "language": "python",
   "name": "python3"
  },
  "language_info": {
   "codemirror_mode": {
    "name": "ipython",
    "version": 3
   },
   "file_extension": ".py",
   "mimetype": "text/x-python",
   "name": "python",
   "nbconvert_exporter": "python",
   "pygments_lexer": "ipython3",
   "version": "3.10.10"
  },
  "orig_nbformat": 4
 },
 "nbformat": 4,
 "nbformat_minor": 2
}
